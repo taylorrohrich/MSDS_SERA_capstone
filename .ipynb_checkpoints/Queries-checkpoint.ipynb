{
 "cells": [
  {
   "cell_type": "code",
   "execution_count": 1,
   "metadata": {},
   "outputs": [],
   "source": [
    "import pandas as pd\n",
    "import numpy as np"
   ]
  },
  {
   "cell_type": "markdown",
   "metadata": {},
   "source": [
    "# Connect to the Database"
   ]
  },
  {
   "cell_type": "code",
   "execution_count": 2,
   "metadata": {},
   "outputs": [],
   "source": [
    "import mysql.connector\n",
    "import sys\n",
    "import boto3\n",
    "import os"
   ]
  },
  {
   "cell_type": "code",
   "execution_count": 3,
   "metadata": {},
   "outputs": [],
   "source": [
    "endpoint = \"seratestdatabase.c4cjk1vto1om.us-east-2.rds.amazonaws.com\"\n",
    "port = \"3306\"\n",
    "usr = \"admin\"\n",
    "region = \"us-east-2b\"\n",
    "dbname = \"seratestdatabase\"\n",
    "os.environ['LIBMYSQL_ENABLE_CLEARTEXT_PLUGIN'] = '1'"
   ]
  },
  {
   "cell_type": "code",
   "execution_count": null,
   "metadata": {},
   "outputs": [],
   "source": [
    "session = boto3.Session(profile_name=\"default\")\n",
    "client = session.client('rds', region_name=region)"
   ]
  },
  {
   "cell_type": "code",
   "execution_count": null,
   "metadata": {},
   "outputs": [],
   "source": [
    "token = client.generate_db_auth_token(DBHostname=endpoint, Port=port, DBUsername=usr, Region=region)"
   ]
  },
  {
   "cell_type": "markdown",
   "metadata": {},
   "source": [
    "# Read in Data"
   ]
  },
  {
   "cell_type": "code",
   "execution_count": 2,
   "metadata": {},
   "outputs": [
    {
     "data": {
      "text/plain": [
       "'/Users/jmachita03/Documents/GitHub/MSDS_SERA_capstone'"
      ]
     },
     "execution_count": 2,
     "metadata": {},
     "output_type": "execute_result"
    }
   ],
   "source": [
    "import os\n",
    "os.getcwd()"
   ]
  },
  {
   "cell_type": "code",
   "execution_count": 3,
   "metadata": {},
   "outputs": [],
   "source": [
    "os.chdir(\"/Users/jmachita03/Desktop/Capstone/RDS Set Up\")"
   ]
  },
  {
   "cell_type": "markdown",
   "metadata": {},
   "source": [
    "## Identifiers"
   ]
  },
  {
   "cell_type": "code",
   "execution_count": 4,
   "metadata": {},
   "outputs": [],
   "source": [
    "identifiers = pd.read_excel(\"TeachSIM Data Dictionary.xlsx\", sheet_name=\"Identifiers\")"
   ]
  },
  {
   "cell_type": "code",
   "execution_count": 5,
   "metadata": {},
   "outputs": [],
   "source": [
    "identifiers = identifiers.drop(labels=3, axis=0)"
   ]
  },
  {
   "cell_type": "code",
   "execution_count": 6,
   "metadata": {},
   "outputs": [],
   "source": [
    "identifiers_char = [\"id_site\", \"id_participant\"]"
   ]
  },
  {
   "cell_type": "code",
   "execution_count": 7,
   "metadata": {},
   "outputs": [
    {
     "data": {
      "text/html": [
       "<div>\n",
       "<style scoped>\n",
       "    .dataframe tbody tr th:only-of-type {\n",
       "        vertical-align: middle;\n",
       "    }\n",
       "\n",
       "    .dataframe tbody tr th {\n",
       "        vertical-align: top;\n",
       "    }\n",
       "\n",
       "    .dataframe thead th {\n",
       "        text-align: right;\n",
       "    }\n",
       "</style>\n",
       "<table border=\"1\" class=\"dataframe\">\n",
       "  <thead>\n",
       "    <tr style=\"text-align: right;\">\n",
       "      <th></th>\n",
       "      <th>Variable</th>\n",
       "      <th>Description</th>\n",
       "      <th>Values</th>\n",
       "      <th>Units</th>\n",
       "      <th>Constraints</th>\n",
       "      <th>Type</th>\n",
       "      <th>Previous name</th>\n",
       "    </tr>\n",
       "  </thead>\n",
       "  <tbody>\n",
       "    <tr>\n",
       "      <th>0</th>\n",
       "      <td>br_treat_cond</td>\n",
       "      <td>Primary treatment condition for the behavioral...</td>\n",
       "      <td>0 No coaching (self-reflection); 1 Coaching</td>\n",
       "      <td>NaN</td>\n",
       "      <td>Treatment may vary across years. For 1718, the...</td>\n",
       "      <td>NaN</td>\n",
       "      <td>NaN</td>\n",
       "    </tr>\n",
       "    <tr>\n",
       "      <th>1</th>\n",
       "      <td>br_treat_cond_mr</td>\n",
       "      <td>Mental Rehearsal treatment condition for the b...</td>\n",
       "      <td>\\n0 = No mental rehearsal; 1 = Mental rehearsal</td>\n",
       "      <td>NaN</td>\n",
       "      <td>Treatment varies across years. Not available 1...</td>\n",
       "      <td>NaN</td>\n",
       "      <td>NaN</td>\n",
       "    </tr>\n",
       "    <tr>\n",
       "      <th>2</th>\n",
       "      <td>br_treat_cond_iat</td>\n",
       "      <td>IAT treatment condition for the behavioral red...</td>\n",
       "      <td>0 = White Ethan; 1 = Black Ethan</td>\n",
       "      <td>NaN</td>\n",
       "      <td>Treatment varies across years. Not available 1...</td>\n",
       "      <td>NaN</td>\n",
       "      <td>NaN</td>\n",
       "    </tr>\n",
       "    <tr>\n",
       "      <th>4</th>\n",
       "      <td>fb_treat_cond</td>\n",
       "      <td>Primary treatment condition for the feedback (...</td>\n",
       "      <td>\\n0 = No coaching (self-reflection); 1 = Coaching</td>\n",
       "      <td>NaN</td>\n",
       "      <td>Treatment may vary across years.</td>\n",
       "      <td>NaN</td>\n",
       "      <td>NaN</td>\n",
       "    </tr>\n",
       "    <tr>\n",
       "      <th>5</th>\n",
       "      <td>f17_treat_cond</td>\n",
       "      <td>Original Treatment condition for Fall 2017</td>\n",
       "      <td>1 = Control; 2= Coaching; 3 = Bug in Ear</td>\n",
       "      <td>NaN</td>\n",
       "      <td>NaN</td>\n",
       "      <td>NaN</td>\n",
       "      <td>NaN</td>\n",
       "    </tr>\n",
       "    <tr>\n",
       "      <th>6</th>\n",
       "      <td>s18_treat_cond</td>\n",
       "      <td>Original Treatment condition for Spring 2018</td>\n",
       "      <td>1 = Control; 2= Coaching; 3 = Bug in Ear</td>\n",
       "      <td>NaN</td>\n",
       "      <td>NaN</td>\n",
       "      <td>NaN</td>\n",
       "      <td>NaN</td>\n",
       "    </tr>\n",
       "    <tr>\n",
       "      <th>7</th>\n",
       "      <td>fb_treat_cond_iat</td>\n",
       "      <td>IAT treatment condition for the feedback (text...</td>\n",
       "      <td>0 = White Ethan; 1 = Black Ethan</td>\n",
       "      <td>NaN</td>\n",
       "      <td>Treatment varies across years. Not available 1...</td>\n",
       "      <td>NaN</td>\n",
       "      <td>NaN</td>\n",
       "    </tr>\n",
       "    <tr>\n",
       "      <th>8</th>\n",
       "      <td>id_participant</td>\n",
       "      <td>Unique participant id composed of concatenated...</td>\n",
       "      <td>NaN</td>\n",
       "      <td>NaN</td>\n",
       "      <td>NaN</td>\n",
       "      <td>NaN</td>\n",
       "      <td>NaN</td>\n",
       "    </tr>\n",
       "    <tr>\n",
       "      <th>9</th>\n",
       "      <td>id_section</td>\n",
       "      <td>Section identifier</td>\n",
       "      <td>1 Secondary; 2 Elementary 1; 3 Tueday Elementa...</td>\n",
       "      <td>NaN</td>\n",
       "      <td>For 2017-2020, Elementary 1 is Monday and Elem...</td>\n",
       "      <td>NaN</td>\n",
       "      <td>NaN</td>\n",
       "    </tr>\n",
       "    <tr>\n",
       "      <th>10</th>\n",
       "      <td>id_site</td>\n",
       "      <td>Site identifier</td>\n",
       "      <td>1 UVA</td>\n",
       "      <td>NaN</td>\n",
       "      <td>NaN</td>\n",
       "      <td>NaN</td>\n",
       "      <td>NaN</td>\n",
       "    </tr>\n",
       "    <tr>\n",
       "      <th>11</th>\n",
       "      <td>id_study</td>\n",
       "      <td>Study identifier</td>\n",
       "      <td>1 Fall 2017; 2 Spring 2018; 3 Fall 2018; 4 Spr...</td>\n",
       "      <td>NaN</td>\n",
       "      <td>In long dataset only</td>\n",
       "      <td>NaN</td>\n",
       "      <td>NaN</td>\n",
       "    </tr>\n",
       "    <tr>\n",
       "      <th>12</th>\n",
       "      <td>id_year</td>\n",
       "      <td>Year identifier</td>\n",
       "      <td>1718; 1819; 1920</td>\n",
       "      <td>NaN</td>\n",
       "      <td>This represents the academic year that the par...</td>\n",
       "      <td>NaN</td>\n",
       "      <td>NaN</td>\n",
       "    </tr>\n",
       "  </tbody>\n",
       "</table>\n",
       "</div>"
      ],
      "text/plain": [
       "             Variable                                        Description  \\\n",
       "0       br_treat_cond  Primary treatment condition for the behavioral...   \n",
       "1    br_treat_cond_mr  Mental Rehearsal treatment condition for the b...   \n",
       "2   br_treat_cond_iat  IAT treatment condition for the behavioral red...   \n",
       "4       fb_treat_cond  Primary treatment condition for the feedback (...   \n",
       "5      f17_treat_cond         Original Treatment condition for Fall 2017   \n",
       "6      s18_treat_cond       Original Treatment condition for Spring 2018   \n",
       "7   fb_treat_cond_iat  IAT treatment condition for the feedback (text...   \n",
       "8      id_participant  Unique participant id composed of concatenated...   \n",
       "9          id_section                                Section identifier    \n",
       "10            id_site                                    Site identifier   \n",
       "11           id_study                                   Study identifier   \n",
       "12            id_year                                    Year identifier   \n",
       "\n",
       "                                               Values  Units  \\\n",
       "0         0 No coaching (self-reflection); 1 Coaching    NaN   \n",
       "1     \\n0 = No mental rehearsal; 1 = Mental rehearsal    NaN   \n",
       "2                    0 = White Ethan; 1 = Black Ethan    NaN   \n",
       "4   \\n0 = No coaching (self-reflection); 1 = Coaching    NaN   \n",
       "5            1 = Control; 2= Coaching; 3 = Bug in Ear    NaN   \n",
       "6            1 = Control; 2= Coaching; 3 = Bug in Ear    NaN   \n",
       "7                    0 = White Ethan; 1 = Black Ethan    NaN   \n",
       "8                                                 NaN    NaN   \n",
       "9   1 Secondary; 2 Elementary 1; 3 Tueday Elementa...    NaN   \n",
       "10                                              1 UVA    NaN   \n",
       "11  1 Fall 2017; 2 Spring 2018; 3 Fall 2018; 4 Spr...    NaN   \n",
       "12                                   1718; 1819; 1920    NaN   \n",
       "\n",
       "                                          Constraints Type  Previous name  \n",
       "0   Treatment may vary across years. For 1718, the...  NaN            NaN  \n",
       "1   Treatment varies across years. Not available 1...  NaN            NaN  \n",
       "2   Treatment varies across years. Not available 1...  NaN            NaN  \n",
       "4                   Treatment may vary across years.   NaN            NaN  \n",
       "5                                                 NaN  NaN            NaN  \n",
       "6                                                 NaN  NaN            NaN  \n",
       "7   Treatment varies across years. Not available 1...  NaN            NaN  \n",
       "8                                                 NaN  NaN            NaN  \n",
       "9   For 2017-2020, Elementary 1 is Monday and Elem...  NaN            NaN  \n",
       "10                                                NaN  NaN            NaN  \n",
       "11                               In long dataset only  NaN            NaN  \n",
       "12  This represents the academic year that the par...  NaN            NaN  "
      ]
     },
     "execution_count": 7,
     "metadata": {},
     "output_type": "execute_result"
    }
   ],
   "source": [
    "identifiers"
   ]
  },
  {
   "cell_type": "markdown",
   "metadata": {},
   "source": [
    "## Participant Measures"
   ]
  },
  {
   "cell_type": "code",
   "execution_count": 8,
   "metadata": {},
   "outputs": [],
   "source": [
    "participant = pd.read_excel(\"TeachSIM Data Dictionary.xlsx\", sheet_name=\"Participant Measures\")"
   ]
  },
  {
   "cell_type": "code",
   "execution_count": 9,
   "metadata": {},
   "outputs": [],
   "source": [
    "participant = participant.drop(labels=0, axis=0)"
   ]
  },
  {
   "cell_type": "code",
   "execution_count": 10,
   "metadata": {},
   "outputs": [],
   "source": [
    "participant_char = [\"ccs_cohort\", \"ccs_major\", \"ccs_gpa\", \"raceother\", \"holangother\", \"hstypeother\", \"program\"]"
   ]
  },
  {
   "cell_type": "code",
   "execution_count": 11,
   "metadata": {},
   "outputs": [
    {
     "data": {
      "text/html": [
       "<div>\n",
       "<style scoped>\n",
       "    .dataframe tbody tr th:only-of-type {\n",
       "        vertical-align: middle;\n",
       "    }\n",
       "\n",
       "    .dataframe tbody tr th {\n",
       "        vertical-align: top;\n",
       "    }\n",
       "\n",
       "    .dataframe thead th {\n",
       "        text-align: right;\n",
       "    }\n",
       "</style>\n",
       "<table border=\"1\" class=\"dataframe\">\n",
       "  <thead>\n",
       "    <tr style=\"text-align: right;\">\n",
       "      <th></th>\n",
       "      <th>Variable</th>\n",
       "      <th>Description</th>\n",
       "      <th>Values</th>\n",
       "      <th>Units</th>\n",
       "      <th>Constraints</th>\n",
       "      <th>Type</th>\n",
       "      <th>Previous name</th>\n",
       "    </tr>\n",
       "  </thead>\n",
       "  <tbody>\n",
       "    <tr>\n",
       "      <th>1</th>\n",
       "      <td>ccs_cohort</td>\n",
       "      <td>Common Core Survey Measure: year the participa...</td>\n",
       "      <td>NaN</td>\n",
       "      <td>Year</td>\n",
       "      <td>NaN</td>\n",
       "      <td>Year</td>\n",
       "      <td>NaN</td>\n",
       "    </tr>\n",
       "    <tr>\n",
       "      <th>2</th>\n",
       "      <td>ccs_stutype</td>\n",
       "      <td>Common Core Survey Measure: Desired Endorsement</td>\n",
       "      <td>1 – Non Curry Student; 2 – Curry Licensure onl...</td>\n",
       "      <td>NaN</td>\n",
       "      <td>NaN</td>\n",
       "      <td>Numeric</td>\n",
       "      <td>NaN</td>\n",
       "    </tr>\n",
       "    <tr>\n",
       "      <th>3</th>\n",
       "      <td>ccs_major</td>\n",
       "      <td>Common Core Survey Measure: Degree Major</td>\n",
       "      <td>1 – English; 2 – Sociology; 3 – Mathematics; 4...</td>\n",
       "      <td>NaN</td>\n",
       "      <td>NaN</td>\n",
       "      <td>NaN</td>\n",
       "      <td>NaN</td>\n",
       "    </tr>\n",
       "    <tr>\n",
       "      <th>4</th>\n",
       "      <td>ccs_majother</td>\n",
       "      <td>Common Core Survey Measure: Degree Major Text ...</td>\n",
       "      <td>NaN</td>\n",
       "      <td>NaN</td>\n",
       "      <td>NaN</td>\n",
       "      <td>String</td>\n",
       "      <td>NaN</td>\n",
       "    </tr>\n",
       "    <tr>\n",
       "      <th>5</th>\n",
       "      <td>ccs_gpa</td>\n",
       "      <td>Common Core Survey Measure: Grade point averag...</td>\n",
       "      <td>NaN</td>\n",
       "      <td>NaN</td>\n",
       "      <td>NaN</td>\n",
       "      <td>Numeric</td>\n",
       "      <td>NaN</td>\n",
       "    </tr>\n",
       "    <tr>\n",
       "      <th>...</th>\n",
       "      <td>...</td>\n",
       "      <td>...</td>\n",
       "      <td>...</td>\n",
       "      <td>...</td>\n",
       "      <td>...</td>\n",
       "      <td>...</td>\n",
       "      <td>...</td>\n",
       "    </tr>\n",
       "    <tr>\n",
       "      <th>241</th>\n",
       "      <td>crtse_33</td>\n",
       "      <td>A component of the Culturally Responsive Teach...</td>\n",
       "      <td>Participants enter a number between 0 and 100....</td>\n",
       "      <td>Likert</td>\n",
       "      <td>NaN</td>\n",
       "      <td>Numeric</td>\n",
       "      <td>div_*</td>\n",
       "    </tr>\n",
       "    <tr>\n",
       "      <th>242</th>\n",
       "      <td>crtse_35</td>\n",
       "      <td>A component of the Culturally Responsive Teach...</td>\n",
       "      <td>Participants enter a number between 0 and 100....</td>\n",
       "      <td>Likert</td>\n",
       "      <td>NaN</td>\n",
       "      <td>Numeric</td>\n",
       "      <td>div_*</td>\n",
       "    </tr>\n",
       "    <tr>\n",
       "      <th>243</th>\n",
       "      <td>crtse_36</td>\n",
       "      <td>A component of the Culturally Responsive Teach...</td>\n",
       "      <td>Participants enter a number between 0 and 100....</td>\n",
       "      <td>Likert</td>\n",
       "      <td>NaN</td>\n",
       "      <td>Numeric</td>\n",
       "      <td>div_*</td>\n",
       "    </tr>\n",
       "    <tr>\n",
       "      <th>244</th>\n",
       "      <td>crtse_41</td>\n",
       "      <td>A component of the Culturally Responsive Teach...</td>\n",
       "      <td>Participants enter a number between 0 and 100....</td>\n",
       "      <td>Likert</td>\n",
       "      <td>NaN</td>\n",
       "      <td>Numeric</td>\n",
       "      <td>div_*</td>\n",
       "    </tr>\n",
       "    <tr>\n",
       "      <th>245</th>\n",
       "      <td>crtse_total</td>\n",
       "      <td>Culturally Responsive Teaching Self-Efficacy S...</td>\n",
       "      <td>The average of all components</td>\n",
       "      <td>Average</td>\n",
       "      <td>NaN</td>\n",
       "      <td>Numeric</td>\n",
       "      <td>div_*</td>\n",
       "    </tr>\n",
       "  </tbody>\n",
       "</table>\n",
       "<p>245 rows × 7 columns</p>\n",
       "</div>"
      ],
      "text/plain": [
       "         Variable                                        Description  \\\n",
       "1      ccs_cohort  Common Core Survey Measure: year the participa...   \n",
       "2     ccs_stutype    Common Core Survey Measure: Desired Endorsement   \n",
       "3       ccs_major           Common Core Survey Measure: Degree Major   \n",
       "4    ccs_majother  Common Core Survey Measure: Degree Major Text ...   \n",
       "5         ccs_gpa  Common Core Survey Measure: Grade point averag...   \n",
       "..            ...                                                ...   \n",
       "241      crtse_33  A component of the Culturally Responsive Teach...   \n",
       "242      crtse_35  A component of the Culturally Responsive Teach...   \n",
       "243      crtse_36  A component of the Culturally Responsive Teach...   \n",
       "244      crtse_41  A component of the Culturally Responsive Teach...   \n",
       "245   crtse_total  Culturally Responsive Teaching Self-Efficacy S...   \n",
       "\n",
       "                                                Values    Units Constraints  \\\n",
       "1                                                  NaN     Year         NaN   \n",
       "2    1 – Non Curry Student; 2 – Curry Licensure onl...      NaN         NaN   \n",
       "3    1 – English; 2 – Sociology; 3 – Mathematics; 4...      NaN         NaN   \n",
       "4                                                  NaN      NaN         NaN   \n",
       "5                                                  NaN      NaN         NaN   \n",
       "..                                                 ...      ...         ...   \n",
       "241  Participants enter a number between 0 and 100....   Likert         NaN   \n",
       "242  Participants enter a number between 0 and 100....   Likert         NaN   \n",
       "243  Participants enter a number between 0 and 100....   Likert         NaN   \n",
       "244  Participants enter a number between 0 and 100....   Likert         NaN   \n",
       "245                      The average of all components  Average         NaN   \n",
       "\n",
       "        Type Previous name  \n",
       "1       Year           NaN  \n",
       "2    Numeric           NaN  \n",
       "3        NaN           NaN  \n",
       "4     String           NaN  \n",
       "5    Numeric           NaN  \n",
       "..       ...           ...  \n",
       "241  Numeric         div_*  \n",
       "242  Numeric         div_*  \n",
       "243  Numeric         div_*  \n",
       "244  Numeric         div_*  \n",
       "245  Numeric         div_*  \n",
       "\n",
       "[245 rows x 7 columns]"
      ]
     },
     "execution_count": 11,
     "metadata": {},
     "output_type": "execute_result"
    }
   ],
   "source": [
    "participant"
   ]
  },
  {
   "cell_type": "markdown",
   "metadata": {},
   "source": [
    "## Survey Measures"
   ]
  },
  {
   "cell_type": "code",
   "execution_count": 12,
   "metadata": {},
   "outputs": [],
   "source": [
    "survey = pd.read_excel(\"TeachSIM Data Dictionary.xlsx\", sheet_name=\"Survey Measures\")"
   ]
  },
  {
   "cell_type": "code",
   "execution_count": 13,
   "metadata": {},
   "outputs": [],
   "source": [
    "survey[\"Values\"] = survey[\"Values\"].fillna(\"Missing\")"
   ]
  },
  {
   "cell_type": "code",
   "execution_count": 14,
   "metadata": {},
   "outputs": [],
   "source": [
    "survey_char = list(survey[survey[\"Values\"] == \"Missing\"][\"Variable\"])"
   ]
  },
  {
   "cell_type": "code",
   "execution_count": 15,
   "metadata": {},
   "outputs": [],
   "source": [
    "survey_char = survey_char + [\"fb_post_sim_first_sort_did\", \"fb_post_sim_first_sort_didnt\", \"fb_post_sim_sec_sort_did\", \"fb_post_sim_sec_sort_didnt\"]"
   ]
  },
  {
   "cell_type": "code",
   "execution_count": 16,
   "metadata": {},
   "outputs": [
    {
     "data": {
      "text/html": [
       "<div>\n",
       "<style scoped>\n",
       "    .dataframe tbody tr th:only-of-type {\n",
       "        vertical-align: middle;\n",
       "    }\n",
       "\n",
       "    .dataframe tbody tr th {\n",
       "        vertical-align: top;\n",
       "    }\n",
       "\n",
       "    .dataframe thead th {\n",
       "        text-align: right;\n",
       "    }\n",
       "</style>\n",
       "<table border=\"1\" class=\"dataframe\">\n",
       "  <thead>\n",
       "    <tr style=\"text-align: right;\">\n",
       "      <th></th>\n",
       "      <th>Variable</th>\n",
       "      <th>Description</th>\n",
       "      <th>Values</th>\n",
       "      <th>Units</th>\n",
       "      <th>Constraints</th>\n",
       "      <th>Type</th>\n",
       "      <th>Previous name</th>\n",
       "    </tr>\n",
       "  </thead>\n",
       "  <tbody>\n",
       "    <tr>\n",
       "      <th>0</th>\n",
       "      <td>base_app_dev_adjust</td>\n",
       "      <td>How likely the participant would be to adjust ...</td>\n",
       "      <td>1- extremely unlikely, 10- extremely likely</td>\n",
       "      <td>Likert</td>\n",
       "      <td>These responses are based on the participant's...</td>\n",
       "      <td>Numeric</td>\n",
       "      <td>NaN</td>\n",
       "    </tr>\n",
       "    <tr>\n",
       "      <th>1</th>\n",
       "      <td>base_app_dev_challenge</td>\n",
       "      <td>How likely the participant would be to provide...</td>\n",
       "      <td>1- extremely unlikely, 10- extremely likely</td>\n",
       "      <td>Likert</td>\n",
       "      <td>These responses are based on the participant's...</td>\n",
       "      <td>Numeric</td>\n",
       "      <td>NaN</td>\n",
       "    </tr>\n",
       "    <tr>\n",
       "      <th>2</th>\n",
       "      <td>base_app_dev_coach</td>\n",
       "      <td>How likely the participant would be to coach o...</td>\n",
       "      <td>1- extremely unlikely, 10- extremely likely</td>\n",
       "      <td>Likert</td>\n",
       "      <td>These responses are based on the participant's...</td>\n",
       "      <td>Numeric</td>\n",
       "      <td>NaN</td>\n",
       "    </tr>\n",
       "    <tr>\n",
       "      <th>3</th>\n",
       "      <td>base_app_dev_counselor</td>\n",
       "      <td>How likely the participant would be to refer t...</td>\n",
       "      <td>1- extremely unlikely, 10- extremely likely</td>\n",
       "      <td>Likert</td>\n",
       "      <td>These responses are based on the participant's...</td>\n",
       "      <td>Numeric</td>\n",
       "      <td>NaN</td>\n",
       "    </tr>\n",
       "    <tr>\n",
       "      <th>4</th>\n",
       "      <td>base_app_dev_discuss</td>\n",
       "      <td>How likely the participant would be to discuss...</td>\n",
       "      <td>1- extremely unlikely, 10- extremely likely</td>\n",
       "      <td>Likert</td>\n",
       "      <td>These responses are based on the participant's...</td>\n",
       "      <td>Numeric</td>\n",
       "      <td>NaN</td>\n",
       "    </tr>\n",
       "    <tr>\n",
       "      <th>...</th>\n",
       "      <td>...</td>\n",
       "      <td>...</td>\n",
       "      <td>...</td>\n",
       "      <td>...</td>\n",
       "      <td>...</td>\n",
       "      <td>...</td>\n",
       "      <td>...</td>\n",
       "    </tr>\n",
       "    <tr>\n",
       "      <th>497</th>\n",
       "      <td>haber_survive_in_bureaucracy</td>\n",
       "      <td>likelihood that the respondent will be able to...</td>\n",
       "      <td>1 Low; 2 Average; 3 High</td>\n",
       "      <td>NaN</td>\n",
       "      <td>Not available 1819, 1920</td>\n",
       "      <td>Numeric</td>\n",
       "      <td>NaN</td>\n",
       "    </tr>\n",
       "    <tr>\n",
       "      <th>498</th>\n",
       "      <td>haber_testdate</td>\n",
       "      <td>Haberman Star Teacher Prescreener test date</td>\n",
       "      <td>Missing</td>\n",
       "      <td>NaN</td>\n",
       "      <td>Not available 1819, 1920</td>\n",
       "      <td>Date</td>\n",
       "      <td>NaN</td>\n",
       "    </tr>\n",
       "    <tr>\n",
       "      <th>499</th>\n",
       "      <td>haber_theory_to_practice</td>\n",
       "      <td>Respondent's ability to see the practical impl...</td>\n",
       "      <td>1 Low; 2 Average; 3 High</td>\n",
       "      <td>NaN</td>\n",
       "      <td>Not available 1819, 1920</td>\n",
       "      <td>Numeric</td>\n",
       "      <td>NaN</td>\n",
       "    </tr>\n",
       "    <tr>\n",
       "      <th>500</th>\n",
       "      <td>haber_total</td>\n",
       "      <td>Haberman Star Teacher Prescreener total score</td>\n",
       "      <td>0-50</td>\n",
       "      <td>NaN</td>\n",
       "      <td>Not available 1819, 1920</td>\n",
       "      <td>Numeric</td>\n",
       "      <td>NaN</td>\n",
       "    </tr>\n",
       "    <tr>\n",
       "      <th>501</th>\n",
       "      <td>haber_values_students_learning</td>\n",
       "      <td>Degree to which the responses reflect a willin...</td>\n",
       "      <td>1 Low; 2 Average; 3 High</td>\n",
       "      <td>NaN</td>\n",
       "      <td>Not available 1819, 1920</td>\n",
       "      <td>Numeric</td>\n",
       "      <td>NaN</td>\n",
       "    </tr>\n",
       "  </tbody>\n",
       "</table>\n",
       "<p>502 rows × 7 columns</p>\n",
       "</div>"
      ],
      "text/plain": [
       "                           Variable  \\\n",
       "0               base_app_dev_adjust   \n",
       "1            base_app_dev_challenge   \n",
       "2                base_app_dev_coach   \n",
       "3            base_app_dev_counselor   \n",
       "4              base_app_dev_discuss   \n",
       "..                              ...   \n",
       "497    haber_survive_in_bureaucracy   \n",
       "498                  haber_testdate   \n",
       "499        haber_theory_to_practice   \n",
       "500                     haber_total   \n",
       "501  haber_values_students_learning   \n",
       "\n",
       "                                           Description  \\\n",
       "0    How likely the participant would be to adjust ...   \n",
       "1    How likely the participant would be to provide...   \n",
       "2    How likely the participant would be to coach o...   \n",
       "3    How likely the participant would be to refer t...   \n",
       "4    How likely the participant would be to discuss...   \n",
       "..                                                 ...   \n",
       "497  likelihood that the respondent will be able to...   \n",
       "498        Haberman Star Teacher Prescreener test date   \n",
       "499  Respondent's ability to see the practical impl...   \n",
       "500      Haberman Star Teacher Prescreener total score   \n",
       "501  Degree to which the responses reflect a willin...   \n",
       "\n",
       "                                          Values   Units  \\\n",
       "0    1- extremely unlikely, 10- extremely likely  Likert   \n",
       "1    1- extremely unlikely, 10- extremely likely  Likert   \n",
       "2    1- extremely unlikely, 10- extremely likely  Likert   \n",
       "3    1- extremely unlikely, 10- extremely likely  Likert   \n",
       "4    1- extremely unlikely, 10- extremely likely  Likert   \n",
       "..                                           ...     ...   \n",
       "497                     1 Low; 2 Average; 3 High     NaN   \n",
       "498                                      Missing     NaN   \n",
       "499                     1 Low; 2 Average; 3 High     NaN   \n",
       "500                                         0-50     NaN   \n",
       "501                     1 Low; 2 Average; 3 High     NaN   \n",
       "\n",
       "                                           Constraints     Type  Previous name  \n",
       "0    These responses are based on the participant's...  Numeric            NaN  \n",
       "1    These responses are based on the participant's...  Numeric            NaN  \n",
       "2    These responses are based on the participant's...  Numeric            NaN  \n",
       "3    These responses are based on the participant's...  Numeric            NaN  \n",
       "4    These responses are based on the participant's...  Numeric            NaN  \n",
       "..                                                 ...      ...            ...  \n",
       "497                           Not available 1819, 1920  Numeric            NaN  \n",
       "498                           Not available 1819, 1920     Date            NaN  \n",
       "499                           Not available 1819, 1920  Numeric            NaN  \n",
       "500                           Not available 1819, 1920  Numeric            NaN  \n",
       "501                           Not available 1819, 1920  Numeric            NaN  \n",
       "\n",
       "[502 rows x 7 columns]"
      ]
     },
     "execution_count": 16,
     "metadata": {},
     "output_type": "execute_result"
    }
   ],
   "source": [
    "survey"
   ]
  },
  {
   "cell_type": "markdown",
   "metadata": {},
   "source": [
    "## Performance Measures"
   ]
  },
  {
   "cell_type": "code",
   "execution_count": 58,
   "metadata": {},
   "outputs": [],
   "source": [
    "performance = pd.read_excel(\"TeachSIM Data Dictionary.xlsx\", sheet_name=\"Performance Measures\")"
   ]
  },
  {
   "cell_type": "code",
   "execution_count": 59,
   "metadata": {},
   "outputs": [],
   "source": [
    "descriptions = [\"Behavior 1 reason for cut off\", \"Behavior 2 reason for cut off\", \\\n",
    "                    \"Behavior 3 reason for cut off\", \"Behavior 4 reason for cut off\", \\\n",
    "                    \"Behavior 5 reason for cut off\", \"Behavior 6 reason for cut off\", \\\n",
    "                    \"Description of teacher candidate's behavior; if double coded, this is the first populated response.\", \\\n",
    "                    \"Rational for quality score\", \"Rational for scoring\", \"Coder id\", \"Second coder id for double coded sessions\"]"
   ]
  },
  {
   "cell_type": "code",
   "execution_count": 60,
   "metadata": {},
   "outputs": [],
   "source": [
    "performance_char = list(pd.DataFrame(performance[performance[\"Description\"].isin(descriptions)])[\"Variable\"])"
   ]
  },
  {
   "cell_type": "code",
   "execution_count": 61,
   "metadata": {
    "scrolled": true
   },
   "outputs": [
    {
     "data": {
      "text/plain": [
       "['br_base_b1re',\n",
       " 'br_base_b2re',\n",
       " 'br_base_b3re',\n",
       " 'br_base_b4re',\n",
       " 'br_base_b5re',\n",
       " 'br_base_b6re',\n",
       " 'br_base_cid',\n",
       " 'br_base_cid2',\n",
       " 'br_base_descript',\n",
       " 'br_exit_b1re',\n",
       " 'br_exit_b2re',\n",
       " 'br_exit_b3re',\n",
       " 'br_exit_b4re',\n",
       " 'br_exit_b5re',\n",
       " 'br_exit_b6re',\n",
       " 'br_exit_cid',\n",
       " 'br_exit_cid2',\n",
       " 'br_exit_descript',\n",
       " 'br_post_b1re',\n",
       " 'br_post_b2re',\n",
       " 'br_post_b3re',\n",
       " 'br_post_b4re',\n",
       " 'br_post_b5re',\n",
       " 'br_post_b6re',\n",
       " 'br_post_cid',\n",
       " 'br_post_cid2',\n",
       " 'br_post_descript',\n",
       " 'br_pre_b1re',\n",
       " 'br_pre_b2re',\n",
       " 'br_pre_b3re',\n",
       " 'br_pre_b4re',\n",
       " 'br_pre_b5re',\n",
       " 'br_pre_b6re',\n",
       " 'br_pre_cid',\n",
       " 'br_pre_cid2',\n",
       " 'br_pre_descript',\n",
       " 'fb_base_cid',\n",
       " 'fb_base_cid2',\n",
       " 'fb_exit_cid',\n",
       " 'fb_exit_cid2',\n",
       " 'fb_post_cid',\n",
       " 'fb_post_cid2',\n",
       " 'fb_pre_cid',\n",
       " 'fb_pre_cid2']"
      ]
     },
     "execution_count": 61,
     "metadata": {},
     "output_type": "execute_result"
    }
   ],
   "source": [
    "performance_char"
   ]
  },
  {
   "cell_type": "code",
   "execution_count": 62,
   "metadata": {},
   "outputs": [
    {
     "data": {
      "text/html": [
       "<div>\n",
       "<style scoped>\n",
       "    .dataframe tbody tr th:only-of-type {\n",
       "        vertical-align: middle;\n",
       "    }\n",
       "\n",
       "    .dataframe tbody tr th {\n",
       "        vertical-align: top;\n",
       "    }\n",
       "\n",
       "    .dataframe thead th {\n",
       "        text-align: right;\n",
       "    }\n",
       "</style>\n",
       "<table border=\"1\" class=\"dataframe\">\n",
       "  <thead>\n",
       "    <tr style=\"text-align: right;\">\n",
       "      <th></th>\n",
       "      <th>Variable</th>\n",
       "      <th>Description</th>\n",
       "      <th>Values</th>\n",
       "      <th>Units</th>\n",
       "      <th>Constraints</th>\n",
       "      <th>Type</th>\n",
       "      <th>Previous name</th>\n",
       "    </tr>\n",
       "  </thead>\n",
       "  <tbody>\n",
       "    <tr>\n",
       "      <th>0</th>\n",
       "      <td>br_base_affect</td>\n",
       "      <td>Teacher candidate's affect</td>\n",
       "      <td>NaN</td>\n",
       "      <td>NaN</td>\n",
       "      <td>Not available 1718</td>\n",
       "      <td>NaN</td>\n",
       "      <td>NaN</td>\n",
       "    </tr>\n",
       "    <tr>\n",
       "      <th>1</th>\n",
       "      <td>br_base_b1ac</td>\n",
       "      <td>Behavior 1 acknowledged; if double coded, this...</td>\n",
       "      <td>NaN</td>\n",
       "      <td>NaN</td>\n",
       "      <td>Not available 1718</td>\n",
       "      <td>NaN</td>\n",
       "      <td>NaN</td>\n",
       "    </tr>\n",
       "    <tr>\n",
       "      <th>2</th>\n",
       "      <td>br_base_b1ac_agree</td>\n",
       "      <td>Coders agree that behavior 1 was achknowledged</td>\n",
       "      <td>NaN</td>\n",
       "      <td>NaN</td>\n",
       "      <td>Not available 1718</td>\n",
       "      <td>NaN</td>\n",
       "      <td>NaN</td>\n",
       "    </tr>\n",
       "    <tr>\n",
       "      <th>3</th>\n",
       "      <td>br_base_b1cu</td>\n",
       "      <td>Behavior 1 cut off; if double coded, this valu...</td>\n",
       "      <td>NaN</td>\n",
       "      <td>NaN</td>\n",
       "      <td>Not available 1718</td>\n",
       "      <td>NaN</td>\n",
       "      <td>NaN</td>\n",
       "    </tr>\n",
       "    <tr>\n",
       "      <th>4</th>\n",
       "      <td>br_base_b1cu_agree</td>\n",
       "      <td>Coders agree that behavior 1 was cut off</td>\n",
       "      <td>NaN</td>\n",
       "      <td>NaN</td>\n",
       "      <td>Not available 1718</td>\n",
       "      <td>NaN</td>\n",
       "      <td>NaN</td>\n",
       "    </tr>\n",
       "    <tr>\n",
       "      <th>...</th>\n",
       "      <td>...</td>\n",
       "      <td>...</td>\n",
       "      <td>...</td>\n",
       "      <td>...</td>\n",
       "      <td>...</td>\n",
       "      <td>...</td>\n",
       "      <td>...</td>\n",
       "    </tr>\n",
       "    <tr>\n",
       "      <th>529</th>\n",
       "      <td>fb_pre_tot_hit</td>\n",
       "      <td>Total feedback prompt hits</td>\n",
       "      <td>NaN</td>\n",
       "      <td>NaN</td>\n",
       "      <td>NaN</td>\n",
       "      <td>NaN</td>\n",
       "      <td>NaN</td>\n",
       "    </tr>\n",
       "    <tr>\n",
       "      <th>530</th>\n",
       "      <td>fb_pre_tot_hit_agree</td>\n",
       "      <td>Coders agree on Total feedback prompt hits; if...</td>\n",
       "      <td>NaN</td>\n",
       "      <td>NaN</td>\n",
       "      <td>NaN</td>\n",
       "      <td>NaN</td>\n",
       "      <td>NaN</td>\n",
       "    </tr>\n",
       "    <tr>\n",
       "      <th>531</th>\n",
       "      <td>fb_pre_tot_oc</td>\n",
       "      <td>Total feedback prompt occurences</td>\n",
       "      <td>NaN</td>\n",
       "      <td>NaN</td>\n",
       "      <td>Not available 1718</td>\n",
       "      <td>NaN</td>\n",
       "      <td>NaN</td>\n",
       "    </tr>\n",
       "    <tr>\n",
       "      <th>532</th>\n",
       "      <td>fb_pre_tot_oc_agree</td>\n",
       "      <td>Coders agree on Total feedback prompt occurenc...</td>\n",
       "      <td>NaN</td>\n",
       "      <td>NaN</td>\n",
       "      <td>Not available 1718</td>\n",
       "      <td>NaN</td>\n",
       "      <td>NaN</td>\n",
       "    </tr>\n",
       "    <tr>\n",
       "      <th>533</th>\n",
       "      <td>fb_pre_vid</td>\n",
       "      <td>NaN</td>\n",
       "      <td>NaN</td>\n",
       "      <td>NaN</td>\n",
       "      <td>NaN</td>\n",
       "      <td>NaN</td>\n",
       "      <td>NaN</td>\n",
       "    </tr>\n",
       "  </tbody>\n",
       "</table>\n",
       "<p>534 rows × 7 columns</p>\n",
       "</div>"
      ],
      "text/plain": [
       "                 Variable                                        Description  \\\n",
       "0          br_base_affect                         Teacher candidate's affect   \n",
       "1            br_base_b1ac  Behavior 1 acknowledged; if double coded, this...   \n",
       "2      br_base_b1ac_agree     Coders agree that behavior 1 was achknowledged   \n",
       "3            br_base_b1cu  Behavior 1 cut off; if double coded, this valu...   \n",
       "4      br_base_b1cu_agree           Coders agree that behavior 1 was cut off   \n",
       "..                    ...                                                ...   \n",
       "529        fb_pre_tot_hit                         Total feedback prompt hits   \n",
       "530  fb_pre_tot_hit_agree  Coders agree on Total feedback prompt hits; if...   \n",
       "531         fb_pre_tot_oc                   Total feedback prompt occurences   \n",
       "532   fb_pre_tot_oc_agree  Coders agree on Total feedback prompt occurenc...   \n",
       "533            fb_pre_vid                                                NaN   \n",
       "\n",
       "    Values  Units         Constraints  Type  Previous name  \n",
       "0      NaN    NaN  Not available 1718   NaN            NaN  \n",
       "1      NaN    NaN  Not available 1718   NaN            NaN  \n",
       "2      NaN    NaN  Not available 1718   NaN            NaN  \n",
       "3      NaN    NaN  Not available 1718   NaN            NaN  \n",
       "4      NaN    NaN  Not available 1718   NaN            NaN  \n",
       "..     ...    ...                 ...   ...            ...  \n",
       "529    NaN    NaN                 NaN   NaN            NaN  \n",
       "530    NaN    NaN                 NaN   NaN            NaN  \n",
       "531    NaN    NaN  Not available 1718   NaN            NaN  \n",
       "532    NaN    NaN  Not available 1718   NaN            NaN  \n",
       "533    NaN    NaN                 NaN   NaN            NaN  \n",
       "\n",
       "[534 rows x 7 columns]"
      ]
     },
     "execution_count": 62,
     "metadata": {},
     "output_type": "execute_result"
    }
   ],
   "source": [
    "performance"
   ]
  },
  {
   "cell_type": "markdown",
   "metadata": {},
   "source": [
    "# Queries"
   ]
  },
  {
   "cell_type": "markdown",
   "metadata": {},
   "source": [
    "## One Table"
   ]
  },
  {
   "cell_type": "markdown",
   "metadata": {},
   "source": [
    "### Excluding Performance (Works)"
   ]
  },
  {
   "cell_type": "code",
   "execution_count": 73,
   "metadata": {},
   "outputs": [],
   "source": [
    "columns = list(identifiers['Variable']) + list(participant['Variable']) + list(survey['Variable']) #+ list(performance['Variable'])"
   ]
  },
  {
   "cell_type": "code",
   "execution_count": 74,
   "metadata": {},
   "outputs": [],
   "source": [
    "chartype = identifiers_char + participant_char + survey_char"
   ]
  },
  {
   "cell_type": "code",
   "execution_count": 75,
   "metadata": {},
   "outputs": [
    {
     "data": {
      "text/plain": [
       "98"
      ]
     },
     "execution_count": 75,
     "metadata": {},
     "output_type": "execute_result"
    }
   ],
   "source": [
    "len(chartype)"
   ]
  },
  {
   "cell_type": "code",
   "execution_count": 76,
   "metadata": {},
   "outputs": [],
   "source": [
    "bigquery = \"\"\n",
    "for col in columns:\n",
    "    if col in chartype:\n",
    "        bigquery = bigquery + col + \" varchar(100), \"\n",
    "    else: \n",
    "        bigquery = bigquery + col + \" int, \""
   ]
  },
  {
   "cell_type": "code",
   "execution_count": 77,
   "metadata": {},
   "outputs": [],
   "source": [
    "bigquery = \"CREATE TABLE Participants ( \" + bigquery[:-2] + \" );\""
   ]
  },
  {
   "cell_type": "code",
   "execution_count": 78,
   "metadata": {},
   "outputs": [
    {
     "data": {
      "text/plain": [
       "'CREATE TABLE Participants ( br_treat_cond int, br_treat_cond_mr int, br_treat_cond_iat int, fb_treat_cond int, f17_treat_cond int, s18_treat_cond int, fb_treat_cond_iat int, id_participant varchar(100), id_section int, id_site varchar(100), id_study int, id_year int, ccs_cohort varchar(100), ccs_stutype int, ccs_major varchar(100), ccs_majother int, ccs_gpa varchar(100), partch int, moedu int, faedu int, gender int, age int, race int, raceother varchar(100), holang int, holangother varchar(100), hstype int, hstypeother varchar(100), hsloc int, hsses int, hsrace int, hsach int, fustuses int, fusturace int, fustuach int, futeases int, futearace int, futeaach int, program varchar(100), neo_02 int, neo_04 int, neo_05 int, neo_06 int, neo_07 int, neo_10 int, neo_11 int, neo_13 int, neo_17 int, neo_19 int, neo_20 int, neo_21 int, neo_22 int, neo_25 int, neo_26 int, neo_28 int, neo_32 int, neo_34 int, neo_35 int, neo_36 int, neo_37 int, neo_40 int, neo_41 int, neo_43 int, neo_47 int, neo_49 int, neo_50 int, neo_51 int, neo_52 int, neo_53 int, neo_56 int, neo_58 int, neo_60 int, r_neo_01 int, r_neo_03 int, r_neo_08 int, r_neo_09 int, r_neo_12 int, r_neo_14 int, r_neo_15 int, r_neo_16 int, r_neo_18 int, r_neo_23 int, r_neo_24 int, r_neo_27 int, r_neo_29 int, r_neo_30 int, r_neo_31 int, r_neo_33 int, r_neo_38 int, r_neo_39 int, r_neo_42 int, r_neo_44 int, r_neo_45 int, r_neo_46 int, r_neo_48 int, r_neo_54 int, r_neo_55 int, r_neo_57 int, r_neo_59 int, neo_n int, neo_e int, neo_o int, neo_a int, neo_c int, tse_03 int, tse_04 int, tse_15 int, tse_09 int, tse_11 int, tse_13 int, tse_06 int, tse_16 int, tse_18 int, tse_20 int, tse_22 int, tse_23 int, tse_01 int, tse_02 int, tse_05 int, tse_07 int, tse_08 int, tse_10 int, tse_12 int, tse_14 int, tse_17 int, tse_19 int, tse_21 int, tse_24 int, tse_se int, tse_is int, tse_cm int, tse_total int, das_01 int, das_02 int, das_03 int, das_04 int, das_05 int, das_06 int, das_07 int, das_08 int, das_09 int, das_10 int, das_11 int, das_12 int, das_13 int, das_14 int, das_15 int, das_16 int, das_17 int, das_18 int, das_19 int, das_20 int, das_21 int, das_depression int, das_anxiety int, das_stress int, fit_01 int, fit_04 int, fit_05 int, fit_06 int, fit_07 int, fit_08 int, fit_09 int, fit_10 int, fit_11 int, fit_12 int, fit_13 int, fit_total int, ytrt_01 int, ytrt_02 int, ytrt_03 int, ytrt_04 int, ytrt_05 int, ytrt_total int, tmas_01 int, tmas_02 int, tmas_04 int, tmas_07 int, tmas_10 int, tmas_11 int, tmas_13 int, tmas_14 int, tmas_17 int, tmas_18 int, r_tmas_03 int, r_tmas_06 int, r_tmas_12 int, r_tmas_15 int, r_tmas_16 int, r_tmas_19 int, r_tmas_20 int, tmas_total int, imts_01 int, imts_02 int, imts_03 int, imts_04 int, imts_05 int, imts_total int, rsq_03 int, rsq_10 int, rsq_27 int, rsq_30 int, r_rsq_01 int, r_rsq_05 int, r_rsq_07 int, r_rsq_11 int, r_rsq_12 int, r_rsq_13 int, r_rsq_17 int, r_rsq_20 int, r_rsq_21 int, r_rsq_23 int, r_rsq_24 int, r_rsq_28 int, r_rsq_29 int, rsq_total int, grit_01 int, grit_04 int, grit_06 int, grit_09 int, grit_10 int, grit_12 int, r_grit_02 int, r_grit_03 int, r_grit_05 int, r_grit_07 int, r_grit_08 int, r_grit_11 int, grit_total int, crtse_05 int, crtse_06 int, crtse_07 int, crtse_08 int, crtse_09 int, crtse_10 int, crtse_12 int, crtse_13 int, crtse_14 int, crtse_15 int, crtse_16 int, crtse_17 int, crtse_18 int, crtse_19 int, crtse_20 int, crtse_22 int, crtse_23 int, crtse_24 int, crtse_25 int, crtse_27 int, crtse_28 int, crtse_30 int, crtse_31 int, crtse_33 int, crtse_35 int, crtse_36 int, crtse_41 int, crtse_total int, base_app_dev_adjust int, base_app_dev_challenge int, base_app_dev_coach int, base_app_dev_counselor int, base_app_dev_discuss int, base_app_dev_parconf int, base_app_dev_plan int, base_app_dev_referral int, base_app_dev_request int, base_app_dev_space int, base_app_dev_sped int, base_app_dev_spend_time int, base_app_dev_studconf int, base_app_eth_adjust int, base_app_eth_challenge int, base_app_eth_coach int, base_app_eth_counselor int, base_app_eth_discuss int, base_app_eth_parconf int, base_app_eth_plan int, base_app_eth_referral int, base_app_eth_request int, base_app_eth_space int, base_app_eth_sped int, base_app_eth_spend_time int, base_app_eth_studconf int, base_beh_dev_attention int, base_beh_dev_behavior varchar(100), base_beh_dev_contribute varchar(100), base_beh_dev_defiant int, base_beh_dev_demand int, base_beh_dev_distracted int, base_beh_dev_disturb int, base_beh_dev_excitable int, base_beh_dev_fidget int, base_beh_dev_hum int, base_beh_dev_mood int, base_beh_dev_quarrel int, base_beh_dev_rating int, base_beh_dev_rating_impulsive int, base_beh_dev_rating_opdefiant int, base_beh_dev_restless int, base_beh_dev_smart int, base_beh_dev_temper int, base_beh_dev_uncoop int, base_beh_eth_attention int, base_beh_eth_behavior varchar(100), base_beh_eth_contribute varchar(100), base_beh_eth_defiant int, base_beh_eth_demand int, base_beh_eth_distracted int, base_beh_eth_disturb int, base_beh_eth_excitable int, base_beh_eth_fidget int, base_beh_eth_hum int, base_beh_eth_mood int, base_beh_eth_quarrel int, base_beh_eth_rating int, base_beh_eth_rating_impulsive int, base_beh_eth_rating_opdefiant int, base_beh_eth_restless int, base_beh_eth_smart int, base_beh_eth_temper int, base_beh_eth_uncoop int, base_enddate varchar(100), base_manage_app_dev_negative int, base_manage_app_dev_positive int, base_manage_app_dev_punitive int, base_manage_app_eth_negative int, base_manage_app_eth_positive int, base_manage_app_eth_punitive int, base_sim_beneficial int, base_sim_cmsk int, base_sim_conf int, base_sim_conf_authentic int, base_sim_conf_different varchar(100), base_sim_conf_rapport int, base_sim_enough_time int, base_sim_fbsk int, base_sim_fbsk_prepare varchar(100), base_sim_fbsk_support varchar(100), base_sim_like_use_again int, base_sim_nervous int, base_sim_recommend int, base_sim_relevant_prof int, base_sim_relevant_studies int, base_sim_sufficient_prep int, base_sim_txt_beneficial varchar(100), base_sim_txt_cmsk varchar(100), base_sim_txt_concerns varchar(100), base_sim_txt_conf varchar(100), base_sim_txt_conf_authentic varchar(100), base_sim_txt_conf_rapport varchar(100), base_sim_txt_fbsk varchar(100), base_sim_txt_improve_exp varchar(100), base_sim_txt_supports varchar(100), base_sim_useful_tool int, base_sim_worried_perform int, base_startdate varchar(100), big5_ag_1 int, big5_ag_1_r int, big5_ag_10 int, big5_ag_2 int, big5_ag_3 int, big5_ag_3_r int, big5_ag_4 int, big5_ag_5 int, big5_ag_5_r int, big5_ag_6 int, big5_ag_7 int, big5_ag_7_r int, big5_ag_8 int, big5_ag_9 int, big5_ag_total int, big5_con_1 int, big5_con_10 int, big5_con_2 int, big5_con_2_r int, big5_con_3 int, big5_con_4 int, big5_con_4_r int, big5_con_5 int, big5_con_6 int, big5_con_6_r int, big5_con_7 int, big5_con_8 int, big5_con_8_r int, big5_con_9 int, big5_con_total int, big5_emo_1 int, big5_emo_1_r int, big5_emo_10 int, big5_emo_10_r int, big5_emo_2 int, big5_emo_3 int, big5_emo_3_r int, big5_emo_4 int, big5_emo_5 int, big5_emo_5_r int, big5_emo_6 int, big5_emo_6_r int, big5_emo_7 int, big5_emo_7_r int, big5_emo_8 int, big5_emo_8_r int, big5_emo_9 int, big5_emo_9_r int, big5_emo_total int, big5_enddate varchar(100), big5_ext_1 int, big5_ext_10 int, big5_ext_10_r int, big5_ext_2 int, big5_ext_2_r int, big5_ext_3 int, big5_ext_4 int, big5_ext_4_r int, big5_ext_5 int, big5_ext_6 int, big5_ext_6_r int, big5_ext_7 int, big5_ext_8 int, big5_ext_8_r int, big5_ext_9 int, big5_ext_total int, big5_intell_1 int, big5_intell_10 int, big5_intell_2 int, big5_intell_2_r int, big5_intell_3 int, big5_intell_4 int, big5_intell_4_r int, big5_intell_5 int, big5_intell_6 int, big5_intell_6_r int, big5_intell_7 int, big5_intell_8 int, big5_intell_9 int, big5_intell_total int, br_post_app_dev_adjust int, br_post_app_dev_challenge int, br_post_app_dev_coach int, br_post_app_dev_counselor int, br_post_app_dev_discuss int, br_post_app_dev_parconf int, br_post_app_dev_plan int, br_post_app_dev_referral int, br_post_app_dev_request int, br_post_app_dev_space int, br_post_app_dev_sped int, br_post_app_dev_spend_time int, br_post_app_dev_studconf int, br_post_app_eth_adjust int, br_post_app_eth_challenge int, br_post_app_eth_coach int, br_post_app_eth_counselor int, br_post_app_eth_discuss int, br_post_app_eth_parconf int, br_post_app_eth_plan int, br_post_app_eth_referral int, br_post_app_eth_request int, br_post_app_eth_space int, br_post_app_eth_sped int, br_post_app_eth_spend_time int, br_post_app_eth_studconf int, br_post_beh_desire_other_text varchar(100), br_post_beh_dev_attention int, br_post_beh_dev_behavior varchar(100), br_post_beh_dev_contribute varchar(100), br_post_beh_dev_defiant int, br_post_beh_dev_demand int, br_post_beh_dev_distracted int, br_post_beh_dev_disturb int, br_post_beh_dev_excitable int, br_post_beh_dev_fidget int, br_post_beh_dev_hum int, br_post_beh_dev_mood int, br_post_beh_dev_quarrel int, br_post_beh_dev_rating int, br_post_beh_dev_rating_impulsive int, br_post_beh_dev_rating_opdefiant int, br_post_beh_dev_restless int, br_post_beh_dev_smart int, br_post_beh_dev_temper int, br_post_beh_dev_uncoop int, br_post_beh_eth_attention int, br_post_beh_eth_behavior varchar(100), br_post_beh_eth_contribute varchar(100), br_post_beh_eth_defiant int, br_post_beh_eth_demand int, br_post_beh_eth_distracted int, br_post_beh_eth_disturb int, br_post_beh_eth_excitable int, br_post_beh_eth_fidget int, br_post_beh_eth_hum int, br_post_beh_eth_mood int, br_post_beh_eth_quarrel int, br_post_beh_eth_rating int, br_post_beh_eth_rating_impulsive int, br_post_beh_eth_rating_opdefiant int, br_post_beh_eth_restless int, br_post_beh_eth_smart int, br_post_beh_eth_temper int, br_post_beh_eth_uncoop int, br_post_beh_follow_quest int, br_post_beh_positive_tone int, br_post_beh_praise_app int, br_post_beh_praise_contr int, br_post_beh_redirect_inapp int, br_post_beh_redirect_quick int, br_post_beh_specific_lang int, br_post_beh_talk_min int, br_post_enddate varchar(100), br_post_manage_app_dev_negative int, br_post_manage_app_dev_positive int, br_post_manage_app_dev_punitive int, br_post_manage_app_eth_negative int, br_post_manage_app_eth_positive int, br_post_manage_app_eth_punitive int, br_post_me_post_coach int, br_post_me_pre_coach int, br_post_sim_beneficial int, br_post_sim_cmsk int, br_post_sim_enough_time int, br_post_sim_first_cmsk int, br_post_sim_like_use_again int, br_post_sim_nervous int, br_post_sim_recommend int, br_post_sim_relevant_prof int, br_post_sim_relevant_studies int, br_post_sim_sec_cmsk int, br_post_sim_sufficient_prep int, br_post_sim_txt_beneficial varchar(100), br_post_sim_txt_cmsk varchar(100), br_post_sim_txt_concerns varchar(100), br_post_sim_txt_improve_exp varchar(100), br_post_sim_txt_supports varchar(100), br_post_sim_useful_tool int, br_post_sim_worried_perform int, br_post_startdate varchar(100), br_post_tse_01 int, br_post_tse_02 int, br_post_tse_03 int, br_post_tse_04 int, br_post_tse_05 int, br_post_tse_06 int, br_post_tse_07 int, br_post_tse_08 int, br_post_tse_09 int, br_post_tse_10 int, br_post_tse_11 int, br_post_tse_12 int, br_post_tse_13 int, br_post_tse_14 int, br_post_tse_15 int, br_post_tse_16 int, br_post_tse_17 int, br_post_tse_18 int, br_post_tse_19 int, br_post_tse_20 int, br_post_tse_21 int, br_post_tse_22 int, br_post_tse_23 int, br_post_tse_24 int, br_post_tse_cm int, br_post_tse_is int, br_post_tse_overall int, br_post_tse_se int, br_pre_enddate varchar(100), br_pre_misbehavior_anticipate varchar(100), br_pre_stai_calm int, br_pre_stai_calm_rc int, br_pre_stai_content int, br_pre_stai_content_rc int, br_pre_stai_relaxed int, br_pre_stai_relaxed_rc int, br_pre_stai_tense int, br_pre_stai_total int, br_pre_stai_upset int, br_pre_stai_worried int, br_pre_startdate varchar(100), br_pre_tse_03 int, br_pre_tse_05 int, br_pre_tse_08 int, br_pre_tse_13 int, br_pre_tse_15 int, br_pre_tse_16 int, br_pre_tse_19 int, br_pre_tse_21 int, br_pre_tse_cm int, exit_app_eth_adjust int, exit_app_eth_challenge int, exit_app_eth_coach int, exit_app_eth_counselor int, exit_app_eth_discuss int, exit_app_eth_parconf int, exit_app_eth_plan int, exit_app_eth_referral int, exit_app_eth_request int, exit_app_eth_space int, exit_app_eth_sped int, exit_app_eth_spend_time int, exit_app_eth_studconf int, exit_beh_eth_attention int, exit_beh_eth_behavior varchar(100), exit_beh_eth_contribute varchar(100), exit_beh_eth_defiant int, exit_beh_eth_demand int, exit_beh_eth_distracted int, exit_beh_eth_disturb int, exit_beh_eth_excitable int, exit_beh_eth_fidget int, exit_beh_eth_hum int, exit_beh_eth_mood int, exit_beh_eth_quarrel int, exit_beh_eth_rating int, exit_beh_eth_rating_impulsive int, exit_beh_eth_rating_opdefiant int, exit_beh_eth_restless int, exit_beh_eth_smart int, exit_beh_eth_temper int, exit_beh_eth_uncoop int, exit_enddate varchar(100), exit_manage_app_eth_negative int, exit_manage_app_eth_positive int, exit_manage_app_eth_punitive int, exit_sim_beneficial int, exit_sim_cmsk int, exit_sim_enough_time int, exit_sim_fbsk int, exit_sim_like_use_again int, exit_sim_nervous int, exit_sim_recommend int, exit_sim_relevant_prof int, exit_sim_relevant_studies int, exit_sim_sufficient_prep int, exit_sim_txt_beneficial varchar(100), exit_sim_txt_cmsk varchar(100), exit_sim_txt_concerns varchar(100), exit_sim_txt_fbsk varchar(100), exit_sim_txt_improve_exp varchar(100), exit_sim_txt_supports varchar(100), exit_sim_useful_tool int, exit_sim_worried_perform int, exit_startdate varchar(100), fb_post_coach_beneficial int, fb_post_coach_clear int, fb_post_coach_expertise int, fb_post_coach_friendly int, fb_post_coach_support int, fb_post_coaching varchar(100), fb_post_enddate varchar(100), fb_post_me_post_coach int, fb_post_me_pre_coach int, fb_post_sim_beneficial int, fb_post_sim_coach_recommend int, fb_post_sim_coach_use_again int, fb_post_sim_enough_time int, fb_post_sim_first_fbsk int, fb_post_sim_first_sort_did varchar(100), fb_post_sim_first_sort_did_oth varchar(100), fb_post_sim_first_sort_didnt varchar(100), fb_post_sim_first_sort_didnt_oth varchar(100), fb_post_sim_first_txt_fbsk varchar(100), fb_post_sim_like_use_again int, fb_post_sim_nervous int, fb_post_sim_prepare_differently varchar(100), fb_post_sim_recommend int, fb_post_sim_relevant_prof int, fb_post_sim_relevant_studies int, fb_post_sim_sec_fbsk int, fb_post_sim_sec_sort_did varchar(100), fb_post_sim_sec_sort_did_oth varchar(100), fb_post_sim_sec_sort_didnt varchar(100), fb_post_sim_sec_sort_didnt_oth varchar(100), fb_post_sim_sec_txt_fbsk varchar(100), fb_post_sim_sr_recommend int, fb_post_sim_sr_use_again int, fb_post_sim_sufficient_prep int, fb_post_sim_support varchar(100), fb_post_sim_teach_change int, fb_post_sim_teach_change_rate varchar(100), fb_post_sim_txt_beneficial varchar(100), fb_post_sim_txt_concerns varchar(100), fb_post_sim_txt_improve_exp varchar(100), fb_post_sim_used_before varchar(100), fb_post_sim_useful_tool int, fb_post_sim_worried_perform int, fb_post_sr_clear int, fb_post_sr_knowledge_skills int, fb_post_sr_practice_change int, fb_post_sr_sufficient_reflect int, fb_post_sr_support int, fb_post_srcoach_beneficial int, fb_post_srcoach_text_support varchar(100), fb_post_startdate varchar(100), fb_post_tse_01 int, fb_post_tse_02 int, fb_post_tse_03 int, fb_post_tse_04 int, fb_post_tse_05 int, fb_post_tse_06 int, fb_post_tse_07 int, fb_post_tse_08 int, fb_post_tse_09 int, fb_post_tse_10 int, fb_post_tse_11 int, fb_post_tse_12 int, fb_post_tse_13 int, fb_post_tse_14 int, fb_post_tse_15 int, fb_post_tse_16 int, fb_post_tse_17 int, fb_post_tse_18 int, fb_post_tse_19 int, fb_post_tse_20 int, fb_post_tse_21 int, fb_post_tse_22 int, fb_post_tse_23 int, fb_post_tse_24 int, fb_pre_enddate varchar(100), fb_pre_sim_beneficial int, fb_pre_sim_excited int, fb_pre_sim_nervous int, fb_pre_sim_relevant_prof int, fb_pre_sim_relevant_studies int, fb_pre_sim_txt_concerns varchar(100), fb_pre_sim_txt_fbk_purpose varchar(100), fb_pre_sim_txt_fbk_steps varchar(100), fb_pre_sim_txt_goals varchar(100), fb_pre_sim_txt_inference varchar(100), fb_pre_sim_txt_look_forward varchar(100), fb_pre_sim_txt_questions varchar(100), fb_pre_sim_txt_study_diverge1 varchar(100), fb_pre_sim_txt_study_diverge2 varchar(100), fb_pre_sim_txt_study_diverge3 varchar(100), fb_pre_sim_txt_study_exemplar1 varchar(100), fb_pre_sim_txt_study_exemplar2 varchar(100), fb_pre_sim_txt_study_exemplar3 varchar(100), fb_pre_sim_txt_study_feedback3 varchar(100), fb_pre_sim_txt_study_reader1 varchar(100), fb_pre_sim_txt_study_reader2 varchar(100), fb_pre_sim_txt_study_response1 varchar(100), fb_pre_sim_txt_study_response2 varchar(100), fb_pre_sim_txt_skill_purpose varchar(100), fb_pre_sim_txt_support_inf varchar(100), fb_pre_sim_used_before varchar(100), fb_pre_sim_useful_tool int, fb_pre_sim_worried_perform int, fb_pre_startdate varchar(100), haber_approach_to_students int, haber_at_risk_students int, haber_explain_stud_suc int, haber_explain_teach_suc int, haber_fallibility int, haber_org_and_plan int, haber_persistence int, haber_survive_in_bureaucracy int, haber_testdate varchar(100), haber_theory_to_practice int, haber_total int, haber_values_students_learning int );'"
      ]
     },
     "execution_count": 78,
     "metadata": {},
     "output_type": "execute_result"
    }
   ],
   "source": [
    "bigquery"
   ]
  },
  {
   "cell_type": "markdown",
   "metadata": {},
   "source": [
    "### Including Performance (Doesn't Work)"
   ]
  },
  {
   "cell_type": "code",
   "execution_count": 68,
   "metadata": {},
   "outputs": [],
   "source": [
    "columns2 = list(identifiers['Variable']) + list(participant['Variable']) + list(survey['Variable']) + list(performance['Variable'])"
   ]
  },
  {
   "cell_type": "code",
   "execution_count": 69,
   "metadata": {},
   "outputs": [],
   "source": [
    "bigquery2 = \"\"\n",
    "for col in columns2:\n",
    "    bigquery2 = bigquery2 + col + \" int, \""
   ]
  },
  {
   "cell_type": "code",
   "execution_count": 70,
   "metadata": {},
   "outputs": [],
   "source": [
    "bigquery2 = \"CREATE TABLE All_Part ( \" + bigquery2[:-2] + \" );\""
   ]
  },
  {
   "cell_type": "code",
   "execution_count": 71,
   "metadata": {},
   "outputs": [
    {
     "data": {
      "text/plain": [
       "'CREATE TABLE All_Part ( br_treat_cond int, br_treat_cond_mr int, br_treat_cond_iat int, fb_treat_cond int, f17_treat_cond int, s18_treat_cond int, fb_treat_cond_iat int, id_participant int, id_section int, id_site int, id_study int, id_year int, ccs_cohort int, ccs_stutype int, ccs_major int, ccs_majother int, ccs_gpa int, partch int, moedu int, faedu int, gender int, age int, race int, raceother int, holang int, holangother int, hstype int, hstypeother int, hsloc int, hsses int, hsrace int, hsach int, fustuses int, fusturace int, fustuach int, futeases int, futearace int, futeaach int, program int, neo_02 int, neo_04 int, neo_05 int, neo_06 int, neo_07 int, neo_10 int, neo_11 int, neo_13 int, neo_17 int, neo_19 int, neo_20 int, neo_21 int, neo_22 int, neo_25 int, neo_26 int, neo_28 int, neo_32 int, neo_34 int, neo_35 int, neo_36 int, neo_37 int, neo_40 int, neo_41 int, neo_43 int, neo_47 int, neo_49 int, neo_50 int, neo_51 int, neo_52 int, neo_53 int, neo_56 int, neo_58 int, neo_60 int, r_neo_01 int, r_neo_03 int, r_neo_08 int, r_neo_09 int, r_neo_12 int, r_neo_14 int, r_neo_15 int, r_neo_16 int, r_neo_18 int, r_neo_23 int, r_neo_24 int, r_neo_27 int, r_neo_29 int, r_neo_30 int, r_neo_31 int, r_neo_33 int, r_neo_38 int, r_neo_39 int, r_neo_42 int, r_neo_44 int, r_neo_45 int, r_neo_46 int, r_neo_48 int, r_neo_54 int, r_neo_55 int, r_neo_57 int, r_neo_59 int, neo_n int, neo_e int, neo_o int, neo_a int, neo_c int, tse_03 int, tse_04 int, tse_15 int, tse_09 int, tse_11 int, tse_13 int, tse_06 int, tse_16 int, tse_18 int, tse_20 int, tse_22 int, tse_23 int, tse_01 int, tse_02 int, tse_05 int, tse_07 int, tse_08 int, tse_10 int, tse_12 int, tse_14 int, tse_17 int, tse_19 int, tse_21 int, tse_24 int, tse_se int, tse_is int, tse_cm int, tse_total int, das_01 int, das_02 int, das_03 int, das_04 int, das_05 int, das_06 int, das_07 int, das_08 int, das_09 int, das_10 int, das_11 int, das_12 int, das_13 int, das_14 int, das_15 int, das_16 int, das_17 int, das_18 int, das_19 int, das_20 int, das_21 int, das_depression int, das_anxiety int, das_stress int, fit_01 int, fit_04 int, fit_05 int, fit_06 int, fit_07 int, fit_08 int, fit_09 int, fit_10 int, fit_11 int, fit_12 int, fit_13 int, fit_total int, ytrt_01 int, ytrt_02 int, ytrt_03 int, ytrt_04 int, ytrt_05 int, ytrt_total int, tmas_01 int, tmas_02 int, tmas_04 int, tmas_07 int, tmas_10 int, tmas_11 int, tmas_13 int, tmas_14 int, tmas_17 int, tmas_18 int, r_tmas_03 int, r_tmas_06 int, r_tmas_12 int, r_tmas_15 int, r_tmas_16 int, r_tmas_19 int, r_tmas_20 int, tmas_total int, imts_01 int, imts_02 int, imts_03 int, imts_04 int, imts_05 int, imts_total int, rsq_03 int, rsq_10 int, rsq_27 int, rsq_30 int, r_rsq_01 int, r_rsq_05 int, r_rsq_07 int, r_rsq_11 int, r_rsq_12 int, r_rsq_13 int, r_rsq_17 int, r_rsq_20 int, r_rsq_21 int, r_rsq_23 int, r_rsq_24 int, r_rsq_28 int, r_rsq_29 int, rsq_total int, grit_01 int, grit_04 int, grit_06 int, grit_09 int, grit_10 int, grit_12 int, r_grit_02 int, r_grit_03 int, r_grit_05 int, r_grit_07 int, r_grit_08 int, r_grit_11 int, grit_total int, crtse_05 int, crtse_06 int, crtse_07 int, crtse_08 int, crtse_09 int, crtse_10 int, crtse_12 int, crtse_13 int, crtse_14 int, crtse_15 int, crtse_16 int, crtse_17 int, crtse_18 int, crtse_19 int, crtse_20 int, crtse_22 int, crtse_23 int, crtse_24 int, crtse_25 int, crtse_27 int, crtse_28 int, crtse_30 int, crtse_31 int, crtse_33 int, crtse_35 int, crtse_36 int, crtse_41 int, crtse_total int, base_app_dev_adjust int, base_app_dev_challenge int, base_app_dev_coach int, base_app_dev_counselor int, base_app_dev_discuss int, base_app_dev_parconf int, base_app_dev_plan int, base_app_dev_referral int, base_app_dev_request int, base_app_dev_space int, base_app_dev_sped int, base_app_dev_spend_time int, base_app_dev_studconf int, base_app_eth_adjust int, base_app_eth_challenge int, base_app_eth_coach int, base_app_eth_counselor int, base_app_eth_discuss int, base_app_eth_parconf int, base_app_eth_plan int, base_app_eth_referral int, base_app_eth_request int, base_app_eth_space int, base_app_eth_sped int, base_app_eth_spend_time int, base_app_eth_studconf int, base_beh_dev_attention int, base_beh_dev_behavior int, base_beh_dev_contribute int, base_beh_dev_defiant int, base_beh_dev_demand int, base_beh_dev_distracted int, base_beh_dev_disturb int, base_beh_dev_excitable int, base_beh_dev_fidget int, base_beh_dev_hum int, base_beh_dev_mood int, base_beh_dev_quarrel int, base_beh_dev_rating int, base_beh_dev_rating_impulsive int, base_beh_dev_rating_opdefiant int, base_beh_dev_restless int, base_beh_dev_smart int, base_beh_dev_temper int, base_beh_dev_uncoop int, base_beh_eth_attention int, base_beh_eth_behavior int, base_beh_eth_contribute int, base_beh_eth_defiant int, base_beh_eth_demand int, base_beh_eth_distracted int, base_beh_eth_disturb int, base_beh_eth_excitable int, base_beh_eth_fidget int, base_beh_eth_hum int, base_beh_eth_mood int, base_beh_eth_quarrel int, base_beh_eth_rating int, base_beh_eth_rating_impulsive int, base_beh_eth_rating_opdefiant int, base_beh_eth_restless int, base_beh_eth_smart int, base_beh_eth_temper int, base_beh_eth_uncoop int, base_enddate int, base_manage_app_dev_negative int, base_manage_app_dev_positive int, base_manage_app_dev_punitive int, base_manage_app_eth_negative int, base_manage_app_eth_positive int, base_manage_app_eth_punitive int, base_sim_beneficial int, base_sim_cmsk int, base_sim_conf int, base_sim_conf_authentic int, base_sim_conf_different int, base_sim_conf_rapport int, base_sim_enough_time int, base_sim_fbsk int, base_sim_fbsk_prepare int, base_sim_fbsk_support int, base_sim_like_use_again int, base_sim_nervous int, base_sim_recommend int, base_sim_relevant_prof int, base_sim_relevant_studies int, base_sim_sufficient_prep int, base_sim_txt_beneficial int, base_sim_txt_cmsk int, base_sim_txt_concerns int, base_sim_txt_conf int, base_sim_txt_conf_authentic int, base_sim_txt_conf_rapport int, base_sim_txt_fbsk int, base_sim_txt_improve_exp int, base_sim_txt_supports int, base_sim_useful_tool int, base_sim_worried_perform int, base_startdate int, big5_ag_1 int, big5_ag_1_r int, big5_ag_10 int, big5_ag_2 int, big5_ag_3 int, big5_ag_3_r int, big5_ag_4 int, big5_ag_5 int, big5_ag_5_r int, big5_ag_6 int, big5_ag_7 int, big5_ag_7_r int, big5_ag_8 int, big5_ag_9 int, big5_ag_total int, big5_con_1 int, big5_con_10 int, big5_con_2 int, big5_con_2_r int, big5_con_3 int, big5_con_4 int, big5_con_4_r int, big5_con_5 int, big5_con_6 int, big5_con_6_r int, big5_con_7 int, big5_con_8 int, big5_con_8_r int, big5_con_9 int, big5_con_total int, big5_emo_1 int, big5_emo_1_r int, big5_emo_10 int, big5_emo_10_r int, big5_emo_2 int, big5_emo_3 int, big5_emo_3_r int, big5_emo_4 int, big5_emo_5 int, big5_emo_5_r int, big5_emo_6 int, big5_emo_6_r int, big5_emo_7 int, big5_emo_7_r int, big5_emo_8 int, big5_emo_8_r int, big5_emo_9 int, big5_emo_9_r int, big5_emo_total int, big5_enddate int, big5_ext_1 int, big5_ext_10 int, big5_ext_10_r int, big5_ext_2 int, big5_ext_2_r int, big5_ext_3 int, big5_ext_4 int, big5_ext_4_r int, big5_ext_5 int, big5_ext_6 int, big5_ext_6_r int, big5_ext_7 int, big5_ext_8 int, big5_ext_8_r int, big5_ext_9 int, big5_ext_total int, big5_intell_1 int, big5_intell_10 int, big5_intell_2 int, big5_intell_2_r int, big5_intell_3 int, big5_intell_4 int, big5_intell_4_r int, big5_intell_5 int, big5_intell_6 int, big5_intell_6_r int, big5_intell_7 int, big5_intell_8 int, big5_intell_9 int, big5_intell_total int, br_post_app_dev_adjust int, br_post_app_dev_challenge int, br_post_app_dev_coach int, br_post_app_dev_counselor int, br_post_app_dev_discuss int, br_post_app_dev_parconf int, br_post_app_dev_plan int, br_post_app_dev_referral int, br_post_app_dev_request int, br_post_app_dev_space int, br_post_app_dev_sped int, br_post_app_dev_spend_time int, br_post_app_dev_studconf int, br_post_app_eth_adjust int, br_post_app_eth_challenge int, br_post_app_eth_coach int, br_post_app_eth_counselor int, br_post_app_eth_discuss int, br_post_app_eth_parconf int, br_post_app_eth_plan int, br_post_app_eth_referral int, br_post_app_eth_request int, br_post_app_eth_space int, br_post_app_eth_sped int, br_post_app_eth_spend_time int, br_post_app_eth_studconf int, br_post_beh_desire_other_text int, br_post_beh_dev_attention int, br_post_beh_dev_behavior int, br_post_beh_dev_contribute int, br_post_beh_dev_defiant int, br_post_beh_dev_demand int, br_post_beh_dev_distracted int, br_post_beh_dev_disturb int, br_post_beh_dev_excitable int, br_post_beh_dev_fidget int, br_post_beh_dev_hum int, br_post_beh_dev_mood int, br_post_beh_dev_quarrel int, br_post_beh_dev_rating int, br_post_beh_dev_rating_impulsive int, br_post_beh_dev_rating_opdefiant int, br_post_beh_dev_restless int, br_post_beh_dev_smart int, br_post_beh_dev_temper int, br_post_beh_dev_uncoop int, br_post_beh_eth_attention int, br_post_beh_eth_behavior int, br_post_beh_eth_contribute int, br_post_beh_eth_defiant int, br_post_beh_eth_demand int, br_post_beh_eth_distracted int, br_post_beh_eth_disturb int, br_post_beh_eth_excitable int, br_post_beh_eth_fidget int, br_post_beh_eth_hum int, br_post_beh_eth_mood int, br_post_beh_eth_quarrel int, br_post_beh_eth_rating int, br_post_beh_eth_rating_impulsive int, br_post_beh_eth_rating_opdefiant int, br_post_beh_eth_restless int, br_post_beh_eth_smart int, br_post_beh_eth_temper int, br_post_beh_eth_uncoop int, br_post_beh_follow_quest int, br_post_beh_positive_tone int, br_post_beh_praise_app int, br_post_beh_praise_contr int, br_post_beh_redirect_inapp int, br_post_beh_redirect_quick int, br_post_beh_specific_lang int, br_post_beh_talk_min int, br_post_enddate int, br_post_manage_app_dev_negative int, br_post_manage_app_dev_positive int, br_post_manage_app_dev_punitive int, br_post_manage_app_eth_negative int, br_post_manage_app_eth_positive int, br_post_manage_app_eth_punitive int, br_post_me_post_coach int, br_post_me_pre_coach int, br_post_sim_beneficial int, br_post_sim_cmsk int, br_post_sim_enough_time int, br_post_sim_first_cmsk int, br_post_sim_like_use_again int, br_post_sim_nervous int, br_post_sim_recommend int, br_post_sim_relevant_prof int, br_post_sim_relevant_studies int, br_post_sim_sec_cmsk int, br_post_sim_sufficient_prep int, br_post_sim_txt_beneficial int, br_post_sim_txt_cmsk int, br_post_sim_txt_concerns int, br_post_sim_txt_improve_exp int, br_post_sim_txt_supports int, br_post_sim_useful_tool int, br_post_sim_worried_perform int, br_post_startdate int, br_post_tse_01 int, br_post_tse_02 int, br_post_tse_03 int, br_post_tse_04 int, br_post_tse_05 int, br_post_tse_06 int, br_post_tse_07 int, br_post_tse_08 int, br_post_tse_09 int, br_post_tse_10 int, br_post_tse_11 int, br_post_tse_12 int, br_post_tse_13 int, br_post_tse_14 int, br_post_tse_15 int, br_post_tse_16 int, br_post_tse_17 int, br_post_tse_18 int, br_post_tse_19 int, br_post_tse_20 int, br_post_tse_21 int, br_post_tse_22 int, br_post_tse_23 int, br_post_tse_24 int, br_post_tse_cm int, br_post_tse_is int, br_post_tse_overall int, br_post_tse_se int, br_pre_enddate int, br_pre_misbehavior_anticipate int, br_pre_stai_calm int, br_pre_stai_calm_rc int, br_pre_stai_content int, br_pre_stai_content_rc int, br_pre_stai_relaxed int, br_pre_stai_relaxed_rc int, br_pre_stai_tense int, br_pre_stai_total int, br_pre_stai_upset int, br_pre_stai_worried int, br_pre_startdate int, br_pre_tse_03 int, br_pre_tse_05 int, br_pre_tse_08 int, br_pre_tse_13 int, br_pre_tse_15 int, br_pre_tse_16 int, br_pre_tse_19 int, br_pre_tse_21 int, br_pre_tse_cm int, exit_app_eth_adjust int, exit_app_eth_challenge int, exit_app_eth_coach int, exit_app_eth_counselor int, exit_app_eth_discuss int, exit_app_eth_parconf int, exit_app_eth_plan int, exit_app_eth_referral int, exit_app_eth_request int, exit_app_eth_space int, exit_app_eth_sped int, exit_app_eth_spend_time int, exit_app_eth_studconf int, exit_beh_eth_attention int, exit_beh_eth_behavior int, exit_beh_eth_contribute int, exit_beh_eth_defiant int, exit_beh_eth_demand int, exit_beh_eth_distracted int, exit_beh_eth_disturb int, exit_beh_eth_excitable int, exit_beh_eth_fidget int, exit_beh_eth_hum int, exit_beh_eth_mood int, exit_beh_eth_quarrel int, exit_beh_eth_rating int, exit_beh_eth_rating_impulsive int, exit_beh_eth_rating_opdefiant int, exit_beh_eth_restless int, exit_beh_eth_smart int, exit_beh_eth_temper int, exit_beh_eth_uncoop int, exit_enddate int, exit_manage_app_eth_negative int, exit_manage_app_eth_positive int, exit_manage_app_eth_punitive int, exit_sim_beneficial int, exit_sim_cmsk int, exit_sim_enough_time int, exit_sim_fbsk int, exit_sim_like_use_again int, exit_sim_nervous int, exit_sim_recommend int, exit_sim_relevant_prof int, exit_sim_relevant_studies int, exit_sim_sufficient_prep int, exit_sim_txt_beneficial int, exit_sim_txt_cmsk int, exit_sim_txt_concerns int, exit_sim_txt_fbsk int, exit_sim_txt_improve_exp int, exit_sim_txt_supports int, exit_sim_useful_tool int, exit_sim_worried_perform int, exit_startdate int, fb_post_coach_beneficial int, fb_post_coach_clear int, fb_post_coach_expertise int, fb_post_coach_friendly int, fb_post_coach_support int, fb_post_coaching int, fb_post_enddate int, fb_post_me_post_coach int, fb_post_me_pre_coach int, fb_post_sim_beneficial int, fb_post_sim_coach_recommend int, fb_post_sim_coach_use_again int, fb_post_sim_enough_time int, fb_post_sim_first_fbsk int, fb_post_sim_first_sort_did int, fb_post_sim_first_sort_did_oth int, fb_post_sim_first_sort_didnt int, fb_post_sim_first_sort_didnt_oth int, fb_post_sim_first_txt_fbsk int, fb_post_sim_like_use_again int, fb_post_sim_nervous int, fb_post_sim_prepare_differently int, fb_post_sim_recommend int, fb_post_sim_relevant_prof int, fb_post_sim_relevant_studies int, fb_post_sim_sec_fbsk int, fb_post_sim_sec_sort_did int, fb_post_sim_sec_sort_did_oth int, fb_post_sim_sec_sort_didnt int, fb_post_sim_sec_sort_didnt_oth int, fb_post_sim_sec_txt_fbsk int, fb_post_sim_sr_recommend int, fb_post_sim_sr_use_again int, fb_post_sim_sufficient_prep int, fb_post_sim_support int, fb_post_sim_teach_change int, fb_post_sim_teach_change_rate int, fb_post_sim_txt_beneficial int, fb_post_sim_txt_concerns int, fb_post_sim_txt_improve_exp int, fb_post_sim_used_before int, fb_post_sim_useful_tool int, fb_post_sim_worried_perform int, fb_post_sr_clear int, fb_post_sr_knowledge_skills int, fb_post_sr_practice_change int, fb_post_sr_sufficient_reflect int, fb_post_sr_support int, fb_post_srcoach_beneficial int, fb_post_srcoach_text_support int, fb_post_startdate int, fb_post_tse_01 int, fb_post_tse_02 int, fb_post_tse_03 int, fb_post_tse_04 int, fb_post_tse_05 int, fb_post_tse_06 int, fb_post_tse_07 int, fb_post_tse_08 int, fb_post_tse_09 int, fb_post_tse_10 int, fb_post_tse_11 int, fb_post_tse_12 int, fb_post_tse_13 int, fb_post_tse_14 int, fb_post_tse_15 int, fb_post_tse_16 int, fb_post_tse_17 int, fb_post_tse_18 int, fb_post_tse_19 int, fb_post_tse_20 int, fb_post_tse_21 int, fb_post_tse_22 int, fb_post_tse_23 int, fb_post_tse_24 int, fb_pre_enddate int, fb_pre_sim_beneficial int, fb_pre_sim_excited int, fb_pre_sim_nervous int, fb_pre_sim_relevant_prof int, fb_pre_sim_relevant_studies int, fb_pre_sim_txt_concerns int, fb_pre_sim_txt_fbk_purpose int, fb_pre_sim_txt_fbk_steps int, fb_pre_sim_txt_goals int, fb_pre_sim_txt_inference int, fb_pre_sim_txt_look_forward int, fb_pre_sim_txt_questions int, fb_pre_sim_txt_study_diverge1 int, fb_pre_sim_txt_study_diverge2 int, fb_pre_sim_txt_study_diverge3 int, fb_pre_sim_txt_study_exemplar1 int, fb_pre_sim_txt_study_exemplar2 int, fb_pre_sim_txt_study_exemplar3 int, fb_pre_sim_txt_study_feedback3 int, fb_pre_sim_txt_study_reader1 int, fb_pre_sim_txt_study_reader2 int, fb_pre_sim_txt_study_response1 int, fb_pre_sim_txt_study_response2 int, fb_pre_sim_txt_skill_purpose int, fb_pre_sim_txt_support_inf int, fb_pre_sim_used_before int, fb_pre_sim_useful_tool int, fb_pre_sim_worried_perform int, fb_pre_startdate int, haber_approach_to_students int, haber_at_risk_students int, haber_explain_stud_suc int, haber_explain_teach_suc int, haber_fallibility int, haber_org_and_plan int, haber_persistence int, haber_survive_in_bureaucracy int, haber_testdate int, haber_theory_to_practice int, haber_total int, haber_values_students_learning int, br_base_affect int, br_base_b1ac int, br_base_b1ac_agree int, br_base_b1cu int, br_base_b1cu_agree int, br_base_b1oc int, br_base_b1oc_agree int, br_base_b1re int, br_base_b1re_agree int, br_base_b1sp int, br_base_b1sp_agree int, br_base_b1su int, br_base_b1su_agree int, br_base_b1ti int, br_base_b1ti_agree int, br_base_b2ac int, br_base_b2ac_agree int, br_base_b2cu int, br_base_b2cu_agree int, br_base_b2oc int, br_base_b2oc_agree int, br_base_b2re int, br_base_b2re_agree int, br_base_b2sp int, br_base_b2sp_agree int, br_base_b2su int, br_base_b2su_agree int, br_base_b2ti int, br_base_b2ti_agree int, br_base_b3ac int, br_base_b3ac_agree int, br_base_b3cu int, br_base_b3cu_agree int, br_base_b3oc int, br_base_b3oc_agree int, br_base_b3re int, br_base_b3re_agree int, br_base_b3sp int, br_base_b3sp_agree int, br_base_b3su int, br_base_b3su_agree int, br_base_b3ti int, br_base_b3ti_agree int, br_base_b4ac int, br_base_b4ac_agree int, br_base_b4cu int, br_base_b4cu_agree int, br_base_b4oc int, br_base_b4oc_agree int, br_base_b4re int, br_base_b4re_agree int, br_base_b4sp int, br_base_b4sp_agree int, br_base_b4su int, br_base_b4su_agree int, br_base_b4ti int, br_base_b4ti_agree int, br_base_b5ac int, br_base_b5ac_agree int, br_base_b5cu int, br_base_b5cu_agree int, br_base_b5oc int, br_base_b5oc_agree int, br_base_b5re int, br_base_b5re_agree int, br_base_b5sp int, br_base_b5sp_agree int, br_base_b5su int, br_base_b5su_agree int, br_base_b5ti int, br_base_b5ti_agree int, br_base_b6ac int, br_base_b6ac_agree int, br_base_b6cu int, br_base_b6cu_agree int, br_base_b6oc int, br_base_b6oc_agree int, br_base_b6re int, br_base_b6re_agree int, br_base_b6sp int, br_base_b6sp_agree int, br_base_b6su int, br_base_b6su_agree int, br_base_b6ti int, br_base_b6ti_agree int, br_base_cid int, br_base_cid2 int, br_base_dc int, br_base_descript int, br_base_quality int, br_base_quality_agree int, br_base_rationale int, br_base_rubric_affect int, br_base_rubric_dial int, br_base_rubric_engage int, br_base_rubric_norms int, br_base_rubric_spec int, br_base_rubric_suc int, br_base_tot_ac int, br_base_tot_ac_agree int, br_base_tot_cu int, br_base_tot_cu_agree int, br_base_tot_nb int, br_base_tot_nb_agree int, br_base_tot_oc int, br_base_tot_oc_agree int, br_base_tot_se int, br_base_tot_se_agree int, br_base_tot_sp int, br_base_tot_sp_agree int, br_base_tot_su int, br_base_tot_su_agree int, br_base_tot_ti int, br_base_tot_ti_agree int, br_base_vid int, br_exit_affect int, br_exit_b1ac int, br_exit_b1ac_agree int, br_exit_b1cu int, br_exit_b1cu_agree int, br_exit_b1oc int, br_exit_b1oc_agree int, br_exit_b1re int, br_exit_b1re_agree int, br_exit_b1sp int, br_exit_b1sp_agree int, br_exit_b1su int, br_exit_b1su_agree int, br_exit_b1ti int, br_exit_b1ti_agree int, br_exit_b2ac int, br_exit_b2ac_agree int, br_exit_b2cu int, br_exit_b2cu_agree int, br_exit_b2oc int, br_exit_b2oc_agree int, br_exit_b2re int, br_exit_b2re_agree int, br_exit_b2sp int, br_exit_b2sp_agree int, br_exit_b2su int, br_exit_b2su_agree int, br_exit_b2ti int, br_exit_b2ti_agree int, br_exit_b3ac int, br_exit_b3ac_agree int, br_exit_b3cu int, br_exit_b3cu_agree int, br_exit_b3oc int, br_exit_b3oc_agree int, br_exit_b3re int, br_exit_b3re_agree int, br_exit_b3sp int, br_exit_b3sp_agree int, br_exit_b3su int, br_exit_b3su_agree int, br_exit_b3ti int, br_exit_b3ti_agree int, br_exit_b4ac int, br_exit_b4ac_agree int, br_exit_b4cu int, br_exit_b4cu_agree int, br_exit_b4oc int, br_exit_b4oc_agree int, br_exit_b4re int, br_exit_b4re_agree int, br_exit_b4sp int, br_exit_b4sp_agree int, br_exit_b4su int, br_exit_b4su_agree int, br_exit_b4ti int, br_exit_b4ti_agree int, br_exit_b5ac int, br_exit_b5ac_agree int, br_exit_b5cu int, br_exit_b5cu_agree int, br_exit_b5oc int, br_exit_b5oc_agree int, br_exit_b5re int, br_exit_b5re_agree int, br_exit_b5sp int, br_exit_b5sp_agree int, br_exit_b5su int, br_exit_b5su_agree int, br_exit_b5ti int, br_exit_b5ti_agree int, br_exit_b6ac int, br_exit_b6ac_agree int, br_exit_b6cu int, br_exit_b6cu_agree int, br_exit_b6oc int, br_exit_b6oc_agree int, br_exit_b6re int, br_exit_b6re_agree int, br_exit_b6sp int, br_exit_b6sp_agree int, br_exit_b6su int, br_exit_b6su_agree int, br_exit_b6ti int, br_exit_b6ti_agree int, br_exit_cid int, br_exit_cid2 int, br_exit_dc int, br_exit_descript int, br_exit_quality int, br_exit_quality_agree int, br_exit_rationale int, br_exit_tot_ac int, br_exit_tot_ac_agree int, br_exit_tot_cu int, br_exit_tot_cu_agree int, br_exit_tot_nb int, br_exit_tot_nb_agree int, br_exit_tot_oc int, br_exit_tot_oc_agree int, br_exit_tot_se int, br_exit_tot_se_agree int, br_exit_tot_sp int, br_exit_tot_sp_agree int, br_exit_tot_su int, br_exit_tot_su_agree int, br_exit_tot_ti int, br_exit_tot_ti_agree int, br_exit_vid int, br_post_affect int, br_post_b1ac int, br_post_b1ac_agree int, br_post_b1cu int, br_post_b1cu_agree int, br_post_b1oc int, br_post_b1oc_agree int, br_post_b1re int, br_post_b1re_agree int, br_post_b1sp int, br_post_b1sp_agree int, br_post_b1su int, br_post_b1su_agree int, br_post_b1ti int, br_post_b1ti_agree int, br_post_b2ac int, br_post_b2ac_agree int, br_post_b2cu int, br_post_b2cu_agree int, br_post_b2oc int, br_post_b2oc_agree int, br_post_b2re int, br_post_b2re_agree int, br_post_b2sp int, br_post_b2sp_agree int, br_post_b2su int, br_post_b2su_agree int, br_post_b2ti int, br_post_b2ti_agree int, br_post_b3ac int, br_post_b3ac_agree int, br_post_b3cu int, br_post_b3cu_agree int, br_post_b3oc int, br_post_b3oc_agree int, br_post_b3re int, br_post_b3re_agree int, br_post_b3sp int, br_post_b3sp_agree int, br_post_b3su int, br_post_b3su_agree int, br_post_b3ti int, br_post_b3ti_agree int, br_post_b4ac int, br_post_b4ac_agree int, br_post_b4cu int, br_post_b4cu_agree int, br_post_b4oc int, br_post_b4oc_agree int, br_post_b4re int, br_post_b4re_agree int, br_post_b4sp int, br_post_b4sp_agree int, br_post_b4su int, br_post_b4su_agree int, br_post_b4ti int, br_post_b4ti_agree int, br_post_b5ac int, br_post_b5ac_agree int, br_post_b5cu int, br_post_b5cu_agree int, br_post_b5oc int, br_post_b5oc_agree int, br_post_b5re int, br_post_b5re_agree int, br_post_b5sp int, br_post_b5sp_agree int, br_post_b5su int, br_post_b5su_agree int, br_post_b5ti int, br_post_b5ti_agree int, br_post_b6ac int, br_post_b6ac_agree int, br_post_b6cu int, br_post_b6cu_agree int, br_post_b6oc int, br_post_b6oc_agree int, br_post_b6re int, br_post_b6re_agree int, br_post_b6sp int, br_post_b6sp_agree int, br_post_b6su int, br_post_b6su_agree int, br_post_b6ti int, br_post_b6ti_agree int, br_post_cid int, br_post_cid2 int, br_post_dc int, br_post_descript int, br_post_quality int, br_post_quality_agree int, br_post_rationale int, br_post_rubric_affect int, br_post_rubric_dial int, br_post_rubric_engage int, br_post_rubric_norms int, br_post_rubric_spec int, br_post_rubric_suc int, br_post_tot_ac int, br_post_tot_ac_agree int, br_post_tot_cu int, br_post_tot_cu_agree int, br_post_tot_nb int, br_post_tot_nb_agree int, br_post_tot_oc int, br_post_tot_oc_agree int, br_post_tot_se int, br_post_tot_se_agree int, br_post_tot_sp int, br_post_tot_sp_agree int, br_post_tot_su int, br_post_tot_su_agree int, br_post_tot_ti int, br_post_tot_ti_agree int, br_post_vid int, br_pre_affect int, br_pre_b1ac int, br_pre_b1ac_agree int, br_pre_b1cu int, br_pre_b1cu_agree int, br_pre_b1oc int, br_pre_b1oc_agree int, br_pre_b1re int, br_pre_b1re_agree int, br_pre_b1sp int, br_pre_b1sp_agree int, br_pre_b1su int, br_pre_b1su_agree int, br_pre_b1ti int, br_pre_b1ti_agree int, br_pre_b2ac int, br_pre_b2ac_agree int, br_pre_b2cu int, br_pre_b2cu_agree int, br_pre_b2oc int, br_pre_b2oc_agree int, br_pre_b2re int, br_pre_b2re_agree int, br_pre_b2sp int, br_pre_b2sp_agree int, br_pre_b2su int, br_pre_b2su_agree int, br_pre_b2ti int, br_pre_b2ti_agree int, br_pre_b3ac int, br_pre_b3ac_agree int, br_pre_b3cu int, br_pre_b3cu_agree int, br_pre_b3oc int, br_pre_b3oc_agree int, br_pre_b3re int, br_pre_b3re_agree int, br_pre_b3sp int, br_pre_b3sp_agree int, br_pre_b3su int, br_pre_b3su_agree int, br_pre_b3ti int, br_pre_b3ti_agree int, br_pre_b4ac int, br_pre_b4ac_agree int, br_pre_b4cu int, br_pre_b4cu_agree int, br_pre_b4oc int, br_pre_b4oc_agree int, br_pre_b4re int, br_pre_b4re_agree int, br_pre_b4sp int, br_pre_b4sp_agree int, br_pre_b4su int, br_pre_b4su_agree int, br_pre_b4ti int, br_pre_b4ti_agree int, br_pre_b5ac int, br_pre_b5ac_agree int, br_pre_b5cu int, br_pre_b5cu_agree int, br_pre_b5oc int, br_pre_b5oc_agree int, br_pre_b5re int, br_pre_b5re_agree int, br_pre_b5sp int, br_pre_b5sp_agree int, br_pre_b5su int, br_pre_b5su_agree int, br_pre_b5ti int, br_pre_b5ti_agree int, br_pre_b6ac int, br_pre_b6ac_agree int, br_pre_b6cu int, br_pre_b6cu_agree int, br_pre_b6oc int, br_pre_b6oc_agree int, br_pre_b6re int, br_pre_b6re_agree int, br_pre_b6sp int, br_pre_b6sp_agree int, br_pre_b6su int, br_pre_b6su_agree int, br_pre_b6ti int, br_pre_b6ti_agree int, br_pre_cid int, br_pre_cid2 int, br_pre_dc int, br_pre_descript int, br_pre_quality int, br_pre_quality_agree int, br_pre_rationale int, br_pre_rubric_affect int, br_pre_rubric_dial int, br_pre_rubric_engage int, br_pre_rubric_norms int, br_pre_rubric_spec int, br_pre_rubric_suc int, br_pre_tot_ac int, br_pre_tot_ac_agree int, br_pre_tot_cu int, br_pre_tot_cu_agree int, br_pre_tot_nb int, br_pre_tot_nb_agree int, br_pre_tot_oc int, br_pre_tot_oc_agree int, br_pre_tot_se int, br_pre_tot_se_agree int, br_pre_tot_sp int, br_pre_tot_sp_agree int, br_pre_tot_su int, br_pre_tot_su_agree int, br_pre_tot_ti int, br_pre_tot_ti_agree int, br_pre_vid int, fb_base_cid int, fb_base_cid2 int, fb_base_dc int, fb_base_f_desc int, fb_base_f_desc_agree int, fb_base_f_ntxt int, fb_base_f_ntxt_agree int, fb_base_f_perf int, fb_base_f_perf_agree int, fb_base_f_rest int, fb_base_f_rest_agree int, fb_base_f_txt int, fb_base_f_txt_agree int, fb_base_quality int, fb_base_quality_agree int, fb_base_tot_hit int, fb_base_tot_hit_agree int, fb_base_tot_oc int, fb_base_tot_oc_agree int, fb_base_vid int, fb_exit_cid int, fb_exit_cid2 int, fb_exit_dc int, fb_exit_f_desc int, fb_exit_f_desc_agree int, fb_exit_f_ntxt int, fb_exit_f_ntxt_agree int, fb_exit_f_perf int, fb_exit_f_perf_agree int, fb_exit_f_rest int, fb_exit_f_rest_agree int, fb_exit_f_txt int, fb_exit_f_txt_agree int, fb_exit_quality int, fb_exit_quality_agree int, fb_exit_tot_hit int, fb_exit_tot_hit_agree int, fb_exit_tot_oc int, fb_exit_tot_oc_agree int, fb_exit_vid int, fb_post_cid int, fb_post_cid2 int, fb_post_dc int, fb_post_f_desc int, fb_post_f_desc_agree int, fb_post_f_ntxt int, fb_post_f_ntxt_agree int, fb_post_f_perf int, fb_post_f_perf_agree int, fb_post_f_rest int, fb_post_f_rest_agree int, fb_post_f_txt int, fb_post_f_txt_agree int, fb_post_quality int, fb_post_quality_agree int, fb_post_tot_hit int, fb_post_tot_hit_agree int, fb_post_tot_oc int, fb_post_tot_oc_agree int, fb_post_vid int, fb_pre_cid int, fb_pre_cid2 int, fb_pre_dc int, fb_pre_f_desc int, fb_pre_f_desc_agree int, fb_pre_f_ntxt int, fb_pre_f_ntxt_agree int, fb_pre_f_perf int, fb_pre_f_perf_agree int, fb_pre_f_rest int, fb_pre_f_rest_agree int, fb_pre_f_txt int, fb_pre_f_txt_agree int, fb_pre_quality int, fb_pre_quality_agree int, fb_pre_tot_hit int, fb_pre_tot_hit_agree int, fb_pre_tot_oc int, fb_pre_tot_oc_agree int, fb_pre_vid int );'"
      ]
     },
     "execution_count": 71,
     "metadata": {},
     "output_type": "execute_result"
    }
   ],
   "source": [
    "bigquery2"
   ]
  },
  {
   "cell_type": "markdown",
   "metadata": {},
   "source": [
    "## Query for Just Identifiers"
   ]
  },
  {
   "cell_type": "code",
   "execution_count": 30,
   "metadata": {},
   "outputs": [],
   "source": [
    "ids = list(identifiers['Variable'])"
   ]
  },
  {
   "cell_type": "code",
   "execution_count": 31,
   "metadata": {},
   "outputs": [],
   "source": [
    "idquery = \"\"\n",
    "for col in ids:\n",
    "    if col in identifiers_char:\n",
    "        idquery = idquery + col + \" varchar(100), \"\n",
    "    else:\n",
    "        idquery = idquery + col + \" int, \""
   ]
  },
  {
   "cell_type": "code",
   "execution_count": 32,
   "metadata": {},
   "outputs": [],
   "source": [
    "idquery = \"CREATE TABLE Identifiers ( \" + idquery[:-2] + \" );\""
   ]
  },
  {
   "cell_type": "code",
   "execution_count": 33,
   "metadata": {},
   "outputs": [
    {
     "data": {
      "text/plain": [
       "'CREATE TABLE Identifiers ( br_treat_cond int, br_treat_cond_mr int, br_treat_cond_iat int, fb_treat_cond int, f17_treat_cond int, s18_treat_cond int, fb_treat_cond_iat int, id_participant varchar(100), id_section int, id_site varchar(100), id_study int, id_year int );'"
      ]
     },
     "execution_count": 33,
     "metadata": {},
     "output_type": "execute_result"
    }
   ],
   "source": [
    "idquery"
   ]
  },
  {
   "cell_type": "markdown",
   "metadata": {},
   "source": [
    "## Query for Just Participant Measures"
   ]
  },
  {
   "cell_type": "code",
   "execution_count": 34,
   "metadata": {},
   "outputs": [],
   "source": [
    "part = list(participant['Variable'])"
   ]
  },
  {
   "cell_type": "code",
   "execution_count": 35,
   "metadata": {},
   "outputs": [],
   "source": [
    "partquery = \"\"\n",
    "for col in part:\n",
    "    if col in participant_char:\n",
    "        partquery = partquery + col + \" varchar(100), \"\n",
    "    else: \n",
    "        partquery = partquery + col + \" int, \""
   ]
  },
  {
   "cell_type": "code",
   "execution_count": 36,
   "metadata": {},
   "outputs": [],
   "source": [
    "partquery = \"CREATE TABLE Participant_Measures ( \" + partquery[:-2] + \" );\""
   ]
  },
  {
   "cell_type": "code",
   "execution_count": 37,
   "metadata": {
    "scrolled": true
   },
   "outputs": [
    {
     "data": {
      "text/plain": [
       "'CREATE TABLE Participant_Measures ( ccs_cohort varchar(100), ccs_stutype int, ccs_major varchar(100), ccs_majother int, ccs_gpa varchar(100), partch int, moedu int, faedu int, gender int, age int, race int, raceother varchar(100), holang int, holangother varchar(100), hstype int, hstypeother varchar(100), hsloc int, hsses int, hsrace int, hsach int, fustuses int, fusturace int, fustuach int, futeases int, futearace int, futeaach int, program varchar(100), neo_02 int, neo_04 int, neo_05 int, neo_06 int, neo_07 int, neo_10 int, neo_11 int, neo_13 int, neo_17 int, neo_19 int, neo_20 int, neo_21 int, neo_22 int, neo_25 int, neo_26 int, neo_28 int, neo_32 int, neo_34 int, neo_35 int, neo_36 int, neo_37 int, neo_40 int, neo_41 int, neo_43 int, neo_47 int, neo_49 int, neo_50 int, neo_51 int, neo_52 int, neo_53 int, neo_56 int, neo_58 int, neo_60 int, r_neo_01 int, r_neo_03 int, r_neo_08 int, r_neo_09 int, r_neo_12 int, r_neo_14 int, r_neo_15 int, r_neo_16 int, r_neo_18 int, r_neo_23 int, r_neo_24 int, r_neo_27 int, r_neo_29 int, r_neo_30 int, r_neo_31 int, r_neo_33 int, r_neo_38 int, r_neo_39 int, r_neo_42 int, r_neo_44 int, r_neo_45 int, r_neo_46 int, r_neo_48 int, r_neo_54 int, r_neo_55 int, r_neo_57 int, r_neo_59 int, neo_n int, neo_e int, neo_o int, neo_a int, neo_c int, tse_03 int, tse_04 int, tse_15 int, tse_09 int, tse_11 int, tse_13 int, tse_06 int, tse_16 int, tse_18 int, tse_20 int, tse_22 int, tse_23 int, tse_01 int, tse_02 int, tse_05 int, tse_07 int, tse_08 int, tse_10 int, tse_12 int, tse_14 int, tse_17 int, tse_19 int, tse_21 int, tse_24 int, tse_se int, tse_is int, tse_cm int, tse_total int, das_01 int, das_02 int, das_03 int, das_04 int, das_05 int, das_06 int, das_07 int, das_08 int, das_09 int, das_10 int, das_11 int, das_12 int, das_13 int, das_14 int, das_15 int, das_16 int, das_17 int, das_18 int, das_19 int, das_20 int, das_21 int, das_depression int, das_anxiety int, das_stress int, fit_01 int, fit_04 int, fit_05 int, fit_06 int, fit_07 int, fit_08 int, fit_09 int, fit_10 int, fit_11 int, fit_12 int, fit_13 int, fit_total int, ytrt_01 int, ytrt_02 int, ytrt_03 int, ytrt_04 int, ytrt_05 int, ytrt_total int, tmas_01 int, tmas_02 int, tmas_04 int, tmas_07 int, tmas_10 int, tmas_11 int, tmas_13 int, tmas_14 int, tmas_17 int, tmas_18 int, r_tmas_03 int, r_tmas_06 int, r_tmas_12 int, r_tmas_15 int, r_tmas_16 int, r_tmas_19 int, r_tmas_20 int, tmas_total int, imts_01 int, imts_02 int, imts_03 int, imts_04 int, imts_05 int, imts_total int, rsq_03 int, rsq_10 int, rsq_27 int, rsq_30 int, r_rsq_01 int, r_rsq_05 int, r_rsq_07 int, r_rsq_11 int, r_rsq_12 int, r_rsq_13 int, r_rsq_17 int, r_rsq_20 int, r_rsq_21 int, r_rsq_23 int, r_rsq_24 int, r_rsq_28 int, r_rsq_29 int, rsq_total int, grit_01 int, grit_04 int, grit_06 int, grit_09 int, grit_10 int, grit_12 int, r_grit_02 int, r_grit_03 int, r_grit_05 int, r_grit_07 int, r_grit_08 int, r_grit_11 int, grit_total int, crtse_05 int, crtse_06 int, crtse_07 int, crtse_08 int, crtse_09 int, crtse_10 int, crtse_12 int, crtse_13 int, crtse_14 int, crtse_15 int, crtse_16 int, crtse_17 int, crtse_18 int, crtse_19 int, crtse_20 int, crtse_22 int, crtse_23 int, crtse_24 int, crtse_25 int, crtse_27 int, crtse_28 int, crtse_30 int, crtse_31 int, crtse_33 int, crtse_35 int, crtse_36 int, crtse_41 int, crtse_total int );'"
      ]
     },
     "execution_count": 37,
     "metadata": {},
     "output_type": "execute_result"
    }
   ],
   "source": [
    "partquery"
   ]
  },
  {
   "cell_type": "markdown",
   "metadata": {},
   "source": [
    "## Query for Just Survey Measures"
   ]
  },
  {
   "cell_type": "code",
   "execution_count": 38,
   "metadata": {},
   "outputs": [],
   "source": [
    "surv = list(survey['Variable'])"
   ]
  },
  {
   "cell_type": "code",
   "execution_count": 39,
   "metadata": {},
   "outputs": [],
   "source": [
    "survquery = \"\"\n",
    "for col in surv:\n",
    "    if col in survey_char:\n",
    "        survquery = survquery + col + \" varchar(100), \"\n",
    "    else: \n",
    "        survquery = survquery + col + \" int, \""
   ]
  },
  {
   "cell_type": "code",
   "execution_count": 40,
   "metadata": {},
   "outputs": [],
   "source": [
    "survquery = \"CREATE TABLE Survey_Measures ( \" + survquery[:-2] + \" );\""
   ]
  },
  {
   "cell_type": "code",
   "execution_count": 41,
   "metadata": {},
   "outputs": [
    {
     "data": {
      "text/plain": [
       "'CREATE TABLE Survey_Measures ( base_app_dev_adjust int, base_app_dev_challenge int, base_app_dev_coach int, base_app_dev_counselor int, base_app_dev_discuss int, base_app_dev_parconf int, base_app_dev_plan int, base_app_dev_referral int, base_app_dev_request int, base_app_dev_space int, base_app_dev_sped int, base_app_dev_spend_time int, base_app_dev_studconf int, base_app_eth_adjust int, base_app_eth_challenge int, base_app_eth_coach int, base_app_eth_counselor int, base_app_eth_discuss int, base_app_eth_parconf int, base_app_eth_plan int, base_app_eth_referral int, base_app_eth_request int, base_app_eth_space int, base_app_eth_sped int, base_app_eth_spend_time int, base_app_eth_studconf int, base_beh_dev_attention int, base_beh_dev_behavior varchar(100), base_beh_dev_contribute varchar(100), base_beh_dev_defiant int, base_beh_dev_demand int, base_beh_dev_distracted int, base_beh_dev_disturb int, base_beh_dev_excitable int, base_beh_dev_fidget int, base_beh_dev_hum int, base_beh_dev_mood int, base_beh_dev_quarrel int, base_beh_dev_rating int, base_beh_dev_rating_impulsive int, base_beh_dev_rating_opdefiant int, base_beh_dev_restless int, base_beh_dev_smart int, base_beh_dev_temper int, base_beh_dev_uncoop int, base_beh_eth_attention int, base_beh_eth_behavior varchar(100), base_beh_eth_contribute varchar(100), base_beh_eth_defiant int, base_beh_eth_demand int, base_beh_eth_distracted int, base_beh_eth_disturb int, base_beh_eth_excitable int, base_beh_eth_fidget int, base_beh_eth_hum int, base_beh_eth_mood int, base_beh_eth_quarrel int, base_beh_eth_rating int, base_beh_eth_rating_impulsive int, base_beh_eth_rating_opdefiant int, base_beh_eth_restless int, base_beh_eth_smart int, base_beh_eth_temper int, base_beh_eth_uncoop int, base_enddate varchar(100), base_manage_app_dev_negative int, base_manage_app_dev_positive int, base_manage_app_dev_punitive int, base_manage_app_eth_negative int, base_manage_app_eth_positive int, base_manage_app_eth_punitive int, base_sim_beneficial int, base_sim_cmsk int, base_sim_conf int, base_sim_conf_authentic int, base_sim_conf_different varchar(100), base_sim_conf_rapport int, base_sim_enough_time int, base_sim_fbsk int, base_sim_fbsk_prepare varchar(100), base_sim_fbsk_support varchar(100), base_sim_like_use_again int, base_sim_nervous int, base_sim_recommend int, base_sim_relevant_prof int, base_sim_relevant_studies int, base_sim_sufficient_prep int, base_sim_txt_beneficial varchar(100), base_sim_txt_cmsk varchar(100), base_sim_txt_concerns varchar(100), base_sim_txt_conf varchar(100), base_sim_txt_conf_authentic varchar(100), base_sim_txt_conf_rapport varchar(100), base_sim_txt_fbsk varchar(100), base_sim_txt_improve_exp varchar(100), base_sim_txt_supports varchar(100), base_sim_useful_tool int, base_sim_worried_perform int, base_startdate varchar(100), big5_ag_1 int, big5_ag_1_r int, big5_ag_10 int, big5_ag_2 int, big5_ag_3 int, big5_ag_3_r int, big5_ag_4 int, big5_ag_5 int, big5_ag_5_r int, big5_ag_6 int, big5_ag_7 int, big5_ag_7_r int, big5_ag_8 int, big5_ag_9 int, big5_ag_total int, big5_con_1 int, big5_con_10 int, big5_con_2 int, big5_con_2_r int, big5_con_3 int, big5_con_4 int, big5_con_4_r int, big5_con_5 int, big5_con_6 int, big5_con_6_r int, big5_con_7 int, big5_con_8 int, big5_con_8_r int, big5_con_9 int, big5_con_total int, big5_emo_1 int, big5_emo_1_r int, big5_emo_10 int, big5_emo_10_r int, big5_emo_2 int, big5_emo_3 int, big5_emo_3_r int, big5_emo_4 int, big5_emo_5 int, big5_emo_5_r int, big5_emo_6 int, big5_emo_6_r int, big5_emo_7 int, big5_emo_7_r int, big5_emo_8 int, big5_emo_8_r int, big5_emo_9 int, big5_emo_9_r int, big5_emo_total int, big5_enddate varchar(100), big5_ext_1 int, big5_ext_10 int, big5_ext_10_r int, big5_ext_2 int, big5_ext_2_r int, big5_ext_3 int, big5_ext_4 int, big5_ext_4_r int, big5_ext_5 int, big5_ext_6 int, big5_ext_6_r int, big5_ext_7 int, big5_ext_8 int, big5_ext_8_r int, big5_ext_9 int, big5_ext_total int, big5_intell_1 int, big5_intell_10 int, big5_intell_2 int, big5_intell_2_r int, big5_intell_3 int, big5_intell_4 int, big5_intell_4_r int, big5_intell_5 int, big5_intell_6 int, big5_intell_6_r int, big5_intell_7 int, big5_intell_8 int, big5_intell_9 int, big5_intell_total int, br_post_app_dev_adjust int, br_post_app_dev_challenge int, br_post_app_dev_coach int, br_post_app_dev_counselor int, br_post_app_dev_discuss int, br_post_app_dev_parconf int, br_post_app_dev_plan int, br_post_app_dev_referral int, br_post_app_dev_request int, br_post_app_dev_space int, br_post_app_dev_sped int, br_post_app_dev_spend_time int, br_post_app_dev_studconf int, br_post_app_eth_adjust int, br_post_app_eth_challenge int, br_post_app_eth_coach int, br_post_app_eth_counselor int, br_post_app_eth_discuss int, br_post_app_eth_parconf int, br_post_app_eth_plan int, br_post_app_eth_referral int, br_post_app_eth_request int, br_post_app_eth_space int, br_post_app_eth_sped int, br_post_app_eth_spend_time int, br_post_app_eth_studconf int, br_post_beh_desire_other_text varchar(100), br_post_beh_dev_attention int, br_post_beh_dev_behavior varchar(100), br_post_beh_dev_contribute varchar(100), br_post_beh_dev_defiant int, br_post_beh_dev_demand int, br_post_beh_dev_distracted int, br_post_beh_dev_disturb int, br_post_beh_dev_excitable int, br_post_beh_dev_fidget int, br_post_beh_dev_hum int, br_post_beh_dev_mood int, br_post_beh_dev_quarrel int, br_post_beh_dev_rating int, br_post_beh_dev_rating_impulsive int, br_post_beh_dev_rating_opdefiant int, br_post_beh_dev_restless int, br_post_beh_dev_smart int, br_post_beh_dev_temper int, br_post_beh_dev_uncoop int, br_post_beh_eth_attention int, br_post_beh_eth_behavior varchar(100), br_post_beh_eth_contribute varchar(100), br_post_beh_eth_defiant int, br_post_beh_eth_demand int, br_post_beh_eth_distracted int, br_post_beh_eth_disturb int, br_post_beh_eth_excitable int, br_post_beh_eth_fidget int, br_post_beh_eth_hum int, br_post_beh_eth_mood int, br_post_beh_eth_quarrel int, br_post_beh_eth_rating int, br_post_beh_eth_rating_impulsive int, br_post_beh_eth_rating_opdefiant int, br_post_beh_eth_restless int, br_post_beh_eth_smart int, br_post_beh_eth_temper int, br_post_beh_eth_uncoop int, br_post_beh_follow_quest int, br_post_beh_positive_tone int, br_post_beh_praise_app int, br_post_beh_praise_contr int, br_post_beh_redirect_inapp int, br_post_beh_redirect_quick int, br_post_beh_specific_lang int, br_post_beh_talk_min int, br_post_enddate varchar(100), br_post_manage_app_dev_negative int, br_post_manage_app_dev_positive int, br_post_manage_app_dev_punitive int, br_post_manage_app_eth_negative int, br_post_manage_app_eth_positive int, br_post_manage_app_eth_punitive int, br_post_me_post_coach int, br_post_me_pre_coach int, br_post_sim_beneficial int, br_post_sim_cmsk int, br_post_sim_enough_time int, br_post_sim_first_cmsk int, br_post_sim_like_use_again int, br_post_sim_nervous int, br_post_sim_recommend int, br_post_sim_relevant_prof int, br_post_sim_relevant_studies int, br_post_sim_sec_cmsk int, br_post_sim_sufficient_prep int, br_post_sim_txt_beneficial varchar(100), br_post_sim_txt_cmsk varchar(100), br_post_sim_txt_concerns varchar(100), br_post_sim_txt_improve_exp varchar(100), br_post_sim_txt_supports varchar(100), br_post_sim_useful_tool int, br_post_sim_worried_perform int, br_post_startdate varchar(100), br_post_tse_01 int, br_post_tse_02 int, br_post_tse_03 int, br_post_tse_04 int, br_post_tse_05 int, br_post_tse_06 int, br_post_tse_07 int, br_post_tse_08 int, br_post_tse_09 int, br_post_tse_10 int, br_post_tse_11 int, br_post_tse_12 int, br_post_tse_13 int, br_post_tse_14 int, br_post_tse_15 int, br_post_tse_16 int, br_post_tse_17 int, br_post_tse_18 int, br_post_tse_19 int, br_post_tse_20 int, br_post_tse_21 int, br_post_tse_22 int, br_post_tse_23 int, br_post_tse_24 int, br_post_tse_cm int, br_post_tse_is int, br_post_tse_overall int, br_post_tse_se int, br_pre_enddate varchar(100), br_pre_misbehavior_anticipate varchar(100), br_pre_stai_calm int, br_pre_stai_calm_rc int, br_pre_stai_content int, br_pre_stai_content_rc int, br_pre_stai_relaxed int, br_pre_stai_relaxed_rc int, br_pre_stai_tense int, br_pre_stai_total int, br_pre_stai_upset int, br_pre_stai_worried int, br_pre_startdate varchar(100), br_pre_tse_03 int, br_pre_tse_05 int, br_pre_tse_08 int, br_pre_tse_13 int, br_pre_tse_15 int, br_pre_tse_16 int, br_pre_tse_19 int, br_pre_tse_21 int, br_pre_tse_cm int, exit_app_eth_adjust int, exit_app_eth_challenge int, exit_app_eth_coach int, exit_app_eth_counselor int, exit_app_eth_discuss int, exit_app_eth_parconf int, exit_app_eth_plan int, exit_app_eth_referral int, exit_app_eth_request int, exit_app_eth_space int, exit_app_eth_sped int, exit_app_eth_spend_time int, exit_app_eth_studconf int, exit_beh_eth_attention int, exit_beh_eth_behavior varchar(100), exit_beh_eth_contribute varchar(100), exit_beh_eth_defiant int, exit_beh_eth_demand int, exit_beh_eth_distracted int, exit_beh_eth_disturb int, exit_beh_eth_excitable int, exit_beh_eth_fidget int, exit_beh_eth_hum int, exit_beh_eth_mood int, exit_beh_eth_quarrel int, exit_beh_eth_rating int, exit_beh_eth_rating_impulsive int, exit_beh_eth_rating_opdefiant int, exit_beh_eth_restless int, exit_beh_eth_smart int, exit_beh_eth_temper int, exit_beh_eth_uncoop int, exit_enddate varchar(100), exit_manage_app_eth_negative int, exit_manage_app_eth_positive int, exit_manage_app_eth_punitive int, exit_sim_beneficial int, exit_sim_cmsk int, exit_sim_enough_time int, exit_sim_fbsk int, exit_sim_like_use_again int, exit_sim_nervous int, exit_sim_recommend int, exit_sim_relevant_prof int, exit_sim_relevant_studies int, exit_sim_sufficient_prep int, exit_sim_txt_beneficial varchar(100), exit_sim_txt_cmsk varchar(100), exit_sim_txt_concerns varchar(100), exit_sim_txt_fbsk varchar(100), exit_sim_txt_improve_exp varchar(100), exit_sim_txt_supports varchar(100), exit_sim_useful_tool int, exit_sim_worried_perform int, exit_startdate varchar(100), fb_post_coach_beneficial int, fb_post_coach_clear int, fb_post_coach_expertise int, fb_post_coach_friendly int, fb_post_coach_support int, fb_post_coaching varchar(100), fb_post_enddate varchar(100), fb_post_me_post_coach int, fb_post_me_pre_coach int, fb_post_sim_beneficial int, fb_post_sim_coach_recommend int, fb_post_sim_coach_use_again int, fb_post_sim_enough_time int, fb_post_sim_first_fbsk int, fb_post_sim_first_sort_did varchar(100), fb_post_sim_first_sort_did_oth varchar(100), fb_post_sim_first_sort_didnt varchar(100), fb_post_sim_first_sort_didnt_oth varchar(100), fb_post_sim_first_txt_fbsk varchar(100), fb_post_sim_like_use_again int, fb_post_sim_nervous int, fb_post_sim_prepare_differently varchar(100), fb_post_sim_recommend int, fb_post_sim_relevant_prof int, fb_post_sim_relevant_studies int, fb_post_sim_sec_fbsk int, fb_post_sim_sec_sort_did varchar(100), fb_post_sim_sec_sort_did_oth varchar(100), fb_post_sim_sec_sort_didnt varchar(100), fb_post_sim_sec_sort_didnt_oth varchar(100), fb_post_sim_sec_txt_fbsk varchar(100), fb_post_sim_sr_recommend int, fb_post_sim_sr_use_again int, fb_post_sim_sufficient_prep int, fb_post_sim_support varchar(100), fb_post_sim_teach_change int, fb_post_sim_teach_change_rate varchar(100), fb_post_sim_txt_beneficial varchar(100), fb_post_sim_txt_concerns varchar(100), fb_post_sim_txt_improve_exp varchar(100), fb_post_sim_used_before varchar(100), fb_post_sim_useful_tool int, fb_post_sim_worried_perform int, fb_post_sr_clear int, fb_post_sr_knowledge_skills int, fb_post_sr_practice_change int, fb_post_sr_sufficient_reflect int, fb_post_sr_support int, fb_post_srcoach_beneficial int, fb_post_srcoach_text_support varchar(100), fb_post_startdate varchar(100), fb_post_tse_01 int, fb_post_tse_02 int, fb_post_tse_03 int, fb_post_tse_04 int, fb_post_tse_05 int, fb_post_tse_06 int, fb_post_tse_07 int, fb_post_tse_08 int, fb_post_tse_09 int, fb_post_tse_10 int, fb_post_tse_11 int, fb_post_tse_12 int, fb_post_tse_13 int, fb_post_tse_14 int, fb_post_tse_15 int, fb_post_tse_16 int, fb_post_tse_17 int, fb_post_tse_18 int, fb_post_tse_19 int, fb_post_tse_20 int, fb_post_tse_21 int, fb_post_tse_22 int, fb_post_tse_23 int, fb_post_tse_24 int, fb_pre_enddate varchar(100), fb_pre_sim_beneficial int, fb_pre_sim_excited int, fb_pre_sim_nervous int, fb_pre_sim_relevant_prof int, fb_pre_sim_relevant_studies int, fb_pre_sim_txt_concerns varchar(100), fb_pre_sim_txt_fbk_purpose varchar(100), fb_pre_sim_txt_fbk_steps varchar(100), fb_pre_sim_txt_goals varchar(100), fb_pre_sim_txt_inference varchar(100), fb_pre_sim_txt_look_forward varchar(100), fb_pre_sim_txt_questions varchar(100), fb_pre_sim_txt_study_diverge1 varchar(100), fb_pre_sim_txt_study_diverge2 varchar(100), fb_pre_sim_txt_study_diverge3 varchar(100), fb_pre_sim_txt_study_exemplar1 varchar(100), fb_pre_sim_txt_study_exemplar2 varchar(100), fb_pre_sim_txt_study_exemplar3 varchar(100), fb_pre_sim_txt_study_feedback3 varchar(100), fb_pre_sim_txt_study_reader1 varchar(100), fb_pre_sim_txt_study_reader2 varchar(100), fb_pre_sim_txt_study_response1 varchar(100), fb_pre_sim_txt_study_response2 varchar(100), fb_pre_sim_txt_skill_purpose varchar(100), fb_pre_sim_txt_support_inf varchar(100), fb_pre_sim_used_before varchar(100), fb_pre_sim_useful_tool int, fb_pre_sim_worried_perform int, fb_pre_startdate varchar(100), haber_approach_to_students int, haber_at_risk_students int, haber_explain_stud_suc int, haber_explain_teach_suc int, haber_fallibility int, haber_org_and_plan int, haber_persistence int, haber_survive_in_bureaucracy int, haber_testdate varchar(100), haber_theory_to_practice int, haber_total int, haber_values_students_learning int );'"
      ]
     },
     "execution_count": 41,
     "metadata": {},
     "output_type": "execute_result"
    }
   ],
   "source": [
    "survquery"
   ]
  },
  {
   "cell_type": "markdown",
   "metadata": {},
   "source": [
    "## Query for Just Performance Measures"
   ]
  },
  {
   "cell_type": "code",
   "execution_count": 63,
   "metadata": {},
   "outputs": [],
   "source": [
    "perf = list(performance['Variable'])"
   ]
  },
  {
   "cell_type": "code",
   "execution_count": 65,
   "metadata": {},
   "outputs": [],
   "source": [
    "perfquery = \"\"\n",
    "for col in perf:\n",
    "    if col in performance_char:\n",
    "        perfquery = perfquery + col + \" varchar(100), \"\n",
    "    else: \n",
    "        perfquery = perfquery + col + \" float, \""
   ]
  },
  {
   "cell_type": "code",
   "execution_count": 66,
   "metadata": {},
   "outputs": [],
   "source": [
    "perfquery = \"CREATE TABLE Performance_Measures ( \" + perfquery[:-2] + \" );\""
   ]
  },
  {
   "cell_type": "code",
   "execution_count": 67,
   "metadata": {
    "scrolled": true
   },
   "outputs": [
    {
     "data": {
      "text/plain": [
       "'CREATE TABLE Performance_Measures ( br_base_affect float, br_base_b1ac float, br_base_b1ac_agree float, br_base_b1cu float, br_base_b1cu_agree float, br_base_b1oc float, br_base_b1oc_agree float, br_base_b1re varchar(100), br_base_b1re_agree float, br_base_b1sp float, br_base_b1sp_agree float, br_base_b1su float, br_base_b1su_agree float, br_base_b1ti float, br_base_b1ti_agree float, br_base_b2ac float, br_base_b2ac_agree float, br_base_b2cu float, br_base_b2cu_agree float, br_base_b2oc float, br_base_b2oc_agree float, br_base_b2re varchar(100), br_base_b2re_agree float, br_base_b2sp float, br_base_b2sp_agree float, br_base_b2su float, br_base_b2su_agree float, br_base_b2ti float, br_base_b2ti_agree float, br_base_b3ac float, br_base_b3ac_agree float, br_base_b3cu float, br_base_b3cu_agree float, br_base_b3oc float, br_base_b3oc_agree float, br_base_b3re varchar(100), br_base_b3re_agree float, br_base_b3sp float, br_base_b3sp_agree float, br_base_b3su float, br_base_b3su_agree float, br_base_b3ti float, br_base_b3ti_agree float, br_base_b4ac float, br_base_b4ac_agree float, br_base_b4cu float, br_base_b4cu_agree float, br_base_b4oc float, br_base_b4oc_agree float, br_base_b4re varchar(100), br_base_b4re_agree float, br_base_b4sp float, br_base_b4sp_agree float, br_base_b4su float, br_base_b4su_agree float, br_base_b4ti float, br_base_b4ti_agree float, br_base_b5ac float, br_base_b5ac_agree float, br_base_b5cu float, br_base_b5cu_agree float, br_base_b5oc float, br_base_b5oc_agree float, br_base_b5re varchar(100), br_base_b5re_agree float, br_base_b5sp float, br_base_b5sp_agree float, br_base_b5su float, br_base_b5su_agree float, br_base_b5ti float, br_base_b5ti_agree float, br_base_b6ac float, br_base_b6ac_agree float, br_base_b6cu float, br_base_b6cu_agree float, br_base_b6oc float, br_base_b6oc_agree float, br_base_b6re varchar(100), br_base_b6re_agree float, br_base_b6sp float, br_base_b6sp_agree float, br_base_b6su float, br_base_b6su_agree float, br_base_b6ti float, br_base_b6ti_agree float, br_base_cid varchar(100), br_base_cid2 varchar(100), br_base_dc float, br_base_descript varchar(100), br_base_quality float, br_base_quality_agree float, br_base_rationale float, br_base_rubric_affect float, br_base_rubric_dial float, br_base_rubric_engage float, br_base_rubric_norms float, br_base_rubric_spec float, br_base_rubric_suc float, br_base_tot_ac float, br_base_tot_ac_agree float, br_base_tot_cu float, br_base_tot_cu_agree float, br_base_tot_nb float, br_base_tot_nb_agree float, br_base_tot_oc float, br_base_tot_oc_agree float, br_base_tot_se float, br_base_tot_se_agree float, br_base_tot_sp float, br_base_tot_sp_agree float, br_base_tot_su float, br_base_tot_su_agree float, br_base_tot_ti float, br_base_tot_ti_agree float, br_base_vid float, br_exit_affect float, br_exit_b1ac float, br_exit_b1ac_agree float, br_exit_b1cu float, br_exit_b1cu_agree float, br_exit_b1oc float, br_exit_b1oc_agree float, br_exit_b1re varchar(100), br_exit_b1re_agree float, br_exit_b1sp float, br_exit_b1sp_agree float, br_exit_b1su float, br_exit_b1su_agree float, br_exit_b1ti float, br_exit_b1ti_agree float, br_exit_b2ac float, br_exit_b2ac_agree float, br_exit_b2cu float, br_exit_b2cu_agree float, br_exit_b2oc float, br_exit_b2oc_agree float, br_exit_b2re varchar(100), br_exit_b2re_agree float, br_exit_b2sp float, br_exit_b2sp_agree float, br_exit_b2su float, br_exit_b2su_agree float, br_exit_b2ti float, br_exit_b2ti_agree float, br_exit_b3ac float, br_exit_b3ac_agree float, br_exit_b3cu float, br_exit_b3cu_agree float, br_exit_b3oc float, br_exit_b3oc_agree float, br_exit_b3re varchar(100), br_exit_b3re_agree float, br_exit_b3sp float, br_exit_b3sp_agree float, br_exit_b3su float, br_exit_b3su_agree float, br_exit_b3ti float, br_exit_b3ti_agree float, br_exit_b4ac float, br_exit_b4ac_agree float, br_exit_b4cu float, br_exit_b4cu_agree float, br_exit_b4oc float, br_exit_b4oc_agree float, br_exit_b4re varchar(100), br_exit_b4re_agree float, br_exit_b4sp float, br_exit_b4sp_agree float, br_exit_b4su float, br_exit_b4su_agree float, br_exit_b4ti float, br_exit_b4ti_agree float, br_exit_b5ac float, br_exit_b5ac_agree float, br_exit_b5cu float, br_exit_b5cu_agree float, br_exit_b5oc float, br_exit_b5oc_agree float, br_exit_b5re varchar(100), br_exit_b5re_agree float, br_exit_b5sp float, br_exit_b5sp_agree float, br_exit_b5su float, br_exit_b5su_agree float, br_exit_b5ti float, br_exit_b5ti_agree float, br_exit_b6ac float, br_exit_b6ac_agree float, br_exit_b6cu float, br_exit_b6cu_agree float, br_exit_b6oc float, br_exit_b6oc_agree float, br_exit_b6re varchar(100), br_exit_b6re_agree float, br_exit_b6sp float, br_exit_b6sp_agree float, br_exit_b6su float, br_exit_b6su_agree float, br_exit_b6ti float, br_exit_b6ti_agree float, br_exit_cid varchar(100), br_exit_cid2 varchar(100), br_exit_dc float, br_exit_descript varchar(100), br_exit_quality float, br_exit_quality_agree float, br_exit_rationale float, br_exit_tot_ac float, br_exit_tot_ac_agree float, br_exit_tot_cu float, br_exit_tot_cu_agree float, br_exit_tot_nb float, br_exit_tot_nb_agree float, br_exit_tot_oc float, br_exit_tot_oc_agree float, br_exit_tot_se float, br_exit_tot_se_agree float, br_exit_tot_sp float, br_exit_tot_sp_agree float, br_exit_tot_su float, br_exit_tot_su_agree float, br_exit_tot_ti float, br_exit_tot_ti_agree float, br_exit_vid float, br_post_affect float, br_post_b1ac float, br_post_b1ac_agree float, br_post_b1cu float, br_post_b1cu_agree float, br_post_b1oc float, br_post_b1oc_agree float, br_post_b1re varchar(100), br_post_b1re_agree float, br_post_b1sp float, br_post_b1sp_agree float, br_post_b1su float, br_post_b1su_agree float, br_post_b1ti float, br_post_b1ti_agree float, br_post_b2ac float, br_post_b2ac_agree float, br_post_b2cu float, br_post_b2cu_agree float, br_post_b2oc float, br_post_b2oc_agree float, br_post_b2re varchar(100), br_post_b2re_agree float, br_post_b2sp float, br_post_b2sp_agree float, br_post_b2su float, br_post_b2su_agree float, br_post_b2ti float, br_post_b2ti_agree float, br_post_b3ac float, br_post_b3ac_agree float, br_post_b3cu float, br_post_b3cu_agree float, br_post_b3oc float, br_post_b3oc_agree float, br_post_b3re varchar(100), br_post_b3re_agree float, br_post_b3sp float, br_post_b3sp_agree float, br_post_b3su float, br_post_b3su_agree float, br_post_b3ti float, br_post_b3ti_agree float, br_post_b4ac float, br_post_b4ac_agree float, br_post_b4cu float, br_post_b4cu_agree float, br_post_b4oc float, br_post_b4oc_agree float, br_post_b4re varchar(100), br_post_b4re_agree float, br_post_b4sp float, br_post_b4sp_agree float, br_post_b4su float, br_post_b4su_agree float, br_post_b4ti float, br_post_b4ti_agree float, br_post_b5ac float, br_post_b5ac_agree float, br_post_b5cu float, br_post_b5cu_agree float, br_post_b5oc float, br_post_b5oc_agree float, br_post_b5re varchar(100), br_post_b5re_agree float, br_post_b5sp float, br_post_b5sp_agree float, br_post_b5su float, br_post_b5su_agree float, br_post_b5ti float, br_post_b5ti_agree float, br_post_b6ac float, br_post_b6ac_agree float, br_post_b6cu float, br_post_b6cu_agree float, br_post_b6oc float, br_post_b6oc_agree float, br_post_b6re varchar(100), br_post_b6re_agree float, br_post_b6sp float, br_post_b6sp_agree float, br_post_b6su float, br_post_b6su_agree float, br_post_b6ti float, br_post_b6ti_agree float, br_post_cid varchar(100), br_post_cid2 varchar(100), br_post_dc float, br_post_descript varchar(100), br_post_quality float, br_post_quality_agree float, br_post_rationale float, br_post_rubric_affect float, br_post_rubric_dial float, br_post_rubric_engage float, br_post_rubric_norms float, br_post_rubric_spec float, br_post_rubric_suc float, br_post_tot_ac float, br_post_tot_ac_agree float, br_post_tot_cu float, br_post_tot_cu_agree float, br_post_tot_nb float, br_post_tot_nb_agree float, br_post_tot_oc float, br_post_tot_oc_agree float, br_post_tot_se float, br_post_tot_se_agree float, br_post_tot_sp float, br_post_tot_sp_agree float, br_post_tot_su float, br_post_tot_su_agree float, br_post_tot_ti float, br_post_tot_ti_agree float, br_post_vid float, br_pre_affect float, br_pre_b1ac float, br_pre_b1ac_agree float, br_pre_b1cu float, br_pre_b1cu_agree float, br_pre_b1oc float, br_pre_b1oc_agree float, br_pre_b1re varchar(100), br_pre_b1re_agree float, br_pre_b1sp float, br_pre_b1sp_agree float, br_pre_b1su float, br_pre_b1su_agree float, br_pre_b1ti float, br_pre_b1ti_agree float, br_pre_b2ac float, br_pre_b2ac_agree float, br_pre_b2cu float, br_pre_b2cu_agree float, br_pre_b2oc float, br_pre_b2oc_agree float, br_pre_b2re varchar(100), br_pre_b2re_agree float, br_pre_b2sp float, br_pre_b2sp_agree float, br_pre_b2su float, br_pre_b2su_agree float, br_pre_b2ti float, br_pre_b2ti_agree float, br_pre_b3ac float, br_pre_b3ac_agree float, br_pre_b3cu float, br_pre_b3cu_agree float, br_pre_b3oc float, br_pre_b3oc_agree float, br_pre_b3re varchar(100), br_pre_b3re_agree float, br_pre_b3sp float, br_pre_b3sp_agree float, br_pre_b3su float, br_pre_b3su_agree float, br_pre_b3ti float, br_pre_b3ti_agree float, br_pre_b4ac float, br_pre_b4ac_agree float, br_pre_b4cu float, br_pre_b4cu_agree float, br_pre_b4oc float, br_pre_b4oc_agree float, br_pre_b4re varchar(100), br_pre_b4re_agree float, br_pre_b4sp float, br_pre_b4sp_agree float, br_pre_b4su float, br_pre_b4su_agree float, br_pre_b4ti float, br_pre_b4ti_agree float, br_pre_b5ac float, br_pre_b5ac_agree float, br_pre_b5cu float, br_pre_b5cu_agree float, br_pre_b5oc float, br_pre_b5oc_agree float, br_pre_b5re varchar(100), br_pre_b5re_agree float, br_pre_b5sp float, br_pre_b5sp_agree float, br_pre_b5su float, br_pre_b5su_agree float, br_pre_b5ti float, br_pre_b5ti_agree float, br_pre_b6ac float, br_pre_b6ac_agree float, br_pre_b6cu float, br_pre_b6cu_agree float, br_pre_b6oc float, br_pre_b6oc_agree float, br_pre_b6re varchar(100), br_pre_b6re_agree float, br_pre_b6sp float, br_pre_b6sp_agree float, br_pre_b6su float, br_pre_b6su_agree float, br_pre_b6ti float, br_pre_b6ti_agree float, br_pre_cid varchar(100), br_pre_cid2 varchar(100), br_pre_dc float, br_pre_descript varchar(100), br_pre_quality float, br_pre_quality_agree float, br_pre_rationale float, br_pre_rubric_affect float, br_pre_rubric_dial float, br_pre_rubric_engage float, br_pre_rubric_norms float, br_pre_rubric_spec float, br_pre_rubric_suc float, br_pre_tot_ac float, br_pre_tot_ac_agree float, br_pre_tot_cu float, br_pre_tot_cu_agree float, br_pre_tot_nb float, br_pre_tot_nb_agree float, br_pre_tot_oc float, br_pre_tot_oc_agree float, br_pre_tot_se float, br_pre_tot_se_agree float, br_pre_tot_sp float, br_pre_tot_sp_agree float, br_pre_tot_su float, br_pre_tot_su_agree float, br_pre_tot_ti float, br_pre_tot_ti_agree float, br_pre_vid float, fb_base_cid varchar(100), fb_base_cid2 varchar(100), fb_base_dc float, fb_base_f_desc float, fb_base_f_desc_agree float, fb_base_f_ntxt float, fb_base_f_ntxt_agree float, fb_base_f_perf float, fb_base_f_perf_agree float, fb_base_f_rest float, fb_base_f_rest_agree float, fb_base_f_txt float, fb_base_f_txt_agree float, fb_base_quality float, fb_base_quality_agree float, fb_base_tot_hit float, fb_base_tot_hit_agree float, fb_base_tot_oc float, fb_base_tot_oc_agree float, fb_base_vid float, fb_exit_cid varchar(100), fb_exit_cid2 varchar(100), fb_exit_dc float, fb_exit_f_desc float, fb_exit_f_desc_agree float, fb_exit_f_ntxt float, fb_exit_f_ntxt_agree float, fb_exit_f_perf float, fb_exit_f_perf_agree float, fb_exit_f_rest float, fb_exit_f_rest_agree float, fb_exit_f_txt float, fb_exit_f_txt_agree float, fb_exit_quality float, fb_exit_quality_agree float, fb_exit_tot_hit float, fb_exit_tot_hit_agree float, fb_exit_tot_oc float, fb_exit_tot_oc_agree float, fb_exit_vid float, fb_post_cid varchar(100), fb_post_cid2 varchar(100), fb_post_dc float, fb_post_f_desc float, fb_post_f_desc_agree float, fb_post_f_ntxt float, fb_post_f_ntxt_agree float, fb_post_f_perf float, fb_post_f_perf_agree float, fb_post_f_rest float, fb_post_f_rest_agree float, fb_post_f_txt float, fb_post_f_txt_agree float, fb_post_quality float, fb_post_quality_agree float, fb_post_tot_hit float, fb_post_tot_hit_agree float, fb_post_tot_oc float, fb_post_tot_oc_agree float, fb_post_vid float, fb_pre_cid varchar(100), fb_pre_cid2 varchar(100), fb_pre_dc float, fb_pre_f_desc float, fb_pre_f_desc_agree float, fb_pre_f_ntxt float, fb_pre_f_ntxt_agree float, fb_pre_f_perf float, fb_pre_f_perf_agree float, fb_pre_f_rest float, fb_pre_f_rest_agree float, fb_pre_f_txt float, fb_pre_f_txt_agree float, fb_pre_quality float, fb_pre_quality_agree float, fb_pre_tot_hit float, fb_pre_tot_hit_agree float, fb_pre_tot_oc float, fb_pre_tot_oc_agree float, fb_pre_vid float );'"
      ]
     },
     "execution_count": 67,
     "metadata": {},
     "output_type": "execute_result"
    }
   ],
   "source": [
    "perfquery"
   ]
  },
  {
   "cell_type": "markdown",
   "metadata": {},
   "source": [
    "## Query for Survey + Performance"
   ]
  },
  {
   "cell_type": "code",
   "execution_count": 46,
   "metadata": {},
   "outputs": [],
   "source": [
    "spquery = \"\"\n",
    "sp = surv + perf\n",
    "for col in sp:\n",
    "    if (col in performance_char or col in survey_char):\n",
    "        spquery = spquery + col + \" varchar(100), \"\n",
    "    else: \n",
    "        spquery = spquery + col + \" int, \""
   ]
  },
  {
   "cell_type": "code",
   "execution_count": 47,
   "metadata": {},
   "outputs": [],
   "source": [
    "spquery = \"CREATE TABLE Survey_Performance_Measures ( \" + spquery[:-2] + \" );\""
   ]
  },
  {
   "cell_type": "code",
   "execution_count": 48,
   "metadata": {},
   "outputs": [
    {
     "data": {
      "text/plain": [
       "'CREATE TABLE Survey_Performance_Measures ( base_app_dev_adjust int, base_app_dev_challenge int, base_app_dev_coach int, base_app_dev_counselor int, base_app_dev_discuss int, base_app_dev_parconf int, base_app_dev_plan int, base_app_dev_referral int, base_app_dev_request int, base_app_dev_space int, base_app_dev_sped int, base_app_dev_spend_time int, base_app_dev_studconf int, base_app_eth_adjust int, base_app_eth_challenge int, base_app_eth_coach int, base_app_eth_counselor int, base_app_eth_discuss int, base_app_eth_parconf int, base_app_eth_plan int, base_app_eth_referral int, base_app_eth_request int, base_app_eth_space int, base_app_eth_sped int, base_app_eth_spend_time int, base_app_eth_studconf int, base_beh_dev_attention int, base_beh_dev_behavior varchar(100), base_beh_dev_contribute varchar(100), base_beh_dev_defiant int, base_beh_dev_demand int, base_beh_dev_distracted int, base_beh_dev_disturb int, base_beh_dev_excitable int, base_beh_dev_fidget int, base_beh_dev_hum int, base_beh_dev_mood int, base_beh_dev_quarrel int, base_beh_dev_rating int, base_beh_dev_rating_impulsive int, base_beh_dev_rating_opdefiant int, base_beh_dev_restless int, base_beh_dev_smart int, base_beh_dev_temper int, base_beh_dev_uncoop int, base_beh_eth_attention int, base_beh_eth_behavior varchar(100), base_beh_eth_contribute varchar(100), base_beh_eth_defiant int, base_beh_eth_demand int, base_beh_eth_distracted int, base_beh_eth_disturb int, base_beh_eth_excitable int, base_beh_eth_fidget int, base_beh_eth_hum int, base_beh_eth_mood int, base_beh_eth_quarrel int, base_beh_eth_rating int, base_beh_eth_rating_impulsive int, base_beh_eth_rating_opdefiant int, base_beh_eth_restless int, base_beh_eth_smart int, base_beh_eth_temper int, base_beh_eth_uncoop int, base_enddate varchar(100), base_manage_app_dev_negative int, base_manage_app_dev_positive int, base_manage_app_dev_punitive int, base_manage_app_eth_negative int, base_manage_app_eth_positive int, base_manage_app_eth_punitive int, base_sim_beneficial int, base_sim_cmsk int, base_sim_conf int, base_sim_conf_authentic int, base_sim_conf_different varchar(100), base_sim_conf_rapport int, base_sim_enough_time int, base_sim_fbsk int, base_sim_fbsk_prepare varchar(100), base_sim_fbsk_support varchar(100), base_sim_like_use_again int, base_sim_nervous int, base_sim_recommend int, base_sim_relevant_prof int, base_sim_relevant_studies int, base_sim_sufficient_prep int, base_sim_txt_beneficial varchar(100), base_sim_txt_cmsk varchar(100), base_sim_txt_concerns varchar(100), base_sim_txt_conf varchar(100), base_sim_txt_conf_authentic varchar(100), base_sim_txt_conf_rapport varchar(100), base_sim_txt_fbsk varchar(100), base_sim_txt_improve_exp varchar(100), base_sim_txt_supports varchar(100), base_sim_useful_tool int, base_sim_worried_perform int, base_startdate varchar(100), big5_ag_1 int, big5_ag_1_r int, big5_ag_10 int, big5_ag_2 int, big5_ag_3 int, big5_ag_3_r int, big5_ag_4 int, big5_ag_5 int, big5_ag_5_r int, big5_ag_6 int, big5_ag_7 int, big5_ag_7_r int, big5_ag_8 int, big5_ag_9 int, big5_ag_total int, big5_con_1 int, big5_con_10 int, big5_con_2 int, big5_con_2_r int, big5_con_3 int, big5_con_4 int, big5_con_4_r int, big5_con_5 int, big5_con_6 int, big5_con_6_r int, big5_con_7 int, big5_con_8 int, big5_con_8_r int, big5_con_9 int, big5_con_total int, big5_emo_1 int, big5_emo_1_r int, big5_emo_10 int, big5_emo_10_r int, big5_emo_2 int, big5_emo_3 int, big5_emo_3_r int, big5_emo_4 int, big5_emo_5 int, big5_emo_5_r int, big5_emo_6 int, big5_emo_6_r int, big5_emo_7 int, big5_emo_7_r int, big5_emo_8 int, big5_emo_8_r int, big5_emo_9 int, big5_emo_9_r int, big5_emo_total int, big5_enddate varchar(100), big5_ext_1 int, big5_ext_10 int, big5_ext_10_r int, big5_ext_2 int, big5_ext_2_r int, big5_ext_3 int, big5_ext_4 int, big5_ext_4_r int, big5_ext_5 int, big5_ext_6 int, big5_ext_6_r int, big5_ext_7 int, big5_ext_8 int, big5_ext_8_r int, big5_ext_9 int, big5_ext_total int, big5_intell_1 int, big5_intell_10 int, big5_intell_2 int, big5_intell_2_r int, big5_intell_3 int, big5_intell_4 int, big5_intell_4_r int, big5_intell_5 int, big5_intell_6 int, big5_intell_6_r int, big5_intell_7 int, big5_intell_8 int, big5_intell_9 int, big5_intell_total int, br_post_app_dev_adjust int, br_post_app_dev_challenge int, br_post_app_dev_coach int, br_post_app_dev_counselor int, br_post_app_dev_discuss int, br_post_app_dev_parconf int, br_post_app_dev_plan int, br_post_app_dev_referral int, br_post_app_dev_request int, br_post_app_dev_space int, br_post_app_dev_sped int, br_post_app_dev_spend_time int, br_post_app_dev_studconf int, br_post_app_eth_adjust int, br_post_app_eth_challenge int, br_post_app_eth_coach int, br_post_app_eth_counselor int, br_post_app_eth_discuss int, br_post_app_eth_parconf int, br_post_app_eth_plan int, br_post_app_eth_referral int, br_post_app_eth_request int, br_post_app_eth_space int, br_post_app_eth_sped int, br_post_app_eth_spend_time int, br_post_app_eth_studconf int, br_post_beh_desire_other_text varchar(100), br_post_beh_dev_attention int, br_post_beh_dev_behavior varchar(100), br_post_beh_dev_contribute varchar(100), br_post_beh_dev_defiant int, br_post_beh_dev_demand int, br_post_beh_dev_distracted int, br_post_beh_dev_disturb int, br_post_beh_dev_excitable int, br_post_beh_dev_fidget int, br_post_beh_dev_hum int, br_post_beh_dev_mood int, br_post_beh_dev_quarrel int, br_post_beh_dev_rating int, br_post_beh_dev_rating_impulsive int, br_post_beh_dev_rating_opdefiant int, br_post_beh_dev_restless int, br_post_beh_dev_smart int, br_post_beh_dev_temper int, br_post_beh_dev_uncoop int, br_post_beh_eth_attention int, br_post_beh_eth_behavior varchar(100), br_post_beh_eth_contribute varchar(100), br_post_beh_eth_defiant int, br_post_beh_eth_demand int, br_post_beh_eth_distracted int, br_post_beh_eth_disturb int, br_post_beh_eth_excitable int, br_post_beh_eth_fidget int, br_post_beh_eth_hum int, br_post_beh_eth_mood int, br_post_beh_eth_quarrel int, br_post_beh_eth_rating int, br_post_beh_eth_rating_impulsive int, br_post_beh_eth_rating_opdefiant int, br_post_beh_eth_restless int, br_post_beh_eth_smart int, br_post_beh_eth_temper int, br_post_beh_eth_uncoop int, br_post_beh_follow_quest int, br_post_beh_positive_tone int, br_post_beh_praise_app int, br_post_beh_praise_contr int, br_post_beh_redirect_inapp int, br_post_beh_redirect_quick int, br_post_beh_specific_lang int, br_post_beh_talk_min int, br_post_enddate varchar(100), br_post_manage_app_dev_negative int, br_post_manage_app_dev_positive int, br_post_manage_app_dev_punitive int, br_post_manage_app_eth_negative int, br_post_manage_app_eth_positive int, br_post_manage_app_eth_punitive int, br_post_me_post_coach int, br_post_me_pre_coach int, br_post_sim_beneficial int, br_post_sim_cmsk int, br_post_sim_enough_time int, br_post_sim_first_cmsk int, br_post_sim_like_use_again int, br_post_sim_nervous int, br_post_sim_recommend int, br_post_sim_relevant_prof int, br_post_sim_relevant_studies int, br_post_sim_sec_cmsk int, br_post_sim_sufficient_prep int, br_post_sim_txt_beneficial varchar(100), br_post_sim_txt_cmsk varchar(100), br_post_sim_txt_concerns varchar(100), br_post_sim_txt_improve_exp varchar(100), br_post_sim_txt_supports varchar(100), br_post_sim_useful_tool int, br_post_sim_worried_perform int, br_post_startdate varchar(100), br_post_tse_01 int, br_post_tse_02 int, br_post_tse_03 int, br_post_tse_04 int, br_post_tse_05 int, br_post_tse_06 int, br_post_tse_07 int, br_post_tse_08 int, br_post_tse_09 int, br_post_tse_10 int, br_post_tse_11 int, br_post_tse_12 int, br_post_tse_13 int, br_post_tse_14 int, br_post_tse_15 int, br_post_tse_16 int, br_post_tse_17 int, br_post_tse_18 int, br_post_tse_19 int, br_post_tse_20 int, br_post_tse_21 int, br_post_tse_22 int, br_post_tse_23 int, br_post_tse_24 int, br_post_tse_cm int, br_post_tse_is int, br_post_tse_overall int, br_post_tse_se int, br_pre_enddate varchar(100), br_pre_misbehavior_anticipate varchar(100), br_pre_stai_calm int, br_pre_stai_calm_rc int, br_pre_stai_content int, br_pre_stai_content_rc int, br_pre_stai_relaxed int, br_pre_stai_relaxed_rc int, br_pre_stai_tense int, br_pre_stai_total int, br_pre_stai_upset int, br_pre_stai_worried int, br_pre_startdate varchar(100), br_pre_tse_03 int, br_pre_tse_05 int, br_pre_tse_08 int, br_pre_tse_13 int, br_pre_tse_15 int, br_pre_tse_16 int, br_pre_tse_19 int, br_pre_tse_21 int, br_pre_tse_cm int, exit_app_eth_adjust int, exit_app_eth_challenge int, exit_app_eth_coach int, exit_app_eth_counselor int, exit_app_eth_discuss int, exit_app_eth_parconf int, exit_app_eth_plan int, exit_app_eth_referral int, exit_app_eth_request int, exit_app_eth_space int, exit_app_eth_sped int, exit_app_eth_spend_time int, exit_app_eth_studconf int, exit_beh_eth_attention int, exit_beh_eth_behavior varchar(100), exit_beh_eth_contribute varchar(100), exit_beh_eth_defiant int, exit_beh_eth_demand int, exit_beh_eth_distracted int, exit_beh_eth_disturb int, exit_beh_eth_excitable int, exit_beh_eth_fidget int, exit_beh_eth_hum int, exit_beh_eth_mood int, exit_beh_eth_quarrel int, exit_beh_eth_rating int, exit_beh_eth_rating_impulsive int, exit_beh_eth_rating_opdefiant int, exit_beh_eth_restless int, exit_beh_eth_smart int, exit_beh_eth_temper int, exit_beh_eth_uncoop int, exit_enddate varchar(100), exit_manage_app_eth_negative int, exit_manage_app_eth_positive int, exit_manage_app_eth_punitive int, exit_sim_beneficial int, exit_sim_cmsk int, exit_sim_enough_time int, exit_sim_fbsk int, exit_sim_like_use_again int, exit_sim_nervous int, exit_sim_recommend int, exit_sim_relevant_prof int, exit_sim_relevant_studies int, exit_sim_sufficient_prep int, exit_sim_txt_beneficial varchar(100), exit_sim_txt_cmsk varchar(100), exit_sim_txt_concerns varchar(100), exit_sim_txt_fbsk varchar(100), exit_sim_txt_improve_exp varchar(100), exit_sim_txt_supports varchar(100), exit_sim_useful_tool int, exit_sim_worried_perform int, exit_startdate varchar(100), fb_post_coach_beneficial int, fb_post_coach_clear int, fb_post_coach_expertise int, fb_post_coach_friendly int, fb_post_coach_support int, fb_post_coaching varchar(100), fb_post_enddate varchar(100), fb_post_me_post_coach int, fb_post_me_pre_coach int, fb_post_sim_beneficial int, fb_post_sim_coach_recommend int, fb_post_sim_coach_use_again int, fb_post_sim_enough_time int, fb_post_sim_first_fbsk int, fb_post_sim_first_sort_did varchar(100), fb_post_sim_first_sort_did_oth varchar(100), fb_post_sim_first_sort_didnt varchar(100), fb_post_sim_first_sort_didnt_oth varchar(100), fb_post_sim_first_txt_fbsk varchar(100), fb_post_sim_like_use_again int, fb_post_sim_nervous int, fb_post_sim_prepare_differently varchar(100), fb_post_sim_recommend int, fb_post_sim_relevant_prof int, fb_post_sim_relevant_studies int, fb_post_sim_sec_fbsk int, fb_post_sim_sec_sort_did varchar(100), fb_post_sim_sec_sort_did_oth varchar(100), fb_post_sim_sec_sort_didnt varchar(100), fb_post_sim_sec_sort_didnt_oth varchar(100), fb_post_sim_sec_txt_fbsk varchar(100), fb_post_sim_sr_recommend int, fb_post_sim_sr_use_again int, fb_post_sim_sufficient_prep int, fb_post_sim_support varchar(100), fb_post_sim_teach_change int, fb_post_sim_teach_change_rate varchar(100), fb_post_sim_txt_beneficial varchar(100), fb_post_sim_txt_concerns varchar(100), fb_post_sim_txt_improve_exp varchar(100), fb_post_sim_used_before varchar(100), fb_post_sim_useful_tool int, fb_post_sim_worried_perform int, fb_post_sr_clear int, fb_post_sr_knowledge_skills int, fb_post_sr_practice_change int, fb_post_sr_sufficient_reflect int, fb_post_sr_support int, fb_post_srcoach_beneficial int, fb_post_srcoach_text_support varchar(100), fb_post_startdate varchar(100), fb_post_tse_01 int, fb_post_tse_02 int, fb_post_tse_03 int, fb_post_tse_04 int, fb_post_tse_05 int, fb_post_tse_06 int, fb_post_tse_07 int, fb_post_tse_08 int, fb_post_tse_09 int, fb_post_tse_10 int, fb_post_tse_11 int, fb_post_tse_12 int, fb_post_tse_13 int, fb_post_tse_14 int, fb_post_tse_15 int, fb_post_tse_16 int, fb_post_tse_17 int, fb_post_tse_18 int, fb_post_tse_19 int, fb_post_tse_20 int, fb_post_tse_21 int, fb_post_tse_22 int, fb_post_tse_23 int, fb_post_tse_24 int, fb_pre_enddate varchar(100), fb_pre_sim_beneficial int, fb_pre_sim_excited int, fb_pre_sim_nervous int, fb_pre_sim_relevant_prof int, fb_pre_sim_relevant_studies int, fb_pre_sim_txt_concerns varchar(100), fb_pre_sim_txt_fbk_purpose varchar(100), fb_pre_sim_txt_fbk_steps varchar(100), fb_pre_sim_txt_goals varchar(100), fb_pre_sim_txt_inference varchar(100), fb_pre_sim_txt_look_forward varchar(100), fb_pre_sim_txt_questions varchar(100), fb_pre_sim_txt_study_diverge1 varchar(100), fb_pre_sim_txt_study_diverge2 varchar(100), fb_pre_sim_txt_study_diverge3 varchar(100), fb_pre_sim_txt_study_exemplar1 varchar(100), fb_pre_sim_txt_study_exemplar2 varchar(100), fb_pre_sim_txt_study_exemplar3 varchar(100), fb_pre_sim_txt_study_feedback3 varchar(100), fb_pre_sim_txt_study_reader1 varchar(100), fb_pre_sim_txt_study_reader2 varchar(100), fb_pre_sim_txt_study_response1 varchar(100), fb_pre_sim_txt_study_response2 varchar(100), fb_pre_sim_txt_skill_purpose varchar(100), fb_pre_sim_txt_support_inf varchar(100), fb_pre_sim_used_before varchar(100), fb_pre_sim_useful_tool int, fb_pre_sim_worried_perform int, fb_pre_startdate varchar(100), haber_approach_to_students int, haber_at_risk_students int, haber_explain_stud_suc int, haber_explain_teach_suc int, haber_fallibility int, haber_org_and_plan int, haber_persistence int, haber_survive_in_bureaucracy int, haber_testdate varchar(100), haber_theory_to_practice int, haber_total int, haber_values_students_learning int, br_base_affect varchar(100), br_base_b1ac varchar(100), br_base_b1ac_agree varchar(100), br_base_b1cu varchar(100), br_base_b1cu_agree varchar(100), br_base_b1oc varchar(100), br_base_b1oc_agree varchar(100), br_base_b1re varchar(100), br_base_b1re_agree varchar(100), br_base_b1sp varchar(100), br_base_b1sp_agree varchar(100), br_base_b1su varchar(100), br_base_b1su_agree varchar(100), br_base_b1ti varchar(100), br_base_b1ti_agree varchar(100), br_base_b2ac varchar(100), br_base_b2ac_agree varchar(100), br_base_b2cu varchar(100), br_base_b2cu_agree varchar(100), br_base_b2oc varchar(100), br_base_b2oc_agree varchar(100), br_base_b2re varchar(100), br_base_b2re_agree varchar(100), br_base_b2sp varchar(100), br_base_b2sp_agree varchar(100), br_base_b2su varchar(100), br_base_b2su_agree varchar(100), br_base_b2ti varchar(100), br_base_b2ti_agree varchar(100), br_base_b3ac varchar(100), br_base_b3ac_agree varchar(100), br_base_b3cu varchar(100), br_base_b3cu_agree varchar(100), br_base_b3oc varchar(100), br_base_b3oc_agree varchar(100), br_base_b3re varchar(100), br_base_b3re_agree varchar(100), br_base_b3sp varchar(100), br_base_b3sp_agree varchar(100), br_base_b3su varchar(100), br_base_b3su_agree varchar(100), br_base_b3ti varchar(100), br_base_b3ti_agree varchar(100), br_base_b4ac varchar(100), br_base_b4ac_agree varchar(100), br_base_b4cu varchar(100), br_base_b4cu_agree varchar(100), br_base_b4oc varchar(100), br_base_b4oc_agree varchar(100), br_base_b4re varchar(100), br_base_b4re_agree varchar(100), br_base_b4sp varchar(100), br_base_b4sp_agree varchar(100), br_base_b4su varchar(100), br_base_b4su_agree varchar(100), br_base_b4ti varchar(100), br_base_b4ti_agree varchar(100), br_base_b5ac varchar(100), br_base_b5ac_agree varchar(100), br_base_b5cu varchar(100), br_base_b5cu_agree varchar(100), br_base_b5oc varchar(100), br_base_b5oc_agree varchar(100), br_base_b5re varchar(100), br_base_b5re_agree varchar(100), br_base_b5sp varchar(100), br_base_b5sp_agree varchar(100), br_base_b5su varchar(100), br_base_b5su_agree varchar(100), br_base_b5ti varchar(100), br_base_b5ti_agree varchar(100), br_base_b6ac varchar(100), br_base_b6ac_agree varchar(100), br_base_b6cu varchar(100), br_base_b6cu_agree varchar(100), br_base_b6oc varchar(100), br_base_b6oc_agree varchar(100), br_base_b6re varchar(100), br_base_b6re_agree varchar(100), br_base_b6sp varchar(100), br_base_b6sp_agree varchar(100), br_base_b6su varchar(100), br_base_b6su_agree varchar(100), br_base_b6ti varchar(100), br_base_b6ti_agree varchar(100), br_base_cid varchar(100), br_base_cid2 varchar(100), br_base_dc varchar(100), br_base_descript varchar(100), br_base_quality varchar(100), br_base_quality_agree varchar(100), br_base_rationale varchar(100), br_base_rubric_affect int, br_base_rubric_dial int, br_base_rubric_engage int, br_base_rubric_norms int, br_base_rubric_spec int, br_base_rubric_suc int, br_base_tot_ac varchar(100), br_base_tot_ac_agree varchar(100), br_base_tot_cu varchar(100), br_base_tot_cu_agree varchar(100), br_base_tot_nb varchar(100), br_base_tot_nb_agree varchar(100), br_base_tot_oc varchar(100), br_base_tot_oc_agree varchar(100), br_base_tot_se varchar(100), br_base_tot_se_agree varchar(100), br_base_tot_sp varchar(100), br_base_tot_sp_agree varchar(100), br_base_tot_su varchar(100), br_base_tot_su_agree varchar(100), br_base_tot_ti varchar(100), br_base_tot_ti_agree varchar(100), br_base_vid varchar(100), br_exit_affect varchar(100), br_exit_b1ac varchar(100), br_exit_b1ac_agree varchar(100), br_exit_b1cu varchar(100), br_exit_b1cu_agree varchar(100), br_exit_b1oc varchar(100), br_exit_b1oc_agree varchar(100), br_exit_b1re varchar(100), br_exit_b1re_agree varchar(100), br_exit_b1sp varchar(100), br_exit_b1sp_agree varchar(100), br_exit_b1su varchar(100), br_exit_b1su_agree varchar(100), br_exit_b1ti varchar(100), br_exit_b1ti_agree varchar(100), br_exit_b2ac varchar(100), br_exit_b2ac_agree varchar(100), br_exit_b2cu varchar(100), br_exit_b2cu_agree varchar(100), br_exit_b2oc varchar(100), br_exit_b2oc_agree varchar(100), br_exit_b2re varchar(100), br_exit_b2re_agree varchar(100), br_exit_b2sp varchar(100), br_exit_b2sp_agree varchar(100), br_exit_b2su varchar(100), br_exit_b2su_agree varchar(100), br_exit_b2ti varchar(100), br_exit_b2ti_agree varchar(100), br_exit_b3ac varchar(100), br_exit_b3ac_agree varchar(100), br_exit_b3cu varchar(100), br_exit_b3cu_agree varchar(100), br_exit_b3oc varchar(100), br_exit_b3oc_agree varchar(100), br_exit_b3re varchar(100), br_exit_b3re_agree varchar(100), br_exit_b3sp varchar(100), br_exit_b3sp_agree varchar(100), br_exit_b3su varchar(100), br_exit_b3su_agree varchar(100), br_exit_b3ti varchar(100), br_exit_b3ti_agree varchar(100), br_exit_b4ac varchar(100), br_exit_b4ac_agree varchar(100), br_exit_b4cu varchar(100), br_exit_b4cu_agree varchar(100), br_exit_b4oc varchar(100), br_exit_b4oc_agree varchar(100), br_exit_b4re varchar(100), br_exit_b4re_agree varchar(100), br_exit_b4sp varchar(100), br_exit_b4sp_agree varchar(100), br_exit_b4su varchar(100), br_exit_b4su_agree varchar(100), br_exit_b4ti varchar(100), br_exit_b4ti_agree varchar(100), br_exit_b5ac varchar(100), br_exit_b5ac_agree varchar(100), br_exit_b5cu varchar(100), br_exit_b5cu_agree varchar(100), br_exit_b5oc varchar(100), br_exit_b5oc_agree varchar(100), br_exit_b5re varchar(100), br_exit_b5re_agree varchar(100), br_exit_b5sp varchar(100), br_exit_b5sp_agree varchar(100), br_exit_b5su varchar(100), br_exit_b5su_agree varchar(100), br_exit_b5ti varchar(100), br_exit_b5ti_agree varchar(100), br_exit_b6ac varchar(100), br_exit_b6ac_agree varchar(100), br_exit_b6cu varchar(100), br_exit_b6cu_agree varchar(100), br_exit_b6oc varchar(100), br_exit_b6oc_agree varchar(100), br_exit_b6re varchar(100), br_exit_b6re_agree varchar(100), br_exit_b6sp varchar(100), br_exit_b6sp_agree varchar(100), br_exit_b6su varchar(100), br_exit_b6su_agree varchar(100), br_exit_b6ti varchar(100), br_exit_b6ti_agree varchar(100), br_exit_cid varchar(100), br_exit_cid2 varchar(100), br_exit_dc varchar(100), br_exit_descript varchar(100), br_exit_quality varchar(100), br_exit_quality_agree varchar(100), br_exit_rationale varchar(100), br_exit_tot_ac varchar(100), br_exit_tot_ac_agree varchar(100), br_exit_tot_cu varchar(100), br_exit_tot_cu_agree varchar(100), br_exit_tot_nb varchar(100), br_exit_tot_nb_agree varchar(100), br_exit_tot_oc varchar(100), br_exit_tot_oc_agree varchar(100), br_exit_tot_se varchar(100), br_exit_tot_se_agree varchar(100), br_exit_tot_sp varchar(100), br_exit_tot_sp_agree varchar(100), br_exit_tot_su varchar(100), br_exit_tot_su_agree varchar(100), br_exit_tot_ti varchar(100), br_exit_tot_ti_agree varchar(100), br_exit_vid varchar(100), br_post_affect varchar(100), br_post_b1ac varchar(100), br_post_b1ac_agree varchar(100), br_post_b1cu varchar(100), br_post_b1cu_agree varchar(100), br_post_b1oc varchar(100), br_post_b1oc_agree varchar(100), br_post_b1re varchar(100), br_post_b1re_agree varchar(100), br_post_b1sp varchar(100), br_post_b1sp_agree varchar(100), br_post_b1su varchar(100), br_post_b1su_agree varchar(100), br_post_b1ti varchar(100), br_post_b1ti_agree varchar(100), br_post_b2ac varchar(100), br_post_b2ac_agree varchar(100), br_post_b2cu varchar(100), br_post_b2cu_agree varchar(100), br_post_b2oc varchar(100), br_post_b2oc_agree varchar(100), br_post_b2re varchar(100), br_post_b2re_agree varchar(100), br_post_b2sp varchar(100), br_post_b2sp_agree varchar(100), br_post_b2su varchar(100), br_post_b2su_agree varchar(100), br_post_b2ti varchar(100), br_post_b2ti_agree varchar(100), br_post_b3ac varchar(100), br_post_b3ac_agree varchar(100), br_post_b3cu varchar(100), br_post_b3cu_agree varchar(100), br_post_b3oc varchar(100), br_post_b3oc_agree varchar(100), br_post_b3re varchar(100), br_post_b3re_agree varchar(100), br_post_b3sp varchar(100), br_post_b3sp_agree varchar(100), br_post_b3su varchar(100), br_post_b3su_agree varchar(100), br_post_b3ti varchar(100), br_post_b3ti_agree varchar(100), br_post_b4ac varchar(100), br_post_b4ac_agree varchar(100), br_post_b4cu varchar(100), br_post_b4cu_agree varchar(100), br_post_b4oc varchar(100), br_post_b4oc_agree varchar(100), br_post_b4re varchar(100), br_post_b4re_agree varchar(100), br_post_b4sp varchar(100), br_post_b4sp_agree varchar(100), br_post_b4su varchar(100), br_post_b4su_agree varchar(100), br_post_b4ti varchar(100), br_post_b4ti_agree varchar(100), br_post_b5ac varchar(100), br_post_b5ac_agree varchar(100), br_post_b5cu varchar(100), br_post_b5cu_agree varchar(100), br_post_b5oc varchar(100), br_post_b5oc_agree varchar(100), br_post_b5re varchar(100), br_post_b5re_agree varchar(100), br_post_b5sp varchar(100), br_post_b5sp_agree varchar(100), br_post_b5su varchar(100), br_post_b5su_agree varchar(100), br_post_b5ti varchar(100), br_post_b5ti_agree varchar(100), br_post_b6ac varchar(100), br_post_b6ac_agree varchar(100), br_post_b6cu varchar(100), br_post_b6cu_agree varchar(100), br_post_b6oc varchar(100), br_post_b6oc_agree varchar(100), br_post_b6re varchar(100), br_post_b6re_agree varchar(100), br_post_b6sp varchar(100), br_post_b6sp_agree varchar(100), br_post_b6su varchar(100), br_post_b6su_agree varchar(100), br_post_b6ti varchar(100), br_post_b6ti_agree varchar(100), br_post_cid varchar(100), br_post_cid2 varchar(100), br_post_dc varchar(100), br_post_descript varchar(100), br_post_quality varchar(100), br_post_quality_agree varchar(100), br_post_rationale varchar(100), br_post_rubric_affect int, br_post_rubric_dial int, br_post_rubric_engage int, br_post_rubric_norms int, br_post_rubric_spec int, br_post_rubric_suc int, br_post_tot_ac varchar(100), br_post_tot_ac_agree varchar(100), br_post_tot_cu varchar(100), br_post_tot_cu_agree varchar(100), br_post_tot_nb varchar(100), br_post_tot_nb_agree varchar(100), br_post_tot_oc varchar(100), br_post_tot_oc_agree varchar(100), br_post_tot_se varchar(100), br_post_tot_se_agree varchar(100), br_post_tot_sp varchar(100), br_post_tot_sp_agree varchar(100), br_post_tot_su varchar(100), br_post_tot_su_agree varchar(100), br_post_tot_ti varchar(100), br_post_tot_ti_agree varchar(100), br_post_vid varchar(100), br_pre_affect varchar(100), br_pre_b1ac varchar(100), br_pre_b1ac_agree varchar(100), br_pre_b1cu varchar(100), br_pre_b1cu_agree varchar(100), br_pre_b1oc varchar(100), br_pre_b1oc_agree varchar(100), br_pre_b1re varchar(100), br_pre_b1re_agree varchar(100), br_pre_b1sp varchar(100), br_pre_b1sp_agree varchar(100), br_pre_b1su varchar(100), br_pre_b1su_agree varchar(100), br_pre_b1ti varchar(100), br_pre_b1ti_agree varchar(100), br_pre_b2ac varchar(100), br_pre_b2ac_agree varchar(100), br_pre_b2cu varchar(100), br_pre_b2cu_agree varchar(100), br_pre_b2oc varchar(100), br_pre_b2oc_agree varchar(100), br_pre_b2re varchar(100), br_pre_b2re_agree varchar(100), br_pre_b2sp varchar(100), br_pre_b2sp_agree varchar(100), br_pre_b2su varchar(100), br_pre_b2su_agree varchar(100), br_pre_b2ti varchar(100), br_pre_b2ti_agree varchar(100), br_pre_b3ac varchar(100), br_pre_b3ac_agree varchar(100), br_pre_b3cu varchar(100), br_pre_b3cu_agree varchar(100), br_pre_b3oc varchar(100), br_pre_b3oc_agree varchar(100), br_pre_b3re varchar(100), br_pre_b3re_agree varchar(100), br_pre_b3sp varchar(100), br_pre_b3sp_agree varchar(100), br_pre_b3su varchar(100), br_pre_b3su_agree varchar(100), br_pre_b3ti varchar(100), br_pre_b3ti_agree varchar(100), br_pre_b4ac varchar(100), br_pre_b4ac_agree varchar(100), br_pre_b4cu varchar(100), br_pre_b4cu_agree varchar(100), br_pre_b4oc varchar(100), br_pre_b4oc_agree varchar(100), br_pre_b4re varchar(100), br_pre_b4re_agree varchar(100), br_pre_b4sp varchar(100), br_pre_b4sp_agree varchar(100), br_pre_b4su varchar(100), br_pre_b4su_agree varchar(100), br_pre_b4ti varchar(100), br_pre_b4ti_agree varchar(100), br_pre_b5ac varchar(100), br_pre_b5ac_agree varchar(100), br_pre_b5cu varchar(100), br_pre_b5cu_agree varchar(100), br_pre_b5oc varchar(100), br_pre_b5oc_agree varchar(100), br_pre_b5re varchar(100), br_pre_b5re_agree varchar(100), br_pre_b5sp varchar(100), br_pre_b5sp_agree varchar(100), br_pre_b5su varchar(100), br_pre_b5su_agree varchar(100), br_pre_b5ti varchar(100), br_pre_b5ti_agree varchar(100), br_pre_b6ac varchar(100), br_pre_b6ac_agree varchar(100), br_pre_b6cu varchar(100), br_pre_b6cu_agree varchar(100), br_pre_b6oc varchar(100), br_pre_b6oc_agree varchar(100), br_pre_b6re varchar(100), br_pre_b6re_agree varchar(100), br_pre_b6sp varchar(100), br_pre_b6sp_agree varchar(100), br_pre_b6su varchar(100), br_pre_b6su_agree varchar(100), br_pre_b6ti varchar(100), br_pre_b6ti_agree varchar(100), br_pre_cid varchar(100), br_pre_cid2 varchar(100), br_pre_dc varchar(100), br_pre_descript varchar(100), br_pre_quality varchar(100), br_pre_quality_agree varchar(100), br_pre_rationale varchar(100), br_pre_rubric_affect int, br_pre_rubric_dial int, br_pre_rubric_engage int, br_pre_rubric_norms int, br_pre_rubric_spec int, br_pre_rubric_suc int, br_pre_tot_ac varchar(100), br_pre_tot_ac_agree varchar(100), br_pre_tot_cu varchar(100), br_pre_tot_cu_agree varchar(100), br_pre_tot_nb varchar(100), br_pre_tot_nb_agree varchar(100), br_pre_tot_oc varchar(100), br_pre_tot_oc_agree varchar(100), br_pre_tot_se varchar(100), br_pre_tot_se_agree varchar(100), br_pre_tot_sp varchar(100), br_pre_tot_sp_agree varchar(100), br_pre_tot_su varchar(100), br_pre_tot_su_agree varchar(100), br_pre_tot_ti varchar(100), br_pre_tot_ti_agree varchar(100), br_pre_vid varchar(100), fb_base_cid varchar(100), fb_base_cid2 varchar(100), fb_base_dc varchar(100), fb_base_f_desc varchar(100), fb_base_f_desc_agree varchar(100), fb_base_f_ntxt varchar(100), fb_base_f_ntxt_agree varchar(100), fb_base_f_perf varchar(100), fb_base_f_perf_agree varchar(100), fb_base_f_rest varchar(100), fb_base_f_rest_agree varchar(100), fb_base_f_txt varchar(100), fb_base_f_txt_agree varchar(100), fb_base_quality varchar(100), fb_base_quality_agree varchar(100), fb_base_tot_hit varchar(100), fb_base_tot_hit_agree varchar(100), fb_base_tot_oc varchar(100), fb_base_tot_oc_agree varchar(100), fb_base_vid varchar(100), fb_exit_cid varchar(100), fb_exit_cid2 varchar(100), fb_exit_dc varchar(100), fb_exit_f_desc varchar(100), fb_exit_f_desc_agree varchar(100), fb_exit_f_ntxt varchar(100), fb_exit_f_ntxt_agree varchar(100), fb_exit_f_perf varchar(100), fb_exit_f_perf_agree varchar(100), fb_exit_f_rest varchar(100), fb_exit_f_rest_agree varchar(100), fb_exit_f_txt varchar(100), fb_exit_f_txt_agree varchar(100), fb_exit_quality varchar(100), fb_exit_quality_agree varchar(100), fb_exit_tot_hit varchar(100), fb_exit_tot_hit_agree varchar(100), fb_exit_tot_oc varchar(100), fb_exit_tot_oc_agree varchar(100), fb_exit_vid varchar(100), fb_post_cid varchar(100), fb_post_cid2 varchar(100), fb_post_dc varchar(100), fb_post_f_desc varchar(100), fb_post_f_desc_agree varchar(100), fb_post_f_ntxt varchar(100), fb_post_f_ntxt_agree varchar(100), fb_post_f_perf varchar(100), fb_post_f_perf_agree varchar(100), fb_post_f_rest varchar(100), fb_post_f_rest_agree varchar(100), fb_post_f_txt varchar(100), fb_post_f_txt_agree varchar(100), fb_post_quality varchar(100), fb_post_quality_agree varchar(100), fb_post_tot_hit varchar(100), fb_post_tot_hit_agree varchar(100), fb_post_tot_oc varchar(100), fb_post_tot_oc_agree varchar(100), fb_post_vid varchar(100), fb_pre_cid varchar(100), fb_pre_cid2 varchar(100), fb_pre_dc varchar(100), fb_pre_f_desc varchar(100), fb_pre_f_desc_agree varchar(100), fb_pre_f_ntxt varchar(100), fb_pre_f_ntxt_agree varchar(100), fb_pre_f_perf varchar(100), fb_pre_f_perf_agree varchar(100), fb_pre_f_rest varchar(100), fb_pre_f_rest_agree varchar(100), fb_pre_f_txt varchar(100), fb_pre_f_txt_agree varchar(100), fb_pre_quality varchar(100), fb_pre_quality_agree varchar(100), fb_pre_tot_hit varchar(100), fb_pre_tot_hit_agree varchar(100), fb_pre_tot_oc varchar(100), fb_pre_tot_oc_agree varchar(100), fb_pre_vid varchar(100) );'"
      ]
     },
     "execution_count": 48,
     "metadata": {},
     "output_type": "execute_result"
    }
   ],
   "source": [
    "spquery"
   ]
  },
  {
   "cell_type": "code",
   "execution_count": null,
   "metadata": {},
   "outputs": [],
   "source": []
  }
 ],
 "metadata": {
  "kernelspec": {
   "display_name": "Python 3",
   "language": "python",
   "name": "python3"
  },
  "language_info": {
   "codemirror_mode": {
    "name": "ipython",
    "version": 3
   },
   "file_extension": ".py",
   "mimetype": "text/x-python",
   "name": "python",
   "nbconvert_exporter": "python",
   "pygments_lexer": "ipython3",
   "version": "3.7.6"
  }
 },
 "nbformat": 4,
 "nbformat_minor": 4
}
