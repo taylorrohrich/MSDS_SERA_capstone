{
 "cells": [
  {
   "cell_type": "markdown",
   "metadata": {},
   "source": [
    "# Participant Tracker"
   ]
  },
  {
   "cell_type": "markdown",
   "metadata": {},
   "source": [
    "This notebook serves as a development area for the code used in the participant tracker."
   ]
  },
  {
   "cell_type": "code",
   "execution_count": 1,
   "metadata": {},
   "outputs": [],
   "source": [
    "import pandas as pd\n",
    "import numpy as np"
   ]
  },
  {
   "cell_type": "markdown",
   "metadata": {},
   "source": [
    "## Connect to Database"
   ]
  },
  {
   "cell_type": "code",
   "execution_count": 2,
   "metadata": {},
   "outputs": [],
   "source": [
    "import mysql.connector"
   ]
  },
  {
   "cell_type": "code",
   "execution_count": 3,
   "metadata": {},
   "outputs": [],
   "source": [
    "endpoint = \"seratestdatabase.c4cjk1vto1om.us-east-2.rds.amazonaws.com\"\n",
    "port = \"3306\"\n",
    "usr = \"admin\"\n",
    "pswd = \"your_password_here\"\n",
    "region = \"us-east-2b\"\n",
    "dbname = \"teachsim\""
   ]
  },
  {
   "cell_type": "code",
   "execution_count": 4,
   "metadata": {},
   "outputs": [],
   "source": [
    "cnx = mysql.connector.connect(user=usr, password=pswd, host=endpoint, database=dbname)"
   ]
  },
  {
   "cell_type": "code",
   "execution_count": 5,
   "metadata": {},
   "outputs": [],
   "source": [
    "cursor = cnx.cursor(buffered=True)"
   ]
  },
  {
   "cell_type": "markdown",
   "metadata": {},
   "source": [
    "## Dictionary of CSV Names"
   ]
  },
  {
   "cell_type": "code",
   "execution_count": 7,
   "metadata": {},
   "outputs": [],
   "source": [
    "names = {\"Participant_Information_Survey\": [\"2018_2019_participant_measures.csv\"],\n",
    "        \"Baseline_Survey\": [\"2018_summer_baseline_postsim_survey.csv\", \"2018_fall_baseline_postsim_survey.csv\"],\n",
    "        \"Classroom_Norms_Post_Sim_Survey\": [\"2019_spring_precoach_br_postsim_survey.csv\"],\n",
    "        \"Exit_Survey\": [\"2019_spring_ exit_postsim_survey.csv\"],\n",
    "        \"Classroom_Norms_Coding_Baseline\": [\"2018_summer_baseline_br_perform.csv\", \"2018_fall_baseline_br_perform.csv\"],\n",
    "        \"Classroom_Norms_Coding_Precoach\": [\"2019_spring_coach_br_perform.csv\"],\n",
    "        \"Classroom_Norms_Coding_Postcoach\": [\"2019_spring_coach_br_perform.csv\"],\n",
    "        \"Classroom_Norms_Coding_Exit\": [\"2019_spring_exit_br_perform.csv\"]}"
   ]
  },
  {
   "cell_type": "code",
   "execution_count": 15,
   "metadata": {},
   "outputs": [
    {
     "data": {
      "text/plain": [
       "['2018_2019_participant_measures.csv',\n",
       " '2018_summer_baseline_postsim_survey.csv',\n",
       " '2018_fall_baseline_postsim_survey.csv',\n",
       " '2019_spring_precoach_br_postsim_survey.csv',\n",
       " '2019_spring_ exit_postsim_survey.csv',\n",
       " '2018_summer_baseline_br_perform.csv',\n",
       " '2018_fall_baseline_br_perform.csv',\n",
       " '2019_spring_coach_br_perform.csv',\n",
       " '2019_spring_coach_br_perform.csv ',\n",
       " '2019_spring_exit_br_perform.csv']"
      ]
     },
     "execution_count": 15,
     "metadata": {},
     "output_type": "execute_result"
    }
   ],
   "source": [
    "all_csvs = []\n",
    "for item in list(names.values()):\n",
    "    all_csvs = all_csvs + item\n",
    "all_csvs"
   ]
  },
  {
   "cell_type": "markdown",
   "metadata": {},
   "source": [
    "## Create Table in Database"
   ]
  },
  {
   "cell_type": "code",
   "execution_count": 39,
   "metadata": {},
   "outputs": [],
   "source": [
    "cursor.execute(\"DROP TABLE Participant_Tracker;\")"
   ]
  },
  {
   "cell_type": "code",
   "execution_count": 40,
   "metadata": {},
   "outputs": [
    {
     "data": {
      "text/plain": [
       "['Participant_ID',\n",
       " 'Participant_Information_Survey',\n",
       " 'Baseline_Survey',\n",
       " 'Classroom_Norms_Post_Sim_Survey',\n",
       " 'Exit_Survey',\n",
       " 'Classroom_Norms_Coding_Baseline',\n",
       " 'Classroom_Norms_Coding_Precoach',\n",
       " 'Classroom_Norms_Coding_Postcoach',\n",
       " 'Classroom_Norms_Coding_Exit']"
      ]
     },
     "execution_count": 40,
     "metadata": {},
     "output_type": "execute_result"
    }
   ],
   "source": [
    "cols = [\"Participant_ID\"] + list(names.keys())\n",
    "cols"
   ]
  },
  {
   "cell_type": "code",
   "execution_count": 44,
   "metadata": {},
   "outputs": [],
   "source": [
    "query = \"CREATE TABLE Participant_Tracker (\"\n",
    "for col in cols:\n",
    "    query = query + col + \" varchar(100), \"\n",
    "query = query + \"PRIMARY KEY (Participant_ID) );\""
   ]
  },
  {
   "cell_type": "code",
   "execution_count": 45,
   "metadata": {},
   "outputs": [
    {
     "data": {
      "text/plain": [
       "'CREATE TABLE Participant_Tracker (Participant_ID varchar(100), Participant_Information_Survey varchar(100), Baseline_Survey varchar(100), Classroom_Norms_Post_Sim_Survey varchar(100), Exit_Survey varchar(100), Classroom_Norms_Coding_Baseline varchar(100), Classroom_Norms_Coding_Precoach varchar(100), Classroom_Norms_Coding_Postcoach varchar(100), Classroom_Norms_Coding_Exit varchar(100), PRIMARY KEY (Participant_ID) );'"
      ]
     },
     "execution_count": 45,
     "metadata": {},
     "output_type": "execute_result"
    }
   ],
   "source": [
    "query"
   ]
  },
  {
   "cell_type": "code",
   "execution_count": 46,
   "metadata": {},
   "outputs": [],
   "source": [
    "cursor.execute(query)"
   ]
  },
  {
   "cell_type": "markdown",
   "metadata": {},
   "source": [
    "## View Table"
   ]
  },
  {
   "cell_type": "code",
   "execution_count": 8,
   "metadata": {},
   "outputs": [],
   "source": [
    "cursor.execute(\"DELETE FROM Participant_Tracker;\")"
   ]
  },
  {
   "cell_type": "code",
   "execution_count": 6,
   "metadata": {},
   "outputs": [
    {
     "data": {
      "text/html": [
       "<div>\n",
       "<style scoped>\n",
       "    .dataframe tbody tr th:only-of-type {\n",
       "        vertical-align: middle;\n",
       "    }\n",
       "\n",
       "    .dataframe tbody tr th {\n",
       "        vertical-align: top;\n",
       "    }\n",
       "\n",
       "    .dataframe thead th {\n",
       "        text-align: right;\n",
       "    }\n",
       "</style>\n",
       "<table border=\"1\" class=\"dataframe\">\n",
       "  <thead>\n",
       "    <tr style=\"text-align: right;\">\n",
       "      <th></th>\n",
       "      <th>Participant_ID</th>\n",
       "      <th>Participant_Information_Survey</th>\n",
       "      <th>Baseline_Survey</th>\n",
       "      <th>Classroom_Norms_Post_Sim_Survey</th>\n",
       "      <th>Exit_Survey</th>\n",
       "      <th>Classroom_Norms_Coding_Baseline</th>\n",
       "      <th>Classroom_Norms_Coding_Precoach</th>\n",
       "      <th>Classroom_Norms_Coding_Postcoach</th>\n",
       "      <th>Classroom_Norms_Coding_Exit</th>\n",
       "    </tr>\n",
       "  </thead>\n",
       "  <tbody>\n",
       "    <tr>\n",
       "      <th>0</th>\n",
       "      <td>1_1819_1_1</td>\n",
       "      <td>Completed</td>\n",
       "      <td>-</td>\n",
       "      <td>-</td>\n",
       "      <td>-</td>\n",
       "      <td>-</td>\n",
       "      <td>-</td>\n",
       "      <td>-</td>\n",
       "      <td>-</td>\n",
       "    </tr>\n",
       "    <tr>\n",
       "      <th>1</th>\n",
       "      <td>1_1819_1_10</td>\n",
       "      <td>Completed</td>\n",
       "      <td>-</td>\n",
       "      <td>-</td>\n",
       "      <td>-</td>\n",
       "      <td>-</td>\n",
       "      <td>-</td>\n",
       "      <td>-</td>\n",
       "      <td>-</td>\n",
       "    </tr>\n",
       "    <tr>\n",
       "      <th>2</th>\n",
       "      <td>1_1819_1_13</td>\n",
       "      <td>Completed</td>\n",
       "      <td>-</td>\n",
       "      <td>-</td>\n",
       "      <td>-</td>\n",
       "      <td>-</td>\n",
       "      <td>-</td>\n",
       "      <td>-</td>\n",
       "      <td>-</td>\n",
       "    </tr>\n",
       "    <tr>\n",
       "      <th>3</th>\n",
       "      <td>1_1819_1_14</td>\n",
       "      <td>Completed</td>\n",
       "      <td>-</td>\n",
       "      <td>-</td>\n",
       "      <td>-</td>\n",
       "      <td>-</td>\n",
       "      <td>-</td>\n",
       "      <td>-</td>\n",
       "      <td>-</td>\n",
       "    </tr>\n",
       "    <tr>\n",
       "      <th>4</th>\n",
       "      <td>1_1819_1_16</td>\n",
       "      <td>Completed</td>\n",
       "      <td>-</td>\n",
       "      <td>-</td>\n",
       "      <td>-</td>\n",
       "      <td>-</td>\n",
       "      <td>-</td>\n",
       "      <td>-</td>\n",
       "      <td>-</td>\n",
       "    </tr>\n",
       "    <tr>\n",
       "      <th>...</th>\n",
       "      <td>...</td>\n",
       "      <td>...</td>\n",
       "      <td>...</td>\n",
       "      <td>...</td>\n",
       "      <td>...</td>\n",
       "      <td>...</td>\n",
       "      <td>...</td>\n",
       "      <td>...</td>\n",
       "      <td>...</td>\n",
       "    </tr>\n",
       "    <tr>\n",
       "      <th>100</th>\n",
       "      <td>1_1819_4_114</td>\n",
       "      <td>Completed</td>\n",
       "      <td>-</td>\n",
       "      <td>-</td>\n",
       "      <td>-</td>\n",
       "      <td>-</td>\n",
       "      <td>-</td>\n",
       "      <td>-</td>\n",
       "      <td>-</td>\n",
       "    </tr>\n",
       "    <tr>\n",
       "      <th>101</th>\n",
       "      <td>1_1819_4_115</td>\n",
       "      <td>Completed</td>\n",
       "      <td>-</td>\n",
       "      <td>-</td>\n",
       "      <td>-</td>\n",
       "      <td>-</td>\n",
       "      <td>-</td>\n",
       "      <td>-</td>\n",
       "      <td>-</td>\n",
       "    </tr>\n",
       "    <tr>\n",
       "      <th>102</th>\n",
       "      <td>1_1819_4_116</td>\n",
       "      <td>Completed</td>\n",
       "      <td>-</td>\n",
       "      <td>-</td>\n",
       "      <td>-</td>\n",
       "      <td>-</td>\n",
       "      <td>-</td>\n",
       "      <td>-</td>\n",
       "      <td>-</td>\n",
       "    </tr>\n",
       "    <tr>\n",
       "      <th>103</th>\n",
       "      <td>1_1819_4_118</td>\n",
       "      <td>Completed</td>\n",
       "      <td>-</td>\n",
       "      <td>-</td>\n",
       "      <td>-</td>\n",
       "      <td>-</td>\n",
       "      <td>-</td>\n",
       "      <td>-</td>\n",
       "      <td>-</td>\n",
       "    </tr>\n",
       "    <tr>\n",
       "      <th>104</th>\n",
       "      <td>1_1819_4_120</td>\n",
       "      <td>Completed</td>\n",
       "      <td>-</td>\n",
       "      <td>-</td>\n",
       "      <td>-</td>\n",
       "      <td>-</td>\n",
       "      <td>-</td>\n",
       "      <td>-</td>\n",
       "      <td>-</td>\n",
       "    </tr>\n",
       "  </tbody>\n",
       "</table>\n",
       "<p>105 rows × 9 columns</p>\n",
       "</div>"
      ],
      "text/plain": [
       "    Participant_ID Participant_Information_Survey Baseline_Survey  \\\n",
       "0       1_1819_1_1                      Completed               -   \n",
       "1      1_1819_1_10                      Completed               -   \n",
       "2      1_1819_1_13                      Completed               -   \n",
       "3      1_1819_1_14                      Completed               -   \n",
       "4      1_1819_1_16                      Completed               -   \n",
       "..             ...                            ...             ...   \n",
       "100   1_1819_4_114                      Completed               -   \n",
       "101   1_1819_4_115                      Completed               -   \n",
       "102   1_1819_4_116                      Completed               -   \n",
       "103   1_1819_4_118                      Completed               -   \n",
       "104   1_1819_4_120                      Completed               -   \n",
       "\n",
       "    Classroom_Norms_Post_Sim_Survey Exit_Survey  \\\n",
       "0                                 -           -   \n",
       "1                                 -           -   \n",
       "2                                 -           -   \n",
       "3                                 -           -   \n",
       "4                                 -           -   \n",
       "..                              ...         ...   \n",
       "100                               -           -   \n",
       "101                               -           -   \n",
       "102                               -           -   \n",
       "103                               -           -   \n",
       "104                               -           -   \n",
       "\n",
       "    Classroom_Norms_Coding_Baseline Classroom_Norms_Coding_Precoach  \\\n",
       "0                                 -                               -   \n",
       "1                                 -                               -   \n",
       "2                                 -                               -   \n",
       "3                                 -                               -   \n",
       "4                                 -                               -   \n",
       "..                              ...                             ...   \n",
       "100                               -                               -   \n",
       "101                               -                               -   \n",
       "102                               -                               -   \n",
       "103                               -                               -   \n",
       "104                               -                               -   \n",
       "\n",
       "    Classroom_Norms_Coding_Postcoach Classroom_Norms_Coding_Exit  \n",
       "0                                  -                           -  \n",
       "1                                  -                           -  \n",
       "2                                  -                           -  \n",
       "3                                  -                           -  \n",
       "4                                  -                           -  \n",
       "..                               ...                         ...  \n",
       "100                                -                           -  \n",
       "101                                -                           -  \n",
       "102                                -                           -  \n",
       "103                                -                           -  \n",
       "104                                -                           -  \n",
       "\n",
       "[105 rows x 9 columns]"
      ]
     },
     "execution_count": 6,
     "metadata": {},
     "output_type": "execute_result"
    }
   ],
   "source": [
    "cursor.execute(\"SELECT * FROM Participant_Tracker;\")\n",
    "result = cursor.fetchall()\n",
    "colnames = [x[0] for x in cursor.description]\n",
    "pd.DataFrame(result, columns=colnames)"
   ]
  },
  {
   "cell_type": "markdown",
   "metadata": {},
   "source": [
    "## Read in Data for Development"
   ]
  },
  {
   "cell_type": "code",
   "execution_count": 23,
   "metadata": {},
   "outputs": [
    {
     "data": {
      "text/plain": [
       "'/Users/jmachita03/Documents/GitHub/MSDS_SERA_capstone/RDS'"
      ]
     },
     "execution_count": 23,
     "metadata": {},
     "output_type": "execute_result"
    }
   ],
   "source": [
    "import os\n",
    "os.getcwd()"
   ]
  },
  {
   "cell_type": "code",
   "execution_count": 24,
   "metadata": {},
   "outputs": [],
   "source": [
    "csvName = \"2018_2019_participant_measures.csv\""
   ]
  },
  {
   "cell_type": "code",
   "execution_count": 25,
   "metadata": {},
   "outputs": [],
   "source": [
    "data = pd.read_csv(csvName)"
   ]
  },
  {
   "cell_type": "code",
   "execution_count": 26,
   "metadata": {},
   "outputs": [
    {
     "data": {
      "text/html": [
       "<div>\n",
       "<style scoped>\n",
       "    .dataframe tbody tr th:only-of-type {\n",
       "        vertical-align: middle;\n",
       "    }\n",
       "\n",
       "    .dataframe tbody tr th {\n",
       "        vertical-align: top;\n",
       "    }\n",
       "\n",
       "    .dataframe thead th {\n",
       "        text-align: right;\n",
       "    }\n",
       "</style>\n",
       "<table border=\"1\" class=\"dataframe\">\n",
       "  <thead>\n",
       "    <tr style=\"text-align: right;\">\n",
       "      <th></th>\n",
       "      <th>id_participant</th>\n",
       "      <th>id_section</th>\n",
       "      <th>id_site</th>\n",
       "      <th>id_year</th>\n",
       "      <th>btreat_cond</th>\n",
       "      <th>fb_treat_cond</th>\n",
       "      <th>cpp_year</th>\n",
       "      <th>ccs_cohort</th>\n",
       "      <th>ccs_stutype</th>\n",
       "      <th>ccs_major</th>\n",
       "      <th>...</th>\n",
       "      <th>fall2018coachingra</th>\n",
       "      <th>fall2018racera</th>\n",
       "      <th>fall2018coachingnotes</th>\n",
       "      <th>spring2019coachingra</th>\n",
       "      <th>spring2019racera</th>\n",
       "      <th>spring2019_ethan_original</th>\n",
       "      <th>spring2019_coaching_original</th>\n",
       "      <th>sis_id</th>\n",
       "      <th>email</th>\n",
       "      <th>name</th>\n",
       "    </tr>\n",
       "  </thead>\n",
       "  <tbody>\n",
       "    <tr>\n",
       "      <th>0</th>\n",
       "      <td>1_1819_2_67</td>\n",
       "      <td>2</td>\n",
       "      <td>1</td>\n",
       "      <td>1819</td>\n",
       "      <td>0</td>\n",
       "      <td>0</td>\n",
       "      <td>2018-19</td>\n",
       "      <td>2018.0</td>\n",
       "      <td>1.0</td>\n",
       "      <td>10</td>\n",
       "      <td>...</td>\n",
       "      <td>No Coaching</td>\n",
       "      <td>White</td>\n",
       "      <td>No coaching conversation</td>\n",
       "      <td>No Coaching</td>\n",
       "      <td>Black</td>\n",
       "      <td>Black</td>\n",
       "      <td>No Coaching</td>\n",
       "      <td>ab2dx</td>\n",
       "      <td>ab2dx@virginia.edu</td>\n",
       "      <td>Basile,Anna</td>\n",
       "    </tr>\n",
       "    <tr>\n",
       "      <th>1</th>\n",
       "      <td>1_1819_3_86</td>\n",
       "      <td>3</td>\n",
       "      <td>1</td>\n",
       "      <td>1819</td>\n",
       "      <td>0</td>\n",
       "      <td>0</td>\n",
       "      <td>2018-19</td>\n",
       "      <td>2018.0</td>\n",
       "      <td>1.0</td>\n",
       "      <td>10</td>\n",
       "      <td>...</td>\n",
       "      <td>No Coaching</td>\n",
       "      <td>Black</td>\n",
       "      <td>No coaching conversation</td>\n",
       "      <td>No Coaching</td>\n",
       "      <td>Black</td>\n",
       "      <td>Black</td>\n",
       "      <td>No Coaching</td>\n",
       "      <td>ac4ah</td>\n",
       "      <td>ac4ah@virginia.edu</td>\n",
       "      <td>Copley,Abigail</td>\n",
       "    </tr>\n",
       "  </tbody>\n",
       "</table>\n",
       "<p>2 rows × 271 columns</p>\n",
       "</div>"
      ],
      "text/plain": [
       "  id_participant  id_section  id_site  id_year  btreat_cond  fb_treat_cond  \\\n",
       "0    1_1819_2_67           2        1     1819            0              0   \n",
       "1    1_1819_3_86           3        1     1819            0              0   \n",
       "\n",
       "  cpp_year  ccs_cohort  ccs_stutype  ccs_major  ... fall2018coachingra  \\\n",
       "0  2018-19      2018.0          1.0         10  ...        No Coaching   \n",
       "1  2018-19      2018.0          1.0         10  ...        No Coaching   \n",
       "\n",
       "   fall2018racera     fall2018coachingnotes  spring2019coachingra  \\\n",
       "0           White  No coaching conversation           No Coaching   \n",
       "1           Black  No coaching conversation           No Coaching   \n",
       "\n",
       "   spring2019racera  spring2019_ethan_original  spring2019_coaching_original  \\\n",
       "0             Black                      Black                   No Coaching   \n",
       "1             Black                      Black                   No Coaching   \n",
       "\n",
       "   sis_id               email            name  \n",
       "0   ab2dx  ab2dx@virginia.edu     Basile,Anna  \n",
       "1   ac4ah  ac4ah@virginia.edu  Copley,Abigail  \n",
       "\n",
       "[2 rows x 271 columns]"
      ]
     },
     "execution_count": 26,
     "metadata": {},
     "output_type": "execute_result"
    }
   ],
   "source": [
    "data.head(2)"
   ]
  },
  {
   "cell_type": "markdown",
   "metadata": {},
   "source": [
    "## Functions"
   ]
  },
  {
   "cell_type": "code",
   "execution_count": 56,
   "metadata": {},
   "outputs": [],
   "source": [
    "def getExistingIds(tableName, cursor):\n",
    "    query = \"SELECT Participant_ID FROM \" + str(tableName)\n",
    "    cursor.execute(query)\n",
    "    result = cursor.fetchall()\n",
    "    existing_ids = [x[0] for x in result]\n",
    "    return existing_ids"
   ]
  },
  {
   "cell_type": "code",
   "execution_count": 65,
   "metadata": {},
   "outputs": [],
   "source": [
    "def getColumnNames(tableName, cursor):\n",
    "    query = \"SELECT COLUMN_NAME FROM INFORMATION_SCHEMA.COLUMNS WHERE TABLE_NAME = N'\" + tableName + \"'\"\n",
    "    cursor.execute(query)\n",
    "    result = cursor.fetchall()\n",
    "    result2 = [x[0] for x in result]\n",
    "    \n",
    "    return result2"
   ]
  },
  {
   "cell_type": "code",
   "execution_count": 101,
   "metadata": {},
   "outputs": [],
   "source": [
    "def getTrackerQueries(csvNameDict, csvName, data, cursor):\n",
    "    # get the column name to which this csv corresponds\n",
    "    corresponding_col = None\n",
    "    for key in csvNameDict.keys():\n",
    "        if csvName in csvNameDict[key]:\n",
    "            corresponding_col = key\n",
    "            \n",
    "    # get a list of the participants that are already in the participant tracker table\n",
    "    existing_parts = getExistingIds(\"Participant_Tracker\", cursor)\n",
    "    \n",
    "    # set values to appear in the tracker\n",
    "    taken = \"Completed\"\n",
    "    notTaken = \"-\"\n",
    "    \n",
    "    # get a list of all other columns in the PT\n",
    "    otherCols = getColumnNames(\"Participant_Tracker\", cursor)\n",
    "    otherCols.remove(\"Participant_ID\")\n",
    "    otherCols.remove(corresponding_col)\n",
    "    \n",
    "    # generate queries\n",
    "    queries = []\n",
    "    if 'id_participant' in data.columns:\n",
    "        for participant in list(data.id_participant):\n",
    "            if participant in existing_parts:\n",
    "                query = \"UPDATE Participant_Tracker SET \" + corresponding_col + \" = '\" + taken + \\\n",
    "                \"' WHERE Participant_ID = '\" + participant + \"';\"\n",
    "            else:\n",
    "                query = \"REPLACE INTO Participant_Tracker (Participant_ID, \" + corresponding_col + \", \"\n",
    "                vals = \"'\" + participant + \"', '\" + taken + \"', \"\n",
    "                for col in otherCols:\n",
    "                    query = query + col + \", \"\n",
    "                    vals = vals + \"'\" + notTaken + \"', \"\n",
    "                query = query[:-2] + \") VALUES (\" + vals[:-2] + \");\"\n",
    "            queries = queries + [query]\n",
    "            \n",
    "    return queries\n",
    "    "
   ]
  },
  {
   "cell_type": "markdown",
   "metadata": {},
   "source": [
    "## Update Table"
   ]
  },
  {
   "cell_type": "code",
   "execution_count": 58,
   "metadata": {},
   "outputs": [],
   "source": [
    "csvName = \"2018_2019_participant_measures.csv\""
   ]
  },
  {
   "cell_type": "code",
   "execution_count": 120,
   "metadata": {},
   "outputs": [],
   "source": [
    "csvName2 = \"2019_spring_ exit_postsim_survey.csv\""
   ]
  },
  {
   "cell_type": "code",
   "execution_count": 121,
   "metadata": {},
   "outputs": [],
   "source": [
    "queries = getTrackerQueries(names, csvName2, cursor)"
   ]
  },
  {
   "cell_type": "code",
   "execution_count": 122,
   "metadata": {
    "scrolled": true
   },
   "outputs": [
    {
     "data": {
      "text/plain": [
       "[\"UPDATE Participant_Tracker SET Exit_Survey = 'Completed' WHERE Participant_ID = '1_1819_2_67';\",\n",
       " \"UPDATE Participant_Tracker SET Exit_Survey = 'Completed' WHERE Participant_ID = '1_1819_3_86';\",\n",
       " \"UPDATE Participant_Tracker SET Exit_Survey = 'Completed' WHERE Participant_ID = '1_1819_4_108';\",\n",
       " \"UPDATE Participant_Tracker SET Exit_Survey = 'Completed' WHERE Participant_ID = '1_1819_2_76';\",\n",
       " \"UPDATE Participant_Tracker SET Exit_Survey = 'Completed' WHERE Participant_ID = '1_1819_1_14';\",\n",
       " \"UPDATE Participant_Tracker SET Exit_Survey = 'Completed' WHERE Participant_ID = '1_1819_3_87';\",\n",
       " \"UPDATE Participant_Tracker SET Exit_Survey = 'Completed' WHERE Participant_ID = '1_1819_1_5';\",\n",
       " \"UPDATE Participant_Tracker SET Exit_Survey = 'Completed' WHERE Participant_ID = '1_1819_3_96';\",\n",
       " \"UPDATE Participant_Tracker SET Exit_Survey = 'Completed' WHERE Participant_ID = '1_1819_3_83';\",\n",
       " \"UPDATE Participant_Tracker SET Exit_Survey = 'Completed' WHERE Participant_ID = '1_1819_2_59';\",\n",
       " \"UPDATE Participant_Tracker SET Exit_Survey = 'Completed' WHERE Participant_ID = '1_1819_2_54';\",\n",
       " \"UPDATE Participant_Tracker SET Exit_Survey = 'Completed' WHERE Participant_ID = '1_1819_1_30';\",\n",
       " \"UPDATE Participant_Tracker SET Exit_Survey = 'Completed' WHERE Participant_ID = '1_1819_1_22';\",\n",
       " \"UPDATE Participant_Tracker SET Exit_Survey = 'Completed' WHERE Participant_ID = '1_1819_4_107';\",\n",
       " \"UPDATE Participant_Tracker SET Exit_Survey = 'Completed' WHERE Participant_ID = '1_1819_1_23';\",\n",
       " \"UPDATE Participant_Tracker SET Exit_Survey = 'Completed' WHERE Participant_ID = '1_1819_3_97';\",\n",
       " \"UPDATE Participant_Tracker SET Exit_Survey = 'Completed' WHERE Participant_ID = '1_1819_2_34';\",\n",
       " \"UPDATE Participant_Tracker SET Exit_Survey = 'Completed' WHERE Participant_ID = '1_1819_4_114';\",\n",
       " \"UPDATE Participant_Tracker SET Exit_Survey = 'Completed' WHERE Participant_ID = '1_1819_3_90';\",\n",
       " \"UPDATE Participant_Tracker SET Exit_Survey = 'Completed' WHERE Participant_ID = '1_1819_3_78';\",\n",
       " \"UPDATE Participant_Tracker SET Exit_Survey = 'Completed' WHERE Participant_ID = '1_1819_4_113';\",\n",
       " \"UPDATE Participant_Tracker SET Exit_Survey = 'Completed' WHERE Participant_ID = '1_1819_2_40';\",\n",
       " \"UPDATE Participant_Tracker SET Exit_Survey = 'Completed' WHERE Participant_ID = '1_1819_3_74';\",\n",
       " \"UPDATE Participant_Tracker SET Exit_Survey = 'Completed' WHERE Participant_ID = '1_1819_3_71';\",\n",
       " \"UPDATE Participant_Tracker SET Exit_Survey = 'Completed' WHERE Participant_ID = '1_1819_3_103';\",\n",
       " \"UPDATE Participant_Tracker SET Exit_Survey = 'Completed' WHERE Participant_ID = '1_1819_3_95';\",\n",
       " \"UPDATE Participant_Tracker SET Exit_Survey = 'Completed' WHERE Participant_ID = '1_1819_1_3';\",\n",
       " \"UPDATE Participant_Tracker SET Exit_Survey = 'Completed' WHERE Participant_ID = '1_1819_3_77';\",\n",
       " \"UPDATE Participant_Tracker SET Exit_Survey = 'Completed' WHERE Participant_ID = '1_1819_2_43';\",\n",
       " \"UPDATE Participant_Tracker SET Exit_Survey = 'Completed' WHERE Participant_ID = '1_1819_3_98';\",\n",
       " \"UPDATE Participant_Tracker SET Exit_Survey = 'Completed' WHERE Participant_ID = '1_1819_2_70';\",\n",
       " \"UPDATE Participant_Tracker SET Exit_Survey = 'Completed' WHERE Participant_ID = '1_1819_1_19';\",\n",
       " \"UPDATE Participant_Tracker SET Exit_Survey = 'Completed' WHERE Participant_ID = '1_1819_2_53';\",\n",
       " \"UPDATE Participant_Tracker SET Exit_Survey = 'Completed' WHERE Participant_ID = '1_1819_3_91';\",\n",
       " \"UPDATE Participant_Tracker SET Exit_Survey = 'Completed' WHERE Participant_ID = '1_1819_2_35';\",\n",
       " \"UPDATE Participant_Tracker SET Exit_Survey = 'Completed' WHERE Participant_ID = '1_1819_2_38';\",\n",
       " \"UPDATE Participant_Tracker SET Exit_Survey = 'Completed' WHERE Participant_ID = '1_1819_1_8';\",\n",
       " \"UPDATE Participant_Tracker SET Exit_Survey = 'Completed' WHERE Participant_ID = '1_1819_2_66';\",\n",
       " \"UPDATE Participant_Tracker SET Exit_Survey = 'Completed' WHERE Participant_ID = '1_1819_2_64';\",\n",
       " \"UPDATE Participant_Tracker SET Exit_Survey = 'Completed' WHERE Participant_ID = '1_1819_4_109';\",\n",
       " \"UPDATE Participant_Tracker SET Exit_Survey = 'Completed' WHERE Participant_ID = '1_1819_2_52';\",\n",
       " \"UPDATE Participant_Tracker SET Exit_Survey = 'Completed' WHERE Participant_ID = '1_1819_3_73';\",\n",
       " \"UPDATE Participant_Tracker SET Exit_Survey = 'Completed' WHERE Participant_ID = '1_1819_3_72';\",\n",
       " \"UPDATE Participant_Tracker SET Exit_Survey = 'Completed' WHERE Participant_ID = '1_1819_1_27';\",\n",
       " \"UPDATE Participant_Tracker SET Exit_Survey = 'Completed' WHERE Participant_ID = '1_1819_3_88';\",\n",
       " \"UPDATE Participant_Tracker SET Exit_Survey = 'Completed' WHERE Participant_ID = '1_1819_3_94';\",\n",
       " \"UPDATE Participant_Tracker SET Exit_Survey = 'Completed' WHERE Participant_ID = '1_1819_3_85';\",\n",
       " \"UPDATE Participant_Tracker SET Exit_Survey = 'Completed' WHERE Participant_ID = '1_1819_2_45';\",\n",
       " \"UPDATE Participant_Tracker SET Exit_Survey = 'Completed' WHERE Participant_ID = '1_1819_1_20';\",\n",
       " \"UPDATE Participant_Tracker SET Exit_Survey = 'Completed' WHERE Participant_ID = '1_1819_1_1';\",\n",
       " \"UPDATE Participant_Tracker SET Exit_Survey = 'Completed' WHERE Participant_ID = '1_1819_3_100';\",\n",
       " \"UPDATE Participant_Tracker SET Exit_Survey = 'Completed' WHERE Participant_ID = '1_1819_3_75';\",\n",
       " \"UPDATE Participant_Tracker SET Exit_Survey = 'Completed' WHERE Participant_ID = '1_1819_1_16';\",\n",
       " \"UPDATE Participant_Tracker SET Exit_Survey = 'Completed' WHERE Participant_ID = '1_1819_2_42';\",\n",
       " \"UPDATE Participant_Tracker SET Exit_Survey = 'Completed' WHERE Participant_ID = '1_1819_2_68';\",\n",
       " \"UPDATE Participant_Tracker SET Exit_Survey = 'Completed' WHERE Participant_ID = '1_1819_3_102';\",\n",
       " \"UPDATE Participant_Tracker SET Exit_Survey = 'Completed' WHERE Participant_ID = '1_1819_2_50';\",\n",
       " \"UPDATE Participant_Tracker SET Exit_Survey = 'Completed' WHERE Participant_ID = '1_1819_3_104';\",\n",
       " \"UPDATE Participant_Tracker SET Exit_Survey = 'Completed' WHERE Participant_ID = '1_1819_2_44';\",\n",
       " \"UPDATE Participant_Tracker SET Exit_Survey = 'Completed' WHERE Participant_ID = '1_1819_1_13';\",\n",
       " \"UPDATE Participant_Tracker SET Exit_Survey = 'Completed' WHERE Participant_ID = '1_1819_1_18';\",\n",
       " \"UPDATE Participant_Tracker SET Exit_Survey = 'Completed' WHERE Participant_ID = '1_1819_2_62';\",\n",
       " \"UPDATE Participant_Tracker SET Exit_Survey = 'Completed' WHERE Participant_ID = '1_1819_2_48';\",\n",
       " \"UPDATE Participant_Tracker SET Exit_Survey = 'Completed' WHERE Participant_ID = '1_1819_2_49';\",\n",
       " \"UPDATE Participant_Tracker SET Exit_Survey = 'Completed' WHERE Participant_ID = '1_1819_2_63';\",\n",
       " \"UPDATE Participant_Tracker SET Exit_Survey = 'Completed' WHERE Participant_ID = '1_1819_3_92';\",\n",
       " \"UPDATE Participant_Tracker SET Exit_Survey = 'Completed' WHERE Participant_ID = '1_1819_1_7';\",\n",
       " \"UPDATE Participant_Tracker SET Exit_Survey = 'Completed' WHERE Participant_ID = '1_1819_3_117';\",\n",
       " \"UPDATE Participant_Tracker SET Exit_Survey = 'Completed' WHERE Participant_ID = '1_1819_4_116';\",\n",
       " \"UPDATE Participant_Tracker SET Exit_Survey = 'Completed' WHERE Participant_ID = '1_1819_2_55';\",\n",
       " \"UPDATE Participant_Tracker SET Exit_Survey = 'Completed' WHERE Participant_ID = '1_1819_3_81';\",\n",
       " \"UPDATE Participant_Tracker SET Exit_Survey = 'Completed' WHERE Participant_ID = '1_1819_4_106';\",\n",
       " \"UPDATE Participant_Tracker SET Exit_Survey = 'Completed' WHERE Participant_ID = '1_1819_2_61';\",\n",
       " \"UPDATE Participant_Tracker SET Exit_Survey = 'Completed' WHERE Participant_ID = '1_1819_1_2';\",\n",
       " \"UPDATE Participant_Tracker SET Exit_Survey = 'Completed' WHERE Participant_ID = '1_1819_3_89';\",\n",
       " \"UPDATE Participant_Tracker SET Exit_Survey = 'Completed' WHERE Participant_ID = '1_1819_3_84';\",\n",
       " \"UPDATE Participant_Tracker SET Exit_Survey = 'Completed' WHERE Participant_ID = '1_1819_2_60';\",\n",
       " \"UPDATE Participant_Tracker SET Exit_Survey = 'Completed' WHERE Participant_ID = '1_1819_3_79';\",\n",
       " \"UPDATE Participant_Tracker SET Exit_Survey = 'Completed' WHERE Participant_ID = '1_1819_3_93';\",\n",
       " \"UPDATE Participant_Tracker SET Exit_Survey = 'Completed' WHERE Participant_ID = '1_1819_2_47';\",\n",
       " \"UPDATE Participant_Tracker SET Exit_Survey = 'Completed' WHERE Participant_ID = '1_1819_1_4';\",\n",
       " \"UPDATE Participant_Tracker SET Exit_Survey = 'Completed' WHERE Participant_ID = '1_1819_4_111';\",\n",
       " \"UPDATE Participant_Tracker SET Exit_Survey = 'Completed' WHERE Participant_ID = '1_1819_3_105';\",\n",
       " \"UPDATE Participant_Tracker SET Exit_Survey = 'Completed' WHERE Participant_ID = '1_1819_2_41';\",\n",
       " \"UPDATE Participant_Tracker SET Exit_Survey = 'Completed' WHERE Participant_ID = '1_1819_4_118';\",\n",
       " \"UPDATE Participant_Tracker SET Exit_Survey = 'Completed' WHERE Participant_ID = '1_1819_2_51';\",\n",
       " \"UPDATE Participant_Tracker SET Exit_Survey = 'Completed' WHERE Participant_ID = '1_1819_2_56';\",\n",
       " \"UPDATE Participant_Tracker SET Exit_Survey = 'Completed' WHERE Participant_ID = '1_1819_3_82';\",\n",
       " \"UPDATE Participant_Tracker SET Exit_Survey = 'Completed' WHERE Participant_ID = '1_1819_1_10';\",\n",
       " \"UPDATE Participant_Tracker SET Exit_Survey = 'Completed' WHERE Participant_ID = '1_1819_4_120';\",\n",
       " \"UPDATE Participant_Tracker SET Exit_Survey = 'Completed' WHERE Participant_ID = '1_1819_2_36';\",\n",
       " \"UPDATE Participant_Tracker SET Exit_Survey = 'Completed' WHERE Participant_ID = '1_1819_2_39';\",\n",
       " \"UPDATE Participant_Tracker SET Exit_Survey = 'Completed' WHERE Participant_ID = '1_1819_2_58';\",\n",
       " \"UPDATE Participant_Tracker SET Exit_Survey = 'Completed' WHERE Participant_ID = '1_1819_3_101';\",\n",
       " \"UPDATE Participant_Tracker SET Exit_Survey = 'Completed' WHERE Participant_ID = '1_1819_4_112';\",\n",
       " \"UPDATE Participant_Tracker SET Exit_Survey = 'Completed' WHERE Participant_ID = '1_1819_2_57';\",\n",
       " \"UPDATE Participant_Tracker SET Exit_Survey = 'Completed' WHERE Participant_ID = '1_1819_2_65';\",\n",
       " \"UPDATE Participant_Tracker SET Exit_Survey = 'Completed' WHERE Participant_ID = '1_1819_3_80';\",\n",
       " \"UPDATE Participant_Tracker SET Exit_Survey = 'Completed' WHERE Participant_ID = '1_1819_2_37';\",\n",
       " \"UPDATE Participant_Tracker SET Exit_Survey = 'Completed' WHERE Participant_ID = '1_1819_2_46';\",\n",
       " \"UPDATE Participant_Tracker SET Exit_Survey = 'Completed' WHERE Participant_ID = '1_1819_4_115';\",\n",
       " \"UPDATE Participant_Tracker SET Exit_Survey = 'Completed' WHERE Participant_ID = '1_1819_1_26';\",\n",
       " \"UPDATE Participant_Tracker SET Exit_Survey = 'Completed' WHERE Participant_ID = '1_1819_1_29';\",\n",
       " \"UPDATE Participant_Tracker SET Exit_Survey = 'Completed' WHERE Participant_ID = '1_1819_1_28';\",\n",
       " \"UPDATE Participant_Tracker SET Exit_Survey = 'Completed' WHERE Participant_ID = '1_1819_1_25';\"]"
      ]
     },
     "execution_count": 122,
     "metadata": {},
     "output_type": "execute_result"
    }
   ],
   "source": [
    "queries"
   ]
  },
  {
   "cell_type": "code",
   "execution_count": 123,
   "metadata": {},
   "outputs": [],
   "source": [
    "for query in queries:\n",
    "    cursor.execute(query)"
   ]
  },
  {
   "cell_type": "markdown",
   "metadata": {},
   "source": [
    "## Close Database Connection"
   ]
  },
  {
   "cell_type": "code",
   "execution_count": 7,
   "metadata": {},
   "outputs": [],
   "source": [
    "cnx.commit()\n",
    "cnx.close()"
   ]
  },
  {
   "cell_type": "code",
   "execution_count": null,
   "metadata": {},
   "outputs": [],
   "source": []
  }
 ],
 "metadata": {
  "kernelspec": {
   "display_name": "Python 3",
   "language": "python",
   "name": "python3"
  },
  "language_info": {
   "codemirror_mode": {
    "name": "ipython",
    "version": 3
   },
   "file_extension": ".py",
   "mimetype": "text/x-python",
   "name": "python",
   "nbconvert_exporter": "python",
   "pygments_lexer": "ipython3",
   "version": "3.7.6"
  }
 },
 "nbformat": 4,
 "nbformat_minor": 4
}
