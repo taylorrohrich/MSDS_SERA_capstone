{
 "cells": [
  {
   "cell_type": "markdown",
   "metadata": {},
   "source": [
    "# Generate IDs for Raw Data"
   ]
  },
  {
   "cell_type": "code",
   "execution_count": 1,
   "metadata": {},
   "outputs": [],
   "source": [
    "import pandas as pd\n",
    "import numpy as np"
   ]
  },
  {
   "cell_type": "code",
   "execution_count": 2,
   "metadata": {},
   "outputs": [
    {
     "data": {
      "text/plain": [
       "'/Users/jmachita03/Documents/GitHub/MSDS_SERA_capstone/RDS'"
      ]
     },
     "execution_count": 2,
     "metadata": {},
     "output_type": "execute_result"
    }
   ],
   "source": [
    "import os\n",
    "os.getcwd()"
   ]
  },
  {
   "cell_type": "code",
   "execution_count": 9,
   "metadata": {},
   "outputs": [],
   "source": [
    "os.chdir(\"/Users/jmachita03/Desktop/Capstone/RDS Set Up\")"
   ]
  },
  {
   "cell_type": "code",
   "execution_count": 4,
   "metadata": {},
   "outputs": [],
   "source": [
    "os.chdir(\"/Users/jmachita03/Desktop/Capstone/RDS Set Up/Raw Data for Tracker\")"
   ]
  },
  {
   "cell_type": "markdown",
   "metadata": {},
   "source": [
    "## Get All IDs"
   ]
  },
  {
   "cell_type": "code",
   "execution_count": 10,
   "metadata": {},
   "outputs": [],
   "source": [
    "parsed = pd.read_csv(\"outcome_merged.csv\")"
   ]
  },
  {
   "cell_type": "code",
   "execution_count": 11,
   "metadata": {},
   "outputs": [],
   "source": [
    "ids = list(set(parsed.id_participant))"
   ]
  },
  {
   "cell_type": "code",
   "execution_count": 12,
   "metadata": {},
   "outputs": [],
   "source": [
    "ids = ids[1:]"
   ]
  },
  {
   "cell_type": "code",
   "execution_count": 13,
   "metadata": {},
   "outputs": [
    {
     "data": {
      "text/plain": [
       "105"
      ]
     },
     "execution_count": 13,
     "metadata": {},
     "output_type": "execute_result"
    }
   ],
   "source": [
    "len(ids)"
   ]
  },
  {
   "cell_type": "code",
   "execution_count": 15,
   "metadata": {},
   "outputs": [],
   "source": [
    "idmap = {}\n",
    "for pid in ids:\n",
    "    num = pid[9:]\n",
    "    idmap[num] = pid"
   ]
  },
  {
   "cell_type": "code",
   "execution_count": 16,
   "metadata": {},
   "outputs": [
    {
     "data": {
      "text/plain": [
       "False"
      ]
     },
     "execution_count": 16,
     "metadata": {},
     "output_type": "execute_result"
    }
   ],
   "source": [
    "'99' in idmap.keys()"
   ]
  },
  {
   "cell_type": "markdown",
   "metadata": {},
   "source": [
    "## 2018_fall_baseline_br_perform.csv"
   ]
  },
  {
   "cell_type": "code",
   "execution_count": 17,
   "metadata": {},
   "outputs": [],
   "source": [
    "os.chdir(\"/Users/jmachita03/Desktop/Capstone/RDS Set Up/Raw Data for Tracker\")"
   ]
  },
  {
   "cell_type": "code",
   "execution_count": 18,
   "metadata": {},
   "outputs": [],
   "source": [
    "data = pd.read_csv(\"2018_fall_baseline_br_perform.csv\")"
   ]
  },
  {
   "cell_type": "code",
   "execution_count": 19,
   "metadata": {},
   "outputs": [],
   "source": [
    "data['id_participant'] = None"
   ]
  },
  {
   "cell_type": "code",
   "execution_count": 20,
   "metadata": {},
   "outputs": [],
   "source": [
    "for index, row in data.iterrows():\n",
    "    orig = row.Q13\n",
    "    new = \"nonid\"\n",
    "    \n",
    "    if type(orig) == str:\n",
    "        if len(orig) == 12 or len(orig) == 13:\n",
    "            orig = orig[5:-5]\n",
    "        if len(orig) >= 1 and len(orig) <= 3:\n",
    "            if orig in idmap.keys():\n",
    "                new = idmap[str(orig)]\n",
    "    data.loc[index, 'id_participant'] = new"
   ]
  },
  {
   "cell_type": "code",
   "execution_count": 21,
   "metadata": {},
   "outputs": [
    {
     "data": {
      "text/plain": [
       "0             nonid\n",
       "1             nonid\n",
       "2       1_1819_2_47\n",
       "3       1_1819_3_96\n",
       "4             nonid\n",
       "           ...     \n",
       "110    1_1819_4_118\n",
       "111     1_1819_2_59\n",
       "112           nonid\n",
       "113    1_1819_3_117\n",
       "114     1_1819_2_37\n",
       "Name: id_participant, Length: 115, dtype: object"
      ]
     },
     "execution_count": 21,
     "metadata": {},
     "output_type": "execute_result"
    }
   ],
   "source": [
    "data.id_participant"
   ]
  },
  {
   "cell_type": "code",
   "execution_count": 22,
   "metadata": {},
   "outputs": [],
   "source": [
    "os.chdir(\"/Users/jmachita03/Desktop/Capstone/RDS Set Up/Updated Raw Data\")"
   ]
  },
  {
   "cell_type": "code",
   "execution_count": 23,
   "metadata": {},
   "outputs": [],
   "source": [
    "data.to_csv(\"2018_fall_baseline_br_perform.csv\", index=False)"
   ]
  },
  {
   "cell_type": "markdown",
   "metadata": {},
   "source": [
    "## 2018_summer_baseline_br_perform.csv"
   ]
  },
  {
   "cell_type": "code",
   "execution_count": 24,
   "metadata": {},
   "outputs": [],
   "source": [
    "os.chdir(\"/Users/jmachita03/Desktop/Capstone/RDS Set Up/Raw Data for Tracker\")"
   ]
  },
  {
   "cell_type": "code",
   "execution_count": 25,
   "metadata": {},
   "outputs": [],
   "source": [
    "data = pd.read_csv(\"2018_summer_baseline_br_perform.csv\")"
   ]
  },
  {
   "cell_type": "code",
   "execution_count": 26,
   "metadata": {},
   "outputs": [],
   "source": [
    "data['id_participant'] = None"
   ]
  },
  {
   "cell_type": "code",
   "execution_count": 27,
   "metadata": {},
   "outputs": [],
   "source": [
    "for index, row in data.iterrows():\n",
    "    orig = row.Q3\n",
    "    new = \"nonid\"\n",
    "    \n",
    "    if type(orig) == str:\n",
    "        if len(orig) == 12 or len(orig) == 13:\n",
    "            orig = orig[5:-5]\n",
    "        if len(orig) >= 1 and len(orig) <= 3:\n",
    "            if orig in idmap.keys():\n",
    "                new = idmap[str(orig)]\n",
    "    data.loc[index, 'id_participant'] = new"
   ]
  },
  {
   "cell_type": "code",
   "execution_count": 28,
   "metadata": {
    "scrolled": true
   },
   "outputs": [
    {
     "data": {
      "text/plain": [
       "0           nonid\n",
       "1           nonid\n",
       "2      1_1819_1_1\n",
       "3      1_1819_1_2\n",
       "4      1_1819_1_3\n",
       "5      1_1819_1_4\n",
       "6      1_1819_1_5\n",
       "7           nonid\n",
       "8      1_1819_1_7\n",
       "9      1_1819_1_8\n",
       "10          nonid\n",
       "11    1_1819_1_10\n",
       "12          nonid\n",
       "13    1_1819_1_13\n",
       "14    1_1819_1_16\n",
       "15          nonid\n",
       "16    1_1819_1_18\n",
       "17    1_1819_1_19\n",
       "18    1_1819_1_20\n",
       "19    1_1819_1_22\n",
       "20    1_1819_1_23\n",
       "21          nonid\n",
       "22    1_1819_1_25\n",
       "23    1_1819_1_26\n",
       "24    1_1819_1_27\n",
       "25    1_1819_1_28\n",
       "26    1_1819_1_29\n",
       "27    1_1819_1_30\n",
       "28          nonid\n",
       "29          nonid\n",
       "30          nonid\n",
       "31     1_1819_1_4\n",
       "32     1_1819_1_7\n",
       "33    1_1819_1_10\n",
       "34    1_1819_1_27\n",
       "35    1_1819_1_30\n",
       "36          nonid\n",
       "Name: id_participant, dtype: object"
      ]
     },
     "execution_count": 28,
     "metadata": {},
     "output_type": "execute_result"
    }
   ],
   "source": [
    "data.id_participant"
   ]
  },
  {
   "cell_type": "code",
   "execution_count": 29,
   "metadata": {},
   "outputs": [],
   "source": [
    "os.chdir(\"/Users/jmachita03/Desktop/Capstone/RDS Set Up/Updated Raw Data\")"
   ]
  },
  {
   "cell_type": "code",
   "execution_count": 30,
   "metadata": {},
   "outputs": [],
   "source": [
    "data.to_csv(\"2018_summer_baseline_br_perform.csv\", index=False)"
   ]
  },
  {
   "cell_type": "markdown",
   "metadata": {},
   "source": [
    "## 2019_spring_coach_br_perform.csv"
   ]
  },
  {
   "cell_type": "code",
   "execution_count": 31,
   "metadata": {},
   "outputs": [],
   "source": [
    "os.chdir(\"/Users/jmachita03/Desktop/Capstone/RDS Set Up/Raw Data for Tracker\")"
   ]
  },
  {
   "cell_type": "code",
   "execution_count": 33,
   "metadata": {},
   "outputs": [],
   "source": [
    "data = pd.read_csv(\"2019_spring_coach_br_perform.csv\")"
   ]
  },
  {
   "cell_type": "code",
   "execution_count": 34,
   "metadata": {},
   "outputs": [],
   "source": [
    "data['id_participant'] = None"
   ]
  },
  {
   "cell_type": "code",
   "execution_count": 35,
   "metadata": {},
   "outputs": [],
   "source": [
    "for index, row in data.iterrows():\n",
    "    orig = row.Q3\n",
    "    new = \"nonid\"\n",
    "    \n",
    "    if type(orig) == str:\n",
    "        if len(orig) == 12 or len(orig) == 13:\n",
    "            orig = orig[5:-5]\n",
    "        if len(orig) >= 1 and len(orig) <= 3:\n",
    "            if orig in idmap.keys():\n",
    "                new = idmap[str(orig)]\n",
    "    data.loc[index, 'id_participant'] = new"
   ]
  },
  {
   "cell_type": "code",
   "execution_count": 36,
   "metadata": {},
   "outputs": [
    {
     "data": {
      "text/plain": [
       "0             nonid\n",
       "1             nonid\n",
       "2      1_1819_3_102\n",
       "3       1_1819_1_14\n",
       "4       1_1819_1_30\n",
       "           ...     \n",
       "214    1_1819_3_101\n",
       "215    1_1819_4_113\n",
       "216    1_1819_4_107\n",
       "217           nonid\n",
       "218     1_1819_2_50\n",
       "Name: id_participant, Length: 219, dtype: object"
      ]
     },
     "execution_count": 36,
     "metadata": {},
     "output_type": "execute_result"
    }
   ],
   "source": [
    "data.id_participant"
   ]
  },
  {
   "cell_type": "code",
   "execution_count": 37,
   "metadata": {},
   "outputs": [],
   "source": [
    "os.chdir(\"/Users/jmachita03/Desktop/Capstone/RDS Set Up/Updated Raw Data\")"
   ]
  },
  {
   "cell_type": "code",
   "execution_count": 38,
   "metadata": {},
   "outputs": [],
   "source": [
    "data.to_csv(\"2019_spring_coach_br_perform.csv\", index=False)"
   ]
  },
  {
   "cell_type": "markdown",
   "metadata": {},
   "source": [
    "## 2019_spring_exit_br_perform.csv"
   ]
  },
  {
   "cell_type": "code",
   "execution_count": 39,
   "metadata": {},
   "outputs": [],
   "source": [
    "os.chdir(\"/Users/jmachita03/Desktop/Capstone/RDS Set Up/Raw Data for Tracker\")"
   ]
  },
  {
   "cell_type": "code",
   "execution_count": 40,
   "metadata": {},
   "outputs": [],
   "source": [
    "data = pd.read_csv(\"2019_spring_exit_br_perform.csv\")"
   ]
  },
  {
   "cell_type": "code",
   "execution_count": 41,
   "metadata": {},
   "outputs": [],
   "source": [
    "data['id_participant'] = None"
   ]
  },
  {
   "cell_type": "code",
   "execution_count": 42,
   "metadata": {},
   "outputs": [],
   "source": [
    "for index, row in data.iterrows():\n",
    "    orig = row.Q3\n",
    "    new = \"nonid\"\n",
    "    \n",
    "    if type(orig) == str:\n",
    "        if len(orig) == 12 or len(orig) == 13:\n",
    "            orig = orig[5:-5]\n",
    "        if len(orig) >= 1 and len(orig) <= 3:\n",
    "            if orig in idmap.keys():\n",
    "                new = idmap[str(orig)]\n",
    "    data.loc[index, 'id_participant'] = new"
   ]
  },
  {
   "cell_type": "code",
   "execution_count": 43,
   "metadata": {},
   "outputs": [
    {
     "data": {
      "text/plain": [
       "0            nonid\n",
       "1            nonid\n",
       "2            nonid\n",
       "3      1_1819_2_55\n",
       "4            nonid\n",
       "          ...     \n",
       "94     1_1819_2_61\n",
       "95     1_1819_3_89\n",
       "96     1_1819_3_94\n",
       "97    1_1819_3_100\n",
       "98    1_1819_4_118\n",
       "Name: id_participant, Length: 99, dtype: object"
      ]
     },
     "execution_count": 43,
     "metadata": {},
     "output_type": "execute_result"
    }
   ],
   "source": [
    "data.id_participant"
   ]
  },
  {
   "cell_type": "code",
   "execution_count": 44,
   "metadata": {},
   "outputs": [],
   "source": [
    "os.chdir(\"/Users/jmachita03/Desktop/Capstone/RDS Set Up/Updated Raw Data\")"
   ]
  },
  {
   "cell_type": "code",
   "execution_count": 45,
   "metadata": {},
   "outputs": [],
   "source": [
    "data.to_csv(\"2019_spring_exit_br_perform.csv\", index=False)"
   ]
  },
  {
   "cell_type": "code",
   "execution_count": null,
   "metadata": {},
   "outputs": [],
   "source": []
  }
 ],
 "metadata": {
  "kernelspec": {
   "display_name": "Python 3",
   "language": "python",
   "name": "python3"
  },
  "language_info": {
   "codemirror_mode": {
    "name": "ipython",
    "version": 3
   },
   "file_extension": ".py",
   "mimetype": "text/x-python",
   "name": "python",
   "nbconvert_exporter": "python",
   "pygments_lexer": "ipython3",
   "version": "3.7.6"
  }
 },
 "nbformat": 4,
 "nbformat_minor": 4
}
