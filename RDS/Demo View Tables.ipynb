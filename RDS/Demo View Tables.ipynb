{
 "cells": [
  {
   "cell_type": "markdown",
   "metadata": {},
   "source": [
    "# Demo - View of Data in Database"
   ]
  },
  {
   "cell_type": "code",
   "execution_count": 1,
   "metadata": {},
   "outputs": [],
   "source": [
    "import pandas as pd\n",
    "import numpy as np"
   ]
  },
  {
   "cell_type": "markdown",
   "metadata": {},
   "source": [
    "## Connect to Database"
   ]
  },
  {
   "cell_type": "code",
   "execution_count": 2,
   "metadata": {},
   "outputs": [],
   "source": [
    "import mysql.connector"
   ]
  },
  {
   "cell_type": "code",
   "execution_count": 44,
   "metadata": {},
   "outputs": [],
   "source": [
    "endpoint = \"seratestdatabase.c4cjk1vto1om.us-east-2.rds.amazonaws.com\"\n",
    "port = \"3306\"\n",
    "usr = \"admin\"\n",
    "pswd = \"seracapstone\"\n",
    "region = \"us-east-2b\"\n",
    "dbname = \"teachsim\""
   ]
  },
  {
   "cell_type": "code",
   "execution_count": 45,
   "metadata": {},
   "outputs": [],
   "source": [
    "cnx = mysql.connector.connect(user=usr, password=pswd, host=endpoint, database=dbname)"
   ]
  },
  {
   "cell_type": "code",
   "execution_count": 46,
   "metadata": {},
   "outputs": [],
   "source": [
    "cursor = cnx.cursor(buffered=True)"
   ]
  },
  {
   "cell_type": "markdown",
   "metadata": {},
   "source": [
    "### Taylor's Second Database"
   ]
  },
  {
   "cell_type": "code",
   "execution_count": 3,
   "metadata": {},
   "outputs": [],
   "source": [
    "endpoint = \"sera-db-1.cfmjo2xhkjgh.us-east-1.rds.amazonaws.com\"\n",
    "port = \"3306\"\n",
    "usr = \"seraadmin\"\n",
    "pswd = \"serapassword\"\n",
    "region = \"us-east-2b\"\n",
    "dbname = \"seradb\""
   ]
  },
  {
   "cell_type": "code",
   "execution_count": 4,
   "metadata": {},
   "outputs": [],
   "source": [
    "cnx = mysql.connector.connect(user=usr, password=pswd, host=endpoint, database=dbname)"
   ]
  },
  {
   "cell_type": "code",
   "execution_count": 5,
   "metadata": {},
   "outputs": [],
   "source": [
    "cursor = cnx.cursor(buffered=True)"
   ]
  },
  {
   "cell_type": "markdown",
   "metadata": {},
   "source": [
    "## Functions"
   ]
  },
  {
   "cell_type": "code",
   "execution_count": 6,
   "metadata": {},
   "outputs": [],
   "source": [
    "def showTable(tableName, cursor):\n",
    "    query = \"SELECT * FROM \" + tableName + \";\"\n",
    "    cursor.execute(query)\n",
    "    result = cursor.fetchall()\n",
    "    colnames = [x[0] for x in cursor.description]\n",
    "    df = pd.DataFrame(result, columns=colnames)\n",
    "    return df"
   ]
  },
  {
   "cell_type": "code",
   "execution_count": 48,
   "metadata": {},
   "outputs": [],
   "source": [
    "def clearData(tableNames, cursor):\n",
    "    queries = []\n",
    "    for table in tableNames:\n",
    "        query = \"DELETE FROM \" + table + \";\"\n",
    "        queries = queries + [query]\n",
    "    for query in queries:\n",
    "        cursor.execute(query)"
   ]
  },
  {
   "cell_type": "code",
   "execution_count": 49,
   "metadata": {},
   "outputs": [],
   "source": [
    "cursor.execute(\"REPLACE INTO Identifiers (id_participant) VALUES ('testID3');\")"
   ]
  },
  {
   "cell_type": "markdown",
   "metadata": {},
   "source": [
    "## View Tables"
   ]
  },
  {
   "cell_type": "code",
   "execution_count": 7,
   "metadata": {},
   "outputs": [
    {
     "data": {
      "text/html": [
       "<div>\n",
       "<style scoped>\n",
       "    .dataframe tbody tr th:only-of-type {\n",
       "        vertical-align: middle;\n",
       "    }\n",
       "\n",
       "    .dataframe tbody tr th {\n",
       "        vertical-align: top;\n",
       "    }\n",
       "\n",
       "    .dataframe thead th {\n",
       "        text-align: right;\n",
       "    }\n",
       "</style>\n",
       "<table border=\"1\" class=\"dataframe\">\n",
       "  <thead>\n",
       "    <tr style=\"text-align: right;\">\n",
       "      <th></th>\n",
       "      <th>br_treat_cond</th>\n",
       "      <th>br_treat_cond_mr</th>\n",
       "      <th>br_treat_cond_iat</th>\n",
       "      <th>fb_treat_cond</th>\n",
       "      <th>f17_treat_cond</th>\n",
       "      <th>s18_treat_cond</th>\n",
       "      <th>fb_treat_cond_iat</th>\n",
       "      <th>id_participant</th>\n",
       "      <th>id_section</th>\n",
       "      <th>id_site</th>\n",
       "      <th>id_study</th>\n",
       "      <th>id_year</th>\n",
       "    </tr>\n",
       "  </thead>\n",
       "  <tbody>\n",
       "  </tbody>\n",
       "</table>\n",
       "</div>"
      ],
      "text/plain": [
       "Empty DataFrame\n",
       "Columns: [br_treat_cond, br_treat_cond_mr, br_treat_cond_iat, fb_treat_cond, f17_treat_cond, s18_treat_cond, fb_treat_cond_iat, id_participant, id_section, id_site, id_study, id_year]\n",
       "Index: []"
      ]
     },
     "execution_count": 7,
     "metadata": {},
     "output_type": "execute_result"
    }
   ],
   "source": [
    "showTable(\"Identifiers\", cursor)"
   ]
  },
  {
   "cell_type": "code",
   "execution_count": 8,
   "metadata": {},
   "outputs": [
    {
     "data": {
      "text/html": [
       "<div>\n",
       "<style scoped>\n",
       "    .dataframe tbody tr th:only-of-type {\n",
       "        vertical-align: middle;\n",
       "    }\n",
       "\n",
       "    .dataframe tbody tr th {\n",
       "        vertical-align: top;\n",
       "    }\n",
       "\n",
       "    .dataframe thead th {\n",
       "        text-align: right;\n",
       "    }\n",
       "</style>\n",
       "<table border=\"1\" class=\"dataframe\">\n",
       "  <thead>\n",
       "    <tr style=\"text-align: right;\">\n",
       "      <th></th>\n",
       "      <th>Participant_ID</th>\n",
       "      <th>Participant_Information_Survey</th>\n",
       "      <th>Baseline_Survey</th>\n",
       "      <th>Classroom_Norms_Post_Sim_Survey</th>\n",
       "      <th>Exit_Survey</th>\n",
       "      <th>Classroom_Norms_Coding_Baseline</th>\n",
       "      <th>Classroom_Norms_Coding_Precoach</th>\n",
       "      <th>Classroom_Norms_Coding_Postcoach</th>\n",
       "      <th>Classroom_Norms_Coding_Exit</th>\n",
       "    </tr>\n",
       "  </thead>\n",
       "  <tbody>\n",
       "    <tr>\n",
       "      <th>0</th>\n",
       "      <td>1_1819_1_1</td>\n",
       "      <td>Completed</td>\n",
       "      <td>-</td>\n",
       "      <td>-</td>\n",
       "      <td>-</td>\n",
       "      <td>Completed</td>\n",
       "      <td>-</td>\n",
       "      <td>-</td>\n",
       "      <td>Completed</td>\n",
       "    </tr>\n",
       "    <tr>\n",
       "      <th>1</th>\n",
       "      <td>1_1819_1_10</td>\n",
       "      <td>Completed</td>\n",
       "      <td>-</td>\n",
       "      <td>-</td>\n",
       "      <td>-</td>\n",
       "      <td>Completed</td>\n",
       "      <td>-</td>\n",
       "      <td>Completed</td>\n",
       "      <td>-</td>\n",
       "    </tr>\n",
       "    <tr>\n",
       "      <th>2</th>\n",
       "      <td>1_1819_1_13</td>\n",
       "      <td>Completed</td>\n",
       "      <td>-</td>\n",
       "      <td>-</td>\n",
       "      <td>-</td>\n",
       "      <td>Completed</td>\n",
       "      <td>-</td>\n",
       "      <td>Completed</td>\n",
       "      <td>-</td>\n",
       "    </tr>\n",
       "    <tr>\n",
       "      <th>3</th>\n",
       "      <td>1_1819_1_14</td>\n",
       "      <td>Completed</td>\n",
       "      <td>-</td>\n",
       "      <td>-</td>\n",
       "      <td>-</td>\n",
       "      <td>-</td>\n",
       "      <td>-</td>\n",
       "      <td>Completed</td>\n",
       "      <td>-</td>\n",
       "    </tr>\n",
       "    <tr>\n",
       "      <th>4</th>\n",
       "      <td>1_1819_1_16</td>\n",
       "      <td>Completed</td>\n",
       "      <td>-</td>\n",
       "      <td>-</td>\n",
       "      <td>-</td>\n",
       "      <td>Completed</td>\n",
       "      <td>-</td>\n",
       "      <td>Completed</td>\n",
       "      <td>Completed</td>\n",
       "    </tr>\n",
       "    <tr>\n",
       "      <th>...</th>\n",
       "      <td>...</td>\n",
       "      <td>...</td>\n",
       "      <td>...</td>\n",
       "      <td>...</td>\n",
       "      <td>...</td>\n",
       "      <td>...</td>\n",
       "      <td>...</td>\n",
       "      <td>...</td>\n",
       "      <td>...</td>\n",
       "    </tr>\n",
       "    <tr>\n",
       "      <th>101</th>\n",
       "      <td>1_1819_4_115</td>\n",
       "      <td>Completed</td>\n",
       "      <td>-</td>\n",
       "      <td>-</td>\n",
       "      <td>-</td>\n",
       "      <td>-</td>\n",
       "      <td>-</td>\n",
       "      <td>Completed</td>\n",
       "      <td>Completed</td>\n",
       "    </tr>\n",
       "    <tr>\n",
       "      <th>102</th>\n",
       "      <td>1_1819_4_116</td>\n",
       "      <td>Completed</td>\n",
       "      <td>-</td>\n",
       "      <td>-</td>\n",
       "      <td>-</td>\n",
       "      <td>Completed</td>\n",
       "      <td>-</td>\n",
       "      <td>-</td>\n",
       "      <td>-</td>\n",
       "    </tr>\n",
       "    <tr>\n",
       "      <th>103</th>\n",
       "      <td>1_1819_4_118</td>\n",
       "      <td>Completed</td>\n",
       "      <td>-</td>\n",
       "      <td>-</td>\n",
       "      <td>-</td>\n",
       "      <td>-</td>\n",
       "      <td>-</td>\n",
       "      <td>Completed</td>\n",
       "      <td>Completed</td>\n",
       "    </tr>\n",
       "    <tr>\n",
       "      <th>104</th>\n",
       "      <td>1_1819_4_120</td>\n",
       "      <td>Completed</td>\n",
       "      <td>-</td>\n",
       "      <td>-</td>\n",
       "      <td>-</td>\n",
       "      <td>-</td>\n",
       "      <td>-</td>\n",
       "      <td>Completed</td>\n",
       "      <td>-</td>\n",
       "    </tr>\n",
       "    <tr>\n",
       "      <th>105</th>\n",
       "      <td>nonid</td>\n",
       "      <td>-</td>\n",
       "      <td>-</td>\n",
       "      <td>-</td>\n",
       "      <td>-</td>\n",
       "      <td>Completed</td>\n",
       "      <td>-</td>\n",
       "      <td>Completed</td>\n",
       "      <td>Completed</td>\n",
       "    </tr>\n",
       "  </tbody>\n",
       "</table>\n",
       "<p>106 rows × 9 columns</p>\n",
       "</div>"
      ],
      "text/plain": [
       "    Participant_ID Participant_Information_Survey Baseline_Survey  \\\n",
       "0       1_1819_1_1                      Completed               -   \n",
       "1      1_1819_1_10                      Completed               -   \n",
       "2      1_1819_1_13                      Completed               -   \n",
       "3      1_1819_1_14                      Completed               -   \n",
       "4      1_1819_1_16                      Completed               -   \n",
       "..             ...                            ...             ...   \n",
       "101   1_1819_4_115                      Completed               -   \n",
       "102   1_1819_4_116                      Completed               -   \n",
       "103   1_1819_4_118                      Completed               -   \n",
       "104   1_1819_4_120                      Completed               -   \n",
       "105          nonid                              -               -   \n",
       "\n",
       "    Classroom_Norms_Post_Sim_Survey Exit_Survey  \\\n",
       "0                                 -           -   \n",
       "1                                 -           -   \n",
       "2                                 -           -   \n",
       "3                                 -           -   \n",
       "4                                 -           -   \n",
       "..                              ...         ...   \n",
       "101                               -           -   \n",
       "102                               -           -   \n",
       "103                               -           -   \n",
       "104                               -           -   \n",
       "105                               -           -   \n",
       "\n",
       "    Classroom_Norms_Coding_Baseline Classroom_Norms_Coding_Precoach  \\\n",
       "0                         Completed                               -   \n",
       "1                         Completed                               -   \n",
       "2                         Completed                               -   \n",
       "3                                 -                               -   \n",
       "4                         Completed                               -   \n",
       "..                              ...                             ...   \n",
       "101                               -                               -   \n",
       "102                       Completed                               -   \n",
       "103                               -                               -   \n",
       "104                               -                               -   \n",
       "105                       Completed                               -   \n",
       "\n",
       "    Classroom_Norms_Coding_Postcoach Classroom_Norms_Coding_Exit  \n",
       "0                                  -                   Completed  \n",
       "1                          Completed                           -  \n",
       "2                          Completed                           -  \n",
       "3                          Completed                           -  \n",
       "4                          Completed                   Completed  \n",
       "..                               ...                         ...  \n",
       "101                        Completed                   Completed  \n",
       "102                                -                           -  \n",
       "103                        Completed                   Completed  \n",
       "104                        Completed                           -  \n",
       "105                        Completed                   Completed  \n",
       "\n",
       "[106 rows x 9 columns]"
      ]
     },
     "execution_count": 8,
     "metadata": {},
     "output_type": "execute_result"
    }
   ],
   "source": [
    "showTable(\"Participant_Tracker\", cursor)"
   ]
  },
  {
   "cell_type": "code",
   "execution_count": 9,
   "metadata": {},
   "outputs": [
    {
     "data": {
      "text/html": [
       "<div>\n",
       "<style scoped>\n",
       "    .dataframe tbody tr th:only-of-type {\n",
       "        vertical-align: middle;\n",
       "    }\n",
       "\n",
       "    .dataframe tbody tr th {\n",
       "        vertical-align: top;\n",
       "    }\n",
       "\n",
       "    .dataframe thead th {\n",
       "        text-align: right;\n",
       "    }\n",
       "</style>\n",
       "<table border=\"1\" class=\"dataframe\">\n",
       "  <thead>\n",
       "    <tr style=\"text-align: right;\">\n",
       "      <th></th>\n",
       "      <th>id_participant</th>\n",
       "      <th>ccs_cohort</th>\n",
       "      <th>ccs_stutype</th>\n",
       "      <th>ccs_major</th>\n",
       "      <th>ccs_majother</th>\n",
       "      <th>ccs_gpa</th>\n",
       "      <th>partch</th>\n",
       "      <th>moedu</th>\n",
       "      <th>faedu</th>\n",
       "      <th>gender</th>\n",
       "      <th>...</th>\n",
       "      <th>crtse_25</th>\n",
       "      <th>crtse_27</th>\n",
       "      <th>crtse_28</th>\n",
       "      <th>crtse_30</th>\n",
       "      <th>crtse_31</th>\n",
       "      <th>crtse_33</th>\n",
       "      <th>crtse_35</th>\n",
       "      <th>crtse_36</th>\n",
       "      <th>crtse_41</th>\n",
       "      <th>crtse_total</th>\n",
       "    </tr>\n",
       "  </thead>\n",
       "  <tbody>\n",
       "  </tbody>\n",
       "</table>\n",
       "<p>0 rows × 246 columns</p>\n",
       "</div>"
      ],
      "text/plain": [
       "Empty DataFrame\n",
       "Columns: [id_participant, ccs_cohort, ccs_stutype, ccs_major, ccs_majother, ccs_gpa, partch, moedu, faedu, gender, age, race, raceother, holang, holangother, hstype, hstypeother, hsloc, hsses, hsrace, hsach, fustuses, fusturace, fustuach, futeases, futearace, futeaach, program, neo_02, neo_04, neo_05, neo_06, neo_07, neo_10, neo_11, neo_13, neo_17, neo_19, neo_20, neo_21, neo_22, neo_25, neo_26, neo_28, neo_32, neo_34, neo_35, neo_36, neo_37, neo_40, neo_41, neo_43, neo_47, neo_49, neo_50, neo_51, neo_52, neo_53, neo_56, neo_58, neo_60, r_neo_01, r_neo_03, r_neo_08, r_neo_09, r_neo_12, r_neo_14, r_neo_15, r_neo_16, r_neo_18, r_neo_23, r_neo_24, r_neo_27, r_neo_29, r_neo_30, r_neo_31, r_neo_33, r_neo_38, r_neo_39, r_neo_42, r_neo_44, r_neo_45, r_neo_46, r_neo_48, r_neo_54, r_neo_55, r_neo_57, r_neo_59, neo_n, neo_e, neo_o, neo_a, neo_c, tse_03, tse_04, tse_15, tse_09, tse_11, tse_13, tse_06, ...]\n",
       "Index: []\n",
       "\n",
       "[0 rows x 246 columns]"
      ]
     },
     "execution_count": 9,
     "metadata": {},
     "output_type": "execute_result"
    }
   ],
   "source": [
    "showTable(\"Participant_Measures\", cursor)"
   ]
  },
  {
   "cell_type": "code",
   "execution_count": 10,
   "metadata": {},
   "outputs": [
    {
     "data": {
      "text/html": [
       "<div>\n",
       "<style scoped>\n",
       "    .dataframe tbody tr th:only-of-type {\n",
       "        vertical-align: middle;\n",
       "    }\n",
       "\n",
       "    .dataframe tbody tr th {\n",
       "        vertical-align: top;\n",
       "    }\n",
       "\n",
       "    .dataframe thead th {\n",
       "        text-align: right;\n",
       "    }\n",
       "</style>\n",
       "<table border=\"1\" class=\"dataframe\">\n",
       "  <thead>\n",
       "    <tr style=\"text-align: right;\">\n",
       "      <th></th>\n",
       "      <th>id_participant</th>\n",
       "      <th>base_app_dev_adjust</th>\n",
       "      <th>base_app_dev_challenge</th>\n",
       "      <th>base_app_dev_coach</th>\n",
       "      <th>base_app_dev_counselor</th>\n",
       "      <th>base_app_dev_discuss</th>\n",
       "      <th>base_app_dev_parconf</th>\n",
       "      <th>base_app_dev_plan</th>\n",
       "      <th>base_app_dev_referral</th>\n",
       "      <th>base_app_dev_request</th>\n",
       "      <th>...</th>\n",
       "      <th>haber_explain_stud_suc</th>\n",
       "      <th>haber_explain_teach_suc</th>\n",
       "      <th>haber_fallibility</th>\n",
       "      <th>haber_org_and_plan</th>\n",
       "      <th>haber_persistence</th>\n",
       "      <th>haber_survive_in_bureaucracy</th>\n",
       "      <th>haber_testdate</th>\n",
       "      <th>haber_theory_to_practice</th>\n",
       "      <th>haber_total</th>\n",
       "      <th>haber_values_students_learning</th>\n",
       "    </tr>\n",
       "  </thead>\n",
       "  <tbody>\n",
       "  </tbody>\n",
       "</table>\n",
       "<p>0 rows × 503 columns</p>\n",
       "</div>"
      ],
      "text/plain": [
       "Empty DataFrame\n",
       "Columns: [id_participant, base_app_dev_adjust, base_app_dev_challenge, base_app_dev_coach, base_app_dev_counselor, base_app_dev_discuss, base_app_dev_parconf, base_app_dev_plan, base_app_dev_referral, base_app_dev_request, base_app_dev_space, base_app_dev_sped, base_app_dev_spend_time, base_app_dev_studconf, base_app_eth_adjust, base_app_eth_challenge, base_app_eth_coach, base_app_eth_counselor, base_app_eth_discuss, base_app_eth_parconf, base_app_eth_plan, base_app_eth_referral, base_app_eth_request, base_app_eth_space, base_app_eth_sped, base_app_eth_spend_time, base_app_eth_studconf, base_beh_dev_attention, base_beh_dev_behavior, base_beh_dev_contribute, base_beh_dev_defiant, base_beh_dev_demand, base_beh_dev_distracted, base_beh_dev_disturb, base_beh_dev_excitable, base_beh_dev_fidget, base_beh_dev_hum, base_beh_dev_mood, base_beh_dev_quarrel, base_beh_dev_rating, base_beh_dev_rating_impulsive, base_beh_dev_rating_opdefiant, base_beh_dev_restless, base_beh_dev_smart, base_beh_dev_temper, base_beh_dev_uncoop, base_beh_eth_attention, base_beh_eth_behavior, base_beh_eth_contribute, base_beh_eth_defiant, base_beh_eth_demand, base_beh_eth_distracted, base_beh_eth_disturb, base_beh_eth_excitable, base_beh_eth_fidget, base_beh_eth_hum, base_beh_eth_mood, base_beh_eth_quarrel, base_beh_eth_rating, base_beh_eth_rating_impulsive, base_beh_eth_rating_opdefiant, base_beh_eth_restless, base_beh_eth_smart, base_beh_eth_temper, base_beh_eth_uncoop, base_enddate, base_manage_app_dev_negative, base_manage_app_dev_positive, base_manage_app_dev_punitive, base_manage_app_eth_negative, base_manage_app_eth_positive, base_manage_app_eth_punitive, base_sim_beneficial, base_sim_cmsk, base_sim_conf, base_sim_conf_authentic, base_sim_conf_different, base_sim_conf_rapport, base_sim_enough_time, base_sim_fbsk, base_sim_fbsk_prepare, base_sim_fbsk_support, base_sim_like_use_again, base_sim_nervous, base_sim_recommend, base_sim_relevant_prof, base_sim_relevant_studies, base_sim_sufficient_prep, base_sim_txt_beneficial, base_sim_txt_cmsk, base_sim_txt_concerns, base_sim_txt_conf, base_sim_txt_conf_authentic, base_sim_txt_conf_rapport, base_sim_txt_fbsk, base_sim_txt_improve_exp, base_sim_txt_supports, base_sim_useful_tool, base_sim_worried_perform, base_startdate, ...]\n",
       "Index: []\n",
       "\n",
       "[0 rows x 503 columns]"
      ]
     },
     "execution_count": 10,
     "metadata": {},
     "output_type": "execute_result"
    }
   ],
   "source": [
    "showTable(\"Survey_Measures\", cursor)"
   ]
  },
  {
   "cell_type": "code",
   "execution_count": 11,
   "metadata": {},
   "outputs": [
    {
     "data": {
      "text/html": [
       "<div>\n",
       "<style scoped>\n",
       "    .dataframe tbody tr th:only-of-type {\n",
       "        vertical-align: middle;\n",
       "    }\n",
       "\n",
       "    .dataframe tbody tr th {\n",
       "        vertical-align: top;\n",
       "    }\n",
       "\n",
       "    .dataframe thead th {\n",
       "        text-align: right;\n",
       "    }\n",
       "</style>\n",
       "<table border=\"1\" class=\"dataframe\">\n",
       "  <thead>\n",
       "    <tr style=\"text-align: right;\">\n",
       "      <th></th>\n",
       "      <th>id_participant</th>\n",
       "      <th>br_base_affect</th>\n",
       "      <th>br_base_b1ac</th>\n",
       "      <th>br_base_b1ac_agree</th>\n",
       "      <th>br_base_b1cu</th>\n",
       "      <th>br_base_b1cu_agree</th>\n",
       "      <th>br_base_b1oc</th>\n",
       "      <th>br_base_b1oc_agree</th>\n",
       "      <th>br_base_b1re</th>\n",
       "      <th>br_base_b1re_agree</th>\n",
       "      <th>...</th>\n",
       "      <th>fb_pre_f_rest_agree</th>\n",
       "      <th>fb_pre_f_txt</th>\n",
       "      <th>fb_pre_f_txt_agree</th>\n",
       "      <th>fb_pre_quality</th>\n",
       "      <th>fb_pre_quality_agree</th>\n",
       "      <th>fb_pre_tot_hit</th>\n",
       "      <th>fb_pre_tot_hit_agree</th>\n",
       "      <th>fb_pre_tot_oc</th>\n",
       "      <th>fb_pre_tot_oc_agree</th>\n",
       "      <th>fb_pre_vid</th>\n",
       "    </tr>\n",
       "  </thead>\n",
       "  <tbody>\n",
       "  </tbody>\n",
       "</table>\n",
       "<p>0 rows × 535 columns</p>\n",
       "</div>"
      ],
      "text/plain": [
       "Empty DataFrame\n",
       "Columns: [id_participant, br_base_affect, br_base_b1ac, br_base_b1ac_agree, br_base_b1cu, br_base_b1cu_agree, br_base_b1oc, br_base_b1oc_agree, br_base_b1re, br_base_b1re_agree, br_base_b1sp, br_base_b1sp_agree, br_base_b1su, br_base_b1su_agree, br_base_b1ti, br_base_b1ti_agree, br_base_b2ac, br_base_b2ac_agree, br_base_b2cu, br_base_b2cu_agree, br_base_b2oc, br_base_b2oc_agree, br_base_b2re, br_base_b2re_agree, br_base_b2sp, br_base_b2sp_agree, br_base_b2su, br_base_b2su_agree, br_base_b2ti, br_base_b2ti_agree, br_base_b3ac, br_base_b3ac_agree, br_base_b3cu, br_base_b3cu_agree, br_base_b3oc, br_base_b3oc_agree, br_base_b3re, br_base_b3re_agree, br_base_b3sp, br_base_b3sp_agree, br_base_b3su, br_base_b3su_agree, br_base_b3ti, br_base_b3ti_agree, br_base_b4ac, br_base_b4ac_agree, br_base_b4cu, br_base_b4cu_agree, br_base_b4oc, br_base_b4oc_agree, br_base_b4re, br_base_b4re_agree, br_base_b4sp, br_base_b4sp_agree, br_base_b4su, br_base_b4su_agree, br_base_b4ti, br_base_b4ti_agree, br_base_b5ac, br_base_b5ac_agree, br_base_b5cu, br_base_b5cu_agree, br_base_b5oc, br_base_b5oc_agree, br_base_b5re, br_base_b5re_agree, br_base_b5sp, br_base_b5sp_agree, br_base_b5su, br_base_b5su_agree, br_base_b5ti, br_base_b5ti_agree, br_base_b6ac, br_base_b6ac_agree, br_base_b6cu, br_base_b6cu_agree, br_base_b6oc, br_base_b6oc_agree, br_base_b6re, br_base_b6re_agree, br_base_b6sp, br_base_b6sp_agree, br_base_b6su, br_base_b6su_agree, br_base_b6ti, br_base_b6ti_agree, br_base_cid, br_base_cid2, br_base_dc, br_base_descript, br_base_quality, br_base_quality_agree, br_base_rationale, br_base_rubric_affect, br_base_rubric_dial, br_base_rubric_engage, br_base_rubric_norms, br_base_rubric_spec, br_base_rubric_suc, br_base_tot_ac, ...]\n",
       "Index: []\n",
       "\n",
       "[0 rows x 535 columns]"
      ]
     },
     "execution_count": 11,
     "metadata": {},
     "output_type": "execute_result"
    }
   ],
   "source": [
    "showTable(\"Performance_Measures\", cursor)"
   ]
  },
  {
   "cell_type": "markdown",
   "metadata": {},
   "source": [
    "## Clear Data from Tables"
   ]
  },
  {
   "cell_type": "code",
   "execution_count": 55,
   "metadata": {},
   "outputs": [],
   "source": [
    "tables = [\"Identifiers\", \"Participant_Tracker\", \"Participant_Measures\", \"Survey_Measures\", \"Performance_Measures\"]"
   ]
  },
  {
   "cell_type": "code",
   "execution_count": 56,
   "metadata": {},
   "outputs": [],
   "source": [
    "clearData(tables, cursor)"
   ]
  },
  {
   "cell_type": "markdown",
   "metadata": {},
   "source": [
    "## Close Database Connection"
   ]
  },
  {
   "cell_type": "code",
   "execution_count": 12,
   "metadata": {},
   "outputs": [],
   "source": [
    "cnx.commit()\n",
    "cnx.close()"
   ]
  },
  {
   "cell_type": "code",
   "execution_count": null,
   "metadata": {},
   "outputs": [],
   "source": []
  }
 ],
 "metadata": {
  "kernelspec": {
   "display_name": "Python 3",
   "language": "python",
   "name": "python3"
  },
  "language_info": {
   "codemirror_mode": {
    "name": "ipython",
    "version": 3
   },
   "file_extension": ".py",
   "mimetype": "text/x-python",
   "name": "python",
   "nbconvert_exporter": "python",
   "pygments_lexer": "ipython3",
   "version": "3.7.6"
  }
 },
 "nbformat": 4,
 "nbformat_minor": 4
}
