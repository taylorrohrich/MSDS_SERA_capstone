{
 "cells": [
  {
   "cell_type": "markdown",
   "metadata": {},
   "source": [
    "# Write Data to Database"
   ]
  },
  {
   "cell_type": "markdown",
   "metadata": {},
   "source": [
    "This notebook was used to generate the code needed in the lambda function to write data from a csv file deposited in an s3 bucket to the database."
   ]
  },
  {
   "cell_type": "code",
   "execution_count": 1,
   "metadata": {},
   "outputs": [],
   "source": [
    "import pandas as pd\n",
    "import numpy as np"
   ]
  },
  {
   "cell_type": "markdown",
   "metadata": {},
   "source": [
    "## Connect to Database"
   ]
  },
  {
   "cell_type": "code",
   "execution_count": 2,
   "metadata": {},
   "outputs": [],
   "source": [
    "import mysql.connector"
   ]
  },
  {
   "cell_type": "code",
   "execution_count": 3,
   "metadata": {},
   "outputs": [],
   "source": [
    "endpoint = \"seratestdatabase.c4cjk1vto1om.us-east-2.rds.amazonaws.com\"\n",
    "port = \"3306\"\n",
    "usr = \"admin\"\n",
    "pswd = \"seracapstone\"\n",
    "region = \"us-east-2b\"\n",
    "dbname = \"teachsim\""
   ]
  },
  {
   "cell_type": "code",
   "execution_count": 4,
   "metadata": {},
   "outputs": [],
   "source": [
    "cnx = mysql.connector.connect(user=usr, password=pswd, host=endpoint, database=dbname)"
   ]
  },
  {
   "cell_type": "code",
   "execution_count": 5,
   "metadata": {},
   "outputs": [],
   "source": [
    "cursor = cnx.cursor(buffered=True)"
   ]
  },
  {
   "cell_type": "markdown",
   "metadata": {},
   "source": [
    "## Test Connection"
   ]
  },
  {
   "cell_type": "code",
   "execution_count": 8,
   "metadata": {},
   "outputs": [
    {
     "data": {
      "text/html": [
       "<div>\n",
       "<style scoped>\n",
       "    .dataframe tbody tr th:only-of-type {\n",
       "        vertical-align: middle;\n",
       "    }\n",
       "\n",
       "    .dataframe tbody tr th {\n",
       "        vertical-align: top;\n",
       "    }\n",
       "\n",
       "    .dataframe thead th {\n",
       "        text-align: right;\n",
       "    }\n",
       "</style>\n",
       "<table border=\"1\" class=\"dataframe\">\n",
       "  <thead>\n",
       "    <tr style=\"text-align: right;\">\n",
       "      <th></th>\n",
       "      <th>id_participant</th>\n",
       "      <th>id_section</th>\n",
       "      <th>id_site</th>\n",
       "      <th>id_year</th>\n",
       "      <th>fb_treat_cond</th>\n",
       "      <th>s18_treat_cond</th>\n",
       "    </tr>\n",
       "  </thead>\n",
       "  <tbody>\n",
       "    <tr>\n",
       "      <th>0</th>\n",
       "      <td>testID4</td>\n",
       "      <td>2.0</td>\n",
       "      <td>1</td>\n",
       "      <td>1718.0</td>\n",
       "      <td>1.0</td>\n",
       "      <td>4.0</td>\n",
       "    </tr>\n",
       "    <tr>\n",
       "      <th>1</th>\n",
       "      <td>testID5</td>\n",
       "      <td>1.0</td>\n",
       "      <td>1</td>\n",
       "      <td>2021.0</td>\n",
       "      <td>0.0</td>\n",
       "      <td>5.0</td>\n",
       "    </tr>\n",
       "    <tr>\n",
       "      <th>2</th>\n",
       "      <td>testID6</td>\n",
       "      <td>1.0</td>\n",
       "      <td>1</td>\n",
       "      <td>1718.0</td>\n",
       "      <td>1.0</td>\n",
       "      <td>4.0</td>\n",
       "    </tr>\n",
       "    <tr>\n",
       "      <th>3</th>\n",
       "      <td>testID7</td>\n",
       "      <td>2.0</td>\n",
       "      <td>1</td>\n",
       "      <td>2021.0</td>\n",
       "      <td>0.0</td>\n",
       "      <td>5.0</td>\n",
       "    </tr>\n",
       "  </tbody>\n",
       "</table>\n",
       "</div>"
      ],
      "text/plain": [
       "  id_participant  id_section id_site  id_year  fb_treat_cond  s18_treat_cond\n",
       "0        testID4         2.0       1   1718.0            1.0             4.0\n",
       "1        testID5         1.0       1   2021.0            0.0             5.0\n",
       "2        testID6         1.0       1   1718.0            1.0             4.0\n",
       "3        testID7         2.0       1   2021.0            0.0             5.0"
      ]
     },
     "execution_count": 8,
     "metadata": {},
     "output_type": "execute_result"
    }
   ],
   "source": [
    "cursor.execute(\"SELECT id_participant, id_section, id_site, id_year, fb_treat_cond, s18_treat_cond FROM Identifiers WHERE id_participant LIKE 'testID%'\")\n",
    "#cursor.execute(\"SELECT * FROM Identifiers;\")\n",
    "result = cursor.fetchall()\n",
    "colnames = [x[0] for x in cursor.description]\n",
    "pd.DataFrame(result, columns=colnames)"
   ]
  },
  {
   "cell_type": "code",
   "execution_count": 16,
   "metadata": {},
   "outputs": [],
   "source": [
    "cursor.execute(\"REPLACE INTO Identifiers (id_participant) VALUES ('testID3');\")"
   ]
  },
  {
   "cell_type": "code",
   "execution_count": 7,
   "metadata": {},
   "outputs": [],
   "source": [
    "cursor.execute(\"DELETE FROM Identifiers;\")"
   ]
  },
  {
   "cell_type": "markdown",
   "metadata": {},
   "source": [
    "## Set Working Directory"
   ]
  },
  {
   "cell_type": "code",
   "execution_count": 11,
   "metadata": {},
   "outputs": [
    {
     "data": {
      "text/plain": [
       "'/Users/jmachita03/Documents/GitHub/MSDS_SERA_capstone/RDS'"
      ]
     },
     "execution_count": 11,
     "metadata": {},
     "output_type": "execute_result"
    }
   ],
   "source": [
    "import os\n",
    "os.getcwd()"
   ]
  },
  {
   "cell_type": "code",
   "execution_count": 12,
   "metadata": {},
   "outputs": [],
   "source": [
    "#os.chdir(\"/Users/jmachita03/Desktop/Capstone/RDS Set Up\")"
   ]
  },
  {
   "cell_type": "code",
   "execution_count": 13,
   "metadata": {},
   "outputs": [],
   "source": [
    "os.chdir('/Users/jmachita03/Documents/GitHub/MSDS_SERA_capstone/RDS')"
   ]
  },
  {
   "cell_type": "markdown",
   "metadata": {},
   "source": [
    "## Functions"
   ]
  },
  {
   "cell_type": "code",
   "execution_count": 14,
   "metadata": {},
   "outputs": [],
   "source": [
    "def getColumnNames(tableName, cursor):\n",
    "    query = \"SELECT COLUMN_NAME FROM INFORMATION_SCHEMA.COLUMNS WHERE TABLE_NAME = N'\" + tableName + \"'\"\n",
    "    cursor.execute(query)\n",
    "    result = cursor.fetchall()\n",
    "    result2 = [x[0] for x in result]\n",
    "    \n",
    "    return result2"
   ]
  },
  {
   "cell_type": "code",
   "execution_count": 15,
   "metadata": {},
   "outputs": [],
   "source": [
    "def overlapColumns(cols1, cols2):\n",
    "    overlap = []\n",
    "    for col in cols1:\n",
    "        if col in cols2:\n",
    "            overlap = overlap + [col]\n",
    "    return overlap"
   ]
  },
  {
   "cell_type": "code",
   "execution_count": 16,
   "metadata": {},
   "outputs": [],
   "source": [
    "def getExistingIds(tableName, cursor):\n",
    "    query = \"SELECT id_participant FROM \" + str(tableName)\n",
    "    cursor.execute(query)\n",
    "    result = cursor.fetchall()\n",
    "    existing_ids = [x[0] for x in result]\n",
    "    return existing_ids"
   ]
  },
  {
   "cell_type": "code",
   "execution_count": 17,
   "metadata": {},
   "outputs": [],
   "source": [
    "# encompasses a combo of the replaceQueries and updateQueries functions\n",
    "def list_queries(df, columns, tableName, existing_ids):\n",
    "    queries = []\n",
    "    for index, row in df.iterrows():\n",
    "        # if the row for that participant already exists, just update it\n",
    "        if row['id_participant'] in existing_ids:\n",
    "            req_update = False\n",
    "            query = \"UPDATE \" + tableName + \" SET \"\n",
    "            for col in columns:\n",
    "                newval = row[col]\n",
    "                if type(newval) == str:\n",
    "                    query = query + col + \" = '\" + newval + \"' , \"\n",
    "                    req_update = True\n",
    "                elif np.isnan(float(newval)) == False: \n",
    "                    query = query + col + \" = \" + str(newval) + \" , \"\n",
    "                    req_update = True\n",
    "            if req_update == True:\n",
    "                query = query[:-2]\n",
    "                query = query + \"WHERE id_participant = '\" + row[\"id_participant\"] + \"';\"\n",
    "                queries = queries + [query]\n",
    "        \n",
    "        # if that participant is not in the database, create/replace the row\n",
    "        else:\n",
    "            req_update = False\n",
    "            query = \"REPLACE INTO \" +  tableName + \" \"\n",
    "            cols = \"(\"\n",
    "            vals = \"(\"\n",
    "            for col in columns:\n",
    "                val = row[col] \n",
    "                if type(val) == str:\n",
    "                    cols = cols + str(col) + \", \"\n",
    "                    vals = vals + \"'\" + val + \"', \"\n",
    "                    req_update = True\n",
    "                elif np.isnan(float(val)) == False: \n",
    "                    cols = cols + str(col) + \", \"\n",
    "                    vals = vals + str(val) + \", \"\n",
    "                    req_update = True\n",
    "            query = query + cols[:-2] + \") \" + 'VALUES ' + vals[:-2] + \");\"\n",
    "            if req_update == True:\n",
    "                queries = queries + [query]\n",
    "                existing_ids = existing_ids + [row['id_participant']]\n",
    "            \n",
    "    return queries"
   ]
  },
  {
   "cell_type": "code",
   "execution_count": 18,
   "metadata": {},
   "outputs": [],
   "source": [
    "def generateQueries(df, tableName, cursor):\n",
    "    df_cols = df.columns\n",
    "    tab_cols = getColumnNames(tableName, cursor)\n",
    "    overlap = overlapColumns(df_cols, tab_cols)\n",
    "    \n",
    "    existing_ids = getExistingIds(tableName, cursor)\n",
    "    \n",
    "    query_list = list_queries(df, overlap, tableName, existing_ids)\n",
    "    \n",
    "    return query_list"
   ]
  },
  {
   "cell_type": "code",
   "execution_count": 19,
   "metadata": {},
   "outputs": [
    {
     "data": {
      "text/plain": [
       "'/Users/jmachita03/opt/anaconda3/lib/python3.7/site-packages/pandas/__init__.py'"
      ]
     },
     "execution_count": 19,
     "metadata": {},
     "output_type": "execute_result"
    }
   ],
   "source": [
    "pd.__file__"
   ]
  },
  {
   "cell_type": "markdown",
   "metadata": {},
   "source": [
    "## Get Id_Participants Already in Table"
   ]
  },
  {
   "cell_type": "code",
   "execution_count": 21,
   "metadata": {
    "scrolled": true
   },
   "outputs": [
    {
     "data": {
      "text/plain": [
       "['testID3']"
      ]
     },
     "execution_count": 21,
     "metadata": {},
     "output_type": "execute_result"
    }
   ],
   "source": [
    "cursor.execute(\"SELECT id_participant FROM Identifiers\")\n",
    "result = cursor.fetchall()\n",
    "existing_ids = [x[0] for x in result]\n",
    "existing_ids"
   ]
  },
  {
   "cell_type": "markdown",
   "metadata": {},
   "source": [
    "## Import Cleaned Dataset"
   ]
  },
  {
   "cell_type": "code",
   "execution_count": 22,
   "metadata": {},
   "outputs": [],
   "source": [
    "data = pd.read_csv(\"outcome_merged.csv\")"
   ]
  },
  {
   "cell_type": "code",
   "execution_count": 23,
   "metadata": {},
   "outputs": [],
   "source": [
    "cleaned_cols = list(data.columns)"
   ]
  },
  {
   "cell_type": "code",
   "execution_count": 24,
   "metadata": {},
   "outputs": [],
   "source": [
    "uploaded_data = data.dropna(axis='rows', subset=['id_participant'])"
   ]
  },
  {
   "cell_type": "code",
   "execution_count": 26,
   "metadata": {},
   "outputs": [
    {
     "data": {
      "text/plain": [
       "'1_1819_2_67'"
      ]
     },
     "execution_count": 26,
     "metadata": {},
     "output_type": "execute_result"
    }
   ],
   "source": [
    "uploaded_data.id_participant[0]"
   ]
  },
  {
   "cell_type": "markdown",
   "metadata": {},
   "source": [
    "## Test generateQueries function"
   ]
  },
  {
   "cell_type": "code",
   "execution_count": 27,
   "metadata": {},
   "outputs": [],
   "source": [
    "quer = generateQueries(uploaded_data, \"Identifiers\", cursor)"
   ]
  },
  {
   "cell_type": "code",
   "execution_count": 28,
   "metadata": {},
   "outputs": [
    {
     "data": {
      "text/plain": [
       "[\"REPLACE INTO Identifiers (fb_treat_cond, id_participant, id_section, id_site, id_year) VALUES (0.0, '1_1819_2_67', 2.0, 1.0, 1819.0);\",\n",
       " \"UPDATE Identifiers SET fb_treat_cond = 0.0 , id_participant = '1_1819_2_67' , id_section = 2.0 , id_site = 1.0 , id_year = 1819.0 WHERE id_participant = '1_1819_2_67';\",\n",
       " \"REPLACE INTO Identifiers (fb_treat_cond, id_participant, id_section, id_site, id_year) VALUES (0.0, '1_1819_3_86', 3.0, 1.0, 1819.0);\",\n",
       " \"UPDATE Identifiers SET fb_treat_cond = 0.0 , id_participant = '1_1819_3_86' , id_section = 3.0 , id_site = 1.0 , id_year = 1819.0 WHERE id_participant = '1_1819_3_86';\",\n",
       " \"UPDATE Identifiers SET fb_treat_cond = 0.0 , id_participant = '1_1819_3_86' , id_section = 3.0 , id_site = 1.0 , id_year = 1819.0 WHERE id_participant = '1_1819_3_86';\",\n",
       " \"REPLACE INTO Identifiers (fb_treat_cond, id_participant, id_section, id_site, id_year) VALUES (0.0, '1_1819_4_108', 4.0, 1.0, 1819.0);\",\n",
       " \"UPDATE Identifiers SET fb_treat_cond = 0.0 , id_participant = '1_1819_4_108' , id_section = 4.0 , id_site = 1.0 , id_year = 1819.0 WHERE id_participant = '1_1819_4_108';\",\n",
       " \"UPDATE Identifiers SET fb_treat_cond = 0.0 , id_participant = '1_1819_4_108' , id_section = 4.0 , id_site = 1.0 , id_year = 1819.0 WHERE id_participant = '1_1819_4_108';\",\n",
       " \"REPLACE INTO Identifiers (fb_treat_cond, id_participant, id_section, id_site, id_year) VALUES (1.0, '1_1819_2_76', 2.0, 1.0, 1819.0);\",\n",
       " \"UPDATE Identifiers SET fb_treat_cond = 1.0 , id_participant = '1_1819_2_76' , id_section = 2.0 , id_site = 1.0 , id_year = 1819.0 WHERE id_participant = '1_1819_2_76';\",\n",
       " \"UPDATE Identifiers SET fb_treat_cond = 1.0 , id_participant = '1_1819_2_76' , id_section = 2.0 , id_site = 1.0 , id_year = 1819.0 WHERE id_participant = '1_1819_2_76';\",\n",
       " \"REPLACE INTO Identifiers (fb_treat_cond, id_participant, id_section, id_site, id_year) VALUES (1.0, '1_1819_1_14', 1.0, 1.0, 1819.0);\",\n",
       " \"UPDATE Identifiers SET fb_treat_cond = 1.0 , id_participant = '1_1819_1_14' , id_section = 1.0 , id_site = 1.0 , id_year = 1819.0 WHERE id_participant = '1_1819_1_14';\",\n",
       " \"REPLACE INTO Identifiers (fb_treat_cond, id_participant, id_section, id_site, id_year) VALUES (1.0, '1_1819_3_87', 3.0, 1.0, 1819.0);\",\n",
       " \"UPDATE Identifiers SET fb_treat_cond = 1.0 , id_participant = '1_1819_3_87' , id_section = 3.0 , id_site = 1.0 , id_year = 1819.0 WHERE id_participant = '1_1819_3_87';\",\n",
       " \"REPLACE INTO Identifiers (fb_treat_cond, id_participant, id_section, id_site, id_year) VALUES (0.0, '1_1819_1_5', 1.0, 1.0, 1819.0);\",\n",
       " \"UPDATE Identifiers SET fb_treat_cond = 0.0 , id_participant = '1_1819_1_5' , id_section = 1.0 , id_site = 1.0 , id_year = 1819.0 WHERE id_participant = '1_1819_1_5';\",\n",
       " \"UPDATE Identifiers SET fb_treat_cond = 0.0 , id_participant = '1_1819_1_5' , id_section = 1.0 , id_site = 1.0 , id_year = 1819.0 WHERE id_participant = '1_1819_1_5';\",\n",
       " \"REPLACE INTO Identifiers (fb_treat_cond, id_participant, id_section, id_site, id_year) VALUES (1.0, '1_1819_3_96', 3.0, 1.0, 1819.0);\",\n",
       " \"UPDATE Identifiers SET fb_treat_cond = 1.0 , id_participant = '1_1819_3_96' , id_section = 3.0 , id_site = 1.0 , id_year = 1819.0 WHERE id_participant = '1_1819_3_96';\",\n",
       " \"UPDATE Identifiers SET fb_treat_cond = 1.0 , id_participant = '1_1819_3_96' , id_section = 3.0 , id_site = 1.0 , id_year = 1819.0 WHERE id_participant = '1_1819_3_96';\",\n",
       " \"REPLACE INTO Identifiers (fb_treat_cond, id_participant, id_section, id_site, id_year) VALUES (0.0, '1_1819_3_83', 3.0, 1.0, 1819.0);\",\n",
       " \"UPDATE Identifiers SET fb_treat_cond = 0.0 , id_participant = '1_1819_3_83' , id_section = 3.0 , id_site = 1.0 , id_year = 1819.0 WHERE id_participant = '1_1819_3_83';\",\n",
       " \"UPDATE Identifiers SET fb_treat_cond = 0.0 , id_participant = '1_1819_3_83' , id_section = 3.0 , id_site = 1.0 , id_year = 1819.0 WHERE id_participant = '1_1819_3_83';\",\n",
       " \"REPLACE INTO Identifiers (fb_treat_cond, id_participant, id_section, id_site, id_year) VALUES (1.0, '1_1819_2_59', 2.0, 1.0, 1819.0);\",\n",
       " \"UPDATE Identifiers SET fb_treat_cond = 1.0 , id_participant = '1_1819_2_59' , id_section = 2.0 , id_site = 1.0 , id_year = 1819.0 WHERE id_participant = '1_1819_2_59';\",\n",
       " \"REPLACE INTO Identifiers (fb_treat_cond, id_participant, id_section, id_site, id_year) VALUES (0.0, '1_1819_2_54', 2.0, 1.0, 1819.0);\",\n",
       " \"UPDATE Identifiers SET fb_treat_cond = 0.0 , id_participant = '1_1819_2_54' , id_section = 2.0 , id_site = 1.0 , id_year = 1819.0 WHERE id_participant = '1_1819_2_54';\",\n",
       " \"UPDATE Identifiers SET fb_treat_cond = 0.0 , id_participant = '1_1819_2_54' , id_section = 2.0 , id_site = 1.0 , id_year = 1819.0 WHERE id_participant = '1_1819_2_54';\",\n",
       " \"REPLACE INTO Identifiers (fb_treat_cond, id_participant, id_section, id_site, id_year) VALUES (0.0, '1_1819_1_30', 1.0, 1.0, 1819.0);\",\n",
       " \"UPDATE Identifiers SET fb_treat_cond = 0.0 , id_participant = '1_1819_1_30' , id_section = 1.0 , id_site = 1.0 , id_year = 1819.0 WHERE id_participant = '1_1819_1_30';\",\n",
       " \"REPLACE INTO Identifiers (fb_treat_cond, id_participant, id_section, id_site, id_year) VALUES (0.0, '1_1819_1_22', 1.0, 1.0, 1819.0);\",\n",
       " \"UPDATE Identifiers SET fb_treat_cond = 0.0 , id_participant = '1_1819_1_22' , id_section = 1.0 , id_site = 1.0 , id_year = 1819.0 WHERE id_participant = '1_1819_1_22';\",\n",
       " \"UPDATE Identifiers SET fb_treat_cond = 0.0 , id_participant = '1_1819_1_22' , id_section = 1.0 , id_site = 1.0 , id_year = 1819.0 WHERE id_participant = '1_1819_1_22';\",\n",
       " \"REPLACE INTO Identifiers (fb_treat_cond, id_participant, id_section, id_site, id_year) VALUES (0.0, '1_1819_4_107', 4.0, 1.0, 1819.0);\",\n",
       " \"UPDATE Identifiers SET fb_treat_cond = 0.0 , id_participant = '1_1819_4_107' , id_section = 4.0 , id_site = 1.0 , id_year = 1819.0 WHERE id_participant = '1_1819_4_107';\",\n",
       " \"REPLACE INTO Identifiers (fb_treat_cond, id_participant, id_section, id_site, id_year) VALUES (1.0, '1_1819_1_23', 1.0, 1.0, 1819.0);\",\n",
       " \"UPDATE Identifiers SET fb_treat_cond = 1.0 , id_participant = '1_1819_1_23' , id_section = 1.0 , id_site = 1.0 , id_year = 1819.0 WHERE id_participant = '1_1819_1_23';\",\n",
       " \"UPDATE Identifiers SET fb_treat_cond = 1.0 , id_participant = '1_1819_1_23' , id_section = 1.0 , id_site = 1.0 , id_year = 1819.0 WHERE id_participant = '1_1819_1_23';\",\n",
       " \"REPLACE INTO Identifiers (fb_treat_cond, id_participant, id_section, id_site, id_year) VALUES (1.0, '1_1819_3_97', 3.0, 1.0, 1819.0);\",\n",
       " \"REPLACE INTO Identifiers (fb_treat_cond, id_participant, id_section, id_site, id_year) VALUES (0.0, '1_1819_2_34', 2.0, 1.0, 1819.0);\",\n",
       " \"UPDATE Identifiers SET fb_treat_cond = 0.0 , id_participant = '1_1819_2_34' , id_section = 2.0 , id_site = 1.0 , id_year = 1819.0 WHERE id_participant = '1_1819_2_34';\",\n",
       " \"UPDATE Identifiers SET fb_treat_cond = 0.0 , id_participant = '1_1819_2_34' , id_section = 2.0 , id_site = 1.0 , id_year = 1819.0 WHERE id_participant = '1_1819_2_34';\",\n",
       " \"REPLACE INTO Identifiers (fb_treat_cond, id_participant, id_section, id_site, id_year) VALUES (0.0, '1_1819_4_114', 4.0, 1.0, 1819.0);\",\n",
       " \"UPDATE Identifiers SET fb_treat_cond = 0.0 , id_participant = '1_1819_4_114' , id_section = 4.0 , id_site = 1.0 , id_year = 1819.0 WHERE id_participant = '1_1819_4_114';\",\n",
       " \"UPDATE Identifiers SET fb_treat_cond = 0.0 , id_participant = '1_1819_4_114' , id_section = 4.0 , id_site = 1.0 , id_year = 1819.0 WHERE id_participant = '1_1819_4_114';\",\n",
       " \"REPLACE INTO Identifiers (fb_treat_cond, id_participant, id_section, id_site, id_year) VALUES (1.0, '1_1819_3_90', 3.0, 1.0, 1819.0);\",\n",
       " \"REPLACE INTO Identifiers (fb_treat_cond, id_participant, id_section, id_site, id_year) VALUES (0.0, '1_1819_3_78', 3.0, 1.0, 1819.0);\",\n",
       " \"UPDATE Identifiers SET fb_treat_cond = 0.0 , id_participant = '1_1819_3_78' , id_section = 3.0 , id_site = 1.0 , id_year = 1819.0 WHERE id_participant = '1_1819_3_78';\",\n",
       " \"UPDATE Identifiers SET fb_treat_cond = 0.0 , id_participant = '1_1819_3_78' , id_section = 3.0 , id_site = 1.0 , id_year = 1819.0 WHERE id_participant = '1_1819_3_78';\",\n",
       " \"REPLACE INTO Identifiers (fb_treat_cond, id_participant, id_section, id_site, id_year) VALUES (0.0, '1_1819_4_113', 4.0, 1.0, 1819.0);\",\n",
       " \"UPDATE Identifiers SET fb_treat_cond = 0.0 , id_participant = '1_1819_4_113' , id_section = 4.0 , id_site = 1.0 , id_year = 1819.0 WHERE id_participant = '1_1819_4_113';\",\n",
       " \"REPLACE INTO Identifiers (fb_treat_cond, id_participant, id_section, id_site, id_year) VALUES (0.0, '1_1819_2_40', 2.0, 1.0, 1819.0);\",\n",
       " \"UPDATE Identifiers SET fb_treat_cond = 0.0 , id_participant = '1_1819_2_40' , id_section = 2.0 , id_site = 1.0 , id_year = 1819.0 WHERE id_participant = '1_1819_2_40';\",\n",
       " \"UPDATE Identifiers SET fb_treat_cond = 0.0 , id_participant = '1_1819_2_40' , id_section = 2.0 , id_site = 1.0 , id_year = 1819.0 WHERE id_participant = '1_1819_2_40';\",\n",
       " \"REPLACE INTO Identifiers (fb_treat_cond, id_participant, id_section, id_site, id_year) VALUES (0.0, '1_1819_3_74', 3.0, 1.0, 1819.0);\",\n",
       " \"UPDATE Identifiers SET fb_treat_cond = 0.0 , id_participant = '1_1819_3_74' , id_section = 3.0 , id_site = 1.0 , id_year = 1819.0 WHERE id_participant = '1_1819_3_74';\",\n",
       " \"UPDATE Identifiers SET fb_treat_cond = 0.0 , id_participant = '1_1819_3_74' , id_section = 3.0 , id_site = 1.0 , id_year = 1819.0 WHERE id_participant = '1_1819_3_74';\",\n",
       " \"REPLACE INTO Identifiers (fb_treat_cond, id_participant, id_section, id_site, id_year) VALUES (0.0, '1_1819_3_71', 3.0, 1.0, 1819.0);\",\n",
       " \"UPDATE Identifiers SET fb_treat_cond = 0.0 , id_participant = '1_1819_3_71' , id_section = 3.0 , id_site = 1.0 , id_year = 1819.0 WHERE id_participant = '1_1819_3_71';\",\n",
       " \"REPLACE INTO Identifiers (fb_treat_cond, id_participant, id_section, id_site, id_year) VALUES (0.0, '1_1819_3_103', 3.0, 1.0, 1819.0);\",\n",
       " \"UPDATE Identifiers SET fb_treat_cond = 0.0 , id_participant = '1_1819_3_103' , id_section = 3.0 , id_site = 1.0 , id_year = 1819.0 WHERE id_participant = '1_1819_3_103';\",\n",
       " \"UPDATE Identifiers SET fb_treat_cond = 0.0 , id_participant = '1_1819_3_103' , id_section = 3.0 , id_site = 1.0 , id_year = 1819.0 WHERE id_participant = '1_1819_3_103';\",\n",
       " \"REPLACE INTO Identifiers (fb_treat_cond, id_participant, id_section, id_site, id_year) VALUES (1.0, '1_1819_3_95', 3.0, 1.0, 1819.0);\",\n",
       " \"UPDATE Identifiers SET fb_treat_cond = 1.0 , id_participant = '1_1819_3_95' , id_section = 3.0 , id_site = 1.0 , id_year = 1819.0 WHERE id_participant = '1_1819_3_95';\",\n",
       " \"UPDATE Identifiers SET fb_treat_cond = 1.0 , id_participant = '1_1819_3_95' , id_section = 3.0 , id_site = 1.0 , id_year = 1819.0 WHERE id_participant = '1_1819_3_95';\",\n",
       " \"REPLACE INTO Identifiers (fb_treat_cond, id_participant, id_section, id_site, id_year) VALUES (1.0, '1_1819_1_3', 1.0, 1.0, 1819.0);\",\n",
       " \"UPDATE Identifiers SET fb_treat_cond = 1.0 , id_participant = '1_1819_1_3' , id_section = 1.0 , id_site = 1.0 , id_year = 1819.0 WHERE id_participant = '1_1819_1_3';\",\n",
       " \"UPDATE Identifiers SET fb_treat_cond = 1.0 , id_participant = '1_1819_1_3' , id_section = 1.0 , id_site = 1.0 , id_year = 1819.0 WHERE id_participant = '1_1819_1_3';\",\n",
       " \"REPLACE INTO Identifiers (fb_treat_cond, id_participant, id_section, id_site, id_year) VALUES (0.0, '1_1819_3_77', 3.0, 1.0, 1819.0);\",\n",
       " \"UPDATE Identifiers SET fb_treat_cond = 0.0 , id_participant = '1_1819_3_77' , id_section = 3.0 , id_site = 1.0 , id_year = 1819.0 WHERE id_participant = '1_1819_3_77';\",\n",
       " \"UPDATE Identifiers SET fb_treat_cond = 0.0 , id_participant = '1_1819_3_77' , id_section = 3.0 , id_site = 1.0 , id_year = 1819.0 WHERE id_participant = '1_1819_3_77';\",\n",
       " \"REPLACE INTO Identifiers (fb_treat_cond, id_participant, id_section, id_site, id_year) VALUES (0.0, '1_1819_2_43', 2.0, 1.0, 1819.0);\",\n",
       " \"UPDATE Identifiers SET fb_treat_cond = 0.0 , id_participant = '1_1819_2_43' , id_section = 2.0 , id_site = 1.0 , id_year = 1819.0 WHERE id_participant = '1_1819_2_43';\",\n",
       " \"UPDATE Identifiers SET fb_treat_cond = 0.0 , id_participant = '1_1819_2_43' , id_section = 2.0 , id_site = 1.0 , id_year = 1819.0 WHERE id_participant = '1_1819_2_43';\",\n",
       " \"REPLACE INTO Identifiers (fb_treat_cond, id_participant, id_section, id_site, id_year) VALUES (1.0, '1_1819_3_98', 3.0, 1.0, 1819.0);\",\n",
       " \"UPDATE Identifiers SET fb_treat_cond = 1.0 , id_participant = '1_1819_3_98' , id_section = 3.0 , id_site = 1.0 , id_year = 1819.0 WHERE id_participant = '1_1819_3_98';\",\n",
       " \"UPDATE Identifiers SET fb_treat_cond = 1.0 , id_participant = '1_1819_3_98' , id_section = 3.0 , id_site = 1.0 , id_year = 1819.0 WHERE id_participant = '1_1819_3_98';\",\n",
       " \"REPLACE INTO Identifiers (fb_treat_cond, id_participant, id_section, id_site, id_year) VALUES (1.0, '1_1819_2_70', 2.0, 1.0, 1819.0);\",\n",
       " \"UPDATE Identifiers SET fb_treat_cond = 1.0 , id_participant = '1_1819_2_70' , id_section = 2.0 , id_site = 1.0 , id_year = 1819.0 WHERE id_participant = '1_1819_2_70';\",\n",
       " \"UPDATE Identifiers SET fb_treat_cond = 1.0 , id_participant = '1_1819_2_70' , id_section = 2.0 , id_site = 1.0 , id_year = 1819.0 WHERE id_participant = '1_1819_2_70';\",\n",
       " \"REPLACE INTO Identifiers (fb_treat_cond, id_participant, id_section, id_site, id_year) VALUES (1.0, '1_1819_1_19', 1.0, 1.0, 1819.0);\",\n",
       " \"UPDATE Identifiers SET fb_treat_cond = 1.0 , id_participant = '1_1819_1_19' , id_section = 1.0 , id_site = 1.0 , id_year = 1819.0 WHERE id_participant = '1_1819_1_19';\",\n",
       " \"REPLACE INTO Identifiers (fb_treat_cond, id_participant, id_section, id_site, id_year) VALUES (1.0, '1_1819_2_53', 2.0, 1.0, 1819.0);\",\n",
       " \"UPDATE Identifiers SET fb_treat_cond = 1.0 , id_participant = '1_1819_2_53' , id_section = 2.0 , id_site = 1.0 , id_year = 1819.0 WHERE id_participant = '1_1819_2_53';\",\n",
       " \"UPDATE Identifiers SET fb_treat_cond = 1.0 , id_participant = '1_1819_2_53' , id_section = 2.0 , id_site = 1.0 , id_year = 1819.0 WHERE id_participant = '1_1819_2_53';\",\n",
       " \"REPLACE INTO Identifiers (fb_treat_cond, id_participant, id_section, id_site, id_year) VALUES (1.0, '1_1819_3_91', 3.0, 1.0, 1819.0);\",\n",
       " \"UPDATE Identifiers SET fb_treat_cond = 1.0 , id_participant = '1_1819_3_91' , id_section = 3.0 , id_site = 1.0 , id_year = 1819.0 WHERE id_participant = '1_1819_3_91';\",\n",
       " \"UPDATE Identifiers SET fb_treat_cond = 1.0 , id_participant = '1_1819_3_91' , id_section = 3.0 , id_site = 1.0 , id_year = 1819.0 WHERE id_participant = '1_1819_3_91';\",\n",
       " \"REPLACE INTO Identifiers (fb_treat_cond, id_participant, id_section, id_site, id_year) VALUES (0.0, '1_1819_2_35', 2.0, 1.0, 1819.0);\",\n",
       " \"UPDATE Identifiers SET fb_treat_cond = 0.0 , id_participant = '1_1819_2_35' , id_section = 2.0 , id_site = 1.0 , id_year = 1819.0 WHERE id_participant = '1_1819_2_35';\",\n",
       " \"UPDATE Identifiers SET fb_treat_cond = 0.0 , id_participant = '1_1819_2_35' , id_section = 2.0 , id_site = 1.0 , id_year = 1819.0 WHERE id_participant = '1_1819_2_35';\",\n",
       " \"REPLACE INTO Identifiers (fb_treat_cond, id_participant, id_section, id_site, id_year) VALUES (0.0, '1_1819_2_38', 2.0, 1.0, 1819.0);\",\n",
       " \"UPDATE Identifiers SET fb_treat_cond = 0.0 , id_participant = '1_1819_2_38' , id_section = 2.0 , id_site = 1.0 , id_year = 1819.0 WHERE id_participant = '1_1819_2_38';\",\n",
       " \"UPDATE Identifiers SET fb_treat_cond = 0.0 , id_participant = '1_1819_2_38' , id_section = 2.0 , id_site = 1.0 , id_year = 1819.0 WHERE id_participant = '1_1819_2_38';\",\n",
       " \"REPLACE INTO Identifiers (fb_treat_cond, id_participant, id_section, id_site, id_year) VALUES (1.0, '1_1819_1_8', 1.0, 1.0, 1819.0);\",\n",
       " \"REPLACE INTO Identifiers (fb_treat_cond, id_participant, id_section, id_site, id_year) VALUES (0.0, '1_1819_2_66', 2.0, 1.0, 1819.0);\",\n",
       " \"UPDATE Identifiers SET fb_treat_cond = 0.0 , id_participant = '1_1819_2_66' , id_section = 2.0 , id_site = 1.0 , id_year = 1819.0 WHERE id_participant = '1_1819_2_66';\",\n",
       " \"REPLACE INTO Identifiers (fb_treat_cond, id_participant, id_section, id_site, id_year) VALUES (0.0, '1_1819_2_64', 2.0, 1.0, 1819.0);\",\n",
       " \"UPDATE Identifiers SET fb_treat_cond = 0.0 , id_participant = '1_1819_2_64' , id_section = 2.0 , id_site = 1.0 , id_year = 1819.0 WHERE id_participant = '1_1819_2_64';\",\n",
       " \"UPDATE Identifiers SET fb_treat_cond = 0.0 , id_participant = '1_1819_2_64' , id_section = 2.0 , id_site = 1.0 , id_year = 1819.0 WHERE id_participant = '1_1819_2_64';\",\n",
       " \"REPLACE INTO Identifiers (fb_treat_cond, id_participant, id_section, id_site, id_year) VALUES (1.0, '1_1819_4_109', 4.0, 1.0, 1819.0);\",\n",
       " \"UPDATE Identifiers SET fb_treat_cond = 1.0 , id_participant = '1_1819_4_109' , id_section = 4.0 , id_site = 1.0 , id_year = 1819.0 WHERE id_participant = '1_1819_4_109';\",\n",
       " \"UPDATE Identifiers SET fb_treat_cond = 1.0 , id_participant = '1_1819_4_109' , id_section = 4.0 , id_site = 1.0 , id_year = 1819.0 WHERE id_participant = '1_1819_4_109';\",\n",
       " \"REPLACE INTO Identifiers (fb_treat_cond, id_participant, id_section, id_site, id_year) VALUES (0.0, '1_1819_2_52', 2.0, 1.0, 1819.0);\",\n",
       " \"UPDATE Identifiers SET fb_treat_cond = 0.0 , id_participant = '1_1819_2_52' , id_section = 2.0 , id_site = 1.0 , id_year = 1819.0 WHERE id_participant = '1_1819_2_52';\",\n",
       " \"UPDATE Identifiers SET fb_treat_cond = 0.0 , id_participant = '1_1819_2_52' , id_section = 2.0 , id_site = 1.0 , id_year = 1819.0 WHERE id_participant = '1_1819_2_52';\",\n",
       " \"REPLACE INTO Identifiers (fb_treat_cond, id_participant, id_section, id_site, id_year) VALUES (0.0, '1_1819_3_73', 3.0, 1.0, 1819.0);\",\n",
       " \"UPDATE Identifiers SET fb_treat_cond = 0.0 , id_participant = '1_1819_3_73' , id_section = 3.0 , id_site = 1.0 , id_year = 1819.0 WHERE id_participant = '1_1819_3_73';\",\n",
       " \"UPDATE Identifiers SET fb_treat_cond = 0.0 , id_participant = '1_1819_3_73' , id_section = 3.0 , id_site = 1.0 , id_year = 1819.0 WHERE id_participant = '1_1819_3_73';\",\n",
       " \"REPLACE INTO Identifiers (fb_treat_cond, id_participant, id_section, id_site, id_year) VALUES (1.0, '1_1819_3_72', 3.0, 1.0, 1819.0);\",\n",
       " \"UPDATE Identifiers SET fb_treat_cond = 1.0 , id_participant = '1_1819_3_72' , id_section = 3.0 , id_site = 1.0 , id_year = 1819.0 WHERE id_participant = '1_1819_3_72';\",\n",
       " \"UPDATE Identifiers SET fb_treat_cond = 1.0 , id_participant = '1_1819_3_72' , id_section = 3.0 , id_site = 1.0 , id_year = 1819.0 WHERE id_participant = '1_1819_3_72';\",\n",
       " \"REPLACE INTO Identifiers (fb_treat_cond, id_participant, id_section, id_site, id_year) VALUES (1.0, '1_1819_1_27', 1.0, 1.0, 1819.0);\",\n",
       " \"UPDATE Identifiers SET fb_treat_cond = 1.0 , id_participant = '1_1819_1_27' , id_section = 1.0 , id_site = 1.0 , id_year = 1819.0 WHERE id_participant = '1_1819_1_27';\",\n",
       " \"UPDATE Identifiers SET fb_treat_cond = 1.0 , id_participant = '1_1819_1_27' , id_section = 1.0 , id_site = 1.0 , id_year = 1819.0 WHERE id_participant = '1_1819_1_27';\",\n",
       " \"REPLACE INTO Identifiers (fb_treat_cond, id_participant, id_section, id_site, id_year) VALUES (1.0, '1_1819_3_88', 3.0, 1.0, 1819.0);\",\n",
       " \"UPDATE Identifiers SET fb_treat_cond = 1.0 , id_participant = '1_1819_3_88' , id_section = 3.0 , id_site = 1.0 , id_year = 1819.0 WHERE id_participant = '1_1819_3_88';\",\n",
       " \"UPDATE Identifiers SET fb_treat_cond = 1.0 , id_participant = '1_1819_3_88' , id_section = 3.0 , id_site = 1.0 , id_year = 1819.0 WHERE id_participant = '1_1819_3_88';\",\n",
       " \"REPLACE INTO Identifiers (fb_treat_cond, id_participant, id_section, id_site, id_year) VALUES (1.0, '1_1819_3_94', 3.0, 1.0, 1819.0);\",\n",
       " \"UPDATE Identifiers SET fb_treat_cond = 1.0 , id_participant = '1_1819_3_94' , id_section = 3.0 , id_site = 1.0 , id_year = 1819.0 WHERE id_participant = '1_1819_3_94';\",\n",
       " \"REPLACE INTO Identifiers (fb_treat_cond, id_participant, id_section, id_site, id_year) VALUES (1.0, '1_1819_3_85', 3.0, 1.0, 1819.0);\",\n",
       " \"UPDATE Identifiers SET fb_treat_cond = 1.0 , id_participant = '1_1819_3_85' , id_section = 3.0 , id_site = 1.0 , id_year = 1819.0 WHERE id_participant = '1_1819_3_85';\",\n",
       " \"REPLACE INTO Identifiers (fb_treat_cond, id_participant, id_section, id_site, id_year) VALUES (1.0, '1_1819_2_45', 2.0, 1.0, 1819.0);\",\n",
       " \"UPDATE Identifiers SET fb_treat_cond = 1.0 , id_participant = '1_1819_2_45' , id_section = 2.0 , id_site = 1.0 , id_year = 1819.0 WHERE id_participant = '1_1819_2_45';\",\n",
       " \"UPDATE Identifiers SET fb_treat_cond = 1.0 , id_participant = '1_1819_2_45' , id_section = 2.0 , id_site = 1.0 , id_year = 1819.0 WHERE id_participant = '1_1819_2_45';\",\n",
       " \"REPLACE INTO Identifiers (fb_treat_cond, id_participant, id_section, id_site, id_year) VALUES (0.0, '1_1819_1_20', 1.0, 1.0, 1819.0);\",\n",
       " \"UPDATE Identifiers SET fb_treat_cond = 0.0 , id_participant = '1_1819_1_20' , id_section = 1.0 , id_site = 1.0 , id_year = 1819.0 WHERE id_participant = '1_1819_1_20';\",\n",
       " \"UPDATE Identifiers SET fb_treat_cond = 0.0 , id_participant = '1_1819_1_20' , id_section = 1.0 , id_site = 1.0 , id_year = 1819.0 WHERE id_participant = '1_1819_1_20';\",\n",
       " \"REPLACE INTO Identifiers (fb_treat_cond, id_participant, id_section, id_site, id_year) VALUES (0.0, '1_1819_1_1', 1.0, 1.0, 1819.0);\",\n",
       " \"UPDATE Identifiers SET fb_treat_cond = 0.0 , id_participant = '1_1819_1_1' , id_section = 1.0 , id_site = 1.0 , id_year = 1819.0 WHERE id_participant = '1_1819_1_1';\",\n",
       " \"UPDATE Identifiers SET fb_treat_cond = 0.0 , id_participant = '1_1819_1_1' , id_section = 1.0 , id_site = 1.0 , id_year = 1819.0 WHERE id_participant = '1_1819_1_1';\",\n",
       " \"REPLACE INTO Identifiers (fb_treat_cond, id_participant, id_section, id_site, id_year) VALUES (1.0, '1_1819_3_100', 3.0, 1.0, 1819.0);\",\n",
       " \"UPDATE Identifiers SET fb_treat_cond = 1.0 , id_participant = '1_1819_3_100' , id_section = 3.0 , id_site = 1.0 , id_year = 1819.0 WHERE id_participant = '1_1819_3_100';\",\n",
       " \"UPDATE Identifiers SET fb_treat_cond = 1.0 , id_participant = '1_1819_3_100' , id_section = 3.0 , id_site = 1.0 , id_year = 1819.0 WHERE id_participant = '1_1819_3_100';\",\n",
       " \"REPLACE INTO Identifiers (fb_treat_cond, id_participant, id_section, id_site, id_year) VALUES (1.0, '1_1819_3_75', 3.0, 1.0, 1819.0);\",\n",
       " \"UPDATE Identifiers SET fb_treat_cond = 1.0 , id_participant = '1_1819_3_75' , id_section = 3.0 , id_site = 1.0 , id_year = 1819.0 WHERE id_participant = '1_1819_3_75';\",\n",
       " \"UPDATE Identifiers SET fb_treat_cond = 1.0 , id_participant = '1_1819_3_75' , id_section = 3.0 , id_site = 1.0 , id_year = 1819.0 WHERE id_participant = '1_1819_3_75';\",\n",
       " \"REPLACE INTO Identifiers (fb_treat_cond, id_participant, id_section, id_site, id_year) VALUES (0.0, '1_1819_1_16', 1.0, 1.0, 1819.0);\",\n",
       " \"UPDATE Identifiers SET fb_treat_cond = 0.0 , id_participant = '1_1819_1_16' , id_section = 1.0 , id_site = 1.0 , id_year = 1819.0 WHERE id_participant = '1_1819_1_16';\",\n",
       " \"REPLACE INTO Identifiers (fb_treat_cond, id_participant, id_section, id_site, id_year) VALUES (1.0, '1_1819_2_42', 2.0, 1.0, 1819.0);\",\n",
       " \"UPDATE Identifiers SET fb_treat_cond = 1.0 , id_participant = '1_1819_2_42' , id_section = 2.0 , id_site = 1.0 , id_year = 1819.0 WHERE id_participant = '1_1819_2_42';\",\n",
       " \"UPDATE Identifiers SET fb_treat_cond = 1.0 , id_participant = '1_1819_2_42' , id_section = 2.0 , id_site = 1.0 , id_year = 1819.0 WHERE id_participant = '1_1819_2_42';\",\n",
       " \"REPLACE INTO Identifiers (fb_treat_cond, id_participant, id_section, id_site, id_year) VALUES (1.0, '1_1819_2_68', 2.0, 1.0, 1819.0);\",\n",
       " \"UPDATE Identifiers SET fb_treat_cond = 1.0 , id_participant = '1_1819_2_68' , id_section = 2.0 , id_site = 1.0 , id_year = 1819.0 WHERE id_participant = '1_1819_2_68';\",\n",
       " \"UPDATE Identifiers SET fb_treat_cond = 1.0 , id_participant = '1_1819_2_68' , id_section = 2.0 , id_site = 1.0 , id_year = 1819.0 WHERE id_participant = '1_1819_2_68';\",\n",
       " \"REPLACE INTO Identifiers (fb_treat_cond, id_participant, id_section, id_site, id_year) VALUES (1.0, '1_1819_3_102', 3.0, 1.0, 1819.0);\",\n",
       " \"UPDATE Identifiers SET fb_treat_cond = 1.0 , id_participant = '1_1819_3_102' , id_section = 3.0 , id_site = 1.0 , id_year = 1819.0 WHERE id_participant = '1_1819_3_102';\",\n",
       " \"REPLACE INTO Identifiers (fb_treat_cond, id_participant, id_section, id_site, id_year) VALUES (0.0, '1_1819_2_50', 2.0, 1.0, 1819.0);\",\n",
       " \"UPDATE Identifiers SET fb_treat_cond = 0.0 , id_participant = '1_1819_2_50' , id_section = 2.0 , id_site = 1.0 , id_year = 1819.0 WHERE id_participant = '1_1819_2_50';\",\n",
       " \"REPLACE INTO Identifiers (fb_treat_cond, id_participant, id_section, id_site, id_year) VALUES (0.0, '1_1819_3_104', 3.0, 1.0, 1819.0);\",\n",
       " \"UPDATE Identifiers SET fb_treat_cond = 0.0 , id_participant = '1_1819_3_104' , id_section = 3.0 , id_site = 1.0 , id_year = 1819.0 WHERE id_participant = '1_1819_3_104';\",\n",
       " \"UPDATE Identifiers SET fb_treat_cond = 0.0 , id_participant = '1_1819_3_104' , id_section = 3.0 , id_site = 1.0 , id_year = 1819.0 WHERE id_participant = '1_1819_3_104';\",\n",
       " \"REPLACE INTO Identifiers (fb_treat_cond, id_participant, id_section, id_site, id_year) VALUES (1.0, '1_1819_2_44', 2.0, 1.0, 1819.0);\",\n",
       " \"UPDATE Identifiers SET fb_treat_cond = 1.0 , id_participant = '1_1819_2_44' , id_section = 2.0 , id_site = 1.0 , id_year = 1819.0 WHERE id_participant = '1_1819_2_44';\",\n",
       " \"UPDATE Identifiers SET fb_treat_cond = 1.0 , id_participant = '1_1819_2_44' , id_section = 2.0 , id_site = 1.0 , id_year = 1819.0 WHERE id_participant = '1_1819_2_44';\",\n",
       " \"REPLACE INTO Identifiers (fb_treat_cond, id_participant, id_section, id_site, id_year) VALUES (1.0, '1_1819_1_13', 1.0, 1.0, 1819.0);\",\n",
       " \"UPDATE Identifiers SET fb_treat_cond = 1.0 , id_participant = '1_1819_1_13' , id_section = 1.0 , id_site = 1.0 , id_year = 1819.0 WHERE id_participant = '1_1819_1_13';\",\n",
       " \"REPLACE INTO Identifiers (fb_treat_cond, id_participant, id_section, id_site, id_year) VALUES (1.0, '1_1819_1_18', 1.0, 1.0, 1819.0);\",\n",
       " \"REPLACE INTO Identifiers (fb_treat_cond, id_participant, id_section, id_site, id_year) VALUES (0.0, '1_1819_2_62', 2.0, 1.0, 1819.0);\",\n",
       " \"UPDATE Identifiers SET fb_treat_cond = 0.0 , id_participant = '1_1819_2_62' , id_section = 2.0 , id_site = 1.0 , id_year = 1819.0 WHERE id_participant = '1_1819_2_62';\",\n",
       " \"UPDATE Identifiers SET fb_treat_cond = 0.0 , id_participant = '1_1819_2_62' , id_section = 2.0 , id_site = 1.0 , id_year = 1819.0 WHERE id_participant = '1_1819_2_62';\",\n",
       " \"REPLACE INTO Identifiers (fb_treat_cond, id_participant, id_section, id_site, id_year) VALUES (1.0, '1_1819_2_48', 2.0, 1.0, 1819.0);\",\n",
       " \"UPDATE Identifiers SET fb_treat_cond = 1.0 , id_participant = '1_1819_2_48' , id_section = 2.0 , id_site = 1.0 , id_year = 1819.0 WHERE id_participant = '1_1819_2_48';\",\n",
       " \"UPDATE Identifiers SET fb_treat_cond = 1.0 , id_participant = '1_1819_2_48' , id_section = 2.0 , id_site = 1.0 , id_year = 1819.0 WHERE id_participant = '1_1819_2_48';\",\n",
       " \"REPLACE INTO Identifiers (fb_treat_cond, id_participant, id_section, id_site, id_year) VALUES (1.0, '1_1819_2_49', 2.0, 1.0, 1819.0);\",\n",
       " \"UPDATE Identifiers SET fb_treat_cond = 1.0 , id_participant = '1_1819_2_49' , id_section = 2.0 , id_site = 1.0 , id_year = 1819.0 WHERE id_participant = '1_1819_2_49';\",\n",
       " \"UPDATE Identifiers SET fb_treat_cond = 1.0 , id_participant = '1_1819_2_49' , id_section = 2.0 , id_site = 1.0 , id_year = 1819.0 WHERE id_participant = '1_1819_2_49';\",\n",
       " \"REPLACE INTO Identifiers (fb_treat_cond, id_participant, id_section, id_site, id_year) VALUES (0.0, '1_1819_2_63', 2.0, 1.0, 1819.0);\",\n",
       " \"UPDATE Identifiers SET fb_treat_cond = 0.0 , id_participant = '1_1819_2_63' , id_section = 2.0 , id_site = 1.0 , id_year = 1819.0 WHERE id_participant = '1_1819_2_63';\",\n",
       " \"UPDATE Identifiers SET fb_treat_cond = 0.0 , id_participant = '1_1819_2_63' , id_section = 2.0 , id_site = 1.0 , id_year = 1819.0 WHERE id_participant = '1_1819_2_63';\",\n",
       " \"REPLACE INTO Identifiers (fb_treat_cond, id_participant, id_section, id_site, id_year) VALUES (0.0, '1_1819_3_92', 3.0, 1.0, 1819.0);\",\n",
       " \"UPDATE Identifiers SET fb_treat_cond = 0.0 , id_participant = '1_1819_3_92' , id_section = 3.0 , id_site = 1.0 , id_year = 1819.0 WHERE id_participant = '1_1819_3_92';\",\n",
       " \"UPDATE Identifiers SET fb_treat_cond = 0.0 , id_participant = '1_1819_3_92' , id_section = 3.0 , id_site = 1.0 , id_year = 1819.0 WHERE id_participant = '1_1819_3_92';\",\n",
       " \"REPLACE INTO Identifiers (fb_treat_cond, id_participant, id_section, id_site, id_year) VALUES (0.0, '1_1819_1_7', 1.0, 1.0, 1819.0);\",\n",
       " \"UPDATE Identifiers SET fb_treat_cond = 0.0 , id_participant = '1_1819_1_7' , id_section = 1.0 , id_site = 1.0 , id_year = 1819.0 WHERE id_participant = '1_1819_1_7';\",\n",
       " \"REPLACE INTO Identifiers (fb_treat_cond, id_participant, id_section, id_site, id_year) VALUES (0.0, '1_1819_3_117', 3.0, 1.0, 1819.0);\",\n",
       " \"UPDATE Identifiers SET fb_treat_cond = 0.0 , id_participant = '1_1819_3_117' , id_section = 3.0 , id_site = 1.0 , id_year = 1819.0 WHERE id_participant = '1_1819_3_117';\",\n",
       " \"REPLACE INTO Identifiers (fb_treat_cond, id_participant, id_section, id_site, id_year) VALUES (0.0, '1_1819_4_116', 4.0, 1.0, 1819.0);\",\n",
       " \"REPLACE INTO Identifiers (fb_treat_cond, id_participant, id_section, id_site, id_year) VALUES (1.0, '1_1819_2_55', 2.0, 1.0, 1819.0);\",\n",
       " \"UPDATE Identifiers SET fb_treat_cond = 1.0 , id_participant = '1_1819_2_55' , id_section = 2.0 , id_site = 1.0 , id_year = 1819.0 WHERE id_participant = '1_1819_2_55';\",\n",
       " \"UPDATE Identifiers SET fb_treat_cond = 1.0 , id_participant = '1_1819_2_55' , id_section = 2.0 , id_site = 1.0 , id_year = 1819.0 WHERE id_participant = '1_1819_2_55';\",\n",
       " \"REPLACE INTO Identifiers (fb_treat_cond, id_participant, id_section, id_site, id_year) VALUES (0.0, '1_1819_3_81', 3.0, 1.0, 1819.0);\",\n",
       " \"UPDATE Identifiers SET fb_treat_cond = 0.0 , id_participant = '1_1819_3_81' , id_section = 3.0 , id_site = 1.0 , id_year = 1819.0 WHERE id_participant = '1_1819_3_81';\",\n",
       " \"UPDATE Identifiers SET fb_treat_cond = 0.0 , id_participant = '1_1819_3_81' , id_section = 3.0 , id_site = 1.0 , id_year = 1819.0 WHERE id_participant = '1_1819_3_81';\",\n",
       " \"REPLACE INTO Identifiers (fb_treat_cond, id_participant, id_section, id_site, id_year) VALUES (0.0, '1_1819_4_106', 4.0, 1.0, 1819.0);\",\n",
       " \"UPDATE Identifiers SET fb_treat_cond = 0.0 , id_participant = '1_1819_4_106' , id_section = 4.0 , id_site = 1.0 , id_year = 1819.0 WHERE id_participant = '1_1819_4_106';\",\n",
       " \"UPDATE Identifiers SET fb_treat_cond = 0.0 , id_participant = '1_1819_4_106' , id_section = 4.0 , id_site = 1.0 , id_year = 1819.0 WHERE id_participant = '1_1819_4_106';\",\n",
       " \"REPLACE INTO Identifiers (fb_treat_cond, id_participant, id_section, id_site, id_year) VALUES (1.0, '1_1819_2_61', 2.0, 1.0, 1819.0);\",\n",
       " \"UPDATE Identifiers SET fb_treat_cond = 1.0 , id_participant = '1_1819_2_61' , id_section = 2.0 , id_site = 1.0 , id_year = 1819.0 WHERE id_participant = '1_1819_2_61';\",\n",
       " \"UPDATE Identifiers SET fb_treat_cond = 1.0 , id_participant = '1_1819_2_61' , id_section = 2.0 , id_site = 1.0 , id_year = 1819.0 WHERE id_participant = '1_1819_2_61';\",\n",
       " \"REPLACE INTO Identifiers (fb_treat_cond, id_participant, id_section, id_site, id_year) VALUES (0.0, '1_1819_1_2', 1.0, 1.0, 1819.0);\",\n",
       " \"UPDATE Identifiers SET fb_treat_cond = 0.0 , id_participant = '1_1819_1_2' , id_section = 1.0 , id_site = 1.0 , id_year = 1819.0 WHERE id_participant = '1_1819_1_2';\",\n",
       " \"UPDATE Identifiers SET fb_treat_cond = 0.0 , id_participant = '1_1819_1_2' , id_section = 1.0 , id_site = 1.0 , id_year = 1819.0 WHERE id_participant = '1_1819_1_2';\",\n",
       " \"REPLACE INTO Identifiers (fb_treat_cond, id_participant, id_section, id_site, id_year) VALUES (0.0, '1_1819_3_89', 3.0, 1.0, 1819.0);\",\n",
       " \"UPDATE Identifiers SET fb_treat_cond = 0.0 , id_participant = '1_1819_3_89' , id_section = 3.0 , id_site = 1.0 , id_year = 1819.0 WHERE id_participant = '1_1819_3_89';\",\n",
       " \"UPDATE Identifiers SET fb_treat_cond = 0.0 , id_participant = '1_1819_3_89' , id_section = 3.0 , id_site = 1.0 , id_year = 1819.0 WHERE id_participant = '1_1819_3_89';\",\n",
       " \"REPLACE INTO Identifiers (fb_treat_cond, id_participant, id_section, id_site, id_year) VALUES (0.0, '1_1819_3_84', 3.0, 1.0, 1819.0);\",\n",
       " \"UPDATE Identifiers SET fb_treat_cond = 0.0 , id_participant = '1_1819_3_84' , id_section = 3.0 , id_site = 1.0 , id_year = 1819.0 WHERE id_participant = '1_1819_3_84';\",\n",
       " \"UPDATE Identifiers SET fb_treat_cond = 0.0 , id_participant = '1_1819_3_84' , id_section = 3.0 , id_site = 1.0 , id_year = 1819.0 WHERE id_participant = '1_1819_3_84';\",\n",
       " \"REPLACE INTO Identifiers (fb_treat_cond, id_participant, id_section, id_site, id_year) VALUES (0.0, '1_1819_2_60', 2.0, 1.0, 1819.0);\",\n",
       " \"UPDATE Identifiers SET fb_treat_cond = 0.0 , id_participant = '1_1819_2_60' , id_section = 2.0 , id_site = 1.0 , id_year = 1819.0 WHERE id_participant = '1_1819_2_60';\",\n",
       " \"UPDATE Identifiers SET fb_treat_cond = 0.0 , id_participant = '1_1819_2_60' , id_section = 2.0 , id_site = 1.0 , id_year = 1819.0 WHERE id_participant = '1_1819_2_60';\",\n",
       " \"REPLACE INTO Identifiers (fb_treat_cond, id_participant, id_section, id_site, id_year) VALUES (0.0, '1_1819_3_79', 3.0, 1.0, 1819.0);\",\n",
       " \"UPDATE Identifiers SET fb_treat_cond = 0.0 , id_participant = '1_1819_3_79' , id_section = 3.0 , id_site = 1.0 , id_year = 1819.0 WHERE id_participant = '1_1819_3_79';\",\n",
       " \"REPLACE INTO Identifiers (fb_treat_cond, id_participant, id_section, id_site, id_year) VALUES (1.0, '1_1819_3_93', 3.0, 1.0, 1819.0);\",\n",
       " \"UPDATE Identifiers SET fb_treat_cond = 1.0 , id_participant = '1_1819_3_93' , id_section = 3.0 , id_site = 1.0 , id_year = 1819.0 WHERE id_participant = '1_1819_3_93';\",\n",
       " \"UPDATE Identifiers SET fb_treat_cond = 1.0 , id_participant = '1_1819_3_93' , id_section = 3.0 , id_site = 1.0 , id_year = 1819.0 WHERE id_participant = '1_1819_3_93';\",\n",
       " \"REPLACE INTO Identifiers (fb_treat_cond, id_participant, id_section, id_site, id_year) VALUES (1.0, '1_1819_2_47', 2.0, 1.0, 1819.0);\",\n",
       " \"UPDATE Identifiers SET fb_treat_cond = 1.0 , id_participant = '1_1819_2_47' , id_section = 2.0 , id_site = 1.0 , id_year = 1819.0 WHERE id_participant = '1_1819_2_47';\",\n",
       " \"UPDATE Identifiers SET fb_treat_cond = 1.0 , id_participant = '1_1819_2_47' , id_section = 2.0 , id_site = 1.0 , id_year = 1819.0 WHERE id_participant = '1_1819_2_47';\",\n",
       " \"REPLACE INTO Identifiers (fb_treat_cond, id_participant, id_section, id_site, id_year) VALUES (1.0, '1_1819_1_4', 1.0, 1.0, 1819.0);\",\n",
       " \"UPDATE Identifiers SET fb_treat_cond = 1.0 , id_participant = '1_1819_1_4' , id_section = 1.0 , id_site = 1.0 , id_year = 1819.0 WHERE id_participant = '1_1819_1_4';\",\n",
       " \"REPLACE INTO Identifiers (fb_treat_cond, id_participant, id_section, id_site, id_year) VALUES (1.0, '1_1819_4_111', 4.0, 1.0, 1819.0);\",\n",
       " \"UPDATE Identifiers SET fb_treat_cond = 1.0 , id_participant = '1_1819_4_111' , id_section = 4.0 , id_site = 1.0 , id_year = 1819.0 WHERE id_participant = '1_1819_4_111';\",\n",
       " \"REPLACE INTO Identifiers (fb_treat_cond, id_participant, id_section, id_site, id_year) VALUES (0.0, '1_1819_3_105', 3.0, 1.0, 1819.0);\",\n",
       " \"UPDATE Identifiers SET fb_treat_cond = 0.0 , id_participant = '1_1819_3_105' , id_section = 3.0 , id_site = 1.0 , id_year = 1819.0 WHERE id_participant = '1_1819_3_105';\",\n",
       " \"UPDATE Identifiers SET fb_treat_cond = 0.0 , id_participant = '1_1819_3_105' , id_section = 3.0 , id_site = 1.0 , id_year = 1819.0 WHERE id_participant = '1_1819_3_105';\",\n",
       " \"REPLACE INTO Identifiers (fb_treat_cond, id_participant, id_section, id_site, id_year) VALUES (1.0, '1_1819_2_41', 2.0, 1.0, 1819.0);\",\n",
       " \"UPDATE Identifiers SET fb_treat_cond = 1.0 , id_participant = '1_1819_2_41' , id_section = 2.0 , id_site = 1.0 , id_year = 1819.0 WHERE id_participant = '1_1819_2_41';\",\n",
       " \"UPDATE Identifiers SET fb_treat_cond = 1.0 , id_participant = '1_1819_2_41' , id_section = 2.0 , id_site = 1.0 , id_year = 1819.0 WHERE id_participant = '1_1819_2_41';\",\n",
       " \"REPLACE INTO Identifiers (fb_treat_cond, id_participant, id_section, id_site, id_year) VALUES (1.0, '1_1819_4_118', 4.0, 1.0, 1819.0);\",\n",
       " \"UPDATE Identifiers SET fb_treat_cond = 1.0 , id_participant = '1_1819_4_118' , id_section = 4.0 , id_site = 1.0 , id_year = 1819.0 WHERE id_participant = '1_1819_4_118';\",\n",
       " \"UPDATE Identifiers SET fb_treat_cond = 1.0 , id_participant = '1_1819_4_118' , id_section = 4.0 , id_site = 1.0 , id_year = 1819.0 WHERE id_participant = '1_1819_4_118';\",\n",
       " \"REPLACE INTO Identifiers (fb_treat_cond, id_participant, id_section, id_site, id_year) VALUES (0.0, '1_1819_2_51', 2.0, 1.0, 1819.0);\",\n",
       " \"UPDATE Identifiers SET fb_treat_cond = 0.0 , id_participant = '1_1819_2_51' , id_section = 2.0 , id_site = 1.0 , id_year = 1819.0 WHERE id_participant = '1_1819_2_51';\",\n",
       " \"UPDATE Identifiers SET fb_treat_cond = 0.0 , id_participant = '1_1819_2_51' , id_section = 2.0 , id_site = 1.0 , id_year = 1819.0 WHERE id_participant = '1_1819_2_51';\",\n",
       " \"REPLACE INTO Identifiers (fb_treat_cond, id_participant, id_section, id_site, id_year) VALUES (1.0, '1_1819_2_56', 2.0, 1.0, 1819.0);\",\n",
       " \"REPLACE INTO Identifiers (fb_treat_cond, id_participant, id_section, id_site, id_year) VALUES (1.0, '1_1819_3_82', 3.0, 1.0, 1819.0);\",\n",
       " \"UPDATE Identifiers SET fb_treat_cond = 1.0 , id_participant = '1_1819_3_82' , id_section = 3.0 , id_site = 1.0 , id_year = 1819.0 WHERE id_participant = '1_1819_3_82';\",\n",
       " \"REPLACE INTO Identifiers (fb_treat_cond, id_participant, id_section, id_site, id_year) VALUES (0.0, '1_1819_1_10', 1.0, 1.0, 1819.0);\",\n",
       " \"UPDATE Identifiers SET fb_treat_cond = 0.0 , id_participant = '1_1819_1_10' , id_section = 1.0 , id_site = 1.0 , id_year = 1819.0 WHERE id_participant = '1_1819_1_10';\",\n",
       " \"REPLACE INTO Identifiers (fb_treat_cond, id_participant, id_section, id_site, id_year) VALUES (1.0, '1_1819_4_120', 4.0, 1.0, 1819.0);\",\n",
       " \"REPLACE INTO Identifiers (fb_treat_cond, id_participant, id_section, id_site, id_year) VALUES (0.0, '1_1819_2_36', 2.0, 1.0, 1819.0);\",\n",
       " \"UPDATE Identifiers SET fb_treat_cond = 0.0 , id_participant = '1_1819_2_36' , id_section = 2.0 , id_site = 1.0 , id_year = 1819.0 WHERE id_participant = '1_1819_2_36';\",\n",
       " \"UPDATE Identifiers SET fb_treat_cond = 0.0 , id_participant = '1_1819_2_36' , id_section = 2.0 , id_site = 1.0 , id_year = 1819.0 WHERE id_participant = '1_1819_2_36';\",\n",
       " \"REPLACE INTO Identifiers (fb_treat_cond, id_participant, id_section, id_site, id_year) VALUES (0.0, '1_1819_2_39', 2.0, 1.0, 1819.0);\",\n",
       " \"UPDATE Identifiers SET fb_treat_cond = 0.0 , id_participant = '1_1819_2_39' , id_section = 2.0 , id_site = 1.0 , id_year = 1819.0 WHERE id_participant = '1_1819_2_39';\",\n",
       " \"UPDATE Identifiers SET fb_treat_cond = 0.0 , id_participant = '1_1819_2_39' , id_section = 2.0 , id_site = 1.0 , id_year = 1819.0 WHERE id_participant = '1_1819_2_39';\",\n",
       " \"REPLACE INTO Identifiers (fb_treat_cond, id_participant, id_section, id_site, id_year) VALUES (0.0, '1_1819_2_58', 2.0, 1.0, 1819.0);\",\n",
       " \"UPDATE Identifiers SET fb_treat_cond = 0.0 , id_participant = '1_1819_2_58' , id_section = 2.0 , id_site = 1.0 , id_year = 1819.0 WHERE id_participant = '1_1819_2_58';\",\n",
       " \"UPDATE Identifiers SET fb_treat_cond = 0.0 , id_participant = '1_1819_2_58' , id_section = 2.0 , id_site = 1.0 , id_year = 1819.0 WHERE id_participant = '1_1819_2_58';\",\n",
       " \"REPLACE INTO Identifiers (fb_treat_cond, id_participant, id_section, id_site, id_year) VALUES (1.0, '1_1819_3_101', 3.0, 1.0, 1819.0);\",\n",
       " \"UPDATE Identifiers SET fb_treat_cond = 1.0 , id_participant = '1_1819_3_101' , id_section = 3.0 , id_site = 1.0 , id_year = 1819.0 WHERE id_participant = '1_1819_3_101';\",\n",
       " \"UPDATE Identifiers SET fb_treat_cond = 1.0 , id_participant = '1_1819_3_101' , id_section = 3.0 , id_site = 1.0 , id_year = 1819.0 WHERE id_participant = '1_1819_3_101';\",\n",
       " \"REPLACE INTO Identifiers (fb_treat_cond, id_participant, id_section, id_site, id_year) VALUES (1.0, '1_1819_4_112', 4.0, 1.0, 1819.0);\",\n",
       " \"REPLACE INTO Identifiers (fb_treat_cond, id_participant, id_section, id_site, id_year) VALUES (1.0, '1_1819_2_57', 2.0, 1.0, 1819.0);\",\n",
       " \"UPDATE Identifiers SET fb_treat_cond = 1.0 , id_participant = '1_1819_2_57' , id_section = 2.0 , id_site = 1.0 , id_year = 1819.0 WHERE id_participant = '1_1819_2_57';\",\n",
       " \"UPDATE Identifiers SET fb_treat_cond = 1.0 , id_participant = '1_1819_2_57' , id_section = 2.0 , id_site = 1.0 , id_year = 1819.0 WHERE id_participant = '1_1819_2_57';\",\n",
       " \"REPLACE INTO Identifiers (fb_treat_cond, id_participant, id_section, id_site, id_year) VALUES (0.0, '1_1819_2_65', 2.0, 1.0, 1819.0);\",\n",
       " \"UPDATE Identifiers SET fb_treat_cond = 0.0 , id_participant = '1_1819_2_65' , id_section = 2.0 , id_site = 1.0 , id_year = 1819.0 WHERE id_participant = '1_1819_2_65';\",\n",
       " \"UPDATE Identifiers SET fb_treat_cond = 0.0 , id_participant = '1_1819_2_65' , id_section = 2.0 , id_site = 1.0 , id_year = 1819.0 WHERE id_participant = '1_1819_2_65';\",\n",
       " \"REPLACE INTO Identifiers (fb_treat_cond, id_participant, id_section, id_site, id_year) VALUES (1.0, '1_1819_3_80', 3.0, 1.0, 1819.0);\",\n",
       " \"UPDATE Identifiers SET fb_treat_cond = 1.0 , id_participant = '1_1819_3_80' , id_section = 3.0 , id_site = 1.0 , id_year = 1819.0 WHERE id_participant = '1_1819_3_80';\",\n",
       " \"UPDATE Identifiers SET fb_treat_cond = 1.0 , id_participant = '1_1819_3_80' , id_section = 3.0 , id_site = 1.0 , id_year = 1819.0 WHERE id_participant = '1_1819_3_80';\",\n",
       " \"REPLACE INTO Identifiers (fb_treat_cond, id_participant, id_section, id_site, id_year) VALUES (1.0, '1_1819_2_37', 2.0, 1.0, 1819.0);\",\n",
       " \"UPDATE Identifiers SET fb_treat_cond = 1.0 , id_participant = '1_1819_2_37' , id_section = 2.0 , id_site = 1.0 , id_year = 1819.0 WHERE id_participant = '1_1819_2_37';\",\n",
       " \"UPDATE Identifiers SET fb_treat_cond = 1.0 , id_participant = '1_1819_2_37' , id_section = 2.0 , id_site = 1.0 , id_year = 1819.0 WHERE id_participant = '1_1819_2_37';\",\n",
       " \"REPLACE INTO Identifiers (fb_treat_cond, id_participant, id_section, id_site, id_year) VALUES (1.0, '1_1819_2_46', 2.0, 1.0, 1819.0);\",\n",
       " \"UPDATE Identifiers SET fb_treat_cond = 1.0 , id_participant = '1_1819_2_46' , id_section = 2.0 , id_site = 1.0 , id_year = 1819.0 WHERE id_participant = '1_1819_2_46';\",\n",
       " \"UPDATE Identifiers SET fb_treat_cond = 1.0 , id_participant = '1_1819_2_46' , id_section = 2.0 , id_site = 1.0 , id_year = 1819.0 WHERE id_participant = '1_1819_2_46';\",\n",
       " \"REPLACE INTO Identifiers (fb_treat_cond, id_participant, id_section, id_site, id_year) VALUES (1.0, '1_1819_4_115', 4.0, 1.0, 1819.0);\",\n",
       " \"UPDATE Identifiers SET fb_treat_cond = 1.0 , id_participant = '1_1819_4_115' , id_section = 4.0 , id_site = 1.0 , id_year = 1819.0 WHERE id_participant = '1_1819_4_115';\",\n",
       " \"UPDATE Identifiers SET fb_treat_cond = 1.0 , id_participant = '1_1819_4_115' , id_section = 4.0 , id_site = 1.0 , id_year = 1819.0 WHERE id_participant = '1_1819_4_115';\",\n",
       " \"REPLACE INTO Identifiers (fb_treat_cond, id_participant, id_section, id_site, id_year) VALUES (1.0, '1_1819_1_26', 1.0, 1.0, 1819.0);\",\n",
       " \"UPDATE Identifiers SET fb_treat_cond = 1.0 , id_participant = '1_1819_1_26' , id_section = 1.0 , id_site = 1.0 , id_year = 1819.0 WHERE id_participant = '1_1819_1_26';\",\n",
       " \"UPDATE Identifiers SET fb_treat_cond = 1.0 , id_participant = '1_1819_1_26' , id_section = 1.0 , id_site = 1.0 , id_year = 1819.0 WHERE id_participant = '1_1819_1_26';\",\n",
       " \"REPLACE INTO Identifiers (fb_treat_cond, id_participant, id_section, id_site, id_year) VALUES (1.0, '1_1819_1_29', 1.0, 1.0, 1819.0);\",\n",
       " \"UPDATE Identifiers SET fb_treat_cond = 1.0 , id_participant = '1_1819_1_29' , id_section = 1.0 , id_site = 1.0 , id_year = 1819.0 WHERE id_participant = '1_1819_1_29';\",\n",
       " \"UPDATE Identifiers SET fb_treat_cond = 1.0 , id_participant = '1_1819_1_29' , id_section = 1.0 , id_site = 1.0 , id_year = 1819.0 WHERE id_participant = '1_1819_1_29';\",\n",
       " \"REPLACE INTO Identifiers (fb_treat_cond, id_participant, id_section, id_site, id_year) VALUES (1.0, '1_1819_1_28', 1.0, 1.0, 1819.0);\",\n",
       " \"UPDATE Identifiers SET fb_treat_cond = 1.0 , id_participant = '1_1819_1_28' , id_section = 1.0 , id_site = 1.0 , id_year = 1819.0 WHERE id_participant = '1_1819_1_28';\",\n",
       " \"REPLACE INTO Identifiers (fb_treat_cond, id_participant, id_section, id_site, id_year) VALUES (0.0, '1_1819_1_25', 1.0, 1.0, 1819.0);\",\n",
       " \"UPDATE Identifiers SET fb_treat_cond = 0.0 , id_participant = '1_1819_1_25' , id_section = 1.0 , id_site = 1.0 , id_year = 1819.0 WHERE id_participant = '1_1819_1_25';\",\n",
       " \"UPDATE Identifiers SET fb_treat_cond = 0.0 , id_participant = '1_1819_1_25' , id_section = 1.0 , id_site = 1.0 , id_year = 1819.0 WHERE id_participant = '1_1819_1_25';\"]"
      ]
     },
     "execution_count": 28,
     "metadata": {},
     "output_type": "execute_result"
    }
   ],
   "source": [
    "quer"
   ]
  },
  {
   "cell_type": "markdown",
   "metadata": {},
   "source": [
    "## Test Loop of Queries"
   ]
  },
  {
   "cell_type": "code",
   "execution_count": 29,
   "metadata": {},
   "outputs": [],
   "source": [
    "tables = ['Identifiers', 'Survey_Measures', 'Participant_Measures', 'Performance_Measures']\n",
    "for table in tables:\n",
    "    queries = generateQueries(uploaded_data, table, cursor)\n",
    "    for query in queries:\n",
    "        cursor.execute(query)"
   ]
  },
  {
   "cell_type": "code",
   "execution_count": null,
   "metadata": {},
   "outputs": [],
   "source": []
  },
  {
   "cell_type": "markdown",
   "metadata": {},
   "source": [
    "## Playing Around with Schema"
   ]
  },
  {
   "cell_type": "code",
   "execution_count": 33,
   "metadata": {},
   "outputs": [],
   "source": [
    "cursor.execute(\"SELECT column_name, DATA_TYPE FROM INFORMATION_SCHEMA.COLUMNS WHERE TABLE_NAME = N'Identifiers'\")"
   ]
  },
  {
   "cell_type": "code",
   "execution_count": 34,
   "metadata": {},
   "outputs": [
    {
     "data": {
      "text/plain": [
       "[('br_treat_cond', b'float'),\n",
       " ('br_treat_cond_mr', b'float'),\n",
       " ('br_treat_cond_iat', b'float'),\n",
       " ('fb_treat_cond', b'float'),\n",
       " ('f17_treat_cond', b'float'),\n",
       " ('s18_treat_cond', b'float'),\n",
       " ('fb_treat_cond_iat', b'float'),\n",
       " ('id_participant', b'varchar'),\n",
       " ('id_section', b'float'),\n",
       " ('id_site', b'varchar'),\n",
       " ('id_study', b'float'),\n",
       " ('id_year', b'float')]"
      ]
     },
     "execution_count": 34,
     "metadata": {},
     "output_type": "execute_result"
    }
   ],
   "source": [
    "cursor.fetchall()"
   ]
  },
  {
   "cell_type": "markdown",
   "metadata": {},
   "source": [
    "## Close Database Connection"
   ]
  },
  {
   "cell_type": "code",
   "execution_count": 7,
   "metadata": {},
   "outputs": [],
   "source": [
    "cnx.commit()\n",
    "cnx.close()"
   ]
  },
  {
   "cell_type": "code",
   "execution_count": null,
   "metadata": {},
   "outputs": [],
   "source": []
  }
 ],
 "metadata": {
  "kernelspec": {
   "display_name": "Python 3",
   "language": "python",
   "name": "python3"
  },
  "language_info": {
   "codemirror_mode": {
    "name": "ipython",
    "version": 3
   },
   "file_extension": ".py",
   "mimetype": "text/x-python",
   "name": "python",
   "nbconvert_exporter": "python",
   "pygments_lexer": "ipython3",
   "version": "3.7.6"
  }
 },
 "nbformat": 4,
 "nbformat_minor": 4
}
