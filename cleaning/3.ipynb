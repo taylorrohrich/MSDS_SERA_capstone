{
 "cells": [
  {
   "cell_type": "markdown",
   "metadata": {},
   "source": [
    "## Questions about 3\n",
    "- Inconsistent qualtrics names from same questions (3a, 3b) eg. q124 is q24 in 3a vs. 3b\n",
    "- Different amount of columns\n",
    "- Inconsistency between csv and excel\n",
    "3b\n",
    "- is there a csv of \"Working STATA files/S19 BR Coaching Video Assignments_Cleaned.dta\" and Spring2019_Tracker / where is this located as dta?\n",
    "\n",
    "3c\n",
    "- Coder id's not consistent between files (e.g Rebekah is 8 and then Arielle is 8 in different file)"
   ]
  },
  {
   "cell_type": "code",
   "execution_count": 1,
   "metadata": {},
   "outputs": [],
   "source": [
    "import pandas as pd\n",
    "import numpy as np\n",
    "from utils import cleanColumns,generateScoreVariables,generateBehaviorColumns,generateCalculatedColumns,generateDuplicateColumn"
   ]
  },
  {
   "cell_type": "code",
   "execution_count": 2,
   "metadata": {},
   "outputs": [],
   "source": [
    "def performance_clean(csv_name,isExcel=False,sheet_name=None):\n",
    "    data = pd.read_excel(f\"../data/{csv_name}.xlsx\",sheet_name=sheet_name,skiprows=[1,2]) if isExcel else pd.read_csv(f\"../data/{csv_name}.csv\",skiprows=[1,2])\n",
    "    #data = data.iloc[:,2:]\n",
    "    data.columns = cleanColumns(data.columns)\n",
    "    data['sid']=2\n",
    "    data['time']=0\n",
    "    data['vid'] = data['id'].astype(str) + \"_\" + data['sid'].astype(str)\n",
    "    generateDuplicateColumn(data)\n",
    "    generateScoreVariables(data)\n",
    "    generateBehaviorColumns(data)\n",
    "    generateCalculatedColumns(data)\n",
    "    return data"
   ]
  },
  {
   "cell_type": "code",
   "execution_count": 3,
   "metadata": {},
   "outputs": [],
   "source": [
    "def performance_clean_pt_1(csv_name,isExcel=False,sheet_name=None):\n",
    "    return performance_clean(csv_name,isExcel,sheet_name)"
   ]
  },
  {
   "cell_type": "code",
   "execution_count": 4,
   "metadata": {},
   "outputs": [
    {
     "output_type": "stream",
     "name": "stdout",
     "text": [
      "1\n2\n['tot_ac', 'tot_oc']\n2\n['tot_ti', 'tot_ac']\n2\n['tot_sp', 'tot_ac']\n2\n['tot_su', 'tot_ac']\n"
     ]
    }
   ],
   "source": [
    "data1= performance_clean_pt_1('Summer 2018 Behavioral Redirections Baseline',isExcel=True, sheet_name='Summer 2018 Behavioral Redirect')\n",
    "data2= performance_clean_pt_1('Fall 2018 Behavioral Redirections Baseline_July 24, 2019_14.06')"
   ]
  },
  {
   "cell_type": "code",
   "execution_count": 5,
   "metadata": {},
   "outputs": [],
   "source": [
    "def performance_clean_pt_2(csv_name,isExcel=False,sheet_name=None):\n",
    "    base = performance_clean(csv_name,isExcel,sheet_name)\n",
    "    trackerData = pd.read_excel('../data/tracker.xls')[['id_student','email','id_coach','id_interactor']].rename(columns={'id_student':'id'})\n",
    "    merge = base.merge(trackerData,on='id',how='inner')\n",
    "    return merge"
   ]
  },
  {
   "cell_type": "code",
   "execution_count": 6,
   "metadata": {},
   "outputs": [],
   "source": [
    "data3=performance_clean_pt_2('Spring2019_BR_CodedPerformanceOutcomes',isExcel=True, sheet_name='Sheet1')"
   ]
  },
  {
   "cell_type": "code",
   "execution_count": 7,
   "metadata": {},
   "outputs": [],
   "source": [
    "def performance_clean_pt_3(csv_name,isExcel=False,sheet_name=None):\n",
    "    base = performance_clean(csv_name,isExcel,sheet_name)\n",
    "    return base"
   ]
  },
  {
   "cell_type": "code",
   "execution_count": 8,
   "metadata": {},
   "outputs": [],
   "source": [
    "data4=performance_clean_pt_3('2019 Spring- Exit- Behavioral Redirections_August 7, 2019_08.26',isExcel=True, sheet_name='in')"
   ]
  },
  {
   "cell_type": "code",
   "execution_count": null,
   "metadata": {},
   "outputs": [],
   "source": []
  },
  {
   "cell_type": "code",
   "execution_count": null,
   "metadata": {},
   "outputs": [],
   "source": []
  }
 ],
 "metadata": {
  "kernelspec": {
   "display_name": "Python 3",
   "language": "python",
   "name": "python3"
  },
  "language_info": {
   "codemirror_mode": {
    "name": "ipython",
    "version": 3
   },
   "file_extension": ".py",
   "mimetype": "text/x-python",
   "name": "python",
   "nbconvert_exporter": "python",
   "pygments_lexer": "ipython3",
   "version": "3.8.5-final"
  }
 },
 "nbformat": 4,
 "nbformat_minor": 4
}