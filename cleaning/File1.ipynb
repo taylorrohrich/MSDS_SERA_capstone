{
 "cells": [
  {
   "cell_type": "code",
   "execution_count": 1,
   "metadata": {},
   "outputs": [],
   "source": [
    "import pandas as pd\n",
    "import numpy as np\n",
    "from utils import *"
   ]
  },
  {
   "cell_type": "markdown",
   "metadata": {},
   "source": [
    "## Replication"
   ]
  },
  {
   "cell_type": "markdown",
   "metadata": {},
   "source": [
    "### CRTSE"
   ]
  },
  {
   "cell_type": "code",
   "execution_count": 100,
   "metadata": {},
   "outputs": [],
   "source": [
    "crtse = pd.read_excel(\"2018_2019_CRTSE_SummerSecondary_PGMT_4thyrBMT_ItemsRemoved.xls\", sheet_name='Sheet1')"
   ]
  },
  {
   "cell_type": "code",
   "execution_count": 101,
   "metadata": {},
   "outputs": [],
   "source": [
    "crtse = basic(crtse)"
   ]
  },
  {
   "cell_type": "code",
   "execution_count": 102,
   "metadata": {},
   "outputs": [],
   "source": [
    "crtse = newColMean(crtse, \"crtse_total\", first=\"crtse_05\", last=\"crtse_41\")"
   ]
  },
  {
   "cell_type": "code",
   "execution_count": 104,
   "metadata": {},
   "outputs": [
    {
     "data": {
      "text/html": [
       "<div>\n",
       "<style scoped>\n",
       "    .dataframe tbody tr th:only-of-type {\n",
       "        vertical-align: middle;\n",
       "    }\n",
       "\n",
       "    .dataframe tbody tr th {\n",
       "        vertical-align: top;\n",
       "    }\n",
       "\n",
       "    .dataframe thead th {\n",
       "        text-align: right;\n",
       "    }\n",
       "</style>\n",
       "<table border=\"1\" class=\"dataframe\">\n",
       "  <thead>\n",
       "    <tr style=\"text-align: right;\">\n",
       "      <th></th>\n",
       "      <th>assessed</th>\n",
       "      <th>student</th>\n",
       "      <th>recipientlastname</th>\n",
       "      <th>recipientfirstname</th>\n",
       "      <th>assessor</th>\n",
       "      <th>crtse_05</th>\n",
       "      <th>crtse_06</th>\n",
       "      <th>crtse_07</th>\n",
       "      <th>crtse_08</th>\n",
       "      <th>crtse_09</th>\n",
       "      <th>...</th>\n",
       "      <th>crtse_25</th>\n",
       "      <th>crtse_27</th>\n",
       "      <th>crtse_28</th>\n",
       "      <th>crtse_30</th>\n",
       "      <th>crtse_31</th>\n",
       "      <th>crtse_33</th>\n",
       "      <th>crtse_35</th>\n",
       "      <th>crtse_36</th>\n",
       "      <th>crtse_41</th>\n",
       "      <th>crtse_total</th>\n",
       "    </tr>\n",
       "  </thead>\n",
       "  <tbody>\n",
       "    <tr>\n",
       "      <th>0</th>\n",
       "      <td>2018-06-08 07:58:12</td>\n",
       "      <td>2561224.0</td>\n",
       "      <td>Kim</td>\n",
       "      <td>Yewon</td>\n",
       "      <td>McGraw,Jillian</td>\n",
       "      <td>96</td>\n",
       "      <td>98</td>\n",
       "      <td>91</td>\n",
       "      <td>71</td>\n",
       "      <td>92</td>\n",
       "      <td>...</td>\n",
       "      <td>77</td>\n",
       "      <td>100</td>\n",
       "      <td>100</td>\n",
       "      <td>100</td>\n",
       "      <td>62</td>\n",
       "      <td>100</td>\n",
       "      <td>88</td>\n",
       "      <td>83</td>\n",
       "      <td>100</td>\n",
       "      <td>87.888889</td>\n",
       "    </tr>\n",
       "  </tbody>\n",
       "</table>\n",
       "<p>1 rows × 33 columns</p>\n",
       "</div>"
      ],
      "text/plain": [
       "             assessed    student recipientlastname recipientfirstname  \\\n",
       "0 2018-06-08 07:58:12  2561224.0               Kim              Yewon   \n",
       "\n",
       "         assessor  crtse_05  crtse_06  crtse_07  crtse_08  crtse_09  ...  \\\n",
       "0  McGraw,Jillian        96        98        91        71        92  ...   \n",
       "\n",
       "   crtse_25  crtse_27  crtse_28  crtse_30  crtse_31  crtse_33  crtse_35  \\\n",
       "0        77       100       100       100        62       100        88   \n",
       "\n",
       "   crtse_36  crtse_41  crtse_total  \n",
       "0        83       100    87.888889  \n",
       "\n",
       "[1 rows x 33 columns]"
      ]
     },
     "execution_count": 104,
     "metadata": {},
     "output_type": "execute_result"
    }
   ],
   "source": [
    "crtse.head(1)"
   ]
  },
  {
   "cell_type": "markdown",
   "metadata": {},
   "source": [
    "### DAS "
   ]
  },
  {
   "cell_type": "code",
   "execution_count": 105,
   "metadata": {},
   "outputs": [],
   "source": [
    "das = pd.read_excel(\"2018_2019_DAS_SummerSecondary_PGMT_4thyrBMT_Recoded_Missing_ItemNamesRemoved.xls\", sheet_name='Sheet1')"
   ]
  },
  {
   "cell_type": "code",
   "execution_count": 107,
   "metadata": {},
   "outputs": [],
   "source": [
    "das = basic(das)"
   ]
  },
  {
   "cell_type": "code",
   "execution_count": 109,
   "metadata": {},
   "outputs": [],
   "source": [
    "das = newColMean(das, \"das_depression\", included=[\"das_03\", \"das_05\", \"das_10\", \"das_13\", \"das_16\", \"das_17\", \"das_21\"])\n",
    "das = newColMean(das, \"das_anxiety\", included=[\"das_02\", \"das_04\", \"das_07\", \"das_09\", \"das_15\", \"das_19\", \"das_20\"])\n",
    "das = newColMean(das, \"das_stress\", included=[\"das_01\", \"das_06\", \"das_08\", \"das_11\", \"das_12\", \"das_14\", \"das_18\"])"
   ]
  },
  {
   "cell_type": "code",
   "execution_count": 111,
   "metadata": {},
   "outputs": [
    {
     "data": {
      "text/html": [
       "<div>\n",
       "<style scoped>\n",
       "    .dataframe tbody tr th:only-of-type {\n",
       "        vertical-align: middle;\n",
       "    }\n",
       "\n",
       "    .dataframe tbody tr th {\n",
       "        vertical-align: top;\n",
       "    }\n",
       "\n",
       "    .dataframe thead th {\n",
       "        text-align: right;\n",
       "    }\n",
       "</style>\n",
       "<table border=\"1\" class=\"dataframe\">\n",
       "  <thead>\n",
       "    <tr style=\"text-align: right;\">\n",
       "      <th></th>\n",
       "      <th>assessed</th>\n",
       "      <th>student</th>\n",
       "      <th>recipientlastname</th>\n",
       "      <th>recipientfirstname</th>\n",
       "      <th>assessor</th>\n",
       "      <th>das_01</th>\n",
       "      <th>das_02</th>\n",
       "      <th>das_03</th>\n",
       "      <th>das_04</th>\n",
       "      <th>das_05</th>\n",
       "      <th>...</th>\n",
       "      <th>das_15</th>\n",
       "      <th>das_16</th>\n",
       "      <th>das_17</th>\n",
       "      <th>das_18</th>\n",
       "      <th>das_19</th>\n",
       "      <th>das_20</th>\n",
       "      <th>das_21</th>\n",
       "      <th>das_depression</th>\n",
       "      <th>das_anxiety</th>\n",
       "      <th>das_stress</th>\n",
       "    </tr>\n",
       "  </thead>\n",
       "  <tbody>\n",
       "    <tr>\n",
       "      <th>0</th>\n",
       "      <td>2018-06-08 07:58:12</td>\n",
       "      <td>2561224.0</td>\n",
       "      <td>Kim</td>\n",
       "      <td>Yewon</td>\n",
       "      <td>McGraw,Jillian</td>\n",
       "      <td>3</td>\n",
       "      <td>2</td>\n",
       "      <td>1</td>\n",
       "      <td>0</td>\n",
       "      <td>0</td>\n",
       "      <td>...</td>\n",
       "      <td>1</td>\n",
       "      <td>0</td>\n",
       "      <td>3</td>\n",
       "      <td>0</td>\n",
       "      <td>0</td>\n",
       "      <td>2</td>\n",
       "      <td>0</td>\n",
       "      <td>1.0</td>\n",
       "      <td>1.0</td>\n",
       "      <td>1.428571</td>\n",
       "    </tr>\n",
       "  </tbody>\n",
       "</table>\n",
       "<p>1 rows × 29 columns</p>\n",
       "</div>"
      ],
      "text/plain": [
       "             assessed    student recipientlastname recipientfirstname  \\\n",
       "0 2018-06-08 07:58:12  2561224.0               Kim              Yewon   \n",
       "\n",
       "         assessor  das_01  das_02  das_03  das_04  das_05  ...  das_15  \\\n",
       "0  McGraw,Jillian       3       2       1       0       0  ...       1   \n",
       "\n",
       "   das_16  das_17  das_18  das_19  das_20  das_21  das_depression  \\\n",
       "0       0       3       0       0       2       0             1.0   \n",
       "\n",
       "   das_anxiety  das_stress  \n",
       "0          1.0    1.428571  \n",
       "\n",
       "[1 rows x 29 columns]"
      ]
     },
     "execution_count": 111,
     "metadata": {},
     "output_type": "execute_result"
    }
   ],
   "source": [
    "das.head(1)"
   ]
  },
  {
   "cell_type": "markdown",
   "metadata": {},
   "source": [
    "### Demographic Data"
   ]
  },
  {
   "cell_type": "markdown",
   "metadata": {},
   "source": [
    "#### Importing and Saving Demog Data"
   ]
  },
  {
   "cell_type": "code",
   "execution_count": 129,
   "metadata": {},
   "outputs": [],
   "source": [
    "demog = pd.read_excel(\"2018_2019_Demography_Survey_SummerSecondary_PGMT.xls\", sheet_name=\"Sheet1\")"
   ]
  },
  {
   "cell_type": "code",
   "execution_count": 130,
   "metadata": {},
   "outputs": [],
   "source": [
    "demog = lowerSkip(demog)"
   ]
  },
  {
   "cell_type": "code",
   "execution_count": 296,
   "metadata": {},
   "outputs": [
    {
     "data": {
      "text/html": [
       "<div>\n",
       "<style scoped>\n",
       "    .dataframe tbody tr th:only-of-type {\n",
       "        vertical-align: middle;\n",
       "    }\n",
       "\n",
       "    .dataframe tbody tr th {\n",
       "        vertical-align: top;\n",
       "    }\n",
       "\n",
       "    .dataframe thead th {\n",
       "        text-align: right;\n",
       "    }\n",
       "</style>\n",
       "<table border=\"1\" class=\"dataframe\">\n",
       "  <thead>\n",
       "    <tr style=\"text-align: right;\">\n",
       "      <th></th>\n",
       "      <th>assessed</th>\n",
       "      <th>student</th>\n",
       "      <th>recipientlastname</th>\n",
       "      <th>recipientfirstname</th>\n",
       "      <th>assessor</th>\n",
       "      <th>ccs_cohort</th>\n",
       "      <th>ccs_stutype</th>\n",
       "      <th>ccs_major</th>\n",
       "      <th>ccs_gpa</th>\n",
       "      <th>partch</th>\n",
       "      <th>...</th>\n",
       "      <th>hsses</th>\n",
       "      <th>hsrace</th>\n",
       "      <th>hsach</th>\n",
       "      <th>fustuses</th>\n",
       "      <th>fusturace</th>\n",
       "      <th>fustuach</th>\n",
       "      <th>futeases</th>\n",
       "      <th>futearace</th>\n",
       "      <th>futeaach</th>\n",
       "      <th>q37</th>\n",
       "    </tr>\n",
       "  </thead>\n",
       "  <tbody>\n",
       "    <tr>\n",
       "      <th>1</th>\n",
       "      <td>2018-06-08 08:00:42</td>\n",
       "      <td>2273117.0</td>\n",
       "      <td>Alba</td>\n",
       "      <td>Elena</td>\n",
       "      <td>McGraw,Jillian</td>\n",
       "      <td>1</td>\n",
       "      <td>2</td>\n",
       "      <td>American Studies and Religious Studies</td>\n",
       "      <td>3.86</td>\n",
       "      <td>1</td>\n",
       "      <td>...</td>\n",
       "      <td>2</td>\n",
       "      <td>2</td>\n",
       "      <td>3</td>\n",
       "      <td>2</td>\n",
       "      <td>2</td>\n",
       "      <td>3</td>\n",
       "      <td>2</td>\n",
       "      <td>2</td>\n",
       "      <td>3</td>\n",
       "      <td>I chose UVA for a variety of reasons, includin...</td>\n",
       "    </tr>\n",
       "  </tbody>\n",
       "</table>\n",
       "<p>1 rows × 31 columns</p>\n",
       "</div>"
      ],
      "text/plain": [
       "              assessed    student recipientlastname recipientfirstname  \\\n",
       "1  2018-06-08 08:00:42  2273117.0              Alba              Elena   \n",
       "\n",
       "         assessor ccs_cohort ccs_stutype  \\\n",
       "1  McGraw,Jillian          1           2   \n",
       "\n",
       "                                ccs_major ccs_gpa partch  ... hsses hsrace  \\\n",
       "1  American Studies and Religious Studies    3.86      1  ...     2      2   \n",
       "\n",
       "  hsach fustuses fusturace fustuach futeases futearace futeaach  \\\n",
       "1     3        2         2        3        2         2        3   \n",
       "\n",
       "                                                 q37  \n",
       "1  I chose UVA for a variety of reasons, includin...  \n",
       "\n",
       "[1 rows x 31 columns]"
      ]
     },
     "execution_count": 296,
     "metadata": {},
     "output_type": "execute_result"
    }
   ],
   "source": [
    "demog.head(1)"
   ]
  },
  {
   "cell_type": "markdown",
   "metadata": {},
   "source": [
    "#### Importing and saving data from 2017-2018 for missing data"
   ]
  },
  {
   "cell_type": "code",
   "execution_count": 133,
   "metadata": {},
   "outputs": [],
   "source": [
    "miss = pd.read_excel(\"2017_2018_CCS1_DemographySurvey_NumID_NoConsentRemoved.xlsx\")"
   ]
  },
  {
   "cell_type": "code",
   "execution_count": 135,
   "metadata": {},
   "outputs": [],
   "source": [
    "miss = lowerSkip(miss)"
   ]
  },
  {
   "cell_type": "code",
   "execution_count": 297,
   "metadata": {},
   "outputs": [
    {
     "data": {
      "text/html": [
       "<div>\n",
       "<style scoped>\n",
       "    .dataframe tbody tr th:only-of-type {\n",
       "        vertical-align: middle;\n",
       "    }\n",
       "\n",
       "    .dataframe tbody tr th {\n",
       "        vertical-align: top;\n",
       "    }\n",
       "\n",
       "    .dataframe thead th {\n",
       "        text-align: right;\n",
       "    }\n",
       "</style>\n",
       "<table border=\"1\" class=\"dataframe\">\n",
       "  <thead>\n",
       "    <tr style=\"text-align: right;\">\n",
       "      <th></th>\n",
       "      <th>assessed</th>\n",
       "      <th>student</th>\n",
       "      <th>recipientlastname</th>\n",
       "      <th>recipientfirstname</th>\n",
       "      <th>ccs_cohort</th>\n",
       "      <th>ccs_stutype</th>\n",
       "      <th>ccs_major</th>\n",
       "      <th>ccs_gpa</th>\n",
       "      <th>partch</th>\n",
       "      <th>moedu</th>\n",
       "      <th>...</th>\n",
       "      <th>hsloc</th>\n",
       "      <th>hsses</th>\n",
       "      <th>hsrace</th>\n",
       "      <th>hsach</th>\n",
       "      <th>fustuses</th>\n",
       "      <th>fusturace</th>\n",
       "      <th>fustuach</th>\n",
       "      <th>futeases</th>\n",
       "      <th>futearace</th>\n",
       "      <th>futeaach</th>\n",
       "    </tr>\n",
       "  </thead>\n",
       "  <tbody>\n",
       "    <tr>\n",
       "      <th>1</th>\n",
       "      <td>2017-09-14 05:05:54</td>\n",
       "      <td>2539029.0</td>\n",
       "      <td>All</td>\n",
       "      <td>Hannah</td>\n",
       "      <td>3</td>\n",
       "      <td>1</td>\n",
       "      <td>Art History</td>\n",
       "      <td>3.5</td>\n",
       "      <td>1</td>\n",
       "      <td>4</td>\n",
       "      <td>...</td>\n",
       "      <td>1</td>\n",
       "      <td>3</td>\n",
       "      <td>2</td>\n",
       "      <td>2</td>\n",
       "      <td>2</td>\n",
       "      <td>2</td>\n",
       "      <td>2</td>\n",
       "      <td>2</td>\n",
       "      <td>2</td>\n",
       "      <td>2</td>\n",
       "    </tr>\n",
       "  </tbody>\n",
       "</table>\n",
       "<p>1 rows × 29 columns</p>\n",
       "</div>"
      ],
      "text/plain": [
       "              assessed    student recipientlastname recipientfirstname  \\\n",
       "1  2017-09-14 05:05:54  2539029.0               All             Hannah   \n",
       "\n",
       "  ccs_cohort ccs_stutype    ccs_major ccs_gpa partch moedu  ... hsloc hsses  \\\n",
       "1          3           1  Art History     3.5      1     4  ...     1     3   \n",
       "\n",
       "  hsrace hsach fustuses fusturace fustuach futeases futearace futeaach  \n",
       "1      2     2        2         2        2        2         2        2  \n",
       "\n",
       "[1 rows x 29 columns]"
      ]
     },
     "execution_count": 297,
     "metadata": {},
     "output_type": "execute_result"
    }
   ],
   "source": [
    "miss.head(1)"
   ]
  },
  {
   "cell_type": "markdown",
   "metadata": {},
   "source": [
    "#### Append the datasets"
   ]
  },
  {
   "cell_type": "code",
   "execution_count": 269,
   "metadata": {},
   "outputs": [],
   "source": [
    "merged = mergeData(demog, miss)"
   ]
  },
  {
   "cell_type": "code",
   "execution_count": 271,
   "metadata": {},
   "outputs": [],
   "source": [
    "merged = basic(merged)"
   ]
  },
  {
   "cell_type": "code",
   "execution_count": null,
   "metadata": {},
   "outputs": [],
   "source": [
    "merged = dates(merged)"
   ]
  },
  {
   "cell_type": "code",
   "execution_count": 278,
   "metadata": {},
   "outputs": [],
   "source": [
    "merged = merged.query(\"student != 2176293 | assessed != '09162017'\")"
   ]
  },
  {
   "cell_type": "code",
   "execution_count": 280,
   "metadata": {},
   "outputs": [
    {
     "data": {
      "text/html": [
       "<div>\n",
       "<style scoped>\n",
       "    .dataframe tbody tr th:only-of-type {\n",
       "        vertical-align: middle;\n",
       "    }\n",
       "\n",
       "    .dataframe tbody tr th {\n",
       "        vertical-align: top;\n",
       "    }\n",
       "\n",
       "    .dataframe thead th {\n",
       "        text-align: right;\n",
       "    }\n",
       "</style>\n",
       "<table border=\"1\" class=\"dataframe\">\n",
       "  <thead>\n",
       "    <tr style=\"text-align: right;\">\n",
       "      <th></th>\n",
       "      <th>assessed</th>\n",
       "      <th>student</th>\n",
       "      <th>recipientlastname</th>\n",
       "      <th>recipientfirstname</th>\n",
       "      <th>assessor</th>\n",
       "      <th>ccs_cohort</th>\n",
       "      <th>ccs_stutype</th>\n",
       "      <th>ccs_major</th>\n",
       "      <th>ccs_gpa</th>\n",
       "      <th>partch</th>\n",
       "      <th>...</th>\n",
       "      <th>hsses</th>\n",
       "      <th>hsrace</th>\n",
       "      <th>hsach</th>\n",
       "      <th>fustuses</th>\n",
       "      <th>fusturace</th>\n",
       "      <th>fustuach</th>\n",
       "      <th>futeases</th>\n",
       "      <th>futearace</th>\n",
       "      <th>futeaach</th>\n",
       "      <th>q37</th>\n",
       "    </tr>\n",
       "  </thead>\n",
       "  <tbody>\n",
       "    <tr>\n",
       "      <th>0</th>\n",
       "      <td>06082018</td>\n",
       "      <td>2273117.0</td>\n",
       "      <td>Alba</td>\n",
       "      <td>Elena</td>\n",
       "      <td>McGraw,Jillian</td>\n",
       "      <td>1</td>\n",
       "      <td>2</td>\n",
       "      <td>American Studies and Religious Studies</td>\n",
       "      <td>3.86</td>\n",
       "      <td>1</td>\n",
       "      <td>...</td>\n",
       "      <td>2</td>\n",
       "      <td>2</td>\n",
       "      <td>3</td>\n",
       "      <td>2</td>\n",
       "      <td>2</td>\n",
       "      <td>3</td>\n",
       "      <td>2</td>\n",
       "      <td>2</td>\n",
       "      <td>3</td>\n",
       "      <td>I chose UVA for a variety of reasons, includin...</td>\n",
       "    </tr>\n",
       "  </tbody>\n",
       "</table>\n",
       "<p>1 rows × 31 columns</p>\n",
       "</div>"
      ],
      "text/plain": [
       "   assessed    student recipientlastname recipientfirstname        assessor  \\\n",
       "0  06082018  2273117.0              Alba              Elena  McGraw,Jillian   \n",
       "\n",
       "  ccs_cohort ccs_stutype                               ccs_major ccs_gpa  \\\n",
       "0          1           2  American Studies and Religious Studies    3.86   \n",
       "\n",
       "  partch  ... hsses hsrace hsach fustuses fusturace fustuach futeases  \\\n",
       "0      1  ...     2      2     3        2         2        3        2   \n",
       "\n",
       "  futearace futeaach                                                q37  \n",
       "0         2        3  I chose UVA for a variety of reasons, includin...  \n",
       "\n",
       "[1 rows x 31 columns]"
      ]
     },
     "execution_count": 280,
     "metadata": {},
     "output_type": "execute_result"
    }
   ],
   "source": [
    "merged.head(1)"
   ]
  },
  {
   "cell_type": "markdown",
   "metadata": {},
   "source": [
    "### FIT"
   ]
  },
  {
   "cell_type": "code",
   "execution_count": 281,
   "metadata": {},
   "outputs": [],
   "source": [
    "fit = pd.read_excel(\"2018_2019_FIT_SummerSecondary_PGMT_4thyrBMT_Recoded_ItemNamesRemoved.xls\", sheet_name=\"Sheet1\")"
   ]
  },
  {
   "cell_type": "code",
   "execution_count": 282,
   "metadata": {},
   "outputs": [],
   "source": [
    "fit = basic(fit)"
   ]
  },
  {
   "cell_type": "code",
   "execution_count": 283,
   "metadata": {},
   "outputs": [],
   "source": [
    "fit = newColMean(fit, \"fit_total\", first=\"fit_01\", last=\"fit_13\")"
   ]
  },
  {
   "cell_type": "code",
   "execution_count": 289,
   "metadata": {},
   "outputs": [
    {
     "data": {
      "text/html": [
       "<div>\n",
       "<style scoped>\n",
       "    .dataframe tbody tr th:only-of-type {\n",
       "        vertical-align: middle;\n",
       "    }\n",
       "\n",
       "    .dataframe tbody tr th {\n",
       "        vertical-align: top;\n",
       "    }\n",
       "\n",
       "    .dataframe thead th {\n",
       "        text-align: right;\n",
       "    }\n",
       "</style>\n",
       "<table border=\"1\" class=\"dataframe\">\n",
       "  <thead>\n",
       "    <tr style=\"text-align: right;\">\n",
       "      <th></th>\n",
       "      <th>assessed</th>\n",
       "      <th>student</th>\n",
       "      <th>recipientlastname</th>\n",
       "      <th>recipientfirstname</th>\n",
       "      <th>assessor</th>\n",
       "      <th>fit_01</th>\n",
       "      <th>fit_04</th>\n",
       "      <th>fit_05</th>\n",
       "      <th>fit_06</th>\n",
       "      <th>fit_07</th>\n",
       "      <th>fit_08</th>\n",
       "      <th>fit_09</th>\n",
       "      <th>fit_10</th>\n",
       "      <th>fit_11</th>\n",
       "      <th>fit_12</th>\n",
       "      <th>fit_13</th>\n",
       "      <th>fit_total</th>\n",
       "    </tr>\n",
       "  </thead>\n",
       "  <tbody>\n",
       "    <tr>\n",
       "      <th>0</th>\n",
       "      <td>2018-06-08 07:58:12</td>\n",
       "      <td>2561224.0</td>\n",
       "      <td>Kim</td>\n",
       "      <td>Yewon</td>\n",
       "      <td>McGraw,Jillian</td>\n",
       "      <td>5</td>\n",
       "      <td>5</td>\n",
       "      <td>1</td>\n",
       "      <td>5</td>\n",
       "      <td>7</td>\n",
       "      <td>7</td>\n",
       "      <td>7</td>\n",
       "      <td>2</td>\n",
       "      <td>1</td>\n",
       "      <td>4</td>\n",
       "      <td>7</td>\n",
       "      <td>4.636364</td>\n",
       "    </tr>\n",
       "  </tbody>\n",
       "</table>\n",
       "</div>"
      ],
      "text/plain": [
       "             assessed    student recipientlastname recipientfirstname  \\\n",
       "0 2018-06-08 07:58:12  2561224.0               Kim              Yewon   \n",
       "\n",
       "         assessor  fit_01  fit_04  fit_05  fit_06  fit_07  fit_08  fit_09  \\\n",
       "0  McGraw,Jillian       5       5       1       5       7       7       7   \n",
       "\n",
       "   fit_10  fit_11  fit_12  fit_13  fit_total  \n",
       "0       2       1       4       7   4.636364  "
      ]
     },
     "execution_count": 289,
     "metadata": {},
     "output_type": "execute_result"
    }
   ],
   "source": [
    "fit.head(1)"
   ]
  },
  {
   "cell_type": "markdown",
   "metadata": {},
   "source": [
    "### GRIT"
   ]
  },
  {
   "cell_type": "code",
   "execution_count": 285,
   "metadata": {},
   "outputs": [],
   "source": [
    "grit = pd.read_excel(\"2018_2019_GRIT_SummerSecondary_PGMT_4thyrBMT_ReverseCoded_OrigRemoved.xls\", sheet_name=\"Sheet1\")"
   ]
  },
  {
   "cell_type": "code",
   "execution_count": 286,
   "metadata": {},
   "outputs": [],
   "source": [
    "grit = basic(grit)"
   ]
  },
  {
   "cell_type": "code",
   "execution_count": 287,
   "metadata": {},
   "outputs": [],
   "source": [
    "grit = newColMean(grit, \"grit_total\", first=\"r_grit_02\", last=\"r_grit_11\")"
   ]
  },
  {
   "cell_type": "code",
   "execution_count": 290,
   "metadata": {},
   "outputs": [
    {
     "data": {
      "text/html": [
       "<div>\n",
       "<style scoped>\n",
       "    .dataframe tbody tr th:only-of-type {\n",
       "        vertical-align: middle;\n",
       "    }\n",
       "\n",
       "    .dataframe tbody tr th {\n",
       "        vertical-align: top;\n",
       "    }\n",
       "\n",
       "    .dataframe thead th {\n",
       "        text-align: right;\n",
       "    }\n",
       "</style>\n",
       "<table border=\"1\" class=\"dataframe\">\n",
       "  <thead>\n",
       "    <tr style=\"text-align: right;\">\n",
       "      <th></th>\n",
       "      <th>assessed</th>\n",
       "      <th>student</th>\n",
       "      <th>recipientlastname</th>\n",
       "      <th>recipientfirstname</th>\n",
       "      <th>assessor</th>\n",
       "      <th>r_grit_02</th>\n",
       "      <th>grit_04</th>\n",
       "      <th>r_grit_05</th>\n",
       "      <th>grit_06</th>\n",
       "      <th>r_grit_07</th>\n",
       "      <th>r_grit_08</th>\n",
       "      <th>grit_09</th>\n",
       "      <th>grit_12</th>\n",
       "      <th>grit_01</th>\n",
       "      <th>r_grit_03</th>\n",
       "      <th>grit_10</th>\n",
       "      <th>r_grit_11</th>\n",
       "      <th>grit_total</th>\n",
       "    </tr>\n",
       "  </thead>\n",
       "  <tbody>\n",
       "    <tr>\n",
       "      <th>0</th>\n",
       "      <td>2018-06-08 07:58:12</td>\n",
       "      <td>2561224.0</td>\n",
       "      <td>Kim</td>\n",
       "      <td>Yewon</td>\n",
       "      <td>McGraw,Jillian</td>\n",
       "      <td>2</td>\n",
       "      <td>1</td>\n",
       "      <td>1</td>\n",
       "      <td>1</td>\n",
       "      <td>3</td>\n",
       "      <td>2</td>\n",
       "      <td>1</td>\n",
       "      <td>1</td>\n",
       "      <td>1</td>\n",
       "      <td>3</td>\n",
       "      <td>1</td>\n",
       "      <td>5</td>\n",
       "      <td>1.833333</td>\n",
       "    </tr>\n",
       "  </tbody>\n",
       "</table>\n",
       "</div>"
      ],
      "text/plain": [
       "             assessed    student recipientlastname recipientfirstname  \\\n",
       "0 2018-06-08 07:58:12  2561224.0               Kim              Yewon   \n",
       "\n",
       "         assessor  r_grit_02  grit_04  r_grit_05  grit_06  r_grit_07  \\\n",
       "0  McGraw,Jillian          2        1          1        1          3   \n",
       "\n",
       "   r_grit_08  grit_09  grit_12  grit_01  r_grit_03  grit_10  r_grit_11  \\\n",
       "0          2        1        1        1          3        1          5   \n",
       "\n",
       "   grit_total  \n",
       "0    1.833333  "
      ]
     },
     "execution_count": 290,
     "metadata": {},
     "output_type": "execute_result"
    }
   ],
   "source": [
    "grit.head(1)"
   ]
  },
  {
   "cell_type": "markdown",
   "metadata": {},
   "source": [
    "### IMTS"
   ]
  },
  {
   "cell_type": "code",
   "execution_count": 291,
   "metadata": {},
   "outputs": [],
   "source": [
    "imts = pd.read_excel(\"2018_2019_IMTS_SummerSecondary_PGMT_4thyrBMT_Missing_ItemNamesRemoved.xls\", sheet_name=\"Sheet1\")"
   ]
  },
  {
   "cell_type": "code",
   "execution_count": 292,
   "metadata": {},
   "outputs": [],
   "source": [
    "imts = basic(imts)"
   ]
  },
  {
   "cell_type": "code",
   "execution_count": 293,
   "metadata": {},
   "outputs": [],
   "source": [
    "imts = newColMean(imts, \"imts_total\", first=\"imts_01\", last=\"imts_05\")"
   ]
  },
  {
   "cell_type": "code",
   "execution_count": 295,
   "metadata": {},
   "outputs": [
    {
     "data": {
      "text/html": [
       "<div>\n",
       "<style scoped>\n",
       "    .dataframe tbody tr th:only-of-type {\n",
       "        vertical-align: middle;\n",
       "    }\n",
       "\n",
       "    .dataframe tbody tr th {\n",
       "        vertical-align: top;\n",
       "    }\n",
       "\n",
       "    .dataframe thead th {\n",
       "        text-align: right;\n",
       "    }\n",
       "</style>\n",
       "<table border=\"1\" class=\"dataframe\">\n",
       "  <thead>\n",
       "    <tr style=\"text-align: right;\">\n",
       "      <th></th>\n",
       "      <th>assessed</th>\n",
       "      <th>student</th>\n",
       "      <th>recipientlastname</th>\n",
       "      <th>recipientfirstname</th>\n",
       "      <th>assessor</th>\n",
       "      <th>imts_01</th>\n",
       "      <th>imts_02</th>\n",
       "      <th>imts_03</th>\n",
       "      <th>imts_04</th>\n",
       "      <th>imts_05</th>\n",
       "      <th>imts_total</th>\n",
       "    </tr>\n",
       "  </thead>\n",
       "  <tbody>\n",
       "    <tr>\n",
       "      <th>0</th>\n",
       "      <td>2018-06-08 07:58:12</td>\n",
       "      <td>2561224.0</td>\n",
       "      <td>Kim</td>\n",
       "      <td>Yewon</td>\n",
       "      <td>McGraw,Jillian</td>\n",
       "      <td>5</td>\n",
       "      <td>4</td>\n",
       "      <td>4</td>\n",
       "      <td>3</td>\n",
       "      <td>4</td>\n",
       "      <td>4.0</td>\n",
       "    </tr>\n",
       "  </tbody>\n",
       "</table>\n",
       "</div>"
      ],
      "text/plain": [
       "             assessed    student recipientlastname recipientfirstname  \\\n",
       "0 2018-06-08 07:58:12  2561224.0               Kim              Yewon   \n",
       "\n",
       "         assessor  imts_01  imts_02  imts_03  imts_04  imts_05  imts_total  \n",
       "0  McGraw,Jillian        5        4        4        3        4         4.0  "
      ]
     },
     "execution_count": 295,
     "metadata": {},
     "output_type": "execute_result"
    }
   ],
   "source": [
    "imts.head(1)"
   ]
  },
  {
   "cell_type": "markdown",
   "metadata": {},
   "source": [
    "### NEO"
   ]
  },
  {
   "cell_type": "markdown",
   "metadata": {},
   "source": [
    "#### Importing Neo"
   ]
  },
  {
   "cell_type": "code",
   "execution_count": 351,
   "metadata": {},
   "outputs": [],
   "source": [
    "neo = pd.read_excel(\"2018_2019_NEO_SummerSecondary_PGMT_ReverseCoded_OrigRemoved.xls\", sheet_name=\"Sheet1\")"
   ]
  },
  {
   "cell_type": "code",
   "execution_count": 352,
   "metadata": {},
   "outputs": [],
   "source": [
    "neo = lowerSkip(neo)"
   ]
  },
  {
   "cell_type": "code",
   "execution_count": 353,
   "metadata": {},
   "outputs": [],
   "source": [
    "neo = basic(neo)"
   ]
  },
  {
   "cell_type": "code",
   "execution_count": 354,
   "metadata": {},
   "outputs": [
    {
     "data": {
      "text/plain": [
       "dtype('float64')"
      ]
     },
     "execution_count": 354,
     "metadata": {},
     "output_type": "execute_result"
    }
   ],
   "source": [
    "neo.r_neo_01.dtypes"
   ]
  },
  {
   "cell_type": "code",
   "execution_count": 355,
   "metadata": {},
   "outputs": [
    {
     "data": {
      "text/html": [
       "<div>\n",
       "<style scoped>\n",
       "    .dataframe tbody tr th:only-of-type {\n",
       "        vertical-align: middle;\n",
       "    }\n",
       "\n",
       "    .dataframe tbody tr th {\n",
       "        vertical-align: top;\n",
       "    }\n",
       "\n",
       "    .dataframe thead th {\n",
       "        text-align: right;\n",
       "    }\n",
       "</style>\n",
       "<table border=\"1\" class=\"dataframe\">\n",
       "  <thead>\n",
       "    <tr style=\"text-align: right;\">\n",
       "      <th></th>\n",
       "      <th>assessed</th>\n",
       "      <th>student</th>\n",
       "      <th>recipientlastname</th>\n",
       "      <th>recipientfirstname</th>\n",
       "      <th>assessor</th>\n",
       "      <th>r_neo_01</th>\n",
       "      <th>neo_02</th>\n",
       "      <th>r_neo_03</th>\n",
       "      <th>neo_04</th>\n",
       "      <th>neo_05</th>\n",
       "      <th>...</th>\n",
       "      <th>neo_51</th>\n",
       "      <th>neo_52</th>\n",
       "      <th>neo_53</th>\n",
       "      <th>r_neo_54</th>\n",
       "      <th>r_neo_55</th>\n",
       "      <th>neo_56</th>\n",
       "      <th>r_neo_57</th>\n",
       "      <th>neo_58</th>\n",
       "      <th>r_neo_59</th>\n",
       "      <th>neo_60</th>\n",
       "    </tr>\n",
       "  </thead>\n",
       "  <tbody>\n",
       "    <tr>\n",
       "      <th>1</th>\n",
       "      <td>2018-06-08 08:00:42</td>\n",
       "      <td>2273117.0</td>\n",
       "      <td>Alba</td>\n",
       "      <td>Elena</td>\n",
       "      <td>McGraw,Jillian</td>\n",
       "      <td>4.0</td>\n",
       "      <td>4</td>\n",
       "      <td>4.0</td>\n",
       "      <td>5</td>\n",
       "      <td>4</td>\n",
       "      <td>...</td>\n",
       "      <td>2</td>\n",
       "      <td>5</td>\n",
       "      <td>5</td>\n",
       "      <td>4.0</td>\n",
       "      <td>4.0</td>\n",
       "      <td>3</td>\n",
       "      <td>2.0</td>\n",
       "      <td>3</td>\n",
       "      <td>4.0</td>\n",
       "      <td>5</td>\n",
       "    </tr>\n",
       "  </tbody>\n",
       "</table>\n",
       "<p>1 rows × 65 columns</p>\n",
       "</div>"
      ],
      "text/plain": [
       "              assessed    student recipientlastname recipientfirstname  \\\n",
       "1  2018-06-08 08:00:42  2273117.0              Alba              Elena   \n",
       "\n",
       "         assessor  r_neo_01 neo_02  r_neo_03 neo_04 neo_05  ... neo_51 neo_52  \\\n",
       "1  McGraw,Jillian       4.0      4       4.0      5      4  ...      2      5   \n",
       "\n",
       "   neo_53  r_neo_54 r_neo_55 neo_56  r_neo_57 neo_58  r_neo_59  neo_60  \n",
       "1       5       4.0      4.0      3       2.0      3       4.0       5  \n",
       "\n",
       "[1 rows x 65 columns]"
      ]
     },
     "execution_count": 355,
     "metadata": {},
     "output_type": "execute_result"
    }
   ],
   "source": [
    "neo.head(1)"
   ]
  },
  {
   "cell_type": "markdown",
   "metadata": {},
   "source": [
    "#### Importing Contact List"
   ]
  },
  {
   "cell_type": "code",
   "execution_count": 356,
   "metadata": {},
   "outputs": [],
   "source": [
    "contact = pd.read_excel(\"Student_Contact_2018_2019.xls\")"
   ]
  },
  {
   "cell_type": "code",
   "execution_count": 357,
   "metadata": {},
   "outputs": [
    {
     "data": {
      "text/html": [
       "<div>\n",
       "<style scoped>\n",
       "    .dataframe tbody tr th:only-of-type {\n",
       "        vertical-align: middle;\n",
       "    }\n",
       "\n",
       "    .dataframe tbody tr th {\n",
       "        vertical-align: top;\n",
       "    }\n",
       "\n",
       "    .dataframe thead th {\n",
       "        text-align: right;\n",
       "    }\n",
       "</style>\n",
       "<table border=\"1\" class=\"dataframe\">\n",
       "  <thead>\n",
       "    <tr style=\"text-align: right;\">\n",
       "      <th></th>\n",
       "      <th>student</th>\n",
       "      <th>name</th>\n",
       "      <th>universitycomputingid</th>\n",
       "      <th>studentacademicyr</th>\n",
       "      <th>email</th>\n",
       "    </tr>\n",
       "  </thead>\n",
       "  <tbody>\n",
       "    <tr>\n",
       "      <th>0</th>\n",
       "      <td>2273117</td>\n",
       "      <td>Alba,Elena M</td>\n",
       "      <td>ema4ex</td>\n",
       "      <td>NaN</td>\n",
       "      <td>ema4ex@virginia.edu</td>\n",
       "    </tr>\n",
       "  </tbody>\n",
       "</table>\n",
       "</div>"
      ],
      "text/plain": [
       "   student          name universitycomputingid studentacademicyr  \\\n",
       "0  2273117  Alba,Elena M                ema4ex               NaN   \n",
       "\n",
       "                 email  \n",
       "0  ema4ex@virginia.edu  "
      ]
     },
     "execution_count": 357,
     "metadata": {},
     "output_type": "execute_result"
    }
   ],
   "source": [
    "contact.head(1)"
   ]
  },
  {
   "cell_type": "markdown",
   "metadata": {},
   "source": [
    "#### Merge Neo and Contact List"
   ]
  },
  {
   "cell_type": "code",
   "execution_count": 358,
   "metadata": {},
   "outputs": [],
   "source": [
    "neo_merged = neo.merge(contact, on='student', how='left')"
   ]
  },
  {
   "cell_type": "code",
   "execution_count": 359,
   "metadata": {},
   "outputs": [],
   "source": [
    "neo_merged = neo_merged.drop(['name', 'universitycomputingid', 'studentacademicyr'], axis=1)"
   ]
  },
  {
   "cell_type": "code",
   "execution_count": 417,
   "metadata": {},
   "outputs": [
    {
     "data": {
      "text/html": [
       "<div>\n",
       "<style scoped>\n",
       "    .dataframe tbody tr th:only-of-type {\n",
       "        vertical-align: middle;\n",
       "    }\n",
       "\n",
       "    .dataframe tbody tr th {\n",
       "        vertical-align: top;\n",
       "    }\n",
       "\n",
       "    .dataframe thead th {\n",
       "        text-align: right;\n",
       "    }\n",
       "</style>\n",
       "<table border=\"1\" class=\"dataframe\">\n",
       "  <thead>\n",
       "    <tr style=\"text-align: right;\">\n",
       "      <th></th>\n",
       "      <th>assessed</th>\n",
       "      <th>student</th>\n",
       "      <th>recipientlastname</th>\n",
       "      <th>recipientfirstname</th>\n",
       "      <th>assessor</th>\n",
       "      <th>r_neo_01</th>\n",
       "      <th>neo_02</th>\n",
       "      <th>r_neo_03</th>\n",
       "      <th>neo_04</th>\n",
       "      <th>neo_05</th>\n",
       "      <th>...</th>\n",
       "      <th>neo_52</th>\n",
       "      <th>neo_53</th>\n",
       "      <th>r_neo_54</th>\n",
       "      <th>r_neo_55</th>\n",
       "      <th>neo_56</th>\n",
       "      <th>r_neo_57</th>\n",
       "      <th>neo_58</th>\n",
       "      <th>r_neo_59</th>\n",
       "      <th>neo_60</th>\n",
       "      <th>email</th>\n",
       "    </tr>\n",
       "  </thead>\n",
       "  <tbody>\n",
       "    <tr>\n",
       "      <th>0</th>\n",
       "      <td>2018-06-08 08:00:42</td>\n",
       "      <td>2273117.0</td>\n",
       "      <td>Alba</td>\n",
       "      <td>Elena</td>\n",
       "      <td>McGraw,Jillian</td>\n",
       "      <td>4.0</td>\n",
       "      <td>4</td>\n",
       "      <td>4.0</td>\n",
       "      <td>5</td>\n",
       "      <td>4</td>\n",
       "      <td>...</td>\n",
       "      <td>5</td>\n",
       "      <td>5</td>\n",
       "      <td>4.0</td>\n",
       "      <td>4.0</td>\n",
       "      <td>3</td>\n",
       "      <td>2.0</td>\n",
       "      <td>3</td>\n",
       "      <td>4.0</td>\n",
       "      <td>5</td>\n",
       "      <td>ema4ex@virginia.edu</td>\n",
       "    </tr>\n",
       "  </tbody>\n",
       "</table>\n",
       "<p>1 rows × 66 columns</p>\n",
       "</div>"
      ],
      "text/plain": [
       "              assessed    student recipientlastname recipientfirstname  \\\n",
       "0  2018-06-08 08:00:42  2273117.0              Alba              Elena   \n",
       "\n",
       "         assessor  r_neo_01 neo_02  r_neo_03 neo_04 neo_05  ... neo_52 neo_53  \\\n",
       "0  McGraw,Jillian       4.0      4       4.0      5      4  ...      5      5   \n",
       "\n",
       "   r_neo_54  r_neo_55 neo_56 r_neo_57  neo_58 r_neo_59  neo_60  \\\n",
       "0       4.0       4.0      3      2.0       3      4.0       5   \n",
       "\n",
       "                 email  \n",
       "0  ema4ex@virginia.edu  \n",
       "\n",
       "[1 rows x 66 columns]"
      ]
     },
     "execution_count": 417,
     "metadata": {},
     "output_type": "execute_result"
    }
   ],
   "source": [
    "neo_merged.head(1)"
   ]
  },
  {
   "cell_type": "markdown",
   "metadata": {},
   "source": [
    "#### Import 2017 Data"
   ]
  },
  {
   "cell_type": "code",
   "execution_count": 361,
   "metadata": {},
   "outputs": [],
   "source": [
    "neo_2017 = pd.read_excel(\"NEO 2017 09 27.xlsx\")"
   ]
  },
  {
   "cell_type": "code",
   "execution_count": 362,
   "metadata": {},
   "outputs": [],
   "source": [
    "neo_2017 = lowerSkip(neo_2017)"
   ]
  },
  {
   "cell_type": "code",
   "execution_count": 363,
   "metadata": {},
   "outputs": [],
   "source": [
    "neo_2017 = neo_2017.rename({\"recipientemail\":\"email\"}, axis=1)"
   ]
  },
  {
   "cell_type": "code",
   "execution_count": 364,
   "metadata": {},
   "outputs": [],
   "source": [
    "neo_2017 = neo_2017.sort_values(by='recipientfirstname', ascending=True)"
   ]
  },
  {
   "cell_type": "code",
   "execution_count": 416,
   "metadata": {},
   "outputs": [
    {
     "data": {
      "text/html": [
       "<div>\n",
       "<style scoped>\n",
       "    .dataframe tbody tr th:only-of-type {\n",
       "        vertical-align: middle;\n",
       "    }\n",
       "\n",
       "    .dataframe tbody tr th {\n",
       "        vertical-align: top;\n",
       "    }\n",
       "\n",
       "    .dataframe thead th {\n",
       "        text-align: right;\n",
       "    }\n",
       "</style>\n",
       "<table border=\"1\" class=\"dataframe\">\n",
       "  <thead>\n",
       "    <tr style=\"text-align: right;\">\n",
       "      <th></th>\n",
       "      <th>recipientlastname</th>\n",
       "      <th>recipientfirstname</th>\n",
       "      <th>email</th>\n",
       "      <th>neo_1</th>\n",
       "      <th>neo_2</th>\n",
       "      <th>neo_3</th>\n",
       "      <th>neo_4</th>\n",
       "      <th>neo_5</th>\n",
       "      <th>neo_6</th>\n",
       "      <th>neo_7</th>\n",
       "      <th>...</th>\n",
       "      <th>neo_51</th>\n",
       "      <th>neo_52</th>\n",
       "      <th>neo_53</th>\n",
       "      <th>neo_54</th>\n",
       "      <th>neo_55</th>\n",
       "      <th>neo_56</th>\n",
       "      <th>neo_57</th>\n",
       "      <th>neo_58</th>\n",
       "      <th>neo_59</th>\n",
       "      <th>neo_60</th>\n",
       "    </tr>\n",
       "  </thead>\n",
       "  <tbody>\n",
       "    <tr>\n",
       "      <th>29</th>\n",
       "      <td>Copley</td>\n",
       "      <td>Abigail</td>\n",
       "      <td>ac4ah@virginia.edu</td>\n",
       "      <td>3</td>\n",
       "      <td>2</td>\n",
       "      <td>4</td>\n",
       "      <td>4</td>\n",
       "      <td>4</td>\n",
       "      <td>2</td>\n",
       "      <td>3</td>\n",
       "      <td>...</td>\n",
       "      <td>2</td>\n",
       "      <td>4</td>\n",
       "      <td>4</td>\n",
       "      <td>3</td>\n",
       "      <td>2</td>\n",
       "      <td>3</td>\n",
       "      <td>2</td>\n",
       "      <td>4</td>\n",
       "      <td>3</td>\n",
       "      <td>4</td>\n",
       "    </tr>\n",
       "  </tbody>\n",
       "</table>\n",
       "<p>1 rows × 63 columns</p>\n",
       "</div>"
      ],
      "text/plain": [
       "   recipientlastname recipientfirstname               email neo_1 neo_2 neo_3  \\\n",
       "29            Copley            Abigail  ac4ah@virginia.edu     3     2     4   \n",
       "\n",
       "   neo_4 neo_5 neo_6 neo_7  ... neo_51 neo_52 neo_53 neo_54 neo_55 neo_56  \\\n",
       "29     4     4     2     3  ...      2      4      4      3      2      3   \n",
       "\n",
       "   neo_57 neo_58 neo_59 neo_60  \n",
       "29      2      4      3      4  \n",
       "\n",
       "[1 rows x 63 columns]"
      ]
     },
     "execution_count": 416,
     "metadata": {},
     "output_type": "execute_result"
    }
   ],
   "source": [
    "neo_2017.head(1)"
   ]
  },
  {
   "cell_type": "markdown",
   "metadata": {},
   "source": [
    "#### Merging with contact list to get student numbers"
   ]
  },
  {
   "cell_type": "code",
   "execution_count": 366,
   "metadata": {},
   "outputs": [],
   "source": [
    "neo_2017_merged = neo_2017.merge(contact, on='email', how='outer')"
   ]
  },
  {
   "cell_type": "code",
   "execution_count": 367,
   "metadata": {},
   "outputs": [],
   "source": [
    "neo_2017_merged = neo_2017_merged.drop(['name', 'universitycomputingid', 'studentacademicyr'], axis=1)"
   ]
  },
  {
   "cell_type": "code",
   "execution_count": 368,
   "metadata": {},
   "outputs": [],
   "source": [
    "neo_2017_merged = basic(neo_2017_merged)"
   ]
  },
  {
   "cell_type": "code",
   "execution_count": 369,
   "metadata": {},
   "outputs": [
    {
     "data": {
      "text/html": [
       "<div>\n",
       "<style scoped>\n",
       "    .dataframe tbody tr th:only-of-type {\n",
       "        vertical-align: middle;\n",
       "    }\n",
       "\n",
       "    .dataframe tbody tr th {\n",
       "        vertical-align: top;\n",
       "    }\n",
       "\n",
       "    .dataframe thead th {\n",
       "        text-align: right;\n",
       "    }\n",
       "</style>\n",
       "<table border=\"1\" class=\"dataframe\">\n",
       "  <thead>\n",
       "    <tr style=\"text-align: right;\">\n",
       "      <th></th>\n",
       "      <th>recipientlastname</th>\n",
       "      <th>recipientfirstname</th>\n",
       "      <th>email</th>\n",
       "      <th>neo_1</th>\n",
       "      <th>neo_2</th>\n",
       "      <th>neo_3</th>\n",
       "      <th>neo_4</th>\n",
       "      <th>neo_5</th>\n",
       "      <th>neo_6</th>\n",
       "      <th>neo_7</th>\n",
       "      <th>...</th>\n",
       "      <th>neo_52</th>\n",
       "      <th>neo_53</th>\n",
       "      <th>neo_54</th>\n",
       "      <th>neo_55</th>\n",
       "      <th>neo_56</th>\n",
       "      <th>neo_57</th>\n",
       "      <th>neo_58</th>\n",
       "      <th>neo_59</th>\n",
       "      <th>neo_60</th>\n",
       "      <th>student</th>\n",
       "    </tr>\n",
       "  </thead>\n",
       "  <tbody>\n",
       "    <tr>\n",
       "      <th>0</th>\n",
       "      <td>Copley</td>\n",
       "      <td>Abigail</td>\n",
       "      <td>ac4ah@virginia.edu</td>\n",
       "      <td>3</td>\n",
       "      <td>2</td>\n",
       "      <td>4</td>\n",
       "      <td>4</td>\n",
       "      <td>4</td>\n",
       "      <td>2</td>\n",
       "      <td>3</td>\n",
       "      <td>...</td>\n",
       "      <td>4</td>\n",
       "      <td>4</td>\n",
       "      <td>3</td>\n",
       "      <td>2</td>\n",
       "      <td>3</td>\n",
       "      <td>2</td>\n",
       "      <td>4</td>\n",
       "      <td>3</td>\n",
       "      <td>4</td>\n",
       "      <td>2598400.0</td>\n",
       "    </tr>\n",
       "  </tbody>\n",
       "</table>\n",
       "<p>1 rows × 64 columns</p>\n",
       "</div>"
      ],
      "text/plain": [
       "  recipientlastname recipientfirstname               email neo_1 neo_2 neo_3  \\\n",
       "0            Copley            Abigail  ac4ah@virginia.edu     3     2     4   \n",
       "\n",
       "  neo_4 neo_5 neo_6 neo_7  ... neo_52 neo_53 neo_54 neo_55 neo_56 neo_57  \\\n",
       "0     4     4     2     3  ...      4      4      3      2      3      2   \n",
       "\n",
       "  neo_58 neo_59 neo_60    student  \n",
       "0      4      3      4  2598400.0  \n",
       "\n",
       "[1 rows x 64 columns]"
      ]
     },
     "execution_count": 369,
     "metadata": {},
     "output_type": "execute_result"
    }
   ],
   "source": [
    "neo_2017_merged.head(1)"
   ]
  },
  {
   "cell_type": "markdown",
   "metadata": {},
   "source": [
    "#### Reverse coding management approaches scale "
   ]
  },
  {
   "cell_type": "code",
   "execution_count": 370,
   "metadata": {},
   "outputs": [],
   "source": [
    "neo_2017_merged = destring(neo_2017_merged, first=\"neo_1\", last=\"neo_60\")"
   ]
  },
  {
   "cell_type": "code",
   "execution_count": 372,
   "metadata": {},
   "outputs": [],
   "source": [
    "include = [\"neo_1\", \"neo_3\", \"neo_8\", \"neo_9\", \"neo_12\", \"neo_14\", \"neo_15\", \"neo_16\", \"neo_18\", \"neo_23\", \\\n",
    "           \"neo_24\", \"neo_27\", \"neo_29\", \"neo_30\", \"neo_31\", \"neo_33\", \"neo_38\", \"neo_39\", \"neo_42\", \\\n",
    "           \"neo_44\", \"neo_45\", \"neo_46\", \"neo_48\", \"neo_54\", \"neo_55\", \"neo_57\", \"neo_59\"]\n",
    "neo_2017_merged = recode(neo_2017_merged, include)"
   ]
  },
  {
   "cell_type": "code",
   "execution_count": 373,
   "metadata": {},
   "outputs": [],
   "source": [
    "neo_2017_merged = neo_2017_merged.rename({\"r_neo_1\": \"r_neo_01\",\n",
    "                                         \"neo_2\": \"neo_02\",\n",
    "                                         \"r_neo_3\": \"r_neo_03\",\n",
    "                                         \"neo_4\": \"neo_04\",\n",
    "                                         \"neo_5\": \"neo_05\",\n",
    "                                         \"neo_6\": \"neo_06\",\n",
    "                                         \"neo_7\": \"neo_07\",\n",
    "                                         \"r_neo_8\": \"r_neo_08\",\n",
    "                                         \"r_neo_9\": \"r_neo_09\"}, axis=1)"
   ]
  },
  {
   "cell_type": "code",
   "execution_count": 375,
   "metadata": {},
   "outputs": [],
   "source": [
    "neo_2017_merged = neo_2017_merged.dropna(subset=['r_neo_01'])"
   ]
  },
  {
   "cell_type": "code",
   "execution_count": 377,
   "metadata": {},
   "outputs": [
    {
     "data": {
      "text/html": [
       "<div>\n",
       "<style scoped>\n",
       "    .dataframe tbody tr th:only-of-type {\n",
       "        vertical-align: middle;\n",
       "    }\n",
       "\n",
       "    .dataframe tbody tr th {\n",
       "        vertical-align: top;\n",
       "    }\n",
       "\n",
       "    .dataframe thead th {\n",
       "        text-align: right;\n",
       "    }\n",
       "</style>\n",
       "<table border=\"1\" class=\"dataframe\">\n",
       "  <thead>\n",
       "    <tr style=\"text-align: right;\">\n",
       "      <th></th>\n",
       "      <th>recipientlastname</th>\n",
       "      <th>recipientfirstname</th>\n",
       "      <th>email</th>\n",
       "      <th>neo_02</th>\n",
       "      <th>neo_04</th>\n",
       "      <th>neo_05</th>\n",
       "      <th>neo_06</th>\n",
       "      <th>neo_07</th>\n",
       "      <th>neo_10</th>\n",
       "      <th>neo_11</th>\n",
       "      <th>...</th>\n",
       "      <th>r_neo_39</th>\n",
       "      <th>r_neo_42</th>\n",
       "      <th>r_neo_44</th>\n",
       "      <th>r_neo_45</th>\n",
       "      <th>r_neo_46</th>\n",
       "      <th>r_neo_48</th>\n",
       "      <th>r_neo_54</th>\n",
       "      <th>r_neo_55</th>\n",
       "      <th>r_neo_57</th>\n",
       "      <th>r_neo_59</th>\n",
       "    </tr>\n",
       "  </thead>\n",
       "  <tbody>\n",
       "    <tr>\n",
       "      <th>0</th>\n",
       "      <td>Copley</td>\n",
       "      <td>Abigail</td>\n",
       "      <td>ac4ah@virginia.edu</td>\n",
       "      <td>2.0</td>\n",
       "      <td>4.0</td>\n",
       "      <td>4.0</td>\n",
       "      <td>2.0</td>\n",
       "      <td>3.0</td>\n",
       "      <td>4.0</td>\n",
       "      <td>3.0</td>\n",
       "      <td>...</td>\n",
       "      <td>4.0</td>\n",
       "      <td>4.0</td>\n",
       "      <td>3.0</td>\n",
       "      <td>4.0</td>\n",
       "      <td>3.0</td>\n",
       "      <td>4.0</td>\n",
       "      <td>3.0</td>\n",
       "      <td>4.0</td>\n",
       "      <td>4.0</td>\n",
       "      <td>3.0</td>\n",
       "    </tr>\n",
       "  </tbody>\n",
       "</table>\n",
       "<p>1 rows × 64 columns</p>\n",
       "</div>"
      ],
      "text/plain": [
       "  recipientlastname recipientfirstname               email  neo_02  neo_04  \\\n",
       "0            Copley            Abigail  ac4ah@virginia.edu     2.0     4.0   \n",
       "\n",
       "   neo_05  neo_06  neo_07  neo_10  neo_11  ...  r_neo_39  r_neo_42  r_neo_44  \\\n",
       "0     4.0     2.0     3.0     4.0     3.0  ...       4.0       4.0       3.0   \n",
       "\n",
       "   r_neo_45  r_neo_46  r_neo_48  r_neo_54  r_neo_55  r_neo_57  r_neo_59  \n",
       "0       4.0       3.0       4.0       3.0       4.0       4.0       3.0  \n",
       "\n",
       "[1 rows x 64 columns]"
      ]
     },
     "execution_count": 377,
     "metadata": {},
     "output_type": "execute_result"
    }
   ],
   "source": [
    "neo_2017_merged.head(1)"
   ]
  },
  {
   "cell_type": "markdown",
   "metadata": {},
   "source": [
    "#### Appending datasets\n",
    "\n",
    "Note: \"2018_2019_NEO1_Data.dta\" is the dataframe neo_merged above"
   ]
  },
  {
   "cell_type": "code",
   "execution_count": 379,
   "metadata": {},
   "outputs": [],
   "source": [
    "appended = mergeData(neo_2017_merged, neo_merged)"
   ]
  },
  {
   "cell_type": "code",
   "execution_count": 384,
   "metadata": {},
   "outputs": [],
   "source": [
    "# create column with how many times student occurs\n",
    "appended['Count'] = appended.groupby('student')['student'].transform('count')"
   ]
  },
  {
   "cell_type": "code",
   "execution_count": 387,
   "metadata": {},
   "outputs": [],
   "source": [
    "appended = appended.query(\"Count==1 | email != '' \")"
   ]
  },
  {
   "cell_type": "code",
   "execution_count": 389,
   "metadata": {},
   "outputs": [],
   "source": [
    "appended = appended.drop(['Count'], axis=1)"
   ]
  },
  {
   "cell_type": "code",
   "execution_count": 391,
   "metadata": {},
   "outputs": [],
   "source": [
    "appended = newColMean(appended, \"neo_n\", included=[\"r_neo_01\", \"neo_06\", \"neo_11\", \"r_neo_16\", \\\n",
    "                                          \"neo_21\", \"neo_26\", \"r_neo_31\", \"neo_36\", \"neo_41\", \\\n",
    "                                          \"r_neo_46\", \"neo_51\", \"neo_56\"])"
   ]
  },
  {
   "cell_type": "code",
   "execution_count": 393,
   "metadata": {},
   "outputs": [],
   "source": [
    "appended = newColMean(appended, \"neo_e\", included=[\"neo_02\", \"neo_07\", \"r_neo_12\", \"neo_17\", \\\n",
    "                                                   \"neo_22\", \"r_neo_27\", \"neo_32\", \"neo_37\", \\\n",
    "                                                   \"r_neo_42\", \"neo_47\", \"neo_52\", \"r_neo_57\"])\n"
   ]
  },
  {
   "cell_type": "code",
   "execution_count": 394,
   "metadata": {},
   "outputs": [],
   "source": [
    "appended = newColMean(appended, \"neo_o\", included=[\"r_neo_03\", \"r_neo_08\", \"neo_13\", \"r_neo_18\", \\\n",
    "                                                   \"r_neo_23\", \"neo_28\", \"r_neo_33\", \"r_neo_38\", \\\n",
    "                                                   \"neo_43\", \"r_neo_48\", \"neo_53\", \"neo_58\"])\n"
   ]
  },
  {
   "cell_type": "code",
   "execution_count": 395,
   "metadata": {},
   "outputs": [],
   "source": [
    "appended = newColMean(appended, \"neo_a\", included=[\"neo_04\", \"r_neo_09\", \"r_neo_14\", \"neo_19\", \\\n",
    "                                                   \"r_neo_24\", \"r_neo_29\", \"neo_34\", \"r_neo_39\", \\\n",
    "                                                   \"r_neo_44\", \"neo_49\", \"r_neo_54\", \"r_neo_59\"])\n"
   ]
  },
  {
   "cell_type": "code",
   "execution_count": 396,
   "metadata": {},
   "outputs": [],
   "source": [
    "appended = newColMean(appended, \"neo_c\", included=[\"neo_05\", \"neo_10\", \"r_neo_15\", \"neo_20\", \"neo_25\", \\\n",
    "                                                   \"r_neo_30\", \"neo_35\", \"neo_40\", \"r_neo_45\", \"neo_50\", \\\n",
    "                                                   \"r_neo_55\", \"neo_60\"])\n"
   ]
  },
  {
   "cell_type": "code",
   "execution_count": 398,
   "metadata": {},
   "outputs": [
    {
     "data": {
      "text/html": [
       "<div>\n",
       "<style scoped>\n",
       "    .dataframe tbody tr th:only-of-type {\n",
       "        vertical-align: middle;\n",
       "    }\n",
       "\n",
       "    .dataframe tbody tr th {\n",
       "        vertical-align: top;\n",
       "    }\n",
       "\n",
       "    .dataframe thead th {\n",
       "        text-align: right;\n",
       "    }\n",
       "</style>\n",
       "<table border=\"1\" class=\"dataframe\">\n",
       "  <thead>\n",
       "    <tr style=\"text-align: right;\">\n",
       "      <th></th>\n",
       "      <th>recipientlastname</th>\n",
       "      <th>recipientfirstname</th>\n",
       "      <th>email</th>\n",
       "      <th>neo_02</th>\n",
       "      <th>neo_04</th>\n",
       "      <th>neo_05</th>\n",
       "      <th>neo_06</th>\n",
       "      <th>neo_07</th>\n",
       "      <th>neo_10</th>\n",
       "      <th>neo_11</th>\n",
       "      <th>...</th>\n",
       "      <th>r_neo_55</th>\n",
       "      <th>r_neo_57</th>\n",
       "      <th>r_neo_59</th>\n",
       "      <th>assessed</th>\n",
       "      <th>assessor</th>\n",
       "      <th>neo_n</th>\n",
       "      <th>neo_e</th>\n",
       "      <th>neo_o</th>\n",
       "      <th>neo_a</th>\n",
       "      <th>neo_c</th>\n",
       "    </tr>\n",
       "  </thead>\n",
       "  <tbody>\n",
       "    <tr>\n",
       "      <th>0</th>\n",
       "      <td>Copley</td>\n",
       "      <td>Abigail</td>\n",
       "      <td>ac4ah@virginia.edu</td>\n",
       "      <td>2</td>\n",
       "      <td>4</td>\n",
       "      <td>4</td>\n",
       "      <td>2</td>\n",
       "      <td>3</td>\n",
       "      <td>4</td>\n",
       "      <td>3</td>\n",
       "      <td>...</td>\n",
       "      <td>4.0</td>\n",
       "      <td>4.0</td>\n",
       "      <td>3.0</td>\n",
       "      <td>NaN</td>\n",
       "      <td>NaN</td>\n",
       "      <td>2.666667</td>\n",
       "      <td>3.416667</td>\n",
       "      <td>3.333333</td>\n",
       "      <td>3.583333</td>\n",
       "      <td>3.583333</td>\n",
       "    </tr>\n",
       "  </tbody>\n",
       "</table>\n",
       "<p>1 rows × 71 columns</p>\n",
       "</div>"
      ],
      "text/plain": [
       "  recipientlastname recipientfirstname               email neo_02 neo_04  \\\n",
       "0            Copley            Abigail  ac4ah@virginia.edu      2      4   \n",
       "\n",
       "  neo_05 neo_06 neo_07 neo_10 neo_11  ... r_neo_55 r_neo_57 r_neo_59 assessed  \\\n",
       "0      4      2      3      4      3  ...      4.0      4.0      3.0      NaN   \n",
       "\n",
       "  assessor     neo_n     neo_e     neo_o     neo_a     neo_c  \n",
       "0      NaN  2.666667  3.416667  3.333333  3.583333  3.583333  \n",
       "\n",
       "[1 rows x 71 columns]"
      ]
     },
     "execution_count": 398,
     "metadata": {},
     "output_type": "execute_result"
    }
   ],
   "source": [
    "appended.head(1)"
   ]
  },
  {
   "cell_type": "markdown",
   "metadata": {},
   "source": [
    "#### Merging with missing data to update"
   ]
  },
  {
   "cell_type": "code",
   "execution_count": 399,
   "metadata": {},
   "outputs": [],
   "source": [
    "missing = pd.read_excel(\"2018_2019_NEO_Missing.xls\")"
   ]
  },
  {
   "cell_type": "code",
   "execution_count": 401,
   "metadata": {},
   "outputs": [],
   "source": [
    "missing.columns = missing.columns.str.lower()"
   ]
  },
  {
   "cell_type": "code",
   "execution_count": 403,
   "metadata": {},
   "outputs": [],
   "source": [
    "missing = newColMean(missing, \"neo_n\", included=[\"r_neo_01\", \"neo_06\", \"neo_11\", \"r_neo_16\", \\\n",
    "                                          \"neo_21\", \"neo_26\", \"r_neo_31\", \"neo_36\", \"neo_41\", \\\n",
    "                                          \"r_neo_46\", \"neo_51\", \"neo_56\"])"
   ]
  },
  {
   "cell_type": "code",
   "execution_count": 404,
   "metadata": {},
   "outputs": [],
   "source": [
    "missing = newColMean(missing, \"neo_e\", included=[\"neo_02\", \"neo_07\", \"r_neo_12\", \"neo_17\", \\\n",
    "                                                   \"neo_22\", \"r_neo_27\", \"neo_32\", \"neo_37\", \\\n",
    "                                                   \"r_neo_42\", \"neo_47\", \"neo_52\", \"r_neo_57\"])\n"
   ]
  },
  {
   "cell_type": "code",
   "execution_count": 405,
   "metadata": {},
   "outputs": [],
   "source": [
    "missing = newColMean(missing, \"neo_o\", included=[\"r_neo_03\", \"r_neo_08\", \"neo_13\", \"r_neo_18\", \\\n",
    "                                                   \"r_neo_23\", \"neo_28\", \"r_neo_33\", \"r_neo_38\", \\\n",
    "                                                   \"neo_43\", \"r_neo_48\", \"neo_53\", \"neo_58\"])\n"
   ]
  },
  {
   "cell_type": "code",
   "execution_count": 406,
   "metadata": {},
   "outputs": [],
   "source": [
    "missing = newColMean(missing, \"neo_a\", included=[\"neo_04\", \"r_neo_09\", \"r_neo_14\", \"neo_19\", \\\n",
    "                                                   \"r_neo_24\", \"r_neo_29\", \"neo_34\", \"r_neo_39\", \\\n",
    "                                                   \"r_neo_44\", \"neo_49\", \"r_neo_54\", \"r_neo_59\"])\n"
   ]
  },
  {
   "cell_type": "code",
   "execution_count": 407,
   "metadata": {},
   "outputs": [],
   "source": [
    "missing = newColMean(missing, \"neo_c\", included=[\"neo_05\", \"neo_10\", \"r_neo_15\", \"neo_20\", \"neo_25\", \\\n",
    "                                                   \"r_neo_30\", \"neo_35\", \"neo_40\", \"r_neo_45\", \"neo_50\", \\\n",
    "                                                   \"r_neo_55\", \"neo_60\"])\n"
   ]
  },
  {
   "cell_type": "code",
   "execution_count": 408,
   "metadata": {},
   "outputs": [],
   "source": [
    "missing = missing.drop(['assessed', 'assessor'], axis=1)"
   ]
  },
  {
   "cell_type": "code",
   "execution_count": 410,
   "metadata": {},
   "outputs": [
    {
     "data": {
      "text/html": [
       "<div>\n",
       "<style scoped>\n",
       "    .dataframe tbody tr th:only-of-type {\n",
       "        vertical-align: middle;\n",
       "    }\n",
       "\n",
       "    .dataframe tbody tr th {\n",
       "        vertical-align: top;\n",
       "    }\n",
       "\n",
       "    .dataframe thead th {\n",
       "        text-align: right;\n",
       "    }\n",
       "</style>\n",
       "<table border=\"1\" class=\"dataframe\">\n",
       "  <thead>\n",
       "    <tr style=\"text-align: right;\">\n",
       "      <th></th>\n",
       "      <th>name</th>\n",
       "      <th>email</th>\n",
       "      <th>program</th>\n",
       "      <th>section</th>\n",
       "      <th>student</th>\n",
       "      <th>recipientlastname</th>\n",
       "      <th>recipientfirstname</th>\n",
       "      <th>r_neo_01</th>\n",
       "      <th>neo_02</th>\n",
       "      <th>r_neo_03</th>\n",
       "      <th>...</th>\n",
       "      <th>neo_56</th>\n",
       "      <th>r_neo_57</th>\n",
       "      <th>neo_58</th>\n",
       "      <th>r_neo_59</th>\n",
       "      <th>neo_60</th>\n",
       "      <th>neo_n</th>\n",
       "      <th>neo_e</th>\n",
       "      <th>neo_o</th>\n",
       "      <th>neo_a</th>\n",
       "      <th>neo_c</th>\n",
       "    </tr>\n",
       "  </thead>\n",
       "  <tbody>\n",
       "    <tr>\n",
       "      <th>0</th>\n",
       "      <td>Atkeson,Kate</td>\n",
       "      <td>kra2fn@virginia.edu</td>\n",
       "      <td>elementary</td>\n",
       "      <td>Monday</td>\n",
       "      <td>2542858.0</td>\n",
       "      <td>Atkeson</td>\n",
       "      <td>Katherine</td>\n",
       "      <td>4.0</td>\n",
       "      <td>3.0</td>\n",
       "      <td>4.0</td>\n",
       "      <td>...</td>\n",
       "      <td>2.0</td>\n",
       "      <td>3.0</td>\n",
       "      <td>3.0</td>\n",
       "      <td>4.0</td>\n",
       "      <td>3.0</td>\n",
       "      <td>2.916667</td>\n",
       "      <td>3.833333</td>\n",
       "      <td>4.0</td>\n",
       "      <td>4.5</td>\n",
       "      <td>3.666667</td>\n",
       "    </tr>\n",
       "  </tbody>\n",
       "</table>\n",
       "<p>1 rows × 72 columns</p>\n",
       "</div>"
      ],
      "text/plain": [
       "           name                email     program section    student  \\\n",
       "0  Atkeson,Kate  kra2fn@virginia.edu  elementary  Monday  2542858.0   \n",
       "\n",
       "  recipientlastname recipientfirstname  r_neo_01  neo_02  r_neo_03  ...  \\\n",
       "0           Atkeson          Katherine       4.0     3.0       4.0  ...   \n",
       "\n",
       "   neo_56  r_neo_57  neo_58  r_neo_59  neo_60     neo_n     neo_e  neo_o  \\\n",
       "0     2.0       3.0     3.0       4.0     3.0  2.916667  3.833333    4.0   \n",
       "\n",
       "   neo_a     neo_c  \n",
       "0    4.5  3.666667  \n",
       "\n",
       "[1 rows x 72 columns]"
      ]
     },
     "execution_count": 410,
     "metadata": {},
     "output_type": "execute_result"
    }
   ],
   "source": [
    "missing.head(1)"
   ]
  },
  {
   "cell_type": "markdown",
   "metadata": {},
   "source": [
    "#### Merging Two Datasets"
   ]
  },
  {
   "cell_type": "code",
   "execution_count": 413,
   "metadata": {},
   "outputs": [],
   "source": [
    "# \"2018_2019_NEO_Data.dta\" is stored as the dataframe \"appended\"\n",
    "# \"2018_2019_NEO_Missing_Cleaned.dta\" is stored as the dataframe \"missing\"\n",
    "# this df final_neo becomes \"2018_2019_NEO_Data.dta\"\n",
    "final_neo = appended.merge(missing[['student', 'name', 'program', 'section']], on='student', how='outer')"
   ]
  },
  {
   "cell_type": "code",
   "execution_count": 415,
   "metadata": {},
   "outputs": [
    {
     "data": {
      "text/html": [
       "<div>\n",
       "<style scoped>\n",
       "    .dataframe tbody tr th:only-of-type {\n",
       "        vertical-align: middle;\n",
       "    }\n",
       "\n",
       "    .dataframe tbody tr th {\n",
       "        vertical-align: top;\n",
       "    }\n",
       "\n",
       "    .dataframe thead th {\n",
       "        text-align: right;\n",
       "    }\n",
       "</style>\n",
       "<table border=\"1\" class=\"dataframe\">\n",
       "  <thead>\n",
       "    <tr style=\"text-align: right;\">\n",
       "      <th></th>\n",
       "      <th>recipientlastname</th>\n",
       "      <th>recipientfirstname</th>\n",
       "      <th>email</th>\n",
       "      <th>neo_02</th>\n",
       "      <th>neo_04</th>\n",
       "      <th>neo_05</th>\n",
       "      <th>neo_06</th>\n",
       "      <th>neo_07</th>\n",
       "      <th>neo_10</th>\n",
       "      <th>neo_11</th>\n",
       "      <th>...</th>\n",
       "      <th>assessed</th>\n",
       "      <th>assessor</th>\n",
       "      <th>neo_n</th>\n",
       "      <th>neo_e</th>\n",
       "      <th>neo_o</th>\n",
       "      <th>neo_a</th>\n",
       "      <th>neo_c</th>\n",
       "      <th>name</th>\n",
       "      <th>program</th>\n",
       "      <th>section</th>\n",
       "    </tr>\n",
       "  </thead>\n",
       "  <tbody>\n",
       "    <tr>\n",
       "      <th>0</th>\n",
       "      <td>Copley</td>\n",
       "      <td>Abigail</td>\n",
       "      <td>ac4ah@virginia.edu</td>\n",
       "      <td>2</td>\n",
       "      <td>4</td>\n",
       "      <td>4</td>\n",
       "      <td>2</td>\n",
       "      <td>3</td>\n",
       "      <td>4</td>\n",
       "      <td>3</td>\n",
       "      <td>...</td>\n",
       "      <td>NaN</td>\n",
       "      <td>NaN</td>\n",
       "      <td>2.666667</td>\n",
       "      <td>3.416667</td>\n",
       "      <td>3.333333</td>\n",
       "      <td>3.583333</td>\n",
       "      <td>3.583333</td>\n",
       "      <td>NaN</td>\n",
       "      <td>NaN</td>\n",
       "      <td>NaN</td>\n",
       "    </tr>\n",
       "  </tbody>\n",
       "</table>\n",
       "<p>1 rows × 74 columns</p>\n",
       "</div>"
      ],
      "text/plain": [
       "  recipientlastname recipientfirstname               email neo_02 neo_04  \\\n",
       "0            Copley            Abigail  ac4ah@virginia.edu      2      4   \n",
       "\n",
       "  neo_05 neo_06 neo_07 neo_10 neo_11  ... assessed assessor     neo_n  \\\n",
       "0      4      2      3      4      3  ...      NaN      NaN  2.666667   \n",
       "\n",
       "      neo_e     neo_o     neo_a     neo_c name program section  \n",
       "0  3.416667  3.333333  3.583333  3.583333  NaN     NaN     NaN  \n",
       "\n",
       "[1 rows x 74 columns]"
      ]
     },
     "execution_count": 415,
     "metadata": {},
     "output_type": "execute_result"
    }
   ],
   "source": [
    "final_neo.head(1)"
   ]
  },
  {
   "cell_type": "markdown",
   "metadata": {},
   "source": [
    "### RSQ"
   ]
  },
  {
   "cell_type": "code",
   "execution_count": 491,
   "metadata": {},
   "outputs": [],
   "source": [
    "rsq = pd.read_excel(\"2018_2019_RSQ_SummerSecondary_PGMT_ReverseCoded_OrigRemoved.xls\", sheet_name=\"Sheet1\")"
   ]
  },
  {
   "cell_type": "code",
   "execution_count": 492,
   "metadata": {},
   "outputs": [],
   "source": [
    "rsq.columns = rsq.columns.str.lower()"
   ]
  },
  {
   "cell_type": "code",
   "execution_count": 499,
   "metadata": {},
   "outputs": [
    {
     "data": {
      "text/html": [
       "<div>\n",
       "<style scoped>\n",
       "    .dataframe tbody tr th:only-of-type {\n",
       "        vertical-align: middle;\n",
       "    }\n",
       "\n",
       "    .dataframe tbody tr th {\n",
       "        vertical-align: top;\n",
       "    }\n",
       "\n",
       "    .dataframe thead th {\n",
       "        text-align: right;\n",
       "    }\n",
       "</style>\n",
       "<table border=\"1\" class=\"dataframe\">\n",
       "  <thead>\n",
       "    <tr style=\"text-align: right;\">\n",
       "      <th></th>\n",
       "      <th>assessed</th>\n",
       "      <th>student</th>\n",
       "      <th>recipientlastname</th>\n",
       "      <th>recipientfirstname</th>\n",
       "      <th>assessor</th>\n",
       "      <th>r_rsq_01</th>\n",
       "      <th>rsq_03</th>\n",
       "      <th>r_rsq_05</th>\n",
       "      <th>r_rsq_07</th>\n",
       "      <th>rsq_10</th>\n",
       "      <th>...</th>\n",
       "      <th>r_rsq_13</th>\n",
       "      <th>r_rsq_17</th>\n",
       "      <th>r_rsq_20</th>\n",
       "      <th>r_rsq_21</th>\n",
       "      <th>r_rsq_23</th>\n",
       "      <th>r_rsq_24</th>\n",
       "      <th>rsq_27</th>\n",
       "      <th>r_rsq_28</th>\n",
       "      <th>r_rsq_29</th>\n",
       "      <th>rsq_30</th>\n",
       "    </tr>\n",
       "  </thead>\n",
       "  <tbody>\n",
       "    <tr>\n",
       "      <th>0</th>\n",
       "      <td>2018-06-08 08:00:42</td>\n",
       "      <td>2273117.0</td>\n",
       "      <td>Alba</td>\n",
       "      <td>Elena</td>\n",
       "      <td>McGraw,Jillian</td>\n",
       "      <td>2</td>\n",
       "      <td>4</td>\n",
       "      <td>4</td>\n",
       "      <td>2</td>\n",
       "      <td>2</td>\n",
       "      <td>...</td>\n",
       "      <td>3</td>\n",
       "      <td>4</td>\n",
       "      <td>3</td>\n",
       "      <td>2</td>\n",
       "      <td>2</td>\n",
       "      <td>4</td>\n",
       "      <td>3</td>\n",
       "      <td>5</td>\n",
       "      <td>4</td>\n",
       "      <td>4</td>\n",
       "    </tr>\n",
       "  </tbody>\n",
       "</table>\n",
       "<p>1 rows × 22 columns</p>\n",
       "</div>"
      ],
      "text/plain": [
       "             assessed    student recipientlastname recipientfirstname  \\\n",
       "0 2018-06-08 08:00:42  2273117.0              Alba              Elena   \n",
       "\n",
       "         assessor  r_rsq_01  rsq_03  r_rsq_05  r_rsq_07  rsq_10  ...  \\\n",
       "0  McGraw,Jillian         2       4         4         2       2  ...   \n",
       "\n",
       "   r_rsq_13  r_rsq_17  r_rsq_20  r_rsq_21  r_rsq_23  r_rsq_24  rsq_27  \\\n",
       "0         3         4         3         2         2         4       3   \n",
       "\n",
       "   r_rsq_28  r_rsq_29  rsq_30  \n",
       "0         5         4       4  \n",
       "\n",
       "[1 rows x 22 columns]"
      ]
     },
     "execution_count": 499,
     "metadata": {},
     "output_type": "execute_result"
    }
   ],
   "source": [
    "rsq.head(1)"
   ]
  },
  {
   "cell_type": "code",
   "execution_count": 494,
   "metadata": {},
   "outputs": [],
   "source": [
    "rsq2 = pd.read_excel(\"2018_2019_RSQ_Missing.xlsx\")"
   ]
  },
  {
   "cell_type": "code",
   "execution_count": 495,
   "metadata": {},
   "outputs": [],
   "source": [
    "rsq2.columns = rsq2.columns.str.lower()"
   ]
  },
  {
   "cell_type": "code",
   "execution_count": 500,
   "metadata": {},
   "outputs": [
    {
     "data": {
      "text/html": [
       "<div>\n",
       "<style scoped>\n",
       "    .dataframe tbody tr th:only-of-type {\n",
       "        vertical-align: middle;\n",
       "    }\n",
       "\n",
       "    .dataframe tbody tr th {\n",
       "        vertical-align: top;\n",
       "    }\n",
       "\n",
       "    .dataframe thead th {\n",
       "        text-align: right;\n",
       "    }\n",
       "</style>\n",
       "<table border=\"1\" class=\"dataframe\">\n",
       "  <thead>\n",
       "    <tr style=\"text-align: right;\">\n",
       "      <th></th>\n",
       "      <th>name</th>\n",
       "      <th>email</th>\n",
       "      <th>program</th>\n",
       "      <th>section</th>\n",
       "      <th>assessed</th>\n",
       "      <th>student</th>\n",
       "      <th>recipientlastname</th>\n",
       "      <th>recipientfirstname</th>\n",
       "      <th>assessor</th>\n",
       "      <th>r_rsq_01</th>\n",
       "      <th>...</th>\n",
       "      <th>r_rsq_13</th>\n",
       "      <th>r_rsq_17</th>\n",
       "      <th>r_rsq_20</th>\n",
       "      <th>r_rsq_21</th>\n",
       "      <th>r_rsq_23</th>\n",
       "      <th>r_rsq_24</th>\n",
       "      <th>rsq_27</th>\n",
       "      <th>r_rsq_28</th>\n",
       "      <th>r_rsq_29</th>\n",
       "      <th>rsq_30</th>\n",
       "    </tr>\n",
       "  </thead>\n",
       "  <tbody>\n",
       "    <tr>\n",
       "      <th>0</th>\n",
       "      <td>All,Hannah</td>\n",
       "      <td>haa8kt@virginia.edu</td>\n",
       "      <td>elementary</td>\n",
       "      <td>Monday</td>\n",
       "      <td>2017-09-14 05:05:54</td>\n",
       "      <td>2539029.0</td>\n",
       "      <td>All</td>\n",
       "      <td>Hannah</td>\n",
       "      <td>McGraw, Jillian</td>\n",
       "      <td>5.0</td>\n",
       "      <td>...</td>\n",
       "      <td>5.0</td>\n",
       "      <td>5.0</td>\n",
       "      <td>5.0</td>\n",
       "      <td>5.0</td>\n",
       "      <td>5.0</td>\n",
       "      <td>5.0</td>\n",
       "      <td>5.0</td>\n",
       "      <td>2.0</td>\n",
       "      <td>5.0</td>\n",
       "      <td>4.0</td>\n",
       "    </tr>\n",
       "  </tbody>\n",
       "</table>\n",
       "<p>1 rows × 26 columns</p>\n",
       "</div>"
      ],
      "text/plain": [
       "         name                email     program section            assessed  \\\n",
       "0  All,Hannah  haa8kt@virginia.edu  elementary  Monday 2017-09-14 05:05:54   \n",
       "\n",
       "     student recipientlastname recipientfirstname         assessor  r_rsq_01  \\\n",
       "0  2539029.0               All             Hannah  McGraw, Jillian       5.0   \n",
       "\n",
       "   ...  r_rsq_13  r_rsq_17  r_rsq_20  r_rsq_21  r_rsq_23  r_rsq_24  rsq_27  \\\n",
       "0  ...       5.0       5.0       5.0       5.0       5.0       5.0     5.0   \n",
       "\n",
       "   r_rsq_28  r_rsq_29  rsq_30  \n",
       "0       2.0       5.0     4.0  \n",
       "\n",
       "[1 rows x 26 columns]"
      ]
     },
     "execution_count": 500,
     "metadata": {},
     "output_type": "execute_result"
    }
   ],
   "source": [
    "rsq2.head(1)"
   ]
  },
  {
   "cell_type": "code",
   "execution_count": 497,
   "metadata": {},
   "outputs": [],
   "source": [
    "allRSQ = mergeData(rsq2, rsq)"
   ]
  },
  {
   "cell_type": "code",
   "execution_count": 501,
   "metadata": {},
   "outputs": [],
   "source": [
    "allRSQ.loc[allRSQ.name==\"Gross,Hannah\",\"student\"] = 2603880"
   ]
  },
  {
   "cell_type": "code",
   "execution_count": 502,
   "metadata": {},
   "outputs": [],
   "source": [
    "allRSQ = basic(allRSQ)"
   ]
  },
  {
   "cell_type": "code",
   "execution_count": 503,
   "metadata": {},
   "outputs": [
    {
     "name": "stderr",
     "output_type": "stream",
     "text": [
      "/Users/jmachita03/opt/anaconda3/lib/python3.7/site-packages/ipykernel_launcher.py:8: SettingWithCopyWarning: \n",
      "A value is trying to be set on a copy of a slice from a DataFrame.\n",
      "Try using .loc[row_indexer,col_indexer] = value instead\n",
      "\n",
      "See the caveats in the documentation: https://pandas.pydata.org/pandas-docs/stable/user_guide/indexing.html#returning-a-view-versus-a-copy\n",
      "  \n"
     ]
    }
   ],
   "source": [
    "allRSQ = newColMean(allRSQ, \"rsq_total\", first=\"r_rsq_01\", last=\"rsq_30\")"
   ]
  },
  {
   "cell_type": "code",
   "execution_count": 505,
   "metadata": {},
   "outputs": [
    {
     "data": {
      "text/html": [
       "<div>\n",
       "<style scoped>\n",
       "    .dataframe tbody tr th:only-of-type {\n",
       "        vertical-align: middle;\n",
       "    }\n",
       "\n",
       "    .dataframe tbody tr th {\n",
       "        vertical-align: top;\n",
       "    }\n",
       "\n",
       "    .dataframe thead th {\n",
       "        text-align: right;\n",
       "    }\n",
       "</style>\n",
       "<table border=\"1\" class=\"dataframe\">\n",
       "  <thead>\n",
       "    <tr style=\"text-align: right;\">\n",
       "      <th></th>\n",
       "      <th>name</th>\n",
       "      <th>email</th>\n",
       "      <th>program</th>\n",
       "      <th>section</th>\n",
       "      <th>assessed</th>\n",
       "      <th>student</th>\n",
       "      <th>recipientlastname</th>\n",
       "      <th>recipientfirstname</th>\n",
       "      <th>assessor</th>\n",
       "      <th>r_rsq_01</th>\n",
       "      <th>...</th>\n",
       "      <th>r_rsq_17</th>\n",
       "      <th>r_rsq_20</th>\n",
       "      <th>r_rsq_21</th>\n",
       "      <th>r_rsq_23</th>\n",
       "      <th>r_rsq_24</th>\n",
       "      <th>rsq_27</th>\n",
       "      <th>r_rsq_28</th>\n",
       "      <th>r_rsq_29</th>\n",
       "      <th>rsq_30</th>\n",
       "      <th>rsq_total</th>\n",
       "    </tr>\n",
       "  </thead>\n",
       "  <tbody>\n",
       "    <tr>\n",
       "      <th>0</th>\n",
       "      <td>All,Hannah</td>\n",
       "      <td>haa8kt@virginia.edu</td>\n",
       "      <td>elementary</td>\n",
       "      <td>Monday</td>\n",
       "      <td>2017-09-14 05:05:54</td>\n",
       "      <td>2539029.0</td>\n",
       "      <td>All</td>\n",
       "      <td>Hannah</td>\n",
       "      <td>McGraw, Jillian</td>\n",
       "      <td>5.0</td>\n",
       "      <td>...</td>\n",
       "      <td>5.0</td>\n",
       "      <td>5.0</td>\n",
       "      <td>5.0</td>\n",
       "      <td>5.0</td>\n",
       "      <td>5.0</td>\n",
       "      <td>5.0</td>\n",
       "      <td>2.0</td>\n",
       "      <td>5.0</td>\n",
       "      <td>4.0</td>\n",
       "      <td>4.705882</td>\n",
       "    </tr>\n",
       "  </tbody>\n",
       "</table>\n",
       "<p>1 rows × 27 columns</p>\n",
       "</div>"
      ],
      "text/plain": [
       "         name                email     program section            assessed  \\\n",
       "0  All,Hannah  haa8kt@virginia.edu  elementary  Monday 2017-09-14 05:05:54   \n",
       "\n",
       "     student recipientlastname recipientfirstname         assessor  r_rsq_01  \\\n",
       "0  2539029.0               All             Hannah  McGraw, Jillian       5.0   \n",
       "\n",
       "   ...  r_rsq_17  r_rsq_20  r_rsq_21  r_rsq_23  r_rsq_24  rsq_27  r_rsq_28  \\\n",
       "0  ...       5.0       5.0       5.0       5.0       5.0     5.0       2.0   \n",
       "\n",
       "   r_rsq_29  rsq_30  rsq_total  \n",
       "0       5.0     4.0   4.705882  \n",
       "\n",
       "[1 rows x 27 columns]"
      ]
     },
     "execution_count": 505,
     "metadata": {},
     "output_type": "execute_result"
    }
   ],
   "source": [
    "allRSQ.head(1)"
   ]
  },
  {
   "cell_type": "markdown",
   "metadata": {},
   "source": [
    "### TMAS"
   ]
  },
  {
   "cell_type": "code",
   "execution_count": 425,
   "metadata": {},
   "outputs": [],
   "source": [
    "tmas = pd.read_excel(\"2018_2019_TMAS_SummerSecondary_PGMT_4thyrBMT_Missing_ReverseCoded_OrigRemoved_ItemNamesRemoved.xls\", sheet_name=\"Sheet1\")"
   ]
  },
  {
   "cell_type": "code",
   "execution_count": 426,
   "metadata": {},
   "outputs": [],
   "source": [
    "tmas = basic(tmas)"
   ]
  },
  {
   "cell_type": "code",
   "execution_count": 427,
   "metadata": {},
   "outputs": [],
   "source": [
    "tmas = newColMean(tmas, \"tmas_total\", first=\"tmas_01\", last=\"r_tmas_20\")"
   ]
  },
  {
   "cell_type": "code",
   "execution_count": 431,
   "metadata": {},
   "outputs": [
    {
     "data": {
      "text/html": [
       "<div>\n",
       "<style scoped>\n",
       "    .dataframe tbody tr th:only-of-type {\n",
       "        vertical-align: middle;\n",
       "    }\n",
       "\n",
       "    .dataframe tbody tr th {\n",
       "        vertical-align: top;\n",
       "    }\n",
       "\n",
       "    .dataframe thead th {\n",
       "        text-align: right;\n",
       "    }\n",
       "</style>\n",
       "<table border=\"1\" class=\"dataframe\">\n",
       "  <thead>\n",
       "    <tr style=\"text-align: right;\">\n",
       "      <th></th>\n",
       "      <th>assessed</th>\n",
       "      <th>student</th>\n",
       "      <th>recipientlastname</th>\n",
       "      <th>recipientfirstname</th>\n",
       "      <th>assessor</th>\n",
       "      <th>tmas_01</th>\n",
       "      <th>tmas_02</th>\n",
       "      <th>r_tmas_03</th>\n",
       "      <th>tmas_04</th>\n",
       "      <th>r_tmas_06</th>\n",
       "      <th>...</th>\n",
       "      <th>r_tmas_12</th>\n",
       "      <th>tmas_13</th>\n",
       "      <th>tmas_14</th>\n",
       "      <th>r_tmas_15</th>\n",
       "      <th>r_tmas_16</th>\n",
       "      <th>tmas_17</th>\n",
       "      <th>tmas_18</th>\n",
       "      <th>r_tmas_19</th>\n",
       "      <th>r_tmas_20</th>\n",
       "      <th>tmas_total</th>\n",
       "    </tr>\n",
       "  </thead>\n",
       "  <tbody>\n",
       "    <tr>\n",
       "      <th>0</th>\n",
       "      <td>2018-06-08 07:58:12</td>\n",
       "      <td>2561224.0</td>\n",
       "      <td>Kim</td>\n",
       "      <td>Yewon</td>\n",
       "      <td>McGraw,Jillian</td>\n",
       "      <td>5</td>\n",
       "      <td>5</td>\n",
       "      <td>5</td>\n",
       "      <td>5</td>\n",
       "      <td>5</td>\n",
       "      <td>...</td>\n",
       "      <td>5</td>\n",
       "      <td>5</td>\n",
       "      <td>5</td>\n",
       "      <td>5</td>\n",
       "      <td>1</td>\n",
       "      <td>5</td>\n",
       "      <td>5</td>\n",
       "      <td>5</td>\n",
       "      <td>5</td>\n",
       "      <td>4.647059</td>\n",
       "    </tr>\n",
       "  </tbody>\n",
       "</table>\n",
       "<p>1 rows × 23 columns</p>\n",
       "</div>"
      ],
      "text/plain": [
       "             assessed    student recipientlastname recipientfirstname  \\\n",
       "0 2018-06-08 07:58:12  2561224.0               Kim              Yewon   \n",
       "\n",
       "         assessor  tmas_01  tmas_02  r_tmas_03  tmas_04  r_tmas_06  ...  \\\n",
       "0  McGraw,Jillian        5        5          5        5          5  ...   \n",
       "\n",
       "   r_tmas_12  tmas_13  tmas_14  r_tmas_15  r_tmas_16  tmas_17  tmas_18  \\\n",
       "0          5        5        5          5          1        5        5   \n",
       "\n",
       "   r_tmas_19  r_tmas_20  tmas_total  \n",
       "0          5          5    4.647059  \n",
       "\n",
       "[1 rows x 23 columns]"
      ]
     },
     "execution_count": 431,
     "metadata": {},
     "output_type": "execute_result"
    }
   ],
   "source": [
    "tmas.head(1)"
   ]
  },
  {
   "cell_type": "markdown",
   "metadata": {},
   "source": [
    "### TSE"
   ]
  },
  {
   "cell_type": "code",
   "execution_count": 432,
   "metadata": {},
   "outputs": [],
   "source": [
    "tse = pd.read_excel(\"2018_2019_TSE_SummerSecondary_PGMT_4thyrBMT.xls\", sheet_name=\"Sheet1\")"
   ]
  },
  {
   "cell_type": "code",
   "execution_count": 433,
   "metadata": {},
   "outputs": [],
   "source": [
    "tse = basic(tse)"
   ]
  },
  {
   "cell_type": "code",
   "execution_count": 434,
   "metadata": {},
   "outputs": [],
   "source": [
    "tse = newColMean(tse, \"tses_se\", included=[\"tse_01\", \"tse_02\", \"tse_04\", \"tse_06\", \"tse_09\", \"tse_12\", \"tse_14\", \"tse_22\"])\n"
   ]
  },
  {
   "cell_type": "code",
   "execution_count": 435,
   "metadata": {},
   "outputs": [],
   "source": [
    "tse = newColMean(tse, \"tses_is\", included=[\"tse_07\", \"tse_10\", \"tse_11\", \"tse_17\", \"tse_18\", \"tse_20\", \"tse_23\", \"tse_24\"])\n",
    "\n"
   ]
  },
  {
   "cell_type": "code",
   "execution_count": 436,
   "metadata": {},
   "outputs": [],
   "source": [
    "tse = newColMean(tse, \"tses_cm\", included=[\"tse_03\", \"tse_05\", \"tse_08\", \"tse_13\", \"tse_15\", \"tse_16\", \"tse_19\", \"tse_21\"])\n",
    "\n"
   ]
  },
  {
   "cell_type": "code",
   "execution_count": 437,
   "metadata": {},
   "outputs": [],
   "source": [
    "tse = newColMean(tse, \"tses_total\", included=[\"tse_01\", \"tse_02\", \"tse_04\", \"tse_06\", \"tse_09\", \"tse_12\", \\\n",
    "                                              \"tse_14\", \"tse_22\", \"tse_07\", \"tse_10\", \"tse_11\", \"tse_17\", \\\n",
    "                                              \"tse_18\", \"tse_20\", \"tse_23\", \"tse_24\", \"tse_03\", \"tse_05\", \\\n",
    "                                              \"tse_08\", \"tse_13\", \"tse_15\", \"tse_16\", \"tse_19\", \"tse_21\"])\n"
   ]
  },
  {
   "cell_type": "code",
   "execution_count": 439,
   "metadata": {},
   "outputs": [
    {
     "data": {
      "text/html": [
       "<div>\n",
       "<style scoped>\n",
       "    .dataframe tbody tr th:only-of-type {\n",
       "        vertical-align: middle;\n",
       "    }\n",
       "\n",
       "    .dataframe tbody tr th {\n",
       "        vertical-align: top;\n",
       "    }\n",
       "\n",
       "    .dataframe thead th {\n",
       "        text-align: right;\n",
       "    }\n",
       "</style>\n",
       "<table border=\"1\" class=\"dataframe\">\n",
       "  <thead>\n",
       "    <tr style=\"text-align: right;\">\n",
       "      <th></th>\n",
       "      <th>assessed</th>\n",
       "      <th>student</th>\n",
       "      <th>recipientlastname</th>\n",
       "      <th>recipientfirstname</th>\n",
       "      <th>assessor</th>\n",
       "      <th>tse_03</th>\n",
       "      <th>tse_04</th>\n",
       "      <th>tse_15</th>\n",
       "      <th>tse_09</th>\n",
       "      <th>tse_11</th>\n",
       "      <th>...</th>\n",
       "      <th>tse_12</th>\n",
       "      <th>tse_14</th>\n",
       "      <th>tse_17</th>\n",
       "      <th>tse_19</th>\n",
       "      <th>tse_21</th>\n",
       "      <th>tse_24</th>\n",
       "      <th>tses_se</th>\n",
       "      <th>tses_is</th>\n",
       "      <th>tses_cm</th>\n",
       "      <th>tses_total</th>\n",
       "    </tr>\n",
       "  </thead>\n",
       "  <tbody>\n",
       "    <tr>\n",
       "      <th>0</th>\n",
       "      <td>2018-06-08 07:58:12</td>\n",
       "      <td>2561224.0</td>\n",
       "      <td>Kim</td>\n",
       "      <td>Yewon</td>\n",
       "      <td>McGraw,Jillian</td>\n",
       "      <td>8</td>\n",
       "      <td>8</td>\n",
       "      <td>8</td>\n",
       "      <td>9</td>\n",
       "      <td>8</td>\n",
       "      <td>...</td>\n",
       "      <td>9</td>\n",
       "      <td>8</td>\n",
       "      <td>8</td>\n",
       "      <td>8</td>\n",
       "      <td>8</td>\n",
       "      <td>8</td>\n",
       "      <td>8.125</td>\n",
       "      <td>8.25</td>\n",
       "      <td>8.0</td>\n",
       "      <td>8.125</td>\n",
       "    </tr>\n",
       "  </tbody>\n",
       "</table>\n",
       "<p>1 rows × 33 columns</p>\n",
       "</div>"
      ],
      "text/plain": [
       "             assessed    student recipientlastname recipientfirstname  \\\n",
       "0 2018-06-08 07:58:12  2561224.0               Kim              Yewon   \n",
       "\n",
       "         assessor  tse_03  tse_04  tse_15  tse_09  tse_11  ...  tse_12  \\\n",
       "0  McGraw,Jillian       8       8       8       9       8  ...       9   \n",
       "\n",
       "   tse_14  tse_17  tse_19  tse_21  tse_24  tses_se  tses_is  tses_cm  \\\n",
       "0       8       8       8       8       8    8.125     8.25      8.0   \n",
       "\n",
       "   tses_total  \n",
       "0       8.125  \n",
       "\n",
       "[1 rows x 33 columns]"
      ]
     },
     "execution_count": 439,
     "metadata": {},
     "output_type": "execute_result"
    }
   ],
   "source": [
    "tse.head(1)"
   ]
  },
  {
   "cell_type": "markdown",
   "metadata": {},
   "source": [
    "### YTRT"
   ]
  },
  {
   "cell_type": "code",
   "execution_count": 440,
   "metadata": {},
   "outputs": [],
   "source": [
    "ytrt = pd.read_excel(\"2018_2019_YTRT_SummerSecondary_PGMT_4thyrBMT_Missing_ItemNamesRemoved.xls\", sheet_name=\"Sheet1\")"
   ]
  },
  {
   "cell_type": "code",
   "execution_count": 441,
   "metadata": {},
   "outputs": [],
   "source": [
    "ytrt = basic(ytrt)"
   ]
  },
  {
   "cell_type": "code",
   "execution_count": 442,
   "metadata": {},
   "outputs": [],
   "source": [
    "ytrt = newColMean(ytrt, \"ytrt_total\", first=\"ytrt_01\", last=\"ytrt_05\")"
   ]
  },
  {
   "cell_type": "code",
   "execution_count": 443,
   "metadata": {},
   "outputs": [
    {
     "data": {
      "text/html": [
       "<div>\n",
       "<style scoped>\n",
       "    .dataframe tbody tr th:only-of-type {\n",
       "        vertical-align: middle;\n",
       "    }\n",
       "\n",
       "    .dataframe tbody tr th {\n",
       "        vertical-align: top;\n",
       "    }\n",
       "\n",
       "    .dataframe thead th {\n",
       "        text-align: right;\n",
       "    }\n",
       "</style>\n",
       "<table border=\"1\" class=\"dataframe\">\n",
       "  <thead>\n",
       "    <tr style=\"text-align: right;\">\n",
       "      <th></th>\n",
       "      <th>assessed</th>\n",
       "      <th>student</th>\n",
       "      <th>recipientlastname</th>\n",
       "      <th>recipientfirstname</th>\n",
       "      <th>assessor</th>\n",
       "      <th>ytrt_01</th>\n",
       "      <th>ytrt_02</th>\n",
       "      <th>ytrt_03</th>\n",
       "      <th>ytrt_04</th>\n",
       "      <th>ytrt_05</th>\n",
       "      <th>ytrt_total</th>\n",
       "    </tr>\n",
       "  </thead>\n",
       "  <tbody>\n",
       "    <tr>\n",
       "      <th>0</th>\n",
       "      <td>2018-06-08 07:58:12</td>\n",
       "      <td>2561224.0</td>\n",
       "      <td>Kim</td>\n",
       "      <td>Yewon</td>\n",
       "      <td>McGraw,Jillian</td>\n",
       "      <td>4</td>\n",
       "      <td>1</td>\n",
       "      <td>7</td>\n",
       "      <td>6</td>\n",
       "      <td>5</td>\n",
       "      <td>4.6</td>\n",
       "    </tr>\n",
       "    <tr>\n",
       "      <th>1</th>\n",
       "      <td>2018-06-08 08:12:14</td>\n",
       "      <td>2273117.0</td>\n",
       "      <td>Alba</td>\n",
       "      <td>Elena</td>\n",
       "      <td>McGraw,Jillian</td>\n",
       "      <td>6</td>\n",
       "      <td>6</td>\n",
       "      <td>7</td>\n",
       "      <td>7</td>\n",
       "      <td>6</td>\n",
       "      <td>6.4</td>\n",
       "    </tr>\n",
       "    <tr>\n",
       "      <th>2</th>\n",
       "      <td>2018-09-14 16:41:02</td>\n",
       "      <td>2539029.0</td>\n",
       "      <td>All</td>\n",
       "      <td>Hannah</td>\n",
       "      <td>McGraw,Jillian</td>\n",
       "      <td>6</td>\n",
       "      <td>7</td>\n",
       "      <td>7</td>\n",
       "      <td>6</td>\n",
       "      <td>7</td>\n",
       "      <td>6.6</td>\n",
       "    </tr>\n",
       "    <tr>\n",
       "      <th>3</th>\n",
       "      <td>2018-09-26 18:07:25</td>\n",
       "      <td>2745617.0</td>\n",
       "      <td>Appleton</td>\n",
       "      <td>Megan</td>\n",
       "      <td>McGraw,Jillian</td>\n",
       "      <td>6</td>\n",
       "      <td>4</td>\n",
       "      <td>6</td>\n",
       "      <td>6</td>\n",
       "      <td>6</td>\n",
       "      <td>5.6</td>\n",
       "    </tr>\n",
       "    <tr>\n",
       "      <th>4</th>\n",
       "      <td>2018-10-10 19:55:37</td>\n",
       "      <td>2542858.0</td>\n",
       "      <td>Atkeson</td>\n",
       "      <td>Katherine</td>\n",
       "      <td>McGraw,Jillian</td>\n",
       "      <td>6</td>\n",
       "      <td>6</td>\n",
       "      <td>7</td>\n",
       "      <td>5</td>\n",
       "      <td>6</td>\n",
       "      <td>6.0</td>\n",
       "    </tr>\n",
       "    <tr>\n",
       "      <th>...</th>\n",
       "      <td>...</td>\n",
       "      <td>...</td>\n",
       "      <td>...</td>\n",
       "      <td>...</td>\n",
       "      <td>...</td>\n",
       "      <td>...</td>\n",
       "      <td>...</td>\n",
       "      <td>...</td>\n",
       "      <td>...</td>\n",
       "      <td>...</td>\n",
       "      <td>...</td>\n",
       "    </tr>\n",
       "    <tr>\n",
       "      <th>113</th>\n",
       "      <td>2018-09-24 12:02:15</td>\n",
       "      <td>2635681.0</td>\n",
       "      <td>Winkler</td>\n",
       "      <td>Lily</td>\n",
       "      <td>McGraw,Jillian</td>\n",
       "      <td>6</td>\n",
       "      <td>6</td>\n",
       "      <td>6</td>\n",
       "      <td>7</td>\n",
       "      <td>7</td>\n",
       "      <td>6.4</td>\n",
       "    </tr>\n",
       "    <tr>\n",
       "      <th>114</th>\n",
       "      <td>2018-06-08 08:12:35</td>\n",
       "      <td>2485660.0</td>\n",
       "      <td>Wright</td>\n",
       "      <td>Joseph</td>\n",
       "      <td>McGraw,Jillian</td>\n",
       "      <td>5</td>\n",
       "      <td>4</td>\n",
       "      <td>6</td>\n",
       "      <td>6</td>\n",
       "      <td>6</td>\n",
       "      <td>5.4</td>\n",
       "    </tr>\n",
       "    <tr>\n",
       "      <th>115</th>\n",
       "      <td>2018-09-13 17:41:02</td>\n",
       "      <td>2592977.0</td>\n",
       "      <td>Xin</td>\n",
       "      <td>Christie</td>\n",
       "      <td>McGraw,Jillian</td>\n",
       "      <td>7</td>\n",
       "      <td>7</td>\n",
       "      <td>7</td>\n",
       "      <td>7</td>\n",
       "      <td>1</td>\n",
       "      <td>5.8</td>\n",
       "    </tr>\n",
       "    <tr>\n",
       "      <th>116</th>\n",
       "      <td>2018-06-09 09:18:58</td>\n",
       "      <td>2524000.0</td>\n",
       "      <td>Yancey</td>\n",
       "      <td>Katherine</td>\n",
       "      <td>McGraw,Jillian</td>\n",
       "      <td>7</td>\n",
       "      <td>6</td>\n",
       "      <td>7</td>\n",
       "      <td>7</td>\n",
       "      <td>7</td>\n",
       "      <td>6.8</td>\n",
       "    </tr>\n",
       "    <tr>\n",
       "      <th>117</th>\n",
       "      <td>2018-10-10 11:21:51</td>\n",
       "      <td>2543571.0</td>\n",
       "      <td>Yang</td>\n",
       "      <td>Hannah</td>\n",
       "      <td>McGraw,Jillian</td>\n",
       "      <td>7</td>\n",
       "      <td>7</td>\n",
       "      <td>7</td>\n",
       "      <td>7</td>\n",
       "      <td>7</td>\n",
       "      <td>7.0</td>\n",
       "    </tr>\n",
       "  </tbody>\n",
       "</table>\n",
       "<p>116 rows × 11 columns</p>\n",
       "</div>"
      ],
      "text/plain": [
       "               assessed    student recipientlastname recipientfirstname  \\\n",
       "0   2018-06-08 07:58:12  2561224.0               Kim              Yewon   \n",
       "1   2018-06-08 08:12:14  2273117.0              Alba              Elena   \n",
       "2   2018-09-14 16:41:02  2539029.0               All             Hannah   \n",
       "3   2018-09-26 18:07:25  2745617.0          Appleton              Megan   \n",
       "4   2018-10-10 19:55:37  2542858.0           Atkeson          Katherine   \n",
       "..                  ...        ...               ...                ...   \n",
       "113 2018-09-24 12:02:15  2635681.0           Winkler               Lily   \n",
       "114 2018-06-08 08:12:35  2485660.0            Wright             Joseph   \n",
       "115 2018-09-13 17:41:02  2592977.0               Xin           Christie   \n",
       "116 2018-06-09 09:18:58  2524000.0            Yancey          Katherine   \n",
       "117 2018-10-10 11:21:51  2543571.0              Yang             Hannah   \n",
       "\n",
       "           assessor  ytrt_01  ytrt_02  ytrt_03  ytrt_04  ytrt_05  ytrt_total  \n",
       "0    McGraw,Jillian        4        1        7        6        5         4.6  \n",
       "1    McGraw,Jillian        6        6        7        7        6         6.4  \n",
       "2    McGraw,Jillian        6        7        7        6        7         6.6  \n",
       "3    McGraw,Jillian        6        4        6        6        6         5.6  \n",
       "4    McGraw,Jillian        6        6        7        5        6         6.0  \n",
       "..              ...      ...      ...      ...      ...      ...         ...  \n",
       "113  McGraw,Jillian        6        6        6        7        7         6.4  \n",
       "114  McGraw,Jillian        5        4        6        6        6         5.4  \n",
       "115  McGraw,Jillian        7        7        7        7        1         5.8  \n",
       "116  McGraw,Jillian        7        6        7        7        7         6.8  \n",
       "117  McGraw,Jillian        7        7        7        7        7         7.0  \n",
       "\n",
       "[116 rows x 11 columns]"
      ]
     },
     "execution_count": 443,
     "metadata": {},
     "output_type": "execute_result"
    }
   ],
   "source": [
    "ytrt"
   ]
  },
  {
   "cell_type": "markdown",
   "metadata": {},
   "source": [
    "## Merging All Datasets"
   ]
  },
  {
   "cell_type": "code",
   "execution_count": 537,
   "metadata": {},
   "outputs": [],
   "source": [
    "full = ytrt[['student', 'ytrt_total', 'recipientlastname', 'recipientfirstname']]"
   ]
  },
  {
   "cell_type": "code",
   "execution_count": 538,
   "metadata": {},
   "outputs": [],
   "source": [
    "full = full.merge(crtse[['student', 'crtse_total']], on='student', how='outer')"
   ]
  },
  {
   "cell_type": "code",
   "execution_count": 539,
   "metadata": {},
   "outputs": [],
   "source": [
    "full = full.merge(das[['student', 'das_depression', 'das_anxiety', 'das_stress']], on='student', how='outer')"
   ]
  },
  {
   "cell_type": "code",
   "execution_count": 540,
   "metadata": {},
   "outputs": [],
   "source": [
    "keep = list(demog.loc[:, 'ccs_gpa':'hsach'].columns)\n",
    "keep.append('student')\n",
    "full = full.merge(demog[keep], on='student', how='left')"
   ]
  },
  {
   "cell_type": "markdown",
   "metadata": {},
   "source": [
    "## ERROR in stata: variable student does not uniquely identify observations in the using data"
   ]
  },
  {
   "cell_type": "code",
   "execution_count": 541,
   "metadata": {},
   "outputs": [],
   "source": [
    "full = full.merge(fit[['student', 'fit_total']], on='student', how='outer')"
   ]
  },
  {
   "cell_type": "code",
   "execution_count": 542,
   "metadata": {},
   "outputs": [],
   "source": [
    "full = full.merge(grit[['student', 'grit_total']], on='student', how='outer')"
   ]
  },
  {
   "cell_type": "code",
   "execution_count": 543,
   "metadata": {},
   "outputs": [],
   "source": [
    "full = full.merge(imts[['student', 'imts_total']], on='student', how='outer')"
   ]
  },
  {
   "cell_type": "code",
   "execution_count": 544,
   "metadata": {},
   "outputs": [],
   "source": [
    "full = full.merge(final_neo[['student', 'neo_n', 'neo_e', 'neo_o', 'neo_a', 'neo_c']], on='student', how='left')"
   ]
  },
  {
   "cell_type": "code",
   "execution_count": 545,
   "metadata": {},
   "outputs": [],
   "source": [
    "full = full.merge(allRSQ[['recipientlastname', 'recipientfirstname', 'rsq_total']], on=['recipientlastname', 'recipientfirstname'], how='left')\n"
   ]
  },
  {
   "cell_type": "code",
   "execution_count": 546,
   "metadata": {},
   "outputs": [],
   "source": [
    "full = full.merge(tmas[['recipientlastname', 'recipientfirstname', 'tmas_total']], on=['recipientlastname', 'recipientfirstname'], how='outer')\n"
   ]
  },
  {
   "cell_type": "code",
   "execution_count": 547,
   "metadata": {},
   "outputs": [],
   "source": [
    "full = full.merge(tse[['recipientlastname', 'recipientfirstname', 'tses_se', 'tses_is', 'tses_cm','tses_total']], on=['recipientlastname', 'recipientfirstname'], how='outer')\n"
   ]
  },
  {
   "cell_type": "code",
   "execution_count": 548,
   "metadata": {},
   "outputs": [],
   "source": [
    "full['name'] = full['recipientlastname'] + \",\" + full['recipientfirstname']"
   ]
  },
  {
   "cell_type": "code",
   "execution_count": 549,
   "metadata": {},
   "outputs": [
    {
     "data": {
      "text/html": [
       "<div>\n",
       "<style scoped>\n",
       "    .dataframe tbody tr th:only-of-type {\n",
       "        vertical-align: middle;\n",
       "    }\n",
       "\n",
       "    .dataframe tbody tr th {\n",
       "        vertical-align: top;\n",
       "    }\n",
       "\n",
       "    .dataframe thead th {\n",
       "        text-align: right;\n",
       "    }\n",
       "</style>\n",
       "<table border=\"1\" class=\"dataframe\">\n",
       "  <thead>\n",
       "    <tr style=\"text-align: right;\">\n",
       "      <th></th>\n",
       "      <th>student</th>\n",
       "      <th>ytrt_total</th>\n",
       "      <th>recipientlastname</th>\n",
       "      <th>recipientfirstname</th>\n",
       "      <th>crtse_total</th>\n",
       "      <th>das_depression</th>\n",
       "      <th>das_anxiety</th>\n",
       "      <th>das_stress</th>\n",
       "      <th>ccs_gpa</th>\n",
       "      <th>partch</th>\n",
       "      <th>...</th>\n",
       "      <th>neo_o</th>\n",
       "      <th>neo_a</th>\n",
       "      <th>neo_c</th>\n",
       "      <th>rsq_total</th>\n",
       "      <th>tmas_total</th>\n",
       "      <th>tses_se</th>\n",
       "      <th>tses_is</th>\n",
       "      <th>tses_cm</th>\n",
       "      <th>tses_total</th>\n",
       "      <th>name</th>\n",
       "    </tr>\n",
       "  </thead>\n",
       "  <tbody>\n",
       "    <tr>\n",
       "      <th>0</th>\n",
       "      <td>2561224.0</td>\n",
       "      <td>4.6</td>\n",
       "      <td>Kim</td>\n",
       "      <td>Yewon</td>\n",
       "      <td>87.888889</td>\n",
       "      <td>1.0</td>\n",
       "      <td>1.0</td>\n",
       "      <td>1.428571</td>\n",
       "      <td>3.4</td>\n",
       "      <td>4</td>\n",
       "      <td>...</td>\n",
       "      <td>4.666667</td>\n",
       "      <td>3.916667</td>\n",
       "      <td>4.083333</td>\n",
       "      <td>2.470588</td>\n",
       "      <td>4.647059</td>\n",
       "      <td>8.125</td>\n",
       "      <td>8.25</td>\n",
       "      <td>8.0</td>\n",
       "      <td>8.125</td>\n",
       "      <td>Kim,Yewon</td>\n",
       "    </tr>\n",
       "  </tbody>\n",
       "</table>\n",
       "<p>1 rows × 39 columns</p>\n",
       "</div>"
      ],
      "text/plain": [
       "     student  ytrt_total recipientlastname recipientfirstname  crtse_total  \\\n",
       "0  2561224.0         4.6               Kim              Yewon    87.888889   \n",
       "\n",
       "   das_depression  das_anxiety  das_stress ccs_gpa partch  ...     neo_o  \\\n",
       "0             1.0          1.0    1.428571     3.4      4  ...  4.666667   \n",
       "\n",
       "      neo_a     neo_c rsq_total tmas_total tses_se tses_is tses_cm tses_total  \\\n",
       "0  3.916667  4.083333  2.470588   4.647059   8.125    8.25     8.0      8.125   \n",
       "\n",
       "        name  \n",
       "0  Kim,Yewon  \n",
       "\n",
       "[1 rows x 39 columns]"
      ]
     },
     "execution_count": 549,
     "metadata": {},
     "output_type": "execute_result"
    }
   ],
   "source": [
    "full.head(1)"
   ]
  },
  {
   "cell_type": "markdown",
   "metadata": {},
   "source": [
    "### Merging with contact info to get emails and filling in blank emails"
   ]
  },
  {
   "cell_type": "code",
   "execution_count": 550,
   "metadata": {},
   "outputs": [],
   "source": [
    "final = full.merge(contact[['student', 'email']], on='student', how='outer')"
   ]
  },
  {
   "cell_type": "code",
   "execution_count": 551,
   "metadata": {},
   "outputs": [],
   "source": [
    "final.loc[final.student==1382103,\"email\"] = 'set9x@virginia.edu'\n",
    "final.loc[final.student==1498517,\"email\"] = \"sem4u@virginia.edu\"\n",
    "final.loc[final.student==2176293,\"email\"] = \"amh3ej@virginia.edu\"\n",
    "final.loc[final.student==2200476,\"email\"] = \"mih3f@virginia.edu\"\n",
    "final.loc[final.student==2437606,\"email\"] = \"ckb4y@virginia.edu\"\n",
    "final.loc[final.student==2468766,\"email\"] = \"npg7wf@virginia.edu\"\n",
    "final.loc[final.student==2498051,\"email\"] = \"hjk9dr@virginia.edu\"\n",
    "final.loc[final.student==2502859,\"email\"] = \"cjt4te@virginia.edu\"\n",
    "final.loc[final.student==2571818,\"email\"] = \"hwr9ex@virginia.edu\"\n",
    "final.loc[final.student==2605170,\"email\"] = \"rml3x@virginia.edu\"\n",
    "final.loc[final.student==2699159,\"email\"] = \"esw4au@virginia.edu\"\n",
    "final.loc[final.student==2699239,\"email\"] = \"rb2rf@virginia.edu\"\n",
    "final.loc[final.student==2699474,\"email\"] = \"smj6t@virginia.edu\"\n",
    "final.loc[final.student==2704548,\"email\"] = \"hw8kw@virginia.edu\"\n",
    "final.loc[final.student==2732302,\"email\"] = \"hlh9j@virginia.edu\"\n",
    "final.loc[final.student==2732372,\"email\"] = \"cml2zq@virginia.edu\"\n",
    "final.loc[final.student==2744059,\"email\"] = \"amh9gu@virginia.edu\"\n",
    "final.loc[final.student==2745617,\"email\"] = \"mca5hu@virginia.edu\"\n",
    "final.loc[final.student==2747552,\"email\"] = \"leo9um@virginia.edu\"\n",
    "final.loc[final.student==2760226,\"email\"] = \"ncb8q@virginia.edu\"\n",
    "final.loc[final.student==2761355,\"email\"] = \"joh2va@virginia.edu\"\n",
    "final.loc[final.student==2762920,\"email\"] = \"bfd8er@virginia.edu\"\n",
    "final.loc[final.student==2766444,\"email\"] = \"lck4hk@virginia.edu\"\n",
    "final.loc[final.student==2767343,\"email\"] = \"kno9b@virginia.edu\"\n",
    "final.loc[final.student==2767980,\"email\"] = \"oce7ph@virginia.edu\"\n",
    "final.loc[final.student==2772863,\"email\"] = \"es8fa@virginia.edu\"\n",
    "final.loc[final.student==2775384,\"email\"] = \"cc3vm@virginia.edu\"\n"
   ]
  },
  {
   "cell_type": "code",
   "execution_count": 552,
   "metadata": {},
   "outputs": [
    {
     "data": {
      "text/html": [
       "<div>\n",
       "<style scoped>\n",
       "    .dataframe tbody tr th:only-of-type {\n",
       "        vertical-align: middle;\n",
       "    }\n",
       "\n",
       "    .dataframe tbody tr th {\n",
       "        vertical-align: top;\n",
       "    }\n",
       "\n",
       "    .dataframe thead th {\n",
       "        text-align: right;\n",
       "    }\n",
       "</style>\n",
       "<table border=\"1\" class=\"dataframe\">\n",
       "  <thead>\n",
       "    <tr style=\"text-align: right;\">\n",
       "      <th></th>\n",
       "      <th>student</th>\n",
       "      <th>ytrt_total</th>\n",
       "      <th>recipientlastname</th>\n",
       "      <th>recipientfirstname</th>\n",
       "      <th>crtse_total</th>\n",
       "      <th>das_depression</th>\n",
       "      <th>das_anxiety</th>\n",
       "      <th>das_stress</th>\n",
       "      <th>ccs_gpa</th>\n",
       "      <th>partch</th>\n",
       "      <th>...</th>\n",
       "      <th>neo_a</th>\n",
       "      <th>neo_c</th>\n",
       "      <th>rsq_total</th>\n",
       "      <th>tmas_total</th>\n",
       "      <th>tses_se</th>\n",
       "      <th>tses_is</th>\n",
       "      <th>tses_cm</th>\n",
       "      <th>tses_total</th>\n",
       "      <th>name</th>\n",
       "      <th>email</th>\n",
       "    </tr>\n",
       "  </thead>\n",
       "  <tbody>\n",
       "    <tr>\n",
       "      <th>0</th>\n",
       "      <td>2561224.0</td>\n",
       "      <td>4.6</td>\n",
       "      <td>Kim</td>\n",
       "      <td>Yewon</td>\n",
       "      <td>87.888889</td>\n",
       "      <td>1.0</td>\n",
       "      <td>1.0</td>\n",
       "      <td>1.428571</td>\n",
       "      <td>3.4</td>\n",
       "      <td>4</td>\n",
       "      <td>...</td>\n",
       "      <td>3.916667</td>\n",
       "      <td>4.083333</td>\n",
       "      <td>2.470588</td>\n",
       "      <td>4.647059</td>\n",
       "      <td>8.125</td>\n",
       "      <td>8.25</td>\n",
       "      <td>8.0</td>\n",
       "      <td>8.125</td>\n",
       "      <td>Kim,Yewon</td>\n",
       "      <td>yk5kb@virginia.edu</td>\n",
       "    </tr>\n",
       "  </tbody>\n",
       "</table>\n",
       "<p>1 rows × 40 columns</p>\n",
       "</div>"
      ],
      "text/plain": [
       "     student  ytrt_total recipientlastname recipientfirstname  crtse_total  \\\n",
       "0  2561224.0         4.6               Kim              Yewon    87.888889   \n",
       "\n",
       "   das_depression  das_anxiety  das_stress ccs_gpa partch  ...     neo_a  \\\n",
       "0             1.0          1.0    1.428571     3.4      4  ...  3.916667   \n",
       "\n",
       "      neo_c rsq_total tmas_total tses_se tses_is tses_cm tses_total  \\\n",
       "0  4.083333  2.470588   4.647059   8.125    8.25     8.0      8.125   \n",
       "\n",
       "        name               email  \n",
       "0  Kim,Yewon  yk5kb@virginia.edu  \n",
       "\n",
       "[1 rows x 40 columns]"
      ]
     },
     "execution_count": 552,
     "metadata": {},
     "output_type": "execute_result"
    }
   ],
   "source": [
    "final.head(1)"
   ]
  },
  {
   "cell_type": "markdown",
   "metadata": {},
   "source": [
    "## Step 2: Cleaning Data"
   ]
  },
  {
   "cell_type": "code",
   "execution_count": 553,
   "metadata": {},
   "outputs": [],
   "source": [
    "final = destring(final, included=['age'])"
   ]
  },
  {
   "cell_type": "code",
   "execution_count": 556,
   "metadata": {},
   "outputs": [],
   "source": [
    "replace_map = {\n",
    "    2:1, 3:1, 4:1, 5:1, 1:0\n",
    "}\n",
    "\n",
    "final[\"age_21ab\"] = final[\"age\"].replace(replace_map)"
   ]
  },
  {
   "cell_type": "markdown",
   "metadata": {},
   "source": [
    "## not sure what is happeing with the tab, gen() looks like dummy encoding?\n",
    "\n",
    "tab hsloc, gen(hsloc_)\n",
    "tab hsses, gen(hsses_)\n",
    "tab hsrace, gen(hsrace_)\n",
    "tab hsach, gen(hsach_)"
   ]
  },
  {
   "cell_type": "code",
   "execution_count": 560,
   "metadata": {},
   "outputs": [],
   "source": [
    "replace_map = {\n",
    "    \"2,5\":2, \"3,5\":3\n",
    "}\n",
    "\n",
    "final.race = final.race.replace(replace_map)"
   ]
  },
  {
   "cell_type": "code",
   "execution_count": 562,
   "metadata": {},
   "outputs": [],
   "source": [
    "final = destring(final, included=['race'])"
   ]
  },
  {
   "cell_type": "code",
   "execution_count": 564,
   "metadata": {},
   "outputs": [],
   "source": [
    "replace_map = {5:1, 2:0, 3:0, 4:0, 1:0}\n",
    "final[\"race_white\"] = final.race.replace(replace_map)"
   ]
  },
  {
   "cell_type": "code",
   "execution_count": 569,
   "metadata": {},
   "outputs": [],
   "source": [
    "replace_map = {1:0, np.NaN:1}\n",
    "final[\"race_white_miss\"] = final.race_white.replace(replace_map)"
   ]
  },
  {
   "cell_type": "code",
   "execution_count": 571,
   "metadata": {},
   "outputs": [],
   "source": [
    "final = destring(final, included=['hsses', 'hsach'])"
   ]
  },
  {
   "cell_type": "code",
   "execution_count": 575,
   "metadata": {},
   "outputs": [],
   "source": [
    "replace_map = {1:0, 2:0, 3:0, np.NaN:1}\n",
    "final[\"hsses_miss\"] = final.hsses.replace(replace_map)"
   ]
  },
  {
   "cell_type": "code",
   "execution_count": 578,
   "metadata": {},
   "outputs": [],
   "source": [
    "replace_map = {1:0, 2:0, 3:0, np.NaN:1}\n",
    "final[\"hsach_miss\"] = final.hsach.replace(replace_map)"
   ]
  },
  {
   "cell_type": "code",
   "execution_count": 580,
   "metadata": {},
   "outputs": [],
   "source": [
    "final = destring(final, included=['partch'])"
   ]
  },
  {
   "cell_type": "code",
   "execution_count": 582,
   "metadata": {},
   "outputs": [],
   "source": [
    "replace_map = {1:1, 2:1, 3:1, 4:0}\n",
    "final[\"partch_either\"] = final.partch.replace(replace_map)"
   ]
  },
  {
   "cell_type": "code",
   "execution_count": 584,
   "metadata": {},
   "outputs": [],
   "source": [
    "final = destring(final, included=['moedu', 'faedu'])"
   ]
  },
  {
   "cell_type": "code",
   "execution_count": 586,
   "metadata": {},
   "outputs": [],
   "source": [
    "replace_map = {3:1, 4:1, 5:1, 2:0, 1:0}\n",
    "final[\"moedu_colab\"] = final.moedu.replace(replace_map)"
   ]
  },
  {
   "cell_type": "code",
   "execution_count": 589,
   "metadata": {},
   "outputs": [],
   "source": [
    "replace_map = {3:1, 4:1, 5:1, 2:0, 1:0}\n",
    "final[\"faedu_colab\"] = final.faedu.replace(replace_map)"
   ]
  },
  {
   "cell_type": "code",
   "execution_count": 592,
   "metadata": {},
   "outputs": [],
   "source": [
    "final.gender = final.gender.str.strip().str.lower()"
   ]
  },
  {
   "cell_type": "code",
   "execution_count": 595,
   "metadata": {},
   "outputs": [],
   "source": [
    "replace_map = {'female':1, 'woman':1, 'male':0, 'm':0}\n",
    "final[\"gender_female\"] = final.gender.replace(replace_map)"
   ]
  },
  {
   "cell_type": "code",
   "execution_count": 597,
   "metadata": {},
   "outputs": [],
   "source": [
    "replace_map = {np.NaN:1, 1:0, 0:0}\n",
    "final[\"gender_female_miss\"] = final.gender_female.replace(replace_map)"
   ]
  },
  {
   "cell_type": "code",
   "execution_count": 599,
   "metadata": {},
   "outputs": [],
   "source": [
    "replace_map = {\"3.6??\":\"3.6\"}\n",
    "final[\"ccs_gpa\"] = final.ccs_gpa.replace(replace_map)"
   ]
  },
  {
   "cell_type": "code",
   "execution_count": 600,
   "metadata": {},
   "outputs": [],
   "source": [
    "final = destring(final, included=['ccs_gpa'])"
   ]
  },
  {
   "cell_type": "code",
   "execution_count": 609,
   "metadata": {},
   "outputs": [
    {
     "data": {
      "text/html": [
       "<div>\n",
       "<style scoped>\n",
       "    .dataframe tbody tr th:only-of-type {\n",
       "        vertical-align: middle;\n",
       "    }\n",
       "\n",
       "    .dataframe tbody tr th {\n",
       "        vertical-align: top;\n",
       "    }\n",
       "\n",
       "    .dataframe thead th {\n",
       "        text-align: right;\n",
       "    }\n",
       "</style>\n",
       "<table border=\"1\" class=\"dataframe\">\n",
       "  <thead>\n",
       "    <tr style=\"text-align: right;\">\n",
       "      <th></th>\n",
       "      <th>student</th>\n",
       "      <th>ytrt_total</th>\n",
       "      <th>recipientlastname</th>\n",
       "      <th>recipientfirstname</th>\n",
       "      <th>crtse_total</th>\n",
       "      <th>das_depression</th>\n",
       "      <th>das_anxiety</th>\n",
       "      <th>das_stress</th>\n",
       "      <th>ccs_gpa</th>\n",
       "      <th>partch</th>\n",
       "      <th>...</th>\n",
       "      <th>age_21ab</th>\n",
       "      <th>race_white</th>\n",
       "      <th>race_white_miss</th>\n",
       "      <th>hsses_miss</th>\n",
       "      <th>hsach_miss</th>\n",
       "      <th>partch_either</th>\n",
       "      <th>moedu_colab</th>\n",
       "      <th>faedu_colab</th>\n",
       "      <th>gender_female</th>\n",
       "      <th>gender_female_miss</th>\n",
       "    </tr>\n",
       "  </thead>\n",
       "  <tbody>\n",
       "    <tr>\n",
       "      <th>0</th>\n",
       "      <td>2561224.0</td>\n",
       "      <td>4.6</td>\n",
       "      <td>Kim</td>\n",
       "      <td>Yewon</td>\n",
       "      <td>87.888889</td>\n",
       "      <td>1.000000</td>\n",
       "      <td>1.000000</td>\n",
       "      <td>1.428571</td>\n",
       "      <td>3.40</td>\n",
       "      <td>4.0</td>\n",
       "      <td>...</td>\n",
       "      <td>0.0</td>\n",
       "      <td>0.0</td>\n",
       "      <td>0.0</td>\n",
       "      <td>0.0</td>\n",
       "      <td>0.0</td>\n",
       "      <td>0.0</td>\n",
       "      <td>0.0</td>\n",
       "      <td>0.0</td>\n",
       "      <td>1.0</td>\n",
       "      <td>0.0</td>\n",
       "    </tr>\n",
       "    <tr>\n",
       "      <th>1</th>\n",
       "      <td>2273117.0</td>\n",
       "      <td>6.4</td>\n",
       "      <td>Alba</td>\n",
       "      <td>Elena</td>\n",
       "      <td>61.481481</td>\n",
       "      <td>0.142857</td>\n",
       "      <td>0.142857</td>\n",
       "      <td>0.857143</td>\n",
       "      <td>3.86</td>\n",
       "      <td>1.0</td>\n",
       "      <td>...</td>\n",
       "      <td>1.0</td>\n",
       "      <td>1.0</td>\n",
       "      <td>0.0</td>\n",
       "      <td>0.0</td>\n",
       "      <td>0.0</td>\n",
       "      <td>1.0</td>\n",
       "      <td>1.0</td>\n",
       "      <td>0.0</td>\n",
       "      <td>1.0</td>\n",
       "      <td>0.0</td>\n",
       "    </tr>\n",
       "    <tr>\n",
       "      <th>2</th>\n",
       "      <td>2539029.0</td>\n",
       "      <td>6.6</td>\n",
       "      <td>All</td>\n",
       "      <td>Hannah</td>\n",
       "      <td>77.407407</td>\n",
       "      <td>0.285714</td>\n",
       "      <td>0.142857</td>\n",
       "      <td>1.000000</td>\n",
       "      <td>NaN</td>\n",
       "      <td>NaN</td>\n",
       "      <td>...</td>\n",
       "      <td>NaN</td>\n",
       "      <td>NaN</td>\n",
       "      <td>1.0</td>\n",
       "      <td>1.0</td>\n",
       "      <td>1.0</td>\n",
       "      <td>NaN</td>\n",
       "      <td>NaN</td>\n",
       "      <td>NaN</td>\n",
       "      <td>NaN</td>\n",
       "      <td>1.0</td>\n",
       "    </tr>\n",
       "    <tr>\n",
       "      <th>3</th>\n",
       "      <td>2745617.0</td>\n",
       "      <td>5.6</td>\n",
       "      <td>Appleton</td>\n",
       "      <td>Megan</td>\n",
       "      <td>44.222222</td>\n",
       "      <td>0.428571</td>\n",
       "      <td>0.714286</td>\n",
       "      <td>0.714286</td>\n",
       "      <td>3.99</td>\n",
       "      <td>4.0</td>\n",
       "      <td>...</td>\n",
       "      <td>1.0</td>\n",
       "      <td>1.0</td>\n",
       "      <td>0.0</td>\n",
       "      <td>0.0</td>\n",
       "      <td>0.0</td>\n",
       "      <td>0.0</td>\n",
       "      <td>1.0</td>\n",
       "      <td>1.0</td>\n",
       "      <td>1.0</td>\n",
       "      <td>0.0</td>\n",
       "    </tr>\n",
       "    <tr>\n",
       "      <th>4</th>\n",
       "      <td>2542858.0</td>\n",
       "      <td>6.0</td>\n",
       "      <td>Atkeson</td>\n",
       "      <td>Katherine</td>\n",
       "      <td>80.740741</td>\n",
       "      <td>0.285714</td>\n",
       "      <td>0.142857</td>\n",
       "      <td>0.571429</td>\n",
       "      <td>NaN</td>\n",
       "      <td>NaN</td>\n",
       "      <td>...</td>\n",
       "      <td>NaN</td>\n",
       "      <td>NaN</td>\n",
       "      <td>1.0</td>\n",
       "      <td>1.0</td>\n",
       "      <td>1.0</td>\n",
       "      <td>NaN</td>\n",
       "      <td>NaN</td>\n",
       "      <td>NaN</td>\n",
       "      <td>NaN</td>\n",
       "      <td>1.0</td>\n",
       "    </tr>\n",
       "    <tr>\n",
       "      <th>...</th>\n",
       "      <td>...</td>\n",
       "      <td>...</td>\n",
       "      <td>...</td>\n",
       "      <td>...</td>\n",
       "      <td>...</td>\n",
       "      <td>...</td>\n",
       "      <td>...</td>\n",
       "      <td>...</td>\n",
       "      <td>...</td>\n",
       "      <td>...</td>\n",
       "      <td>...</td>\n",
       "      <td>...</td>\n",
       "      <td>...</td>\n",
       "      <td>...</td>\n",
       "      <td>...</td>\n",
       "      <td>...</td>\n",
       "      <td>...</td>\n",
       "      <td>...</td>\n",
       "      <td>...</td>\n",
       "      <td>...</td>\n",
       "      <td>...</td>\n",
       "    </tr>\n",
       "    <tr>\n",
       "      <th>113</th>\n",
       "      <td>2592977.0</td>\n",
       "      <td>5.8</td>\n",
       "      <td>Xin</td>\n",
       "      <td>Christie</td>\n",
       "      <td>76.185185</td>\n",
       "      <td>0.142857</td>\n",
       "      <td>0.000000</td>\n",
       "      <td>0.000000</td>\n",
       "      <td>NaN</td>\n",
       "      <td>NaN</td>\n",
       "      <td>...</td>\n",
       "      <td>NaN</td>\n",
       "      <td>NaN</td>\n",
       "      <td>1.0</td>\n",
       "      <td>1.0</td>\n",
       "      <td>1.0</td>\n",
       "      <td>NaN</td>\n",
       "      <td>NaN</td>\n",
       "      <td>NaN</td>\n",
       "      <td>NaN</td>\n",
       "      <td>1.0</td>\n",
       "    </tr>\n",
       "    <tr>\n",
       "      <th>114</th>\n",
       "      <td>2524000.0</td>\n",
       "      <td>6.8</td>\n",
       "      <td>Yancey</td>\n",
       "      <td>Katherine</td>\n",
       "      <td>26.592593</td>\n",
       "      <td>0.142857</td>\n",
       "      <td>0.428571</td>\n",
       "      <td>0.857143</td>\n",
       "      <td>3.60</td>\n",
       "      <td>4.0</td>\n",
       "      <td>...</td>\n",
       "      <td>1.0</td>\n",
       "      <td>1.0</td>\n",
       "      <td>0.0</td>\n",
       "      <td>0.0</td>\n",
       "      <td>0.0</td>\n",
       "      <td>0.0</td>\n",
       "      <td>1.0</td>\n",
       "      <td>1.0</td>\n",
       "      <td>1.0</td>\n",
       "      <td>0.0</td>\n",
       "    </tr>\n",
       "    <tr>\n",
       "      <th>115</th>\n",
       "      <td>2543571.0</td>\n",
       "      <td>7.0</td>\n",
       "      <td>Yang</td>\n",
       "      <td>Hannah</td>\n",
       "      <td>94.740741</td>\n",
       "      <td>0.000000</td>\n",
       "      <td>0.000000</td>\n",
       "      <td>0.142857</td>\n",
       "      <td>NaN</td>\n",
       "      <td>NaN</td>\n",
       "      <td>...</td>\n",
       "      <td>NaN</td>\n",
       "      <td>NaN</td>\n",
       "      <td>1.0</td>\n",
       "      <td>1.0</td>\n",
       "      <td>1.0</td>\n",
       "      <td>NaN</td>\n",
       "      <td>NaN</td>\n",
       "      <td>NaN</td>\n",
       "      <td>NaN</td>\n",
       "      <td>1.0</td>\n",
       "    </tr>\n",
       "    <tr>\n",
       "      <th>116</th>\n",
       "      <td>2534432.0</td>\n",
       "      <td>NaN</td>\n",
       "      <td>NaN</td>\n",
       "      <td>NaN</td>\n",
       "      <td>NaN</td>\n",
       "      <td>NaN</td>\n",
       "      <td>NaN</td>\n",
       "      <td>NaN</td>\n",
       "      <td>NaN</td>\n",
       "      <td>NaN</td>\n",
       "      <td>...</td>\n",
       "      <td>NaN</td>\n",
       "      <td>NaN</td>\n",
       "      <td>1.0</td>\n",
       "      <td>1.0</td>\n",
       "      <td>1.0</td>\n",
       "      <td>NaN</td>\n",
       "      <td>NaN</td>\n",
       "      <td>NaN</td>\n",
       "      <td>NaN</td>\n",
       "      <td>1.0</td>\n",
       "    </tr>\n",
       "    <tr>\n",
       "      <th>117</th>\n",
       "      <td>2703418.0</td>\n",
       "      <td>NaN</td>\n",
       "      <td>NaN</td>\n",
       "      <td>NaN</td>\n",
       "      <td>NaN</td>\n",
       "      <td>NaN</td>\n",
       "      <td>NaN</td>\n",
       "      <td>NaN</td>\n",
       "      <td>NaN</td>\n",
       "      <td>NaN</td>\n",
       "      <td>...</td>\n",
       "      <td>NaN</td>\n",
       "      <td>NaN</td>\n",
       "      <td>1.0</td>\n",
       "      <td>1.0</td>\n",
       "      <td>1.0</td>\n",
       "      <td>NaN</td>\n",
       "      <td>NaN</td>\n",
       "      <td>NaN</td>\n",
       "      <td>NaN</td>\n",
       "      <td>1.0</td>\n",
       "    </tr>\n",
       "  </tbody>\n",
       "</table>\n",
       "<p>118 rows × 50 columns</p>\n",
       "</div>"
      ],
      "text/plain": [
       "       student  ytrt_total recipientlastname recipientfirstname  crtse_total  \\\n",
       "0    2561224.0         4.6               Kim              Yewon    87.888889   \n",
       "1    2273117.0         6.4              Alba              Elena    61.481481   \n",
       "2    2539029.0         6.6               All             Hannah    77.407407   \n",
       "3    2745617.0         5.6          Appleton              Megan    44.222222   \n",
       "4    2542858.0         6.0           Atkeson          Katherine    80.740741   \n",
       "..         ...         ...               ...                ...          ...   \n",
       "113  2592977.0         5.8               Xin           Christie    76.185185   \n",
       "114  2524000.0         6.8            Yancey          Katherine    26.592593   \n",
       "115  2543571.0         7.0              Yang             Hannah    94.740741   \n",
       "116  2534432.0         NaN               NaN                NaN          NaN   \n",
       "117  2703418.0         NaN               NaN                NaN          NaN   \n",
       "\n",
       "     das_depression  das_anxiety  das_stress  ccs_gpa  partch  ...  age_21ab  \\\n",
       "0          1.000000     1.000000    1.428571     3.40     4.0  ...       0.0   \n",
       "1          0.142857     0.142857    0.857143     3.86     1.0  ...       1.0   \n",
       "2          0.285714     0.142857    1.000000      NaN     NaN  ...       NaN   \n",
       "3          0.428571     0.714286    0.714286     3.99     4.0  ...       1.0   \n",
       "4          0.285714     0.142857    0.571429      NaN     NaN  ...       NaN   \n",
       "..              ...          ...         ...      ...     ...  ...       ...   \n",
       "113        0.142857     0.000000    0.000000      NaN     NaN  ...       NaN   \n",
       "114        0.142857     0.428571    0.857143     3.60     4.0  ...       1.0   \n",
       "115        0.000000     0.000000    0.142857      NaN     NaN  ...       NaN   \n",
       "116             NaN          NaN         NaN      NaN     NaN  ...       NaN   \n",
       "117             NaN          NaN         NaN      NaN     NaN  ...       NaN   \n",
       "\n",
       "     race_white race_white_miss  hsses_miss  hsach_miss partch_either  \\\n",
       "0           0.0             0.0         0.0         0.0           0.0   \n",
       "1           1.0             0.0         0.0         0.0           1.0   \n",
       "2           NaN             1.0         1.0         1.0           NaN   \n",
       "3           1.0             0.0         0.0         0.0           0.0   \n",
       "4           NaN             1.0         1.0         1.0           NaN   \n",
       "..          ...             ...         ...         ...           ...   \n",
       "113         NaN             1.0         1.0         1.0           NaN   \n",
       "114         1.0             0.0         0.0         0.0           0.0   \n",
       "115         NaN             1.0         1.0         1.0           NaN   \n",
       "116         NaN             1.0         1.0         1.0           NaN   \n",
       "117         NaN             1.0         1.0         1.0           NaN   \n",
       "\n",
       "    moedu_colab faedu_colab gender_female gender_female_miss  \n",
       "0           0.0         0.0           1.0                0.0  \n",
       "1           1.0         0.0           1.0                0.0  \n",
       "2           NaN         NaN           NaN                1.0  \n",
       "3           1.0         1.0           1.0                0.0  \n",
       "4           NaN         NaN           NaN                1.0  \n",
       "..          ...         ...           ...                ...  \n",
       "113         NaN         NaN           NaN                1.0  \n",
       "114         1.0         1.0           1.0                0.0  \n",
       "115         NaN         NaN           NaN                1.0  \n",
       "116         NaN         NaN           NaN                1.0  \n",
       "117         NaN         NaN           NaN                1.0  \n",
       "\n",
       "[118 rows x 50 columns]"
      ]
     },
     "execution_count": 609,
     "metadata": {},
     "output_type": "execute_result"
    }
   ],
   "source": [
    "final"
   ]
  },
  {
   "cell_type": "markdown",
   "metadata": {},
   "source": [
    "## Merge with Randomized Information"
   ]
  },
  {
   "cell_type": "code",
   "execution_count": 601,
   "metadata": {},
   "outputs": [],
   "source": [
    "rand = pd.read_excel(\"SimTeacher Randomization Fall 2018 Spring 2019.xlsx\")"
   ]
  },
  {
   "cell_type": "code",
   "execution_count": 607,
   "metadata": {},
   "outputs": [],
   "source": [
    "rand = rand.rename({'Email':'email'}, axis=1)"
   ]
  },
  {
   "cell_type": "code",
   "execution_count": 608,
   "metadata": {},
   "outputs": [],
   "source": [
    "full = final.merge(rand, on='email', how='outer')"
   ]
  },
  {
   "cell_type": "code",
   "execution_count": 610,
   "metadata": {},
   "outputs": [
    {
     "data": {
      "text/html": [
       "<div>\n",
       "<style scoped>\n",
       "    .dataframe tbody tr th:only-of-type {\n",
       "        vertical-align: middle;\n",
       "    }\n",
       "\n",
       "    .dataframe tbody tr th {\n",
       "        vertical-align: top;\n",
       "    }\n",
       "\n",
       "    .dataframe thead th {\n",
       "        text-align: right;\n",
       "    }\n",
       "</style>\n",
       "<table border=\"1\" class=\"dataframe\">\n",
       "  <thead>\n",
       "    <tr style=\"text-align: right;\">\n",
       "      <th></th>\n",
       "      <th>student</th>\n",
       "      <th>ytrt_total</th>\n",
       "      <th>recipientlastname</th>\n",
       "      <th>recipientfirstname</th>\n",
       "      <th>crtse_total</th>\n",
       "      <th>das_depression</th>\n",
       "      <th>das_anxiety</th>\n",
       "      <th>das_stress</th>\n",
       "      <th>ccs_gpa</th>\n",
       "      <th>partch</th>\n",
       "      <th>...</th>\n",
       "      <th>rannum</th>\n",
       "      <th>temp</th>\n",
       "      <th>numofstudents</th>\n",
       "      <th>tr_n</th>\n",
       "      <th>ra</th>\n",
       "      <th>Fall 2018 Coaching RA</th>\n",
       "      <th>Fall 2018 Race RA</th>\n",
       "      <th>Fall 2018 Coaching notes</th>\n",
       "      <th>Spring 2019 Coaching RA</th>\n",
       "      <th>Spring 2019 Race RA</th>\n",
       "    </tr>\n",
       "  </thead>\n",
       "  <tbody>\n",
       "    <tr>\n",
       "      <th>0</th>\n",
       "      <td>2561224.0</td>\n",
       "      <td>4.6</td>\n",
       "      <td>Kim</td>\n",
       "      <td>Yewon</td>\n",
       "      <td>87.888889</td>\n",
       "      <td>1.000000</td>\n",
       "      <td>1.000000</td>\n",
       "      <td>1.428571</td>\n",
       "      <td>3.40</td>\n",
       "      <td>4.0</td>\n",
       "      <td>...</td>\n",
       "      <td>0.958017</td>\n",
       "      <td>33.0</td>\n",
       "      <td>33.0</td>\n",
       "      <td>8.0</td>\n",
       "      <td>TW</td>\n",
       "      <td>Coaching</td>\n",
       "      <td>White</td>\n",
       "      <td>Coaching conversation</td>\n",
       "      <td>No Coaching</td>\n",
       "      <td>White</td>\n",
       "    </tr>\n",
       "    <tr>\n",
       "      <th>1</th>\n",
       "      <td>2273117.0</td>\n",
       "      <td>6.4</td>\n",
       "      <td>Alba</td>\n",
       "      <td>Elena</td>\n",
       "      <td>61.481481</td>\n",
       "      <td>0.142857</td>\n",
       "      <td>0.142857</td>\n",
       "      <td>0.857143</td>\n",
       "      <td>3.86</td>\n",
       "      <td>1.0</td>\n",
       "      <td>...</td>\n",
       "      <td>0.730109</td>\n",
       "      <td>25.0</td>\n",
       "      <td>33.0</td>\n",
       "      <td>8.0</td>\n",
       "      <td>TW</td>\n",
       "      <td>Coaching</td>\n",
       "      <td>White</td>\n",
       "      <td>No notes</td>\n",
       "      <td>No Coaching</td>\n",
       "      <td>Black</td>\n",
       "    </tr>\n",
       "    <tr>\n",
       "      <th>2</th>\n",
       "      <td>2539029.0</td>\n",
       "      <td>6.6</td>\n",
       "      <td>All</td>\n",
       "      <td>Hannah</td>\n",
       "      <td>77.407407</td>\n",
       "      <td>0.285714</td>\n",
       "      <td>0.142857</td>\n",
       "      <td>1.000000</td>\n",
       "      <td>NaN</td>\n",
       "      <td>NaN</td>\n",
       "      <td>...</td>\n",
       "      <td>0.230620</td>\n",
       "      <td>8.0</td>\n",
       "      <td>39.0</td>\n",
       "      <td>10.0</td>\n",
       "      <td>CB</td>\n",
       "      <td>No Coaching</td>\n",
       "      <td>Black</td>\n",
       "      <td>No coaching conversation</td>\n",
       "      <td>Coaching</td>\n",
       "      <td>White</td>\n",
       "    </tr>\n",
       "    <tr>\n",
       "      <th>3</th>\n",
       "      <td>2745617.0</td>\n",
       "      <td>5.6</td>\n",
       "      <td>Appleton</td>\n",
       "      <td>Megan</td>\n",
       "      <td>44.222222</td>\n",
       "      <td>0.428571</td>\n",
       "      <td>0.714286</td>\n",
       "      <td>0.714286</td>\n",
       "      <td>3.99</td>\n",
       "      <td>4.0</td>\n",
       "      <td>...</td>\n",
       "      <td>0.213969</td>\n",
       "      <td>9.0</td>\n",
       "      <td>36.0</td>\n",
       "      <td>9.0</td>\n",
       "      <td>CB</td>\n",
       "      <td>No Coaching</td>\n",
       "      <td>Black</td>\n",
       "      <td>No coaching conversation</td>\n",
       "      <td>Coaching</td>\n",
       "      <td>White</td>\n",
       "    </tr>\n",
       "    <tr>\n",
       "      <th>4</th>\n",
       "      <td>2542858.0</td>\n",
       "      <td>6.0</td>\n",
       "      <td>Atkeson</td>\n",
       "      <td>Katherine</td>\n",
       "      <td>80.740741</td>\n",
       "      <td>0.285714</td>\n",
       "      <td>0.142857</td>\n",
       "      <td>0.571429</td>\n",
       "      <td>NaN</td>\n",
       "      <td>NaN</td>\n",
       "      <td>...</td>\n",
       "      <td>0.594512</td>\n",
       "      <td>22.0</td>\n",
       "      <td>39.0</td>\n",
       "      <td>10.0</td>\n",
       "      <td>TB</td>\n",
       "      <td>Coaching</td>\n",
       "      <td>Black</td>\n",
       "      <td>Coaching conversation</td>\n",
       "      <td>No Coaching</td>\n",
       "      <td>Black</td>\n",
       "    </tr>\n",
       "    <tr>\n",
       "      <th>...</th>\n",
       "      <td>...</td>\n",
       "      <td>...</td>\n",
       "      <td>...</td>\n",
       "      <td>...</td>\n",
       "      <td>...</td>\n",
       "      <td>...</td>\n",
       "      <td>...</td>\n",
       "      <td>...</td>\n",
       "      <td>...</td>\n",
       "      <td>...</td>\n",
       "      <td>...</td>\n",
       "      <td>...</td>\n",
       "      <td>...</td>\n",
       "      <td>...</td>\n",
       "      <td>...</td>\n",
       "      <td>...</td>\n",
       "      <td>...</td>\n",
       "      <td>...</td>\n",
       "      <td>...</td>\n",
       "      <td>...</td>\n",
       "      <td>...</td>\n",
       "    </tr>\n",
       "    <tr>\n",
       "      <th>115</th>\n",
       "      <td>2543571.0</td>\n",
       "      <td>7.0</td>\n",
       "      <td>Yang</td>\n",
       "      <td>Hannah</td>\n",
       "      <td>94.740741</td>\n",
       "      <td>0.000000</td>\n",
       "      <td>0.000000</td>\n",
       "      <td>0.142857</td>\n",
       "      <td>NaN</td>\n",
       "      <td>NaN</td>\n",
       "      <td>...</td>\n",
       "      <td>0.301566</td>\n",
       "      <td>12.0</td>\n",
       "      <td>39.0</td>\n",
       "      <td>10.0</td>\n",
       "      <td>CW</td>\n",
       "      <td>No Coaching</td>\n",
       "      <td>White</td>\n",
       "      <td>No coaching conversation</td>\n",
       "      <td>Coaching</td>\n",
       "      <td>White</td>\n",
       "    </tr>\n",
       "    <tr>\n",
       "      <th>116</th>\n",
       "      <td>2534432.0</td>\n",
       "      <td>NaN</td>\n",
       "      <td>NaN</td>\n",
       "      <td>NaN</td>\n",
       "      <td>NaN</td>\n",
       "      <td>NaN</td>\n",
       "      <td>NaN</td>\n",
       "      <td>NaN</td>\n",
       "      <td>NaN</td>\n",
       "      <td>NaN</td>\n",
       "      <td>...</td>\n",
       "      <td>0.733051</td>\n",
       "      <td>26.0</td>\n",
       "      <td>36.0</td>\n",
       "      <td>9.0</td>\n",
       "      <td>TB</td>\n",
       "      <td>Coaching</td>\n",
       "      <td>Black</td>\n",
       "      <td>Coaching conversation</td>\n",
       "      <td>No Coaching</td>\n",
       "      <td>White</td>\n",
       "    </tr>\n",
       "    <tr>\n",
       "      <th>117</th>\n",
       "      <td>2703418.0</td>\n",
       "      <td>NaN</td>\n",
       "      <td>NaN</td>\n",
       "      <td>NaN</td>\n",
       "      <td>NaN</td>\n",
       "      <td>NaN</td>\n",
       "      <td>NaN</td>\n",
       "      <td>NaN</td>\n",
       "      <td>NaN</td>\n",
       "      <td>NaN</td>\n",
       "      <td>...</td>\n",
       "      <td>NaN</td>\n",
       "      <td>NaN</td>\n",
       "      <td>NaN</td>\n",
       "      <td>NaN</td>\n",
       "      <td>NaN</td>\n",
       "      <td>NaN</td>\n",
       "      <td>NaN</td>\n",
       "      <td>NaN</td>\n",
       "      <td>NaN</td>\n",
       "      <td>NaN</td>\n",
       "    </tr>\n",
       "    <tr>\n",
       "      <th>118</th>\n",
       "      <td>NaN</td>\n",
       "      <td>NaN</td>\n",
       "      <td>NaN</td>\n",
       "      <td>NaN</td>\n",
       "      <td>NaN</td>\n",
       "      <td>NaN</td>\n",
       "      <td>NaN</td>\n",
       "      <td>NaN</td>\n",
       "      <td>NaN</td>\n",
       "      <td>NaN</td>\n",
       "      <td>...</td>\n",
       "      <td>0.925287</td>\n",
       "      <td>30.0</td>\n",
       "      <td>33.0</td>\n",
       "      <td>8.0</td>\n",
       "      <td>TW</td>\n",
       "      <td>Coaching</td>\n",
       "      <td>White</td>\n",
       "      <td>No notes</td>\n",
       "      <td>No Coaching</td>\n",
       "      <td>Black</td>\n",
       "    </tr>\n",
       "    <tr>\n",
       "      <th>119</th>\n",
       "      <td>NaN</td>\n",
       "      <td>NaN</td>\n",
       "      <td>NaN</td>\n",
       "      <td>NaN</td>\n",
       "      <td>NaN</td>\n",
       "      <td>NaN</td>\n",
       "      <td>NaN</td>\n",
       "      <td>NaN</td>\n",
       "      <td>NaN</td>\n",
       "      <td>NaN</td>\n",
       "      <td>...</td>\n",
       "      <td>0.701000</td>\n",
       "      <td>25.0</td>\n",
       "      <td>39.0</td>\n",
       "      <td>10.0</td>\n",
       "      <td>TB</td>\n",
       "      <td>Coaching</td>\n",
       "      <td>Black</td>\n",
       "      <td>No notes</td>\n",
       "      <td>Coaching</td>\n",
       "      <td>Black</td>\n",
       "    </tr>\n",
       "  </tbody>\n",
       "</table>\n",
       "<p>120 rows × 66 columns</p>\n",
       "</div>"
      ],
      "text/plain": [
       "       student  ytrt_total recipientlastname recipientfirstname  crtse_total  \\\n",
       "0    2561224.0         4.6               Kim              Yewon    87.888889   \n",
       "1    2273117.0         6.4              Alba              Elena    61.481481   \n",
       "2    2539029.0         6.6               All             Hannah    77.407407   \n",
       "3    2745617.0         5.6          Appleton              Megan    44.222222   \n",
       "4    2542858.0         6.0           Atkeson          Katherine    80.740741   \n",
       "..         ...         ...               ...                ...          ...   \n",
       "115  2543571.0         7.0              Yang             Hannah    94.740741   \n",
       "116  2534432.0         NaN               NaN                NaN          NaN   \n",
       "117  2703418.0         NaN               NaN                NaN          NaN   \n",
       "118        NaN         NaN               NaN                NaN          NaN   \n",
       "119        NaN         NaN               NaN                NaN          NaN   \n",
       "\n",
       "     das_depression  das_anxiety  das_stress  ccs_gpa  partch  ...    rannum  \\\n",
       "0          1.000000     1.000000    1.428571     3.40     4.0  ...  0.958017   \n",
       "1          0.142857     0.142857    0.857143     3.86     1.0  ...  0.730109   \n",
       "2          0.285714     0.142857    1.000000      NaN     NaN  ...  0.230620   \n",
       "3          0.428571     0.714286    0.714286     3.99     4.0  ...  0.213969   \n",
       "4          0.285714     0.142857    0.571429      NaN     NaN  ...  0.594512   \n",
       "..              ...          ...         ...      ...     ...  ...       ...   \n",
       "115        0.000000     0.000000    0.142857      NaN     NaN  ...  0.301566   \n",
       "116             NaN          NaN         NaN      NaN     NaN  ...  0.733051   \n",
       "117             NaN          NaN         NaN      NaN     NaN  ...       NaN   \n",
       "118             NaN          NaN         NaN      NaN     NaN  ...  0.925287   \n",
       "119             NaN          NaN         NaN      NaN     NaN  ...  0.701000   \n",
       "\n",
       "     temp numofstudents  tr_n   ra Fall 2018 Coaching RA Fall 2018 Race RA  \\\n",
       "0    33.0          33.0   8.0   TW              Coaching             White   \n",
       "1    25.0          33.0   8.0   TW              Coaching             White   \n",
       "2     8.0          39.0  10.0   CB           No Coaching             Black   \n",
       "3     9.0          36.0   9.0   CB           No Coaching             Black   \n",
       "4    22.0          39.0  10.0   TB              Coaching             Black   \n",
       "..    ...           ...   ...  ...                   ...               ...   \n",
       "115  12.0          39.0  10.0   CW           No Coaching             White   \n",
       "116  26.0          36.0   9.0   TB              Coaching             Black   \n",
       "117   NaN           NaN   NaN  NaN                   NaN               NaN   \n",
       "118  30.0          33.0   8.0   TW              Coaching             White   \n",
       "119  25.0          39.0  10.0   TB              Coaching             Black   \n",
       "\n",
       "     Fall 2018 Coaching notes Spring 2019 Coaching RA Spring 2019 Race RA  \n",
       "0       Coaching conversation             No Coaching               White  \n",
       "1                    No notes             No Coaching               Black  \n",
       "2    No coaching conversation                Coaching               White  \n",
       "3    No coaching conversation                Coaching               White  \n",
       "4       Coaching conversation             No Coaching               Black  \n",
       "..                        ...                     ...                 ...  \n",
       "115  No coaching conversation                Coaching               White  \n",
       "116     Coaching conversation             No Coaching               White  \n",
       "117                       NaN                     NaN                 NaN  \n",
       "118                  No notes             No Coaching               Black  \n",
       "119                  No notes                Coaching               Black  \n",
       "\n",
       "[120 rows x 66 columns]"
      ]
     },
     "execution_count": 610,
     "metadata": {},
     "output_type": "execute_result"
    }
   ],
   "source": [
    "full"
   ]
  },
  {
   "cell_type": "code",
   "execution_count": null,
   "metadata": {},
   "outputs": [],
   "source": []
  }
 ],
 "metadata": {
  "kernelspec": {
   "display_name": "Python 3",
   "language": "python",
   "name": "python3"
  },
  "language_info": {
   "codemirror_mode": {
    "name": "ipython",
    "version": 3
   },
   "file_extension": ".py",
   "mimetype": "text/x-python",
   "name": "python",
   "nbconvert_exporter": "python",
   "pygments_lexer": "ipython3",
   "version": "3.7.6"
  }
 },
 "nbformat": 4,
 "nbformat_minor": 4
}
