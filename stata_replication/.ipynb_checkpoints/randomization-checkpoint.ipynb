{
 "cells": [
  {
   "cell_type": "code",
   "execution_count": 8,
   "metadata": {},
   "outputs": [],
   "source": [
    "import numpy as np\n",
    "import pandas as pd\n",
    "import scipy.stats as stats"
   ]
  },
  {
   "cell_type": "code",
   "execution_count": 9,
   "metadata": {},
   "outputs": [],
   "source": [
    "data = pd.read_excel('../data/2019_2020_RosterDemo_Fall2019_CoachingSessions_Final.xls')"
   ]
  },
  {
   "cell_type": "code",
   "execution_count": 3,
   "metadata": {},
   "outputs": [
    {
     "ename": "FileNotFoundError",
     "evalue": "[Errno 2] No such file or directory: '/Users/jmachita03/Desktop/Capstone/Randomization'",
     "output_type": "error",
     "traceback": [
      "\u001b[0;31m---------------------------------------------------------------\u001b[0m",
      "\u001b[0;31mFileNotFoundError\u001b[0m             Traceback (most recent call last)",
      "\u001b[0;32m<ipython-input-3-9913cab25f32>\u001b[0m in \u001b[0;36m<module>\u001b[0;34m\u001b[0m\n\u001b[1;32m      1\u001b[0m \u001b[0;32mimport\u001b[0m \u001b[0mos\u001b[0m\u001b[0;34m\u001b[0m\u001b[0;34m\u001b[0m\u001b[0m\n\u001b[0;32m----> 2\u001b[0;31m \u001b[0mos\u001b[0m\u001b[0;34m.\u001b[0m\u001b[0mchdir\u001b[0m\u001b[0;34m(\u001b[0m\u001b[0;34m\"/Users/jmachita03/Desktop/Capstone/Randomization\"\u001b[0m\u001b[0;34m)\u001b[0m\u001b[0;34m\u001b[0m\u001b[0;34m\u001b[0m\u001b[0m\n\u001b[0m\u001b[1;32m      3\u001b[0m \u001b[0mdata\u001b[0m \u001b[0;34m=\u001b[0m \u001b[0mpd\u001b[0m\u001b[0;34m.\u001b[0m\u001b[0mread_stata\u001b[0m\u001b[0;34m(\u001b[0m\u001b[0;34m\"2019_2020_RosterDemo_Fall2019_CoachingSessions_Final.dta\"\u001b[0m\u001b[0;34m)\u001b[0m\u001b[0;34m\u001b[0m\u001b[0;34m\u001b[0m\u001b[0m\n",
      "\u001b[0;31mFileNotFoundError\u001b[0m: [Errno 2] No such file or directory: '/Users/jmachita03/Desktop/Capstone/Randomization'"
     ]
    }
   ],
   "source": [
    "import os\n",
    "os.chdir(\"/Users/jmachita03/Desktop/Capstone/Randomization\")\n",
    "data = pd.read_stata(\"2019_2020_RosterDemo_Fall2019_CoachingSessions_Final.dta\")"
   ]
  },
  {
   "cell_type": "code",
   "execution_count": 10,
   "metadata": {},
   "outputs": [],
   "source": [
    "# Remove holangother hstypeother\n",
    "BALANCE_VARIABLES = ['futeaach' ,'futearace', 'futeases' ,'fustuach', 'fusturace', 'fustuses','hsach', 'hsrace', 'hsses', 'hsloc', 'hstype', 'holang', 'faedu', 'moedu', 'partch']"
   ]
  },
  {
   "cell_type": "code",
   "execution_count": 9,
   "metadata": {},
   "outputs": [],
   "source": [
    "def generate_strata_random_assignment(data):\n",
    "    programs = data.groupby('program')\n",
    "    coachingCol = pd.Series()\n",
    "    data['coaching']= 0 \n",
    "    for name,group in programs:        \n",
    "        n = len(group)\n",
    "        data.loc[group.index,'coaching']=np.random.permutation(n)% 2"
   ]
  },
  {
   "cell_type": "code",
   "execution_count": 10,
   "metadata": {},
   "outputs": [],
   "source": [
    "def generate_groups(data):\n",
    "    isBalanced = False  \n",
    "    while not isBalanced:\n",
    "        generate_strata_random_assignment(data)\n",
    "        experimentGroup = data.loc[data['coaching'] == 1]\n",
    "        controlGroup = data.loc[data['coaching'] == 0]\n",
    "        pValues = np.array([stats.ttest_ind(experimentGroup[var],controlGroup[var],nan_policy='omit').pvalue for var in BALANCE_VARIABLES])\n",
    "        if np.sum(pValues <= .05) == 0:\n",
    "            isBalanced = True\n",
    "        "
   ]
  },
  {
   "cell_type": "code",
   "execution_count": 11,
   "metadata": {},
   "outputs": [
    {
     "name": "stderr",
     "output_type": "stream",
     "text": [
      "<ipython-input-9-7991c45262b9>:3: DeprecationWarning: The default dtype for empty Series will be 'object' instead of 'float64' in a future version. Specify a dtype explicitly to silence this warning.\n",
      "  coachingCol = pd.Series()\n"
     ]
    }
   ],
   "source": [
    "generate_groups(data)"
   ]
  },
  {
   "cell_type": "code",
   "execution_count": 12,
   "metadata": {},
   "outputs": [
    {
     "data": {
      "text/html": [
       "<div>\n",
       "<style scoped>\n",
       "    .dataframe tbody tr th:only-of-type {\n",
       "        vertical-align: middle;\n",
       "    }\n",
       "\n",
       "    .dataframe tbody tr th {\n",
       "        vertical-align: top;\n",
       "    }\n",
       "\n",
       "    .dataframe thead th {\n",
       "        text-align: right;\n",
       "    }\n",
       "</style>\n",
       "<table border=\"1\" class=\"dataframe\">\n",
       "  <thead>\n",
       "    <tr style=\"text-align: right;\">\n",
       "      <th></th>\n",
       "      <th>student</th>\n",
       "      <th>email</th>\n",
       "      <th>name_last</th>\n",
       "      <th>name_first</th>\n",
       "      <th>program</th>\n",
       "      <th>participant_id</th>\n",
       "      <th>academicplan</th>\n",
       "      <th>gender</th>\n",
       "      <th>age</th>\n",
       "      <th>birthdate</th>\n",
       "      <th>...</th>\n",
       "      <th>futeaach</th>\n",
       "      <th>whyuva</th>\n",
       "      <th>sis_id</th>\n",
       "      <th>ytrt_overall</th>\n",
       "      <th>tse_overall</th>\n",
       "      <th>tmas_overall</th>\n",
       "      <th>rsq_overall</th>\n",
       "      <th>last</th>\n",
       "      <th>first</th>\n",
       "      <th>coaching</th>\n",
       "    </tr>\n",
       "  </thead>\n",
       "  <tbody>\n",
       "    <tr>\n",
       "      <th>0</th>\n",
       "      <td>2603166</td>\n",
       "      <td>aac2sr@virginia.edu</td>\n",
       "      <td>Clary</td>\n",
       "      <td>Ashley</td>\n",
       "      <td>Elem monday</td>\n",
       "      <td>80</td>\n",
       "      <td>ELEM-MT</td>\n",
       "      <td>F</td>\n",
       "      <td>21.0</td>\n",
       "      <td>35919.0</td>\n",
       "      <td>...</td>\n",
       "      <td>2.0</td>\n",
       "      <td>I have wanted to attend UVa since I was a youn...</td>\n",
       "      <td>2603166.0</td>\n",
       "      <td>2.0</td>\n",
       "      <td>-1.0</td>\n",
       "      <td>0.0</td>\n",
       "      <td>0.0</td>\n",
       "      <td>NaN</td>\n",
       "      <td>NaN</td>\n",
       "      <td>1</td>\n",
       "    </tr>\n",
       "    <tr>\n",
       "      <th>1</th>\n",
       "      <td>2375161</td>\n",
       "      <td>act4zz@virginia.edu</td>\n",
       "      <td>Todd</td>\n",
       "      <td>Anna (Caroline)</td>\n",
       "      <td>Secondary</td>\n",
       "      <td>37</td>\n",
       "      <td>ENGLED-PGM</td>\n",
       "      <td>F</td>\n",
       "      <td>24.0</td>\n",
       "      <td>34660.0</td>\n",
       "      <td>...</td>\n",
       "      <td>NaN</td>\n",
       "      <td>The excellent English Education program</td>\n",
       "      <td>NaN</td>\n",
       "      <td>NaN</td>\n",
       "      <td>NaN</td>\n",
       "      <td>NaN</td>\n",
       "      <td>NaN</td>\n",
       "      <td>Todd</td>\n",
       "      <td>Anna (Caroline)</td>\n",
       "      <td>0</td>\n",
       "    </tr>\n",
       "    <tr>\n",
       "      <th>2</th>\n",
       "      <td>2564887</td>\n",
       "      <td>aeh2xu@virginia.edu</td>\n",
       "      <td>Hepner</td>\n",
       "      <td>Ally</td>\n",
       "      <td>Elem tuesday</td>\n",
       "      <td>88</td>\n",
       "      <td>ELEM-PGM</td>\n",
       "      <td>F</td>\n",
       "      <td>21.0</td>\n",
       "      <td>35768.0</td>\n",
       "      <td>...</td>\n",
       "      <td>3.0</td>\n",
       "      <td>I choose UVA based on the vast opportunities t...</td>\n",
       "      <td>2564887.0</td>\n",
       "      <td>-1.0</td>\n",
       "      <td>0.0</td>\n",
       "      <td>0.0</td>\n",
       "      <td>-2.0</td>\n",
       "      <td>NaN</td>\n",
       "      <td>NaN</td>\n",
       "      <td>0</td>\n",
       "    </tr>\n",
       "    <tr>\n",
       "      <th>3</th>\n",
       "      <td>2593806</td>\n",
       "      <td>agb2sf@virginia.edu</td>\n",
       "      <td>Biltz</td>\n",
       "      <td>Alexis</td>\n",
       "      <td>Elem monday</td>\n",
       "      <td>53</td>\n",
       "      <td>ELEM-MT</td>\n",
       "      <td>F</td>\n",
       "      <td>21.0</td>\n",
       "      <td>35771.0</td>\n",
       "      <td>...</td>\n",
       "      <td>2.0</td>\n",
       "      <td>I chose UVA because 1) I was raised a hoo (my ...</td>\n",
       "      <td>2593806.0</td>\n",
       "      <td>-1.0</td>\n",
       "      <td>1.0</td>\n",
       "      <td>1.0</td>\n",
       "      <td>0.0</td>\n",
       "      <td>NaN</td>\n",
       "      <td>NaN</td>\n",
       "      <td>0</td>\n",
       "    </tr>\n",
       "    <tr>\n",
       "      <th>4</th>\n",
       "      <td>2656307</td>\n",
       "      <td>agc3yq@virginia.edu</td>\n",
       "      <td>Cox</td>\n",
       "      <td>Anne</td>\n",
       "      <td>Elem monday</td>\n",
       "      <td>81</td>\n",
       "      <td>SPCED-MT</td>\n",
       "      <td>F</td>\n",
       "      <td>20.0</td>\n",
       "      <td>36080.0</td>\n",
       "      <td>...</td>\n",
       "      <td>1.0</td>\n",
       "      <td>I loved the community i felt here and the peop...</td>\n",
       "      <td>2656307.0</td>\n",
       "      <td>2.0</td>\n",
       "      <td>0.0</td>\n",
       "      <td>3.0</td>\n",
       "      <td>1.0</td>\n",
       "      <td>NaN</td>\n",
       "      <td>NaN</td>\n",
       "      <td>0</td>\n",
       "    </tr>\n",
       "  </tbody>\n",
       "</table>\n",
       "<p>5 rows × 41 columns</p>\n",
       "</div>"
      ],
      "text/plain": [
       "   student                email name_last       name_first       program  \\\n",
       "0  2603166  aac2sr@virginia.edu     Clary           Ashley   Elem monday   \n",
       "1  2375161  act4zz@virginia.edu      Todd  Anna (Caroline)     Secondary   \n",
       "2  2564887  aeh2xu@virginia.edu    Hepner             Ally  Elem tuesday   \n",
       "3  2593806  agb2sf@virginia.edu     Biltz           Alexis   Elem monday   \n",
       "4  2656307  agc3yq@virginia.edu       Cox             Anne   Elem monday   \n",
       "\n",
       "   participant_id academicplan gender   age  birthdate  ...  futeaach  \\\n",
       "0              80      ELEM-MT      F  21.0    35919.0  ...       2.0   \n",
       "1              37   ENGLED-PGM      F  24.0    34660.0  ...       NaN   \n",
       "2              88     ELEM-PGM      F  21.0    35768.0  ...       3.0   \n",
       "3              53      ELEM-MT      F  21.0    35771.0  ...       2.0   \n",
       "4              81     SPCED-MT      F  20.0    36080.0  ...       1.0   \n",
       "\n",
       "                                              whyuva     sis_id ytrt_overall  \\\n",
       "0  I have wanted to attend UVa since I was a youn...  2603166.0          2.0   \n",
       "1            The excellent English Education program        NaN          NaN   \n",
       "2  I choose UVA based on the vast opportunities t...  2564887.0         -1.0   \n",
       "3  I chose UVA because 1) I was raised a hoo (my ...  2593806.0         -1.0   \n",
       "4  I loved the community i felt here and the peop...  2656307.0          2.0   \n",
       "\n",
       "  tse_overall  tmas_overall  rsq_overall  last            first  coaching  \n",
       "0        -1.0           0.0          0.0   NaN              NaN         1  \n",
       "1         NaN           NaN          NaN  Todd  Anna (Caroline)         0  \n",
       "2         0.0           0.0         -2.0   NaN              NaN         0  \n",
       "3         1.0           1.0          0.0   NaN              NaN         0  \n",
       "4         0.0           3.0          1.0   NaN              NaN         0  \n",
       "\n",
       "[5 rows x 41 columns]"
      ]
     },
     "execution_count": 12,
     "metadata": {},
     "output_type": "execute_result"
    }
   ],
   "source": [
    "data.head()"
   ]
  },
  {
   "cell_type": "code",
   "execution_count": null,
   "metadata": {},
   "outputs": [],
   "source": []
  },
  {
   "cell_type": "code",
   "execution_count": null,
   "metadata": {},
   "outputs": [],
   "source": []
  },
  {
   "cell_type": "code",
   "execution_count": null,
   "metadata": {},
   "outputs": [],
   "source": []
  }
 ],
 "metadata": {
  "kernelspec": {
   "display_name": "Python 3",
   "language": "python",
   "name": "python3"
  },
  "language_info": {
   "codemirror_mode": {
    "name": "ipython",
    "version": 3
   },
   "file_extension": ".py",
   "mimetype": "text/x-python",
   "name": "python",
   "nbconvert_exporter": "python",
   "pygments_lexer": "ipython3",
   "version": "3.8.5"
  }
 },
 "nbformat": 4,
 "nbformat_minor": 4
}
